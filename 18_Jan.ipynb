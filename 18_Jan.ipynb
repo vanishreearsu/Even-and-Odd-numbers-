{
  "cells": [
    {
      "cell_type": "markdown",
      "metadata": {
        "id": "view-in-github",
        "colab_type": "text"
      },
      "source": [
        "<a href=\"https://colab.research.google.com/github/vanishreearsu/Even-and-Odd-numbers-/blob/main/18_Jan.ipynb\" target=\"_parent\"><img src=\"https://colab.research.google.com/assets/colab-badge.svg\" alt=\"Open In Colab\"/></a>"
      ]
    },
    {
      "cell_type": "code",
      "execution_count": null,
      "metadata": {
        "id": "t0Kix1_sMS3N"
      },
      "outputs": [],
      "source": [
        "/# What is Python? ( Guido van rossum )\n",
        "# COmmunicate(intermediater)\n",
        "# Programming(Program(a set of instructions)) language"
      ]
    },
    {
      "cell_type": "code",
      "execution_count": null,
      "metadata": {
        "id": "-ZqRu0i8MU4_"
      },
      "outputs": [],
      "source": [
        "# Python(2), JAVA(10), c, C++, JS, R. cotlin, ETC"
      ]
    },
    {
      "cell_type": "code",
      "execution_count": null,
      "metadata": {
        "id": "xZyubJs0MU8H"
      },
      "outputs": [],
      "source": [
        "# Why python is so much populaer in data science?\n",
        "# Easy to use(English)\n",
        "# rich(Full) libraries(data science)\n",
        "# Less code \n",
        "# Generic Purpose Programming language(Website, APP, Data science, AI)\n",
        "# Java(Fast)"
      ]
    },
    {
      "cell_type": "code",
      "execution_count": null,
      "metadata": {
        "id": "qX2x7qk3MU-u"
      },
      "outputs": [],
      "source": [
        "# JAVA (App) 1000 lines\n",
        "# Python (APP) (100) Lines"
      ]
    },
    {
      "cell_type": "code",
      "execution_count": null,
      "metadata": {
        "id": "V0ywocoKMUBG"
      },
      "outputs": [],
      "source": [
        "# Comments"
      ]
    },
    {
      "cell_type": "code",
      "execution_count": null,
      "metadata": {
        "id": "1KmUMFzpMUE3"
      },
      "outputs": [],
      "source": [
        "### PLATFORM/IDE (Integrated DEvelopement Enviornment )\n",
        "\n",
        "# GOOGLE COLAB,   # DIFFERNCE ( FUnctionalities)\n",
        "# VS CODE\n",
        "# Anaconda(Distribution)\n",
        "# Jupiter\n",
        "# Spyder\n",
        "# Pycharm ( Machine(CAR) )-- ENGINE(PYTHON)\n",
        "# Jupyter LAB\n"
      ]
    },
    {
      "cell_type": "code",
      "execution_count": null,
      "metadata": {
        "id": "ct1E5JexSrMl"
      },
      "outputs": [],
      "source": [
        "## EXtension (.xlsx, .xlx, .doc, .txt)\n",
        "# Python (.py and .ipynb(jupyter/Google COlab))"
      ]
    },
    {
      "cell_type": "code",
      "execution_count": null,
      "metadata": {
        "id": "IIs-TACfSrQI"
      },
      "outputs": [],
      "source": []
    },
    {
      "cell_type": "markdown",
      "metadata": {
        "id": "D3FgFfIRWiA1"
      },
      "source": [
        "19_Jan"
      ]
    },
    {
      "cell_type": "code",
      "execution_count": null,
      "metadata": {
        "id": "hC6sT8UOSrTU"
      },
      "outputs": [],
      "source": [
        "# Python is an interpreted(line by line) Programming language"
      ]
    },
    {
      "cell_type": "code",
      "execution_count": null,
      "metadata": {
        "colab": {
          "base_uri": "https://localhost:8080/"
        },
        "id": "jUxHGUAeXFxF",
        "outputId": "b2685278-2f40-4ac0-e5a6-05f50dfe64f9"
      },
      "outputs": [
        {
          "name": "stdout",
          "output_type": "stream",
          "text": [
            "Uttam Grade\n"
          ]
        }
      ],
      "source": [
        "print('Uttam Grade')"
      ]
    },
    {
      "cell_type": "code",
      "execution_count": null,
      "metadata": {
        "colab": {
          "base_uri": "https://localhost:8080/"
        },
        "id": "H5LzbqkAXF1a",
        "outputId": "907059aa-3de9-4af4-e851-68a3c1291501"
      },
      "outputs": [
        {
          "name": "stdout",
          "output_type": "stream",
          "text": [
            "Pallavi\n"
          ]
        }
      ],
      "source": [
        "print('Pallavi')"
      ]
    },
    {
      "cell_type": "code",
      "execution_count": null,
      "metadata": {
        "colab": {
          "base_uri": "https://localhost:8080/"
        },
        "id": "xOORktKcXF6T",
        "outputId": "90cd5309-2369-4f8f-abf0-c2fd8cc994fc"
      },
      "outputs": [
        {
          "name": "stdout",
          "output_type": "stream",
          "text": [
            "Mahesh\n",
            "Uttam Grade\n"
          ]
        }
      ],
      "source": [
        "print('Mahesh')\n",
        "print('Uttam Grade')"
      ]
    },
    {
      "cell_type": "code",
      "execution_count": null,
      "metadata": {
        "colab": {
          "base_uri": "https://localhost:8080/"
        },
        "id": "0yVDoGHpXF_b",
        "outputId": "23b594e7-07ed-4bca-b4d9-1d29c6ef0e21"
      },
      "outputs": [
        {
          "name": "stdout",
          "output_type": "stream",
          "text": [
            "Rithes\n"
          ]
        }
      ],
      "source": [
        "print('Rithes')"
      ]
    },
    {
      "cell_type": "code",
      "execution_count": null,
      "metadata": {
        "colab": {
          "base_uri": "https://localhost:8080/"
        },
        "id": "qEROmxK6XGDe",
        "outputId": "e70b38b5-b93d-49f5-a92a-116aec3e3ef6"
      },
      "outputs": [
        {
          "name": "stdout",
          "output_type": "stream",
          "text": [
            "Artificial INtelligence and Machine Learning!!\n"
          ]
        }
      ],
      "source": [
        "print('Artificial INtelligence and Machine Learning!!')\n"
      ]
    },
    {
      "cell_type": "code",
      "execution_count": null,
      "metadata": {
        "id": "xXTPq3hYXGHc"
      },
      "outputs": [],
      "source": [
        "############################ Data Types ###############\n",
        "#\"Uttam Grade\", \"Ipohone\", \"500\",, 'Uttam Grade', \"I am uttam\", \"12.1\" ----(Alphabets) ---------> String (str)\n",
        "# 50, 100, 34, 45 (Number), 19  -----------> Integer (int)\n",
        "# 12.3, 45.6, 62.3  ---- (Decimal)  -------> Float ( float)\n",
        "# complex (a+ib)  -------------------------> complex\n",
        "# True, False (Boolean)-----------------------------> boolean(bool)"
      ]
    },
    {
      "cell_type": "code",
      "execution_count": null,
      "metadata": {
        "id": "20EadaDESrWH"
      },
      "outputs": [],
      "source": [
        "############################ \n",
        "\"uttam 'grade\" # Strbar\n",
        "\"uttam 'grade\" # Str"
      ]
    },
    {
      "cell_type": "code",
      "execution_count": null,
      "metadata": {
        "id": "RwLgwvQlMUHe"
      },
      "outputs": [],
      "source": [
        "\"uttam Grade\"\n",
        "\"50\"\n",
        "50"
      ]
    },
    {
      "cell_type": "code",
      "execution_count": null,
      "metadata": {
        "colab": {
          "base_uri": "https://localhost:8080/"
        },
        "id": "ppjNr3K3MUMI",
        "outputId": "9c916381-1105-4844-b294-b7851fa7811f"
      },
      "outputs": [
        {
          "data": {
            "text/plain": [
              "str"
            ]
          },
          "execution_count": 9,
          "metadata": {},
          "output_type": "execute_result"
        }
      ],
      "source": [
        "type(\"Machine Learning\")"
      ]
    },
    {
      "cell_type": "code",
      "execution_count": null,
      "metadata": {
        "colab": {
          "base_uri": "https://localhost:8080/"
        },
        "id": "SGgi9BZoMUPQ",
        "outputId": "2dc15f10-90d2-4b71-bdd3-1aac0466c6af"
      },
      "outputs": [
        {
          "data": {
            "text/plain": [
              "bool"
            ]
          },
          "execution_count": 10,
          "metadata": {},
          "output_type": "execute_result"
        }
      ],
      "source": [
        "type(True)"
      ]
    },
    {
      "cell_type": "code",
      "execution_count": null,
      "metadata": {
        "colab": {
          "base_uri": "https://localhost:8080/"
        },
        "id": "OqfVwdulMUSL",
        "outputId": "1184e2bc-fd3e-428c-cc91-a2fffafe6f97"
      },
      "outputs": [
        {
          "data": {
            "text/plain": [
              "float"
            ]
          },
          "execution_count": 11,
          "metadata": {},
          "output_type": "execute_result"
        }
      ],
      "source": [
        "type(23.3)"
      ]
    },
    {
      "cell_type": "code",
      "execution_count": null,
      "metadata": {
        "colab": {
          "base_uri": "https://localhost:8080/"
        },
        "id": "7bJpf1QZMUVX",
        "outputId": "a3ba1ab2-82f8-4bba-df99-9ea3498c77f9"
      },
      "outputs": [
        {
          "data": {
            "text/plain": [
              "str"
            ]
          },
          "execution_count": 12,
          "metadata": {},
          "output_type": "execute_result"
        }
      ],
      "source": [
        "type('48.1')"
      ]
    },
    {
      "cell_type": "code",
      "execution_count": null,
      "metadata": {
        "colab": {
          "base_uri": "https://localhost:8080/"
        },
        "id": "QBgM4dM0MUXN",
        "outputId": "6497db79-816c-4d43-fadf-ebc8eb94fd6f"
      },
      "outputs": [
        {
          "data": {
            "text/plain": [
              "str"
            ]
          },
          "execution_count": 13,
          "metadata": {},
          "output_type": "execute_result"
        }
      ],
      "source": [
        "type('Uttam Grade')"
      ]
    },
    {
      "cell_type": "code",
      "execution_count": null,
      "metadata": {
        "id": "6SFWGB9wMUZf"
      },
      "outputs": [],
      "source": []
    },
    {
      "cell_type": "markdown",
      "metadata": {
        "id": "vMCLl4pt9hdy"
      },
      "source": [
        "23_Jan ( VS code and Data Types Revision)"
      ]
    },
    {
      "cell_type": "code",
      "execution_count": null,
      "metadata": {
        "id": "IH9R0g5m9ftK"
      },
      "outputs": [],
      "source": [
        "# Data Types \n",
        "\n",
        "# integer (int) -- 23, 34,12\n",
        "# string (str) -- \"uttam\", 'Mahesh'\n",
        "# float (float) -- 23.1\n",
        "# boolean ( bool) -- True, False\n",
        "# complex ( complex) -- a+ib"
      ]
    },
    {
      "cell_type": "code",
      "execution_count": null,
      "metadata": {
        "colab": {
          "base_uri": "https://localhost:8080/"
        },
        "id": "5-8oybhG9fw3",
        "outputId": "2ba597e5-1480-4a5b-9672-f5c0ee8423c0"
      },
      "outputs": [
        {
          "data": {
            "text/plain": [
              "int"
            ]
          },
          "execution_count": 1,
          "metadata": {},
          "output_type": "execute_result"
        }
      ],
      "source": [
        "type(23)"
      ]
    },
    {
      "cell_type": "code",
      "execution_count": null,
      "metadata": {
        "colab": {
          "base_uri": "https://localhost:8080/"
        },
        "id": "FRpHBlUo9f0g",
        "outputId": "e5815aba-5315-4786-8210-110e620a5e50"
      },
      "outputs": [
        {
          "data": {
            "text/plain": [
              "float"
            ]
          },
          "execution_count": 2,
          "metadata": {},
          "output_type": "execute_result"
        }
      ],
      "source": [
        "type(23.45)"
      ]
    },
    {
      "cell_type": "code",
      "execution_count": null,
      "metadata": {
        "colab": {
          "base_uri": "https://localhost:8080/"
        },
        "id": "aNMY6agO9f4a",
        "outputId": "325a82d9-3c39-47f4-e04f-3d5ba41c6a07"
      },
      "outputs": [
        {
          "data": {
            "text/plain": [
              "str"
            ]
          },
          "execution_count": 3,
          "metadata": {},
          "output_type": "execute_result"
        }
      ],
      "source": [
        "type('Uttam Grade')"
      ]
    },
    {
      "cell_type": "code",
      "execution_count": null,
      "metadata": {
        "colab": {
          "base_uri": "https://localhost:8080/"
        },
        "id": "dN_g20h19f7N",
        "outputId": "b3e22e22-2407-4492-bc45-25c629815e18"
      },
      "outputs": [
        {
          "data": {
            "text/plain": [
              "str"
            ]
          },
          "execution_count": 4,
          "metadata": {},
          "output_type": "execute_result"
        }
      ],
      "source": [
        "type(\"Machine LEarning\")"
      ]
    },
    {
      "cell_type": "code",
      "execution_count": null,
      "metadata": {
        "colab": {
          "base_uri": "https://localhost:8080/"
        },
        "id": "RdGhf5s19gDP",
        "outputId": "46094b91-41dc-4f8d-c6c8-7b559ffb2991"
      },
      "outputs": [
        {
          "data": {
            "text/plain": [
              "str"
            ]
          },
          "execution_count": 5,
          "metadata": {},
          "output_type": "execute_result"
        }
      ],
      "source": [
        "type(\"23\")"
      ]
    },
    {
      "cell_type": "code",
      "execution_count": null,
      "metadata": {
        "colab": {
          "base_uri": "https://localhost:8080/"
        },
        "id": "-aAyE4s39gGX",
        "outputId": "e20b1839-4d5e-4c14-e9a7-495aa9039a3b"
      },
      "outputs": [
        {
          "data": {
            "text/plain": [
              "str"
            ]
          },
          "execution_count": 6,
          "metadata": {},
          "output_type": "execute_result"
        }
      ],
      "source": [
        "type('23.2')"
      ]
    },
    {
      "cell_type": "code",
      "execution_count": null,
      "metadata": {
        "colab": {
          "base_uri": "https://localhost:8080/"
        },
        "id": "S4GbENLf9gKJ",
        "outputId": "65c0aa72-8582-4089-cdbf-58f9ed7b510a"
      },
      "outputs": [
        {
          "data": {
            "text/plain": [
              "bool"
            ]
          },
          "execution_count": 7,
          "metadata": {},
          "output_type": "execute_result"
        }
      ],
      "source": [
        "type(True)"
      ]
    },
    {
      "cell_type": "code",
      "execution_count": null,
      "metadata": {
        "colab": {
          "base_uri": "https://localhost:8080/"
        },
        "id": "qno_5f9j9gNt",
        "outputId": "5a13c3a9-98b6-4b8b-8f71-1747d79f8036"
      },
      "outputs": [
        {
          "data": {
            "text/plain": [
              "str"
            ]
          },
          "execution_count": 8,
          "metadata": {},
          "output_type": "execute_result"
        }
      ],
      "source": [
        "type('False')"
      ]
    },
    {
      "cell_type": "code",
      "execution_count": null,
      "metadata": {
        "colab": {
          "base_uri": "https://localhost:8080/"
        },
        "id": "iBhQSkV69gQv",
        "outputId": "6b3643f0-9667-4549-ac71-ae728860cb4b"
      },
      "outputs": [
        {
          "name": "stdout",
          "output_type": "stream",
          "text": [
            "10\n"
          ]
        }
      ],
      "source": [
        "# a+ ib\n",
        "x = 10.34\n",
        "x = int(x)\n",
        "print(x)"
      ]
    },
    {
      "cell_type": "code",
      "execution_count": null,
      "metadata": {
        "colab": {
          "base_uri": "https://localhost:8080/"
        },
        "id": "ykWIguJn9gTW",
        "outputId": "b4594514-5ada-4465-d10c-c5aea03fa49e"
      },
      "outputs": [
        {
          "data": {
            "text/plain": [
              "(4+50j)"
            ]
          },
          "execution_count": 15,
          "metadata": {},
          "output_type": "execute_result"
        }
      ],
      "source": [
        "complex(4, 50)"
      ]
    },
    {
      "cell_type": "code",
      "execution_count": null,
      "metadata": {
        "colab": {
          "base_uri": "https://localhost:8080/"
        },
        "id": "4WRjGsk09gWY",
        "outputId": "24d995b4-4215-402d-f74a-e21825739bc0"
      },
      "outputs": [
        {
          "data": {
            "text/plain": [
              "4.0"
            ]
          },
          "execution_count": 12,
          "metadata": {},
          "output_type": "execute_result"
        }
      ],
      "source": [
        "complex(4, 50).real"
      ]
    },
    {
      "cell_type": "code",
      "execution_count": null,
      "metadata": {
        "colab": {
          "base_uri": "https://localhost:8080/"
        },
        "id": "StaxtlYG9gZg",
        "outputId": "5e252e33-e556-4537-d558-1966aaeb4d46"
      },
      "outputs": [
        {
          "data": {
            "text/plain": [
              "50.0"
            ]
          },
          "execution_count": 14,
          "metadata": {},
          "output_type": "execute_result"
        }
      ],
      "source": [
        "complex(4, 50).imag"
      ]
    },
    {
      "cell_type": "code",
      "execution_count": null,
      "metadata": {
        "colab": {
          "base_uri": "https://localhost:8080/"
        },
        "id": "Cd8OLFBqLd9_",
        "outputId": "98353866-85f0-4c62-a358-8160885e77f6"
      },
      "outputs": [
        {
          "name": "stdout",
          "output_type": "stream",
          "text": [
            "10.0\n"
          ]
        }
      ],
      "source": [
        "print(complex(10, 30).real)"
      ]
    },
    {
      "cell_type": "markdown",
      "metadata": {
        "id": "Cnwh6cOKL2RL"
      },
      "source": [
        "print('Uttam') Google Colab and JUpyter"
      ]
    },
    {
      "cell_type": "code",
      "execution_count": null,
      "metadata": {
        "colab": {
          "base_uri": "https://localhost:8080/"
        },
        "id": "W3qUz-oqF4iZ",
        "outputId": "922811a2-d887-4605-97a1-f9777d9fdf6a"
      },
      "outputs": [
        {
          "data": {
            "text/plain": [
              "complex"
            ]
          },
          "execution_count": 22,
          "metadata": {},
          "output_type": "execute_result"
        }
      ],
      "source": [
        "type(complex(2+50))"
      ]
    },
    {
      "cell_type": "code",
      "execution_count": null,
      "metadata": {
        "colab": {
          "base_uri": "https://localhost:8080/"
        },
        "id": "9hKD3HuZ9gc0",
        "outputId": "6919cca7-a3db-40b3-c1e5-7dcfbff5f56f"
      },
      "outputs": [
        {
          "data": {
            "text/plain": [
              "complex"
            ]
          },
          "execution_count": 18,
          "metadata": {},
          "output_type": "execute_result"
        }
      ],
      "source": [
        "type(complex(2+50))"
      ]
    },
    {
      "cell_type": "code",
      "execution_count": null,
      "metadata": {
        "colab": {
          "base_uri": "https://localhost:8080/"
        },
        "id": "VzS1TydmG7IV",
        "outputId": "ca32007f-9dc8-4c20-a748-3ac4c0b33139"
      },
      "outputs": [
        {
          "data": {
            "text/plain": [
              "30"
            ]
          },
          "execution_count": 28,
          "metadata": {},
          "output_type": "execute_result"
        }
      ],
      "source": [
        "# Variables (who stores the data)\n",
        "x = 10\n",
        "y = 20\n",
        "z = x + y\n",
        "print(z)"
      ]
    },
    {
      "cell_type": "code",
      "execution_count": null,
      "metadata": {
        "colab": {
          "base_uri": "https://localhost:8080/"
        },
        "id": "VJ2Kiqp5HUuG",
        "outputId": "afbe4d38-e1c3-4ee7-d74d-13f37e90b56d"
      },
      "outputs": [
        {
          "name": "stdout",
          "output_type": "stream",
          "text": [
            "10\n"
          ]
        }
      ],
      "source": [
        "print(x)"
      ]
    },
    {
      "cell_type": "code",
      "execution_count": null,
      "metadata": {
        "colab": {
          "base_uri": "https://localhost:8080/"
        },
        "id": "PN8UnV2uG7LQ",
        "outputId": "31a2dd7a-9c6d-4eca-9aca-691777dd7751"
      },
      "outputs": [
        {
          "data": {
            "text/plain": [
              "int"
            ]
          },
          "execution_count": 29,
          "metadata": {},
          "output_type": "execute_result"
        }
      ],
      "source": [
        "type(x)"
      ]
    },
    {
      "cell_type": "code",
      "execution_count": null,
      "metadata": {
        "colab": {
          "base_uri": "https://localhost:8080/"
        },
        "id": "clRBvuHQG7Py",
        "outputId": "b3f35169-32d8-49d7-e97f-b42e5b45057b"
      },
      "outputs": [
        {
          "data": {
            "text/plain": [
              "10.0"
            ]
          },
          "execution_count": 31,
          "metadata": {},
          "output_type": "execute_result"
        }
      ],
      "source": [
        "float(x)"
      ]
    },
    {
      "cell_type": "code",
      "execution_count": null,
      "metadata": {
        "colab": {
          "base_uri": "https://localhost:8080/"
        },
        "id": "Yy08veMOHb4m",
        "outputId": "3a986580-186f-4dfc-c103-791ef6a086e5"
      },
      "outputs": [
        {
          "data": {
            "text/plain": [
              "int"
            ]
          },
          "execution_count": 33,
          "metadata": {},
          "output_type": "execute_result"
        }
      ],
      "source": [
        "type(y)"
      ]
    },
    {
      "cell_type": "code",
      "execution_count": null,
      "metadata": {
        "colab": {
          "base_uri": "https://localhost:8080/",
          "height": 35
        },
        "id": "fxzwYA8VHb7R",
        "outputId": "48207fc3-ba2a-405d-dddd-d0b10a25353c"
      },
      "outputs": [
        {
          "data": {
            "application/vnd.google.colaboratory.intrinsic+json": {
              "type": "string"
            },
            "text/plain": [
              "'20'"
            ]
          },
          "execution_count": 34,
          "metadata": {},
          "output_type": "execute_result"
        }
      ],
      "source": [
        "print(str(y))"
      ]
    },
    {
      "cell_type": "code",
      "execution_count": null,
      "metadata": {
        "id": "asaUgjlNHb-Z"
      },
      "outputs": [],
      "source": []
    },
    {
      "cell_type": "code",
      "execution_count": null,
      "metadata": {
        "colab": {
          "base_uri": "https://localhost:8080/"
        },
        "id": "q1RnjtxO9ghD",
        "outputId": "11b742cc-d98e-403f-fbb7-42cc5e82935d"
      },
      "outputs": [
        {
          "data": {
            "text/plain": [
              "float"
            ]
          },
          "execution_count": 25,
          "metadata": {},
          "output_type": "execute_result"
        }
      ],
      "source": [
        "# Data Type and Conversion(Convert)-- One data type in to another data type\n",
        "type(8.0)"
      ]
    },
    {
      "cell_type": "code",
      "execution_count": null,
      "metadata": {
        "colab": {
          "base_uri": "https://localhost:8080/"
        },
        "id": "HQid_gDR9gkm",
        "outputId": "8cdb0ca2-940b-40cf-c238-d043a725cd0d"
      },
      "outputs": [
        {
          "data": {
            "text/plain": [
              "int"
            ]
          },
          "execution_count": 27,
          "metadata": {},
          "output_type": "execute_result"
        }
      ],
      "source": [
        "type(int(8.0))"
      ]
    },
    {
      "cell_type": "code",
      "execution_count": null,
      "metadata": {
        "colab": {
          "base_uri": "https://localhost:8080/"
        },
        "id": "rZ_lWSyI9gnN",
        "outputId": "edc7d490-1a82-4f2a-9d35-ff3304a07fd0"
      },
      "outputs": [
        {
          "name": "stdout",
          "output_type": "stream",
          "text": [
            "64\n"
          ]
        }
      ],
      "source": [
        "a = 100 # varialble\n",
        "b = 2000 # varialble\n",
        "### 13,54,67,382\n",
        "\n",
        "c = b & a\n",
        "print(c)\n"
      ]
    },
    {
      "cell_type": "code",
      "execution_count": null,
      "metadata": {
        "id": "uIJBuarWBBQr"
      },
      "outputs": [],
      "source": [
        "x = 100\n",
        "y = 100\n",
        "z = 100"
      ]
    },
    {
      "cell_type": "code",
      "execution_count": null,
      "metadata": {
        "colab": {
          "base_uri": "https://localhost:8080/"
        },
        "id": "QH6j3bxSBD4E",
        "outputId": "015f5b81-92f4-44c1-d623-13d823da0a2b"
      },
      "outputs": [
        {
          "data": {
            "text/plain": [
              "9796256"
            ]
          },
          "execution_count": 14,
          "metadata": {},
          "output_type": "execute_result"
        }
      ],
      "source": [
        "id(x)"
      ]
    },
    {
      "cell_type": "code",
      "execution_count": null,
      "metadata": {
        "colab": {
          "base_uri": "https://localhost:8080/"
        },
        "id": "JwtE3q_PBG0-",
        "outputId": "6db95943-f8eb-46a5-d779-9d45f464f622"
      },
      "outputs": [
        {
          "data": {
            "text/plain": [
              "9796256"
            ]
          },
          "execution_count": 15,
          "metadata": {},
          "output_type": "execute_result"
        }
      ],
      "source": [
        "id(y)"
      ]
    },
    {
      "cell_type": "code",
      "execution_count": null,
      "metadata": {
        "colab": {
          "base_uri": "https://localhost:8080/"
        },
        "id": "Cd9eHEKjBYIM",
        "outputId": "9ca69f6c-5364-4020-dd51-8d41696a1a4a"
      },
      "outputs": [
        {
          "data": {
            "text/plain": [
              "9796256"
            ]
          },
          "execution_count": 16,
          "metadata": {},
          "output_type": "execute_result"
        }
      ],
      "source": [
        "id(z)"
      ]
    },
    {
      "cell_type": "code",
      "execution_count": null,
      "metadata": {
        "id": "2jNEdvDDOsmN"
      },
      "outputs": [],
      "source": [
        "# Create 4 New variables (a, b, c, d) and store it with their summation the name vairalbel\n",
        "# is e and divide it with the value of 4. and print the output!"
      ]
    },
    {
      "cell_type": "code",
      "execution_count": null,
      "metadata": {
        "colab": {
          "base_uri": "https://localhost:8080/"
        },
        "id": "mjRP7ZcNPooR",
        "outputId": "e6224d93-947b-4e65-be9c-244e20ae6d0c"
      },
      "outputs": [
        {
          "name": "stdout",
          "output_type": "stream",
          "text": [
            "129.0\n"
          ]
        },
        {
          "data": {
            "text/plain": [
              "int"
            ]
          },
          "execution_count": 47,
          "metadata": {},
          "output_type": "execute_result"
        }
      ],
      "source": [
        "a = 13\n",
        "b = 54\n",
        "c = 67\n",
        "d = 382\n",
        "e = (a+b+c+d)/4\n",
        "print(e) # Connvert it into integer now\n",
        "type(int(e))"
      ]
    },
    {
      "cell_type": "code",
      "execution_count": null,
      "metadata": {
        "colab": {
          "base_uri": "https://localhost:8080/"
        },
        "id": "2Ory4pyeQg1z",
        "outputId": "2fa8c7bc-6edd-41a1-91d7-201339c0f94f"
      },
      "outputs": [
        {
          "data": {
            "text/plain": [
              "True"
            ]
          },
          "execution_count": 49,
          "metadata": {},
          "output_type": "execute_result"
        }
      ],
      "source": [
        "bool(e) # will be use into conditions"
      ]
    },
    {
      "cell_type": "code",
      "execution_count": null,
      "metadata": {
        "colab": {
          "base_uri": "https://localhost:8080/"
        },
        "id": "OpgEDm3SQ_Uz",
        "outputId": "b6b35e44-a976-4d60-a904-d82ab3a0ef4a"
      },
      "outputs": [
        {
          "data": {
            "text/plain": [
              "True"
            ]
          },
          "execution_count": 51,
          "metadata": {},
          "output_type": "execute_result"
        }
      ],
      "source": [
        "a = 100\n",
        "101 > a"
      ]
    },
    {
      "cell_type": "code",
      "execution_count": null,
      "metadata": {
        "colab": {
          "base_uri": "https://localhost:8080/"
        },
        "id": "kq6uqGd2MUcH",
        "outputId": "5c7f5700-620c-440c-e669-41fa9657014f"
      },
      "outputs": [
        {
          "name": "stdout",
          "output_type": "stream",
          "text": [
            "<class 'int'>\n"
          ]
        }
      ],
      "source": [
        "print(type(c))\n"
      ]
    },
    {
      "cell_type": "code",
      "execution_count": null,
      "metadata": {
        "colab": {
          "base_uri": "https://localhost:8080/"
        },
        "id": "19FZpslLKDU2",
        "outputId": "d5ad80a3-cf47-45cd-9b6d-686eb7a936ec"
      },
      "outputs": [
        {
          "name": "stdout",
          "output_type": "stream",
          "text": [
            "1900.0\n"
          ]
        }
      ],
      "source": [
        "print(float(c))"
      ]
    },
    {
      "cell_type": "code",
      "execution_count": null,
      "metadata": {
        "colab": {
          "base_uri": "https://localhost:8080/"
        },
        "id": "GeLTHzKJKpfM",
        "outputId": "d40fee55-4e02-4674-b790-433beefcd1f7"
      },
      "outputs": [
        {
          "data": {
            "text/plain": [
              "True"
            ]
          },
          "execution_count": 43,
          "metadata": {},
          "output_type": "execute_result"
        }
      ],
      "source": [
        "bool(True)"
      ]
    },
    {
      "cell_type": "code",
      "execution_count": null,
      "metadata": {
        "colab": {
          "base_uri": "https://localhost:8080/"
        },
        "id": "QE08CZ7YKpiR",
        "outputId": "217c144c-6456-4ca4-82d6-14974c090c61"
      },
      "outputs": [
        {
          "data": {
            "text/plain": [
              "False"
            ]
          },
          "execution_count": 44,
          "metadata": {},
          "output_type": "execute_result"
        }
      ],
      "source": [
        "bool(False)"
      ]
    },
    {
      "cell_type": "code",
      "execution_count": null,
      "metadata": {
        "id": "h4Dj66G0Kpmj"
      },
      "outputs": [],
      "source": [
        "####\n",
        "# data types\n",
        "# variables \n",
        "# conversion\n",
        "# Rivision"
      ]
    },
    {
      "cell_type": "code",
      "execution_count": null,
      "metadata": {
        "colab": {
          "base_uri": "https://localhost:8080/"
        },
        "id": "R5NzsnXCKpp1",
        "outputId": "2bb65051-39c3-4dcb-c92a-b67cd966212a"
      },
      "outputs": [
        {
          "name": "stdout",
          "output_type": "stream",
          "text": [
            "10\n"
          ]
        }
      ],
      "source": [
        "z = 10\n",
        "print(z)"
      ]
    },
    {
      "cell_type": "code",
      "execution_count": null,
      "metadata": {
        "colab": {
          "base_uri": "https://localhost:8080/"
        },
        "id": "d4E1Us77Kpu0",
        "outputId": "825d617e-8c3d-410f-e81b-44ff78d48bc5"
      },
      "outputs": [
        {
          "name": "stdout",
          "output_type": "stream",
          "text": [
            "20\n"
          ]
        }
      ],
      "source": [
        "z = 20\n",
        "print(z)"
      ]
    },
    {
      "cell_type": "code",
      "execution_count": null,
      "metadata": {
        "colab": {
          "base_uri": "https://localhost:8080/"
        },
        "id": "8Rvwrah7Kpx5",
        "outputId": "bd534143-4b41-4d22-956c-3aba89156a4b"
      },
      "outputs": [
        {
          "data": {
            "text/plain": [
              "40"
            ]
          },
          "execution_count": 57,
          "metadata": {},
          "output_type": "execute_result"
        }
      ],
      "source": [
        "z"
      ]
    },
    {
      "cell_type": "code",
      "execution_count": null,
      "metadata": {
        "id": "HRt98aaaTJUO"
      },
      "outputs": [],
      "source": [
        "z = 40"
      ]
    },
    {
      "cell_type": "code",
      "execution_count": null,
      "metadata": {
        "id": "5lnQWhh3TJWo"
      },
      "outputs": [],
      "source": []
    },
    {
      "cell_type": "markdown",
      "metadata": {
        "id": "VdwI4jacKRN-"
      },
      "source": [
        "24_Jan "
      ]
    },
    {
      "cell_type": "code",
      "execution_count": null,
      "metadata": {
        "colab": {
          "base_uri": "https://localhost:8080/"
        },
        "id": "0Vi8KdIAKO6b",
        "outputId": "172e9c94-7b86-4879-89e3-1acbcfe86c46"
      },
      "outputs": [
        {
          "name": "stdout",
          "output_type": "stream",
          "text": [
            "This is my total a, b & c is --> 600\n"
          ]
        }
      ],
      "source": [
        "a = 100\n",
        "b = 200\n",
        "c = 300\n",
        "\n",
        "print('This is my total a, b & c is -->', a+b+c)"
      ]
    },
    {
      "cell_type": "code",
      "execution_count": null,
      "metadata": {
        "colab": {
          "base_uri": "https://localhost:8080/"
        },
        "id": "wILiq-C6KPAZ",
        "outputId": "ebd7415c-be00-45e8-9095-60877bf44316"
      },
      "outputs": [
        {
          "data": {
            "text/plain": [
              "30"
            ]
          },
          "execution_count": 10,
          "metadata": {},
          "output_type": "execute_result"
        }
      ],
      "source": [
        "10 + 20"
      ]
    },
    {
      "cell_type": "code",
      "execution_count": null,
      "metadata": {
        "colab": {
          "base_uri": "https://localhost:8080/"
        },
        "id": "AeD6hDkqKPFa",
        "outputId": "8bdf735e-e77f-46c0-a401-8ef4603cfb63"
      },
      "outputs": [
        {
          "data": {
            "text/plain": [
              "30.3"
            ]
          },
          "execution_count": 11,
          "metadata": {},
          "output_type": "execute_result"
        }
      ],
      "source": [
        "10 + 20.3"
      ]
    },
    {
      "cell_type": "code",
      "execution_count": null,
      "metadata": {
        "colab": {
          "base_uri": "https://localhost:8080/",
          "height": 35
        },
        "id": "3OD1yqyQKPJN",
        "outputId": "9aa038ba-8b88-49dd-b350-2b55b5855913"
      },
      "outputs": [
        {
          "data": {
            "application/vnd.google.colaboratory.intrinsic+json": {
              "type": "string"
            },
            "text/plain": [
              "'10Uttam'"
            ]
          },
          "execution_count": 13,
          "metadata": {},
          "output_type": "execute_result"
        }
      ],
      "source": [
        "10 + \"Uttam\""
      ]
    },
    {
      "cell_type": "code",
      "execution_count": null,
      "metadata": {
        "colab": {
          "base_uri": "https://localhost:8080/"
        },
        "id": "js6YMcRoKPOr",
        "outputId": "64fe9ed5-a5cf-4a3a-ecc5-d75bf1513cf5"
      },
      "outputs": [
        {
          "data": {
            "text/plain": [
              "5.5"
            ]
          },
          "execution_count": 16,
          "metadata": {},
          "output_type": "execute_result"
        }
      ],
      "source": [
        "11/2"
      ]
    },
    {
      "cell_type": "code",
      "execution_count": null,
      "metadata": {
        "colab": {
          "base_uri": "https://localhost:8080/"
        },
        "id": "BXU9ogD4KPSb",
        "outputId": "7ba6ca88-920c-43f4-c4a6-079631f5136f"
      },
      "outputs": [
        {
          "data": {
            "text/plain": [
              "5"
            ]
          },
          "execution_count": 17,
          "metadata": {},
          "output_type": "execute_result"
        }
      ],
      "source": [
        "11//2 ## FLoor division(divide)"
      ]
    },
    {
      "cell_type": "code",
      "execution_count": null,
      "metadata": {
        "id": "7_YLnbrXKPWm"
      },
      "outputs": [],
      "source": [
        "# Variable (store your data)\n",
        "uttam = 100"
      ]
    },
    {
      "cell_type": "code",
      "execution_count": null,
      "metadata": {
        "id": "GK6JTbJcKPbz"
      },
      "outputs": [],
      "source": [
        "uttam = 200"
      ]
    },
    {
      "cell_type": "code",
      "execution_count": null,
      "metadata": {
        "colab": {
          "base_uri": "https://localhost:8080/"
        },
        "id": "2DCtr8xtQBsj",
        "outputId": "045e4789-ad34-4cb9-ba42-8d05d67786b8"
      },
      "outputs": [
        {
          "data": {
            "text/plain": [
              "9799456"
            ]
          },
          "execution_count": 22,
          "metadata": {},
          "output_type": "execute_result"
        }
      ],
      "source": [
        "id(uttam)"
      ]
    },
    {
      "cell_type": "code",
      "execution_count": null,
      "metadata": {
        "colab": {
          "base_uri": "https://localhost:8080/"
        },
        "id": "82-Mf-5aKPhA",
        "outputId": "333bfbac-da61-40c8-a6fb-5d977912cebb"
      },
      "outputs": [
        {
          "data": {
            "text/plain": [
              "9796256"
            ]
          },
          "execution_count": 20,
          "metadata": {},
          "output_type": "execute_result"
        }
      ],
      "source": [
        "id(uttam) # REference no. of your loaction ( Address of data )"
      ]
    },
    {
      "cell_type": "code",
      "execution_count": null,
      "metadata": {
        "id": "WAcn_PmtKPmJ"
      },
      "outputs": [],
      "source": [
        "a = 100\n",
        "b = 100"
      ]
    },
    {
      "cell_type": "code",
      "execution_count": null,
      "metadata": {
        "colab": {
          "base_uri": "https://localhost:8080/"
        },
        "id": "gudVjNfPKPpc",
        "outputId": "a53d32c2-e57f-430f-e731-e0145d4d084b"
      },
      "outputs": [
        {
          "data": {
            "text/plain": [
              "9796256"
            ]
          },
          "execution_count": 24,
          "metadata": {},
          "output_type": "execute_result"
        }
      ],
      "source": [
        "id(a)"
      ]
    },
    {
      "cell_type": "code",
      "execution_count": null,
      "metadata": {
        "colab": {
          "base_uri": "https://localhost:8080/"
        },
        "id": "T5A_mIpkKPtM",
        "outputId": "42281072-ca7e-406c-f00c-aef0b36b0c93"
      },
      "outputs": [
        {
          "data": {
            "text/plain": [
              "9796256"
            ]
          },
          "execution_count": 25,
          "metadata": {},
          "output_type": "execute_result"
        }
      ],
      "source": [
        "id(b)"
      ]
    },
    {
      "cell_type": "code",
      "execution_count": null,
      "metadata": {
        "id": "ZjrvY28DKPxP"
      },
      "outputs": [],
      "source": [
        "# Arithmetic Operators ( Mathematical )\n",
        "# +    (Add)\n",
        "# -   (subtract)\n",
        "# *    (Multiply)\n",
        "# /    (Divide)\n",
        "# %   (Modulus)\n",
        "# ** ( Exponential/Power)\n",
        "# // ( Floor division)"
      ]
    },
    {
      "cell_type": "code",
      "execution_count": null,
      "metadata": {
        "id": "PkALieZLR5ok"
      },
      "outputs": [],
      "source": [
        "a = 10\n",
        "b = 2\n"
      ]
    },
    {
      "cell_type": "code",
      "execution_count": null,
      "metadata": {
        "colab": {
          "base_uri": "https://localhost:8080/"
        },
        "id": "xv_PNHTkR5xS",
        "outputId": "61533b92-6834-47ba-b2f4-a5b8398fdb51"
      },
      "outputs": [
        {
          "name": "stdout",
          "output_type": "stream",
          "text": [
            "Sum 12\n",
            "Subtract 8\n",
            "Multiple 20\n",
            "Divide 5.0\n",
            "Modulus 0\n",
            "Power 100\n",
            "Floor division 5\n"
          ]
        }
      ],
      "source": [
        "print('Sum', a + b)\n",
        "print('Subtract', a - b)\n",
        "print('Multiple', a * b)\n",
        "print('Divide', a / b)\n",
        "print('Modulus', a % b)\n",
        "print('Power', a ** b)\n",
        "print('Floor division', a // b)"
      ]
    },
    {
      "cell_type": "code",
      "execution_count": null,
      "metadata": {
        "id": "c1BIFpiSR59O"
      },
      "outputs": [],
      "source": [
        "name = \"Kelly\"\n",
        "surname = \"Ault\"\n",
        "# output --> Kelly & Ault\n",
        "# Add these variable in between & (symbol) should be there"
      ]
    },
    {
      "cell_type": "code",
      "execution_count": null,
      "metadata": {
        "colab": {
          "base_uri": "https://localhost:8080/"
        },
        "id": "HRbvmpm5R6A5",
        "outputId": "52e33bc4-7acd-4650-d0e9-cd6f8f1d36ea"
      },
      "outputs": [
        {
          "name": "stdout",
          "output_type": "stream",
          "text": [
            "Kelly & Ault\n"
          ]
        }
      ],
      "source": [
        "print(name ,\"&\",surname)"
      ]
    },
    {
      "cell_type": "code",
      "execution_count": null,
      "metadata": {
        "id": "QLqAsbwsR6El"
      },
      "outputs": [],
      "source": [
        "x = 2\n",
        "y = 4\n",
        "z = 5\n",
        "# Multiply all these numbers and divide by the 10\n",
        "# output should be integer number"
      ]
    },
    {
      "cell_type": "code",
      "execution_count": null,
      "metadata": {
        "colab": {
          "base_uri": "https://localhost:8080/"
        },
        "id": "zTIEZONIQ7tS",
        "outputId": "3aecc343-de14-43a0-feb0-8102745c2476"
      },
      "outputs": [
        {
          "data": {
            "text/plain": [
              "4.0"
            ]
          },
          "execution_count": 4,
          "metadata": {},
          "output_type": "execute_result"
        }
      ],
      "source": [
        "(x*y*z)/10"
      ]
    },
    {
      "cell_type": "code",
      "execution_count": null,
      "metadata": {
        "id": "Vc0HyBTDR6IS"
      },
      "outputs": [],
      "source": [
        "name = \"Jessa\"\n",
        "# multiple name variable 3 times and tell me the output."
      ]
    },
    {
      "cell_type": "code",
      "execution_count": null,
      "metadata": {
        "colab": {
          "base_uri": "https://localhost:8080/"
        },
        "id": "J9iGbJkvR6Lu",
        "outputId": "7ec31dc7-380d-4b9d-dddd-730779906762"
      },
      "outputs": [
        {
          "name": "stdout",
          "output_type": "stream",
          "text": [
            "\n"
          ]
        }
      ],
      "source": [
        "name=\"jessa\" # string\n",
        "print(name*-1)"
      ]
    },
    {
      "cell_type": "code",
      "execution_count": null,
      "metadata": {
        "id": "gS-q0NI9R6PX"
      },
      "outputs": [],
      "source": [
        "# I want you to print you name, age, and qualification in an output and your age\n",
        "# should be decimal\n",
        "## output --> My name is Name, and my age is AGE and I hve done my Qualificatoin."
      ]
    },
    {
      "cell_type": "code",
      "execution_count": null,
      "metadata": {
        "colab": {
          "base_uri": "https://localhost:8080/"
        },
        "id": "pN29VdYPR6Ty",
        "outputId": "64b75347-798a-42e5-b699-3f7823bf1be9"
      },
      "outputs": [
        {
          "name": "stdout",
          "output_type": "stream",
          "text": [
            "Hello My nam is SHweta and my age is  50 and I have done  M.S\n"
          ]
        }
      ],
      "source": [
        "name = 'SHweta'\n",
        "age = 50\n",
        "qualification = 'M.S'\n",
        "print('Hello My nam is', name, 'and my age is ', age, 'and I have done ', qualification)"
      ]
    },
    {
      "cell_type": "code",
      "execution_count": null,
      "metadata": {
        "id": "oLCEnUL3R6XZ"
      },
      "outputs": [],
      "source": []
    },
    {
      "cell_type": "markdown",
      "metadata": {
        "id": "RE4sT9nuQV9v"
      },
      "source": [
        "#25 Jan "
      ]
    },
    {
      "cell_type": "code",
      "execution_count": null,
      "metadata": {
        "id": "JpJ1hneUR6bL"
      },
      "outputs": [],
      "source": [
        "# In Python everything is an object\n",
        "# Object is nothing but that contains data and it's meta data and it's functionality."
      ]
    },
    {
      "cell_type": "code",
      "execution_count": null,
      "metadata": {
        "id": "2O9NFXu8QdIX"
      },
      "outputs": [],
      "source": [
        "# Arithmatic Operators (+, -, %, /,//, *)\n",
        "# Logical operators (and, or, not)\n",
        "# Identity operators (is, is not)\n",
        "# Comparision oPerators ( ==, !=, >, < , >=, <=)\n",
        "# Assignment Operators (=, +=, -=, *=, /=, %=, **=, &=, |=, ^= etc)\n",
        "# Membership operators (in, not in)"
      ]
    },
    {
      "cell_type": "code",
      "execution_count": null,
      "metadata": {
        "colab": {
          "base_uri": "https://localhost:8080/"
        },
        "id": "jLXu05KJQdM7",
        "outputId": "886d2df7-091e-40c7-dfa4-33e835b9ff79"
      },
      "outputs": [
        {
          "data": {
            "text/plain": [
              "False"
            ]
          },
          "execution_count": 9,
          "metadata": {},
          "output_type": "execute_result"
        }
      ],
      "source": [
        "########## AND ###########\n",
        "\n",
        "x = 10\n",
        " #---> True, False --> False\n",
        "  #---> True, True --> True\n",
        "  # False, False -->\n",
        "  # False, True --> "
      ]
    },
    {
      "cell_type": "code",
      "execution_count": null,
      "metadata": {
        "id": "NoVcHwdgVIPi"
      },
      "outputs": [],
      "source": [
        "########## OR ###########\n",
        "#---> True, False --> True\n",
        "#     TRUE , True, --> \n",
        "# False, True,--> \n",
        "# False, False --> "
      ]
    },
    {
      "cell_type": "code",
      "execution_count": null,
      "metadata": {
        "colab": {
          "base_uri": "https://localhost:8080/"
        },
        "id": "53hftX1zQdYX",
        "outputId": "f564c7c2-a16d-486c-ac43-13515deb567f"
      },
      "outputs": [
        {
          "data": {
            "text/plain": [
              "True"
            ]
          },
          "execution_count": 12,
          "metadata": {},
          "output_type": "execute_result"
        }
      ],
      "source": [
        "y = 5\n",
        "# True OR False --> Flase \n",
        "y > 3 or y < 4 "
      ]
    },
    {
      "cell_type": "code",
      "execution_count": null,
      "metadata": {
        "colab": {
          "base_uri": "https://localhost:8080/"
        },
        "id": "8qhkG8-VkLC5",
        "outputId": "de3de7e3-03fb-4764-9497-1654d9154330"
      },
      "outputs": [
        {
          "name": "stdout",
          "output_type": "stream",
          "text": [
            "True and False --> False False\n"
          ]
        }
      ],
      "source": [
        "a=10    \n",
        "print('True and False --> False', a>8 and a<0)"
      ]
    },
    {
      "cell_type": "code",
      "execution_count": null,
      "metadata": {
        "id": "jyzukWcBQdeg"
      },
      "outputs": [],
      "source": [
        "# true and false = false\n",
        "# false and false = false\n",
        "# false and true = false\n",
        "\n",
        "# true or false = true\n",
        "# false or true = true\n",
        "# true or true = true"
      ]
    },
    {
      "cell_type": "code",
      "execution_count": null,
      "metadata": {
        "colab": {
          "base_uri": "https://localhost:8080/"
        },
        "id": "NBuqUkRnQdik",
        "outputId": "712904d5-3387-411e-cc00-6eea98cabd56"
      },
      "outputs": [
        {
          "data": {
            "text/plain": [
              "True"
            ]
          },
          "execution_count": 18,
          "metadata": {},
          "output_type": "execute_result"
        }
      ],
      "source": [
        "z = 5\n",
        "not(z < 3 and z < 10)"
      ]
    },
    {
      "cell_type": "code",
      "execution_count": null,
      "metadata": {
        "id": "fr0ofNtAQdnC"
      },
      "outputs": [],
      "source": [
        "# Identity\n",
        "t = 10\n",
        "s = 20\n"
      ]
    },
    {
      "cell_type": "code",
      "execution_count": null,
      "metadata": {
        "colab": {
          "base_uri": "https://localhost:8080/"
        },
        "id": "mFPijZn_R6fg",
        "outputId": "fb73c726-ef9e-4c5b-820d-b9f647a08aab"
      },
      "outputs": [
        {
          "data": {
            "text/plain": [
              "True"
            ]
          },
          "execution_count": 23,
          "metadata": {},
          "output_type": "execute_result"
        }
      ],
      "source": [
        "t is not s"
      ]
    },
    {
      "cell_type": "code",
      "execution_count": null,
      "metadata": {
        "colab": {
          "base_uri": "https://localhost:8080/"
        },
        "id": "_GYARELIR6jO",
        "outputId": "0ba94b09-5be5-4def-e891-e28369ff72d4"
      },
      "outputs": [
        {
          "data": {
            "text/plain": [
              "False"
            ]
          },
          "execution_count": 27,
          "metadata": {},
          "output_type": "execute_result"
        }
      ],
      "source": [
        "a = \"Uttam\"\n",
        "b = 'uttam'\n",
        "a is b"
      ]
    },
    {
      "cell_type": "code",
      "execution_count": null,
      "metadata": {
        "colab": {
          "base_uri": "https://localhost:8080/"
        },
        "id": "ee2GuWkRR6mz",
        "outputId": "9531f31f-40f4-415a-acaf-1a905f744f66"
      },
      "outputs": [
        {
          "data": {
            "text/plain": [
              "True"
            ]
          },
          "execution_count": 28,
          "metadata": {},
          "output_type": "execute_result"
        }
      ],
      "source": [
        "# COmparision Operators\n",
        "a = 10\n",
        "b = 10\n",
        "a == b"
      ]
    },
    {
      "cell_type": "code",
      "execution_count": null,
      "metadata": {
        "colab": {
          "base_uri": "https://localhost:8080/"
        },
        "id": "NKMJ43G-YO2o",
        "outputId": "5746a581-6f15-4220-dc8a-f637dfc87857"
      },
      "outputs": [
        {
          "data": {
            "text/plain": [
              "False"
            ]
          },
          "execution_count": 29,
          "metadata": {},
          "output_type": "execute_result"
        }
      ],
      "source": [
        "a != b"
      ]
    },
    {
      "cell_type": "code",
      "execution_count": null,
      "metadata": {
        "colab": {
          "base_uri": "https://localhost:8080/"
        },
        "id": "QqNVporvYO92",
        "outputId": "7d06c63a-ec7c-42f1-d9a2-a9826b69171c"
      },
      "outputs": [
        {
          "data": {
            "text/plain": [
              "False"
            ]
          },
          "execution_count": 30,
          "metadata": {},
          "output_type": "execute_result"
        }
      ],
      "source": [
        "a > b"
      ]
    },
    {
      "cell_type": "code",
      "execution_count": null,
      "metadata": {
        "colab": {
          "base_uri": "https://localhost:8080/"
        },
        "id": "kWCf63ZeYPH6",
        "outputId": "948871cf-d172-47d1-8219-dc5fd316a028"
      },
      "outputs": [
        {
          "data": {
            "text/plain": [
              "False"
            ]
          },
          "execution_count": 31,
          "metadata": {},
          "output_type": "execute_result"
        }
      ],
      "source": [
        "a < b"
      ]
    },
    {
      "cell_type": "code",
      "execution_count": null,
      "metadata": {
        "colab": {
          "base_uri": "https://localhost:8080/"
        },
        "id": "4gfyoeHjYPQn",
        "outputId": "301d51b2-8966-4106-df32-7c3896806634"
      },
      "outputs": [
        {
          "data": {
            "text/plain": [
              "True"
            ]
          },
          "execution_count": 32,
          "metadata": {},
          "output_type": "execute_result"
        }
      ],
      "source": [
        "a >= b"
      ]
    },
    {
      "cell_type": "code",
      "execution_count": null,
      "metadata": {
        "colab": {
          "base_uri": "https://localhost:8080/"
        },
        "id": "32fmx87YYPYe",
        "outputId": "37ca59d7-cc44-47e9-83b7-89bd9f13f96e"
      },
      "outputs": [
        {
          "data": {
            "text/plain": [
              "True"
            ]
          },
          "execution_count": 33,
          "metadata": {},
          "output_type": "execute_result"
        }
      ],
      "source": [
        "a <= b"
      ]
    },
    {
      "cell_type": "code",
      "execution_count": null,
      "metadata": {
        "colab": {
          "base_uri": "https://localhost:8080/"
        },
        "id": "4vAVcjscYPdW",
        "outputId": "15a08d58-5ee2-4344-f76e-919da7a9d89a"
      },
      "outputs": [
        {
          "name": "stdout",
          "output_type": "stream",
          "text": [
            "100\n"
          ]
        }
      ],
      "source": [
        "# Assignment Operators\n",
        "x = 100\n",
        "print(x)"
      ]
    },
    {
      "cell_type": "code",
      "execution_count": null,
      "metadata": {
        "colab": {
          "base_uri": "https://localhost:8080/"
        },
        "id": "RaBRb26AR6qU",
        "outputId": "e4fc652c-be04-48ed-dfe5-3d9c8d125b76"
      },
      "outputs": [
        {
          "name": "stdout",
          "output_type": "stream",
          "text": [
            "105\n"
          ]
        }
      ],
      "source": [
        "x = 100\n",
        "#x = x + 5\n",
        "x += 5\n",
        "print(x)"
      ]
    },
    {
      "cell_type": "code",
      "execution_count": null,
      "metadata": {
        "colab": {
          "base_uri": "https://localhost:8080/"
        },
        "id": "FMWkqrCGR6tO",
        "outputId": "9eae9b66-37aa-4548-be26-ca32376c6d0f"
      },
      "outputs": [
        {
          "name": "stdout",
          "output_type": "stream",
          "text": [
            "990\n"
          ]
        }
      ],
      "source": [
        "z = 1000\n",
        "z -= 10 # z = z - 10\n",
        "print(z)"
      ]
    },
    {
      "cell_type": "code",
      "execution_count": null,
      "metadata": {
        "colab": {
          "base_uri": "https://localhost:8080/"
        },
        "id": "6giIRC8MaTlb",
        "outputId": "91575ae3-35f1-4de6-f2ed-749521f18890"
      },
      "outputs": [
        {
          "name": "stdout",
          "output_type": "stream",
          "text": [
            "100\n"
          ]
        }
      ],
      "source": [
        "z = 10\n",
        "z *= 10 # z = z * 10\n",
        "print(z)"
      ]
    },
    {
      "cell_type": "code",
      "execution_count": null,
      "metadata": {
        "colab": {
          "base_uri": "https://localhost:8080/"
        },
        "id": "YaEOEx1faTua",
        "outputId": "d71cbe42-9269-4edd-d3eb-c750c3dac7f3"
      },
      "outputs": [
        {
          "name": "stdout",
          "output_type": "stream",
          "text": [
            "100\n"
          ]
        }
      ],
      "source": [
        "z = 10\n",
        "z **= 2 # z = z ** 2\n",
        "print(z)"
      ]
    },
    {
      "cell_type": "code",
      "execution_count": null,
      "metadata": {
        "colab": {
          "base_uri": "https://localhost:8080/"
        },
        "id": "0bghx9WBaT2B",
        "outputId": "44d911b7-1f1e-4f3e-e8da-1a068e9ac478"
      },
      "outputs": [
        {
          "name": "stdout",
          "output_type": "stream",
          "text": [
            "5.0\n"
          ]
        }
      ],
      "source": [
        "z = 10\n",
        "z /= 2 # z = z / 2\n",
        "print(z)"
      ]
    },
    {
      "cell_type": "code",
      "execution_count": null,
      "metadata": {
        "colab": {
          "base_uri": "https://localhost:8080/"
        },
        "id": "EZ53cj_LbInW",
        "outputId": "e70c9b14-9ff5-4b19-ad39-37b8aded9766"
      },
      "outputs": [
        {
          "name": "stdout",
          "output_type": "stream",
          "text": [
            "5\n"
          ]
        }
      ],
      "source": [
        "z = 10\n",
        "z //= 2 # z = z // 2\n",
        "print(z)"
      ]
    },
    {
      "cell_type": "code",
      "execution_count": null,
      "metadata": {
        "colab": {
          "base_uri": "https://localhost:8080/"
        },
        "id": "gYZ7LYPgbIru",
        "outputId": "39990aa2-9f82-4a08-c572-f5d7514db206"
      },
      "outputs": [
        {
          "name": "stdout",
          "output_type": "stream",
          "text": [
            "0\n"
          ]
        }
      ],
      "source": [
        "z = 10\n",
        "z %= 2 # z = z % 2\n",
        "print(z)"
      ]
    },
    {
      "cell_type": "code",
      "execution_count": null,
      "metadata": {
        "colab": {
          "base_uri": "https://localhost:8080/"
        },
        "id": "1gim3DVJbI4-",
        "outputId": "df281fc9-2894-4b9d-9922-155e8b01bc3d"
      },
      "outputs": [
        {
          "name": "stdout",
          "output_type": "stream",
          "text": [
            "1\n"
          ]
        }
      ],
      "source": [
        "x = 5\n",
        "x = x & 3 # x &= 3 # \n",
        "print(x)"
      ]
    },
    {
      "cell_type": "code",
      "execution_count": null,
      "metadata": {
        "colab": {
          "base_uri": "https://localhost:8080/"
        },
        "id": "_SfwYngUbJAE",
        "outputId": "fa4f8192-bd1e-4863-b9a0-b8d60a0a10c0"
      },
      "outputs": [
        {
          "name": "stdout",
          "output_type": "stream",
          "text": [
            "7\n"
          ]
        }
      ],
      "source": [
        "x = 5\n",
        "x = x | 3 #\n",
        "print(x)"
      ]
    },
    {
      "cell_type": "code",
      "execution_count": null,
      "metadata": {
        "colab": {
          "base_uri": "https://localhost:8080/"
        },
        "id": "B0buFuxabJF0",
        "outputId": "dd54a157-e417-448b-d1be-453c29bf60b8"
      },
      "outputs": [
        {
          "data": {
            "text/plain": [
              "True"
            ]
          },
          "execution_count": 48,
          "metadata": {},
          "output_type": "execute_result"
        }
      ],
      "source": [
        "# Membership\n",
        "x = (10, 20, 30)\n",
        "1 in x\n"
      ]
    },
    {
      "cell_type": "code",
      "execution_count": null,
      "metadata": {
        "colab": {
          "base_uri": "https://localhost:8080/"
        },
        "id": "PMts2AFrcrjN",
        "outputId": "6aea5453-1f40-4ce1-c5a1-7034f5d21338"
      },
      "outputs": [
        {
          "data": {
            "text/plain": [
              "True"
            ]
          },
          "execution_count": 53,
          "metadata": {},
          "output_type": "execute_result"
        }
      ],
      "source": [
        "a = \"Uttam\", 'Ujjwal', 'Shweta','Prabhu Deva'\n",
        "'ShwEta' not in a"
      ]
    },
    {
      "cell_type": "code",
      "execution_count": null,
      "metadata": {
        "id": "o-L2Pw-gcrqz"
      },
      "outputs": [],
      "source": [
        "# Immutability(Cannot be change)-->  int, float, bool, str, tuple\n",
        "#Mutability(can be change) --> list, set, dict"
      ]
    },
    {
      "cell_type": "code",
      "execution_count": null,
      "metadata": {
        "colab": {
          "base_uri": "https://localhost:8080/"
        },
        "id": "tA9fDOkncr2L",
        "outputId": "7f9db8e3-e676-4509-b3b7-a911764977f9"
      },
      "outputs": [
        {
          "data": {
            "text/plain": [
              "12"
            ]
          },
          "execution_count": 60,
          "metadata": {},
          "output_type": "execute_result"
        }
      ],
      "source": [
        "(2 + 2) * 3"
      ]
    },
    {
      "cell_type": "code",
      "execution_count": null,
      "metadata": {
        "id": "eCMzCk6icr8v"
      },
      "outputs": [],
      "source": []
    },
    {
      "cell_type": "markdown",
      "metadata": {
        "id": "F1T8HCW2jM-9"
      },
      "source": [
        "27_Jan"
      ]
    },
    {
      "cell_type": "code",
      "execution_count": null,
      "metadata": {
        "id": "hL6GLEXVjKQh"
      },
      "outputs": [],
      "source": [
        "# BODMAS\n"
      ]
    },
    {
      "cell_type": "code",
      "execution_count": null,
      "metadata": {
        "colab": {
          "base_uri": "https://localhost:8080/"
        },
        "id": "5HTGXasGjKU3",
        "outputId": "2f8f7750-c463-4cc0-83b7-b7abc088fc65"
      },
      "outputs": [
        {
          "name": "stdout",
          "output_type": "stream",
          "text": [
            "Get lost\n"
          ]
        }
      ],
      "source": [
        "# Conditions (if.....else)\n",
        "# Syntax Error or Indentation error ( Take care about these)\n",
        "a = 'Uttam'\n",
        "\n",
        "if a == 'uttam':\n",
        "  print('Welcome Uttam')\n",
        "else:\n",
        "  print('Get lost')\n"
      ]
    },
    {
      "cell_type": "code",
      "execution_count": null,
      "metadata": {
        "id": "CJK-LnTtjKdK"
      },
      "outputs": [],
      "source": [
        "if something is write:\n",
        "  print('Welcome')\n",
        "else:\n",
        "  print('Go')"
      ]
    },
    {
      "cell_type": "code",
      "execution_count": null,
      "metadata": {
        "colab": {
          "base_uri": "https://localhost:8080/"
        },
        "id": "PEKM6lS8jKmM",
        "outputId": "819d2e92-e987-47fc-9349-78673dbc565f"
      },
      "outputs": [
        {
          "data": {
            "text/plain": [
              "True"
            ]
          },
          "execution_count": 4,
          "metadata": {},
          "output_type": "execute_result"
        }
      ],
      "source": [
        "a = 10\n",
        "a == 10"
      ]
    },
    {
      "cell_type": "code",
      "execution_count": null,
      "metadata": {
        "colab": {
          "base_uri": "https://localhost:8080/"
        },
        "id": "uTnQeElUjKww",
        "outputId": "8f6a3c83-04ca-4c27-a8cd-b0804a2f80ff"
      },
      "outputs": [
        {
          "name": "stdout",
          "output_type": "stream",
          "text": [
            "Enter Your Pin1234\n",
            "Welcome Uttam!!\n"
          ]
        }
      ],
      "source": [
        "a = input('Enter Your Pin')\n",
        "\n",
        "if a == 1234:\n",
        "  print('Welcome Uttam!!')\n",
        "else:\n",
        "  print('Wrong User Call to cops!')"
      ]
    },
    {
      "cell_type": "code",
      "execution_count": null,
      "metadata": {
        "colab": {
          "base_uri": "https://localhost:8080/"
        },
        "id": "eRaS2lS2jK49",
        "outputId": "218634ad-6961-4c78-b82c-878e5ebef68b"
      },
      "outputs": [
        {
          "name": "stdout",
          "output_type": "stream",
          "text": [
            "Enter Your Pin1234\n"
          ]
        },
        {
          "data": {
            "text/plain": [
              "str"
            ]
          },
          "execution_count": 9,
          "metadata": {},
          "output_type": "execute_result"
        }
      ],
      "source": [
        "a = input('Enter Your Pin')\n",
        "type(a)"
      ]
    },
    {
      "cell_type": "code",
      "execution_count": null,
      "metadata": {
        "colab": {
          "base_uri": "https://localhost:8080/"
        },
        "id": "4o08Ct-hjLjg",
        "outputId": "4e9bed7b-e137-4f93-d79a-8157a56ee8a7"
      },
      "outputs": [
        {
          "name": "stdout",
          "output_type": "stream",
          "text": [
            "Enter your Name-->Mahesh\n",
            "Mad\n"
          ]
        }
      ],
      "source": [
        "z = input('Enter your Name-->')\n",
        "\n",
        "if z == '1234':\n",
        "  print('Welcome Nikhil')\n",
        "else:\n",
        "  print(\"Mad\")"
      ]
    },
    {
      "cell_type": "code",
      "execution_count": null,
      "metadata": {
        "colab": {
          "base_uri": "https://localhost:8080/"
        },
        "id": "KxtHb1vUti9b",
        "outputId": "684d427d-9c35-46f7-c9bf-c6411fef1969"
      },
      "outputs": [
        {
          "name": "stdout",
          "output_type": "stream",
          "text": [
            "YOYO\n"
          ]
        }
      ],
      "source": [
        "a = 33\n",
        "b = 200\n",
        "\n",
        "if b<a:\n",
        "  print('B is greater than a')\n",
        "else:\n",
        "  print('YOYO')"
      ]
    },
    {
      "cell_type": "code",
      "execution_count": null,
      "metadata": {
        "id": "n_3__SMjtjUh"
      },
      "outputs": [],
      "source": [
        "# write a condition where you will take the input from the user and match\n",
        "# the password (@EdyodaD) and print your name if the condition is True \n",
        "# otherwise print wrong password!"
      ]
    },
    {
      "cell_type": "code",
      "execution_count": null,
      "metadata": {
        "colab": {
          "base_uri": "https://localhost:8080/"
        },
        "id": "sWuO8-rdtjoJ",
        "outputId": "cabb3675-575f-48ff-dc57-ac8dda3d8e0d"
      },
      "outputs": [
        {
          "name": "stdout",
          "output_type": "stream",
          "text": [
            "Enter The No--> 2\n",
            "Welcome Shwerta!\n"
          ]
        }
      ],
      "source": [
        "a = int(input('Enter The No--> '))\n",
        "\n",
        "if a == 1:\n",
        "  print('Welcome Uttam')\n",
        "elif a == 2:\n",
        "  print('Welcome Shwerta!')\n",
        "elif a == 2:\n",
        "  print(\"Welcome yashini\")\n",
        "elif a == 10:\n",
        "  print('Rishav')\n",
        "else:\n",
        "  print('YOu have lose the key!!')"
      ]
    },
    {
      "cell_type": "code",
      "execution_count": null,
      "metadata": {
        "id": "WG4KWEMPtj3t"
      },
      "outputs": [],
      "source": [
        "# Write a condition where you will check 3 password if the password is @Edyoda\n",
        "# then print anytime, another condition check password is &eyoda then print\n",
        "# something if both are not matched then print call the cops!!\n"
      ]
    },
    {
      "cell_type": "code",
      "execution_count": null,
      "metadata": {
        "id": "-Rfv_VBLjLm-"
      },
      "outputs": [],
      "source": []
    },
    {
      "cell_type": "markdown",
      "metadata": {
        "id": "20uFvk_gBoOR"
      },
      "source": [
        "30_Jan"
      ]
    },
    {
      "cell_type": "code",
      "execution_count": null,
      "metadata": {
        "colab": {
          "base_uri": "https://localhost:8080/"
        },
        "id": "pgM3o-kljLr6",
        "outputId": "a2d07d5a-406e-47a7-e529-5fb23f8f42fd"
      },
      "outputs": [
        {
          "name": "stdout",
          "output_type": "stream",
          "text": [
            "Good Morning\n"
          ]
        }
      ],
      "source": [
        "# NEsted IF Else Condition\n",
        "\n",
        "a = 'marry'\n",
        "if a == 'marry':\n",
        "  print('Good Morning')\n",
        "\n",
        "else:\n",
        "  print('Good Evening!!')"
      ]
    },
    {
      "cell_type": "code",
      "execution_count": null,
      "metadata": {
        "colab": {
          "base_uri": "https://localhost:8080/"
        },
        "id": "-QZawpsyBqHJ",
        "outputId": "e8914afe-e08c-4b23-a9e7-62ea7ed61e62"
      },
      "outputs": [
        {
          "name": "stdout",
          "output_type": "stream",
          "text": [
            "Good Evening!!\n"
          ]
        }
      ],
      "source": [
        "a = 'marry'\n",
        "b = 'Uttam'\n",
        "if a == 'Marry':\n",
        "  if b == 'Uttam': # NEsted \n",
        "    print('Uttam Marry')\n",
        "\n",
        "else:\n",
        "  print('Good Evening!!')"
      ]
    },
    {
      "cell_type": "code",
      "execution_count": null,
      "metadata": {
        "colab": {
          "base_uri": "https://localhost:8080/"
        },
        "id": "l13tN5MfBqLb",
        "outputId": "2ebf0a8b-6cf4-474e-d430-2900d8209955"
      },
      "outputs": [
        {
          "name": "stdout",
          "output_type": "stream",
          "text": [
            "ENter the Value-->123\n",
            "Shweta 123\n"
          ]
        }
      ],
      "source": [
        "x = int(input(\"ENter the Value-->\"))\n",
        "y = 'Shweta'\n",
        "if x == 123:\n",
        "\n",
        "  if y == 'Shweta':\n",
        "    print('Shweta 123')\n",
        "  else:\n",
        "    print('NO Shweta is not 123')\n",
        "\n",
        "else:\n",
        "  print('Go out')"
      ]
    },
    {
      "cell_type": "code",
      "execution_count": null,
      "metadata": {
        "colab": {
          "base_uri": "https://localhost:8080/"
        },
        "id": "vo-B3ybTJZ_J",
        "outputId": "7f3dc790-51e7-4e8d-c41c-2974989bc413"
      },
      "outputs": [
        {
          "data": {
            "text/plain": [
              "False"
            ]
          },
          "execution_count": 28,
          "metadata": {},
          "output_type": "execute_result"
        }
      ],
      "source": [
        "x = \"Uttam\"\n",
        "x == \"uttam\""
      ]
    },
    {
      "cell_type": "code",
      "execution_count": null,
      "metadata": {
        "id": "vBDgSbSYBqPT"
      },
      "outputs": [],
      "source": [
        "# Loop(Repeat) ( For(Finite times), While(Infinite times))\n"
      ]
    },
    {
      "cell_type": "code",
      "execution_count": null,
      "metadata": {
        "colab": {
          "base_uri": "https://localhost:8080/"
        },
        "id": "HDydHSMZBqUM",
        "outputId": "354172ca-b5f0-4765-fdfb-1b777a7476de"
      },
      "outputs": [
        {
          "name": "stdout",
          "output_type": "stream",
          "text": [
            "U\n",
            "t\n",
            "t\n",
            "a\n",
            "m\n"
          ]
        }
      ],
      "source": [
        "# FOr Loop\n",
        "for c in \"Uttam\":\n",
        "  print(c)"
      ]
    },
    {
      "cell_type": "code",
      "execution_count": null,
      "metadata": {
        "colab": {
          "base_uri": "https://localhost:8080/"
        },
        "id": "DH9Mu0vWBqYF",
        "outputId": "5b599871-4930-41d6-91fb-c2534e5b0d88"
      },
      "outputs": [
        {
          "name": "stdout",
          "output_type": "stream",
          "text": [
            "S/h/w/e/t/a/"
          ]
        }
      ],
      "source": [
        "for j in 'Shweta':\n",
        "  print(j, end ='/')"
      ]
    },
    {
      "cell_type": "code",
      "execution_count": null,
      "metadata": {
        "colab": {
          "base_uri": "https://localhost:8080/"
        },
        "id": "ICiRuGFcBqjZ",
        "outputId": "2e306496-5357-44af-cba9-6554c0ff1d3f"
      },
      "outputs": [
        {
          "name": "stdout",
          "output_type": "stream",
          "text": [
            "1\n",
            "2\n",
            "3\n"
          ]
        }
      ],
      "source": [
        "for i in \"123\":\n",
        "  print(i)"
      ]
    },
    {
      "cell_type": "code",
      "execution_count": null,
      "metadata": {
        "colab": {
          "base_uri": "https://localhost:8080/"
        },
        "id": "edP3pgQeBqnu",
        "outputId": "a973bb85-148a-44b5-e971-52f1f877a258"
      },
      "outputs": [
        {
          "name": "stdout",
          "output_type": "stream",
          "text": [
            "D\n",
            "a\n",
            "t\n",
            "a\n",
            " \n",
            "S\n",
            "c\n",
            "i\n",
            "e\n",
            "n\n",
            "c\n",
            "e\n"
          ]
        }
      ],
      "source": [
        "a = 'Data Science'\n",
        "\n",
        "for i in a:\n",
        "  print(i)"
      ]
    },
    {
      "cell_type": "code",
      "execution_count": null,
      "metadata": {
        "colab": {
          "base_uri": "https://localhost:8080/"
        },
        "id": "GSFM8lqEBqrg",
        "outputId": "759c291b-5c3c-4d53-8d25-b99d64a41cf7"
      },
      "outputs": [
        {
          "name": "stdout",
          "output_type": "stream",
          "text": [
            "1\n",
            "2\n",
            "3\n"
          ]
        }
      ],
      "source": [
        "for i in \"123\":\n",
        "  print(i)"
      ]
    },
    {
      "cell_type": "code",
      "execution_count": null,
      "metadata": {
        "colab": {
          "base_uri": "https://localhost:8080/"
        },
        "id": "FKHomyEMjLxn",
        "outputId": "84b0eaf2-284b-4fc2-f0b8-049572d19409"
      },
      "outputs": [
        {
          "data": {
            "text/plain": [
              "5"
            ]
          },
          "execution_count": 42,
          "metadata": {},
          "output_type": "execute_result"
        }
      ],
      "source": [
        "len(\"Uttam\")"
      ]
    },
    {
      "cell_type": "code",
      "execution_count": null,
      "metadata": {
        "colab": {
          "base_uri": "https://localhost:8080/"
        },
        "id": "Q8BShQOmTJZ-",
        "outputId": "5960e62f-5d55-49f0-c3db-c598ead6d212"
      },
      "outputs": [
        {
          "name": "stdout",
          "output_type": "stream",
          "text": [
            "100 99 98 97 96 95 94 93 92 91 90 89 88 87 86 85 84 83 82 81 80 79 78 77 76 75 74 73 72 71 70 69 68 67 66 65 64 63 62 61 60 59 58 57 56 55 54 53 52 51 50 49 48 47 46 45 44 43 42 41 40 39 38 37 36 35 34 33 32 31 30 29 28 27 26 25 24 23 22 21 20 19 18 17 16 15 14 13 12 11 "
          ]
        }
      ],
      "source": [
        "# Range\n",
        "for i in range(100,10,-1):\n",
        "  print(i, end = ' ')"
      ]
    },
    {
      "cell_type": "code",
      "execution_count": null,
      "metadata": {
        "id": "tRYahxZzTAQR"
      },
      "outputs": [],
      "source": [
        "# Print First 10 natural numbers using For loop\n",
        "# Calculate the sum of all numbers from 1 to a 10\n",
        "# Write a program to print multiplication table of a 2\n",
        "# Print the reverse of the numbers from 50 to 1 \n",
        "# Display numbers from -10 to -1 using for loop"
      ]
    },
    {
      "cell_type": "code",
      "execution_count": null,
      "metadata": {
        "id": "nohhu3tvTAWt"
      },
      "outputs": [],
      "source": []
    },
    {
      "cell_type": "markdown",
      "metadata": {
        "id": "deAcPirHKx19"
      },
      "source": [
        "31_Jan"
      ]
    },
    {
      "cell_type": "code",
      "execution_count": null,
      "metadata": {
        "colab": {
          "base_uri": "https://localhost:8080/"
        },
        "id": "WigtnMekTAcC",
        "outputId": "8780ba0c-2cf3-4bd2-cc6e-6f0d4055b527"
      },
      "outputs": [
        {
          "name": "stdout",
          "output_type": "stream",
          "text": [
            "1 2 3 4 5 6 7 8 9 10 11 12 13 14 15 16 17 18 19 20 "
          ]
        }
      ],
      "source": [
        "for i in range(1, 21):\n",
        "  print(i, end = ' ')"
      ]
    },
    {
      "cell_type": "code",
      "execution_count": null,
      "metadata": {
        "colab": {
          "base_uri": "https://localhost:8080/"
        },
        "id": "d0GBiqzcK0ZK",
        "outputId": "0f81b0dc-c211-4918-b7e0-6c3942939d0f"
      },
      "outputs": [
        {
          "name": "stdout",
          "output_type": "stream",
          "text": [
            "Uttam\n"
          ]
        }
      ],
      "source": [
        "a = 0\n",
        "for i in range(1, 11):\n",
        "  a = a + i\n",
        "print(\"Uttam\")\n",
        "  "
      ]
    },
    {
      "cell_type": "code",
      "execution_count": null,
      "metadata": {
        "colab": {
          "base_uri": "https://localhost:8080/"
        },
        "id": "T25KZeK_K0cg",
        "outputId": "874a385f-3147-4f4a-ae3f-d41bebf7c2c3"
      },
      "outputs": [
        {
          "name": "stdout",
          "output_type": "stream",
          "text": [
            "55\n"
          ]
        }
      ],
      "source": [
        "print(a)"
      ]
    },
    {
      "cell_type": "code",
      "execution_count": null,
      "metadata": {
        "colab": {
          "base_uri": "https://localhost:8080/"
        },
        "id": "MEswVxyyK0gS",
        "outputId": "9675eec9-0327-4b21-c1c5-07a237622ad6"
      },
      "outputs": [
        {
          "name": "stdout",
          "output_type": "stream",
          "text": [
            "0\n"
          ]
        }
      ],
      "source": [
        "b = 0\n",
        "print(b)"
      ]
    },
    {
      "cell_type": "code",
      "execution_count": null,
      "metadata": {
        "colab": {
          "base_uri": "https://localhost:8080/"
        },
        "id": "68Z0puZ1K0ke",
        "outputId": "4040dd11-ae6d-4484-a7ee-d7bf41d1189e"
      },
      "outputs": [
        {
          "name": "stdout",
          "output_type": "stream",
          "text": [
            "10\n"
          ]
        }
      ],
      "source": [
        "b = 10\n",
        "print(b)"
      ]
    },
    {
      "cell_type": "code",
      "execution_count": null,
      "metadata": {
        "colab": {
          "base_uri": "https://localhost:8080/"
        },
        "id": "6YdlLAV6K0pX",
        "outputId": "64b9f3a1-5f9a-491d-ac52-8f9510dbf9e3"
      },
      "outputs": [
        {
          "name": "stdout",
          "output_type": "stream",
          "text": [
            "Enter The Number!!2\n",
            "2\n",
            "4\n",
            "6\n",
            "8\n",
            "10\n",
            "12\n",
            "14\n",
            "16\n",
            "18\n",
            "20\n"
          ]
        }
      ],
      "source": [
        "a = int(input(\"Enter The Number!!\"))\n",
        "\n",
        "for i in range(1, 11):\n",
        "  print(a * i)"
      ]
    },
    {
      "cell_type": "code",
      "execution_count": null,
      "metadata": {
        "colab": {
          "base_uri": "https://localhost:8080/"
        },
        "id": "lEg3yBjwK0tU",
        "outputId": "775f4197-21ec-4411-b2a1-f6943552287d"
      },
      "outputs": [
        {
          "name": "stdout",
          "output_type": "stream",
          "text": [
            "Enter The Number!!5\n",
            "24.0\n"
          ]
        }
      ],
      "source": [
        "a = int(input(\"Enter The Number!!\"))\n",
        "b = 1\n",
        "for i in range(a, 0,-1):\n",
        "  b = b * i\n",
        "\n",
        "print(b/a)  "
      ]
    },
    {
      "cell_type": "code",
      "execution_count": null,
      "metadata": {
        "colab": {
          "base_uri": "https://localhost:8080/"
        },
        "id": "hQORJQQ-TAjF",
        "outputId": "b6cfef2f-3208-4c20-8edc-853ed0e84317"
      },
      "outputs": [
        {
          "name": "stdout",
          "output_type": "stream",
          "text": [
            "11 is a prime no.\n"
          ]
        }
      ],
      "source": [
        "n = 11\n",
        "\n",
        "if n > 1:\n",
        "  for i in range(2, int(n/2)+1):\n",
        "    if (n%i) == 0:\n",
        "      print(n, 'is not a prime no.')\n",
        "      break\n",
        "  else:\n",
        "    print(n, 'is a prime no.')\n",
        "\n",
        "else:\n",
        "  print(n, 'is not a prime no.')\n",
        "    "
      ]
    },
    {
      "cell_type": "code",
      "execution_count": null,
      "metadata": {
        "colab": {
          "base_uri": "https://localhost:8080/"
        },
        "id": "NLl0mAOQTAoQ",
        "outputId": "1a36688b-c9b7-4259-9828-684041c9a89e"
      },
      "outputs": [
        {
          "data": {
            "text/plain": [
              "1"
            ]
          },
          "execution_count": 34,
          "metadata": {},
          "output_type": "execute_result"
        }
      ],
      "source": [
        "11%2"
      ]
    },
    {
      "cell_type": "code",
      "execution_count": null,
      "metadata": {
        "id": "UI78vL2beAUe"
      },
      "outputs": [],
      "source": []
    },
    {
      "cell_type": "markdown",
      "metadata": {
        "id": "zVsFRyU3VNfT"
      },
      "source": [
        "1_Feb_2023"
      ]
    },
    {
      "cell_type": "code",
      "execution_count": null,
      "metadata": {
        "colab": {
          "base_uri": "https://localhost:8080/"
        },
        "id": "hKfHHmH0eAfm",
        "outputId": "949e6386-e53a-49e7-c148-bbacd6f63571"
      },
      "outputs": [
        {
          "name": "stdout",
          "output_type": "stream",
          "text": [
            "U\n",
            "t\n",
            "t\n",
            "a\n",
            "m\n"
          ]
        }
      ],
      "source": [
        "for i in \"Uttam\":\n",
        "  print(i)"
      ]
    },
    {
      "cell_type": "code",
      "execution_count": null,
      "metadata": {
        "id": "7Ee_ZKUpVQ0P"
      },
      "outputs": [],
      "source": [
        "for i in range(1,39):\n",
        "  print(i)"
      ]
    },
    {
      "cell_type": "markdown",
      "metadata": {
        "id": "5k_7IDlzXmEN"
      },
      "source": [
        "True Equilaent and False equilent "
      ]
    },
    {
      "cell_type": "code",
      "execution_count": null,
      "metadata": {
        "id": "2vid4JTCVQ38"
      },
      "outputs": [],
      "source": [
        "a = 10\n",
        "\n",
        "if a > 20:\n",
        "  print('Greater')"
      ]
    },
    {
      "cell_type": "code",
      "execution_count": null,
      "metadata": {
        "id": "ZiI4BBNMVQ-b"
      },
      "outputs": [],
      "source": [
        "a = 'Uttam'\n",
        "\n",
        "if a == \"Uttam\":\n",
        "  print('Greater')\n",
        "\n",
        "else:\n",
        "  print('Else Part')"
      ]
    },
    {
      "cell_type": "code",
      "execution_count": null,
      "metadata": {
        "id": "cjeoI2qYVRDy"
      },
      "outputs": [],
      "source": [
        "# AND , OR Operators in Conditional Statements"
      ]
    },
    {
      "cell_type": "code",
      "execution_count": null,
      "metadata": {
        "colab": {
          "base_uri": "https://localhost:8080/"
        },
        "id": "QbF3fSiLVRHm",
        "outputId": "35ff4d61-a2e0-4ae0-d734-31d942948571"
      },
      "outputs": [
        {
          "data": {
            "text/plain": [
              "False"
            ]
          },
          "execution_count": 5,
          "metadata": {},
          "output_type": "execute_result"
        }
      ],
      "source": [
        "z = 100\n",
        "(z > 5) and (z == 10)"
      ]
    },
    {
      "cell_type": "code",
      "execution_count": null,
      "metadata": {
        "colab": {
          "base_uri": "https://localhost:8080/"
        },
        "id": "qP8ae_kdVRTS",
        "outputId": "168d6f1c-91e8-40f1-b4f5-01b6642fdaa1"
      },
      "outputs": [
        {
          "name": "stdout",
          "output_type": "stream",
          "text": [
            "Enter your no.--->201\n",
            "Wrong\n"
          ]
        }
      ],
      "source": [
        "c = int(input(\"Enter your no.--->\"))\n",
        "\n",
        "if (c > 100) and (c == 200):\n",
        "  print('Both conditions are right')\n",
        "else:\n",
        "  print('Wrong')"
      ]
    },
    {
      "cell_type": "code",
      "execution_count": null,
      "metadata": {
        "colab": {
          "base_uri": "https://localhost:8080/"
        },
        "id": "NSr19SA0VRXH",
        "outputId": "dd341d1c-601f-4f39-e2b2-a48ec8fdf7fd"
      },
      "outputs": [
        {
          "name": "stdout",
          "output_type": "stream",
          "text": [
            "Enter your no.--->99\n",
            "Both conditions are right\n"
          ]
        }
      ],
      "source": [
        "c = int(input(\"Enter your no.--->\"))\n",
        "\n",
        "if (c > 100) or (c == 99):\n",
        "  print('Both conditions are right')\n",
        "else:\n",
        "  print('Wrong')"
      ]
    },
    {
      "cell_type": "code",
      "execution_count": null,
      "metadata": {
        "colab": {
          "base_uri": "https://localhost:8080/"
        },
        "id": "YmEbfxLQVRcZ",
        "outputId": "e0695b22-3e72-468c-a892-ee44f5e6164c"
      },
      "outputs": [
        {
          "name": "stdout",
          "output_type": "stream",
          "text": [
            "S\n",
            "h\n",
            "w\n",
            "e\n",
            "t\n",
            "a\n",
            " \n",
            "s\n",
            "i\n",
            "n\n",
            "g\n",
            "h\n"
          ]
        }
      ],
      "source": [
        "# Iterables\n",
        "\n",
        "for i in \"Shweta singh\":\n",
        "  print(i)"
      ]
    },
    {
      "cell_type": "code",
      "execution_count": null,
      "metadata": {
        "colab": {
          "base_uri": "https://localhost:8080/"
        },
        "id": "wL4JgXqgVRg2",
        "outputId": "c1dce386-c97c-4175-9da0-b50ec95384d7"
      },
      "outputs": [
        {
          "name": "stdout",
          "output_type": "stream",
          "text": [
            "1\n",
            "2\n",
            "3\n",
            "4\n",
            "5\n",
            "6\n",
            "7\n",
            "8\n",
            "9\n"
          ]
        }
      ],
      "source": [
        "for i in range(1, 10):\n",
        "  print(i)"
      ]
    },
    {
      "cell_type": "code",
      "execution_count": null,
      "metadata": {
        "id": "4ElqZXH3eAvb"
      },
      "outputs": [],
      "source": [
        "# Data Structure(container) (to store multiple different values together )\n",
        "# LIST , list, []\n",
        "a = 10\n",
        "b = 20\n",
        "c = [10,20,30,40,50, \"UTTAM\", True]"
      ]
    },
    {
      "cell_type": "code",
      "execution_count": null,
      "metadata": {
        "colab": {
          "base_uri": "https://localhost:8080/"
        },
        "id": "4P2WkjrMeA7M",
        "outputId": "fc983645-07b6-4882-9217-c47c5fe32424"
      },
      "outputs": [
        {
          "data": {
            "text/plain": [
              "list"
            ]
          },
          "execution_count": 3,
          "metadata": {},
          "output_type": "execute_result"
        }
      ],
      "source": [
        "type(c)"
      ]
    },
    {
      "cell_type": "code",
      "execution_count": null,
      "metadata": {
        "colab": {
          "base_uri": "https://localhost:8080/"
        },
        "id": "J_fFb2PjeBKZ",
        "outputId": "5b407e46-821f-402c-b781-6bb4517e8f3e"
      },
      "outputs": [
        {
          "data": {
            "text/plain": [
              "[]"
            ]
          },
          "execution_count": 25,
          "metadata": {},
          "output_type": "execute_result"
        }
      ],
      "source": [
        "# Slicing (piece)--> Pizza\n",
        "c[2:2]"
      ]
    },
    {
      "cell_type": "code",
      "execution_count": null,
      "metadata": {
        "colab": {
          "base_uri": "https://localhost:8080/"
        },
        "id": "XfMHn0XFdC2-",
        "outputId": "18d7297a-0c47-4373-c709-509f8fe2af86"
      },
      "outputs": [
        {
          "data": {
            "text/plain": [
              "[10, 20, 30]"
            ]
          },
          "execution_count": 31,
          "metadata": {},
          "output_type": "execute_result"
        }
      ],
      "source": [
        "c[:3]"
      ]
    },
    {
      "cell_type": "code",
      "execution_count": null,
      "metadata": {
        "colab": {
          "base_uri": "https://localhost:8080/"
        },
        "id": "lVamEVM4gfMq",
        "outputId": "17b13978-0100-4b06-c099-cff6a52cfada"
      },
      "outputs": [
        {
          "data": {
            "text/plain": [
              "range(1, 10)"
            ]
          },
          "execution_count": 4,
          "metadata": {},
          "output_type": "execute_result"
        }
      ],
      "source": [
        "range(1,10)"
      ]
    },
    {
      "cell_type": "code",
      "execution_count": null,
      "metadata": {
        "colab": {
          "base_uri": "https://localhost:8080/"
        },
        "id": "oWvpJVQkdC_e",
        "outputId": "1c1c420c-2cce-49be-babd-2d84244162e9"
      },
      "outputs": [
        {
          "data": {
            "text/plain": [
              "[0, 1, 2, 3, 4, 5, 6, 7, 8, 9]"
            ]
          },
          "execution_count": 27,
          "metadata": {},
          "output_type": "execute_result"
        }
      ],
      "source": [
        "list(range(0, 10)) # needs a iterator or any container to get the values"
      ]
    },
    {
      "cell_type": "code",
      "execution_count": null,
      "metadata": {
        "colab": {
          "base_uri": "https://localhost:8080/"
        },
        "id": "BZ8xIGCddDD8",
        "outputId": "d5d49ba7-2ddb-4939-d268-247fbac59a06"
      },
      "outputs": [
        {
          "name": "stdout",
          "output_type": "stream",
          "text": [
            "0\n",
            "1\n",
            "2\n",
            "3\n",
            "4\n",
            "5\n",
            "6\n",
            "7\n",
            "8\n",
            "9\n"
          ]
        }
      ],
      "source": [
        "for i in range(0, 10):\n",
        "  print(i)"
      ]
    },
    {
      "cell_type": "code",
      "execution_count": null,
      "metadata": {
        "colab": {
          "base_uri": "https://localhost:8080/"
        },
        "id": "GbgNzO_bdDHT",
        "outputId": "ab73b8d3-fe16-4b33-93e2-c7a635f0c8eb"
      },
      "outputs": [
        {
          "name": "stdout",
          "output_type": "stream",
          "text": [
            "Help on class type in module builtins:\n",
            "\n",
            "class type(object)\n",
            " |  type(object_or_name, bases, dict)\n",
            " |  type(object) -> the object's type\n",
            " |  type(name, bases, dict) -> a new type\n",
            " |  \n",
            " |  Methods defined here:\n",
            " |  \n",
            " |  __call__(self, /, *args, **kwargs)\n",
            " |      Call self as a function.\n",
            " |  \n",
            " |  __delattr__(self, name, /)\n",
            " |      Implement delattr(self, name).\n",
            " |  \n",
            " |  __dir__(self, /)\n",
            " |      Specialized __dir__ implementation for types.\n",
            " |  \n",
            " |  __getattribute__(self, name, /)\n",
            " |      Return getattr(self, name).\n",
            " |  \n",
            " |  __init__(self, /, *args, **kwargs)\n",
            " |      Initialize self.  See help(type(self)) for accurate signature.\n",
            " |  \n",
            " |  __instancecheck__(self, instance, /)\n",
            " |      Check if an object is an instance.\n",
            " |  \n",
            " |  __repr__(self, /)\n",
            " |      Return repr(self).\n",
            " |  \n",
            " |  __setattr__(self, name, value, /)\n",
            " |      Implement setattr(self, name, value).\n",
            " |  \n",
            " |  __sizeof__(self, /)\n",
            " |      Return memory consumption of the type object.\n",
            " |  \n",
            " |  __subclasscheck__(self, subclass, /)\n",
            " |      Check if a class is a subclass.\n",
            " |  \n",
            " |  __subclasses__(self, /)\n",
            " |      Return a list of immediate subclasses.\n",
            " |  \n",
            " |  mro(self, /)\n",
            " |      Return a type's method resolution order.\n",
            " |  \n",
            " |  ----------------------------------------------------------------------\n",
            " |  Class methods defined here:\n",
            " |  \n",
            " |  __prepare__(...)\n",
            " |      __prepare__() -> dict\n",
            " |      used to create the namespace for the class statement\n",
            " |  \n",
            " |  ----------------------------------------------------------------------\n",
            " |  Static methods defined here:\n",
            " |  \n",
            " |  __new__(*args, **kwargs)\n",
            " |      Create and return a new object.  See help(type) for accurate signature.\n",
            " |  \n",
            " |  ----------------------------------------------------------------------\n",
            " |  Data descriptors defined here:\n",
            " |  \n",
            " |  __abstractmethods__\n",
            " |  \n",
            " |  __dict__\n",
            " |  \n",
            " |  __text_signature__\n",
            " |  \n",
            " |  ----------------------------------------------------------------------\n",
            " |  Data and other attributes defined here:\n",
            " |  \n",
            " |  __base__ = <class 'object'>\n",
            " |      The base class of the class hierarchy.\n",
            " |      \n",
            " |      When called, it accepts no arguments and returns a new featureless\n",
            " |      instance that has no instance attributes and cannot be given any.\n",
            " |  \n",
            " |  __bases__ = (<class 'object'>,)\n",
            " |  \n",
            " |  __basicsize__ = 880\n",
            " |  \n",
            " |  __dictoffset__ = 264\n",
            " |  \n",
            " |  __flags__ = 2148291584\n",
            " |  \n",
            " |  __itemsize__ = 40\n",
            " |  \n",
            " |  __mro__ = (<class 'type'>, <class 'object'>)\n",
            " |  \n",
            " |  __weakrefoffset__ = 368\n",
            "\n"
          ]
        }
      ],
      "source": [
        "# help\n",
        "help(type)"
      ]
    },
    {
      "cell_type": "code",
      "execution_count": null,
      "metadata": {
        "colab": {
          "base_uri": "https://localhost:8080/"
        },
        "id": "dd7gy2fLdDLV",
        "outputId": "58721b83-ea9d-439f-f9e0-3d81928326e4"
      },
      "outputs": [
        {
          "data": {
            "text/plain": [
              "6"
            ]
          },
          "execution_count": 35,
          "metadata": {},
          "output_type": "execute_result"
        }
      ],
      "source": [
        "# Length\n",
        "a = 'Mohsin'\n",
        "len(a)"
      ]
    },
    {
      "cell_type": "markdown",
      "metadata": {
        "id": "jGFQquYEg8J_"
      },
      "source": [
        "2_Feb_2023"
      ]
    },
    {
      "cell_type": "code",
      "execution_count": null,
      "metadata": {
        "colab": {
          "base_uri": "https://localhost:8080/"
        },
        "id": "gT3CEON6dDP8",
        "outputId": "90ce39de-61a2-4035-c53b-f612198aa514"
      },
      "outputs": [
        {
          "name": "stdout",
          "output_type": "stream",
          "text": [
            "Hello Geek\n",
            "Hello Geek\n",
            "Hello Geek\n",
            "Hello Geek\n",
            "Hello Geek\n",
            "Hello Geek\n",
            "Hello Geek\n",
            "Hello Geek\n",
            "Hello Geek\n",
            "Hello Geek\n"
          ]
        }
      ],
      "source": [
        "# While Loop  (Infinite times)\n",
        "\n",
        "count = 0\n",
        "while (count < 10):\n",
        "    count = count + 1\n",
        "    print(\"Hello Geek\")"
      ]
    },
    {
      "cell_type": "code",
      "execution_count": null,
      "metadata": {
        "colab": {
          "base_uri": "https://localhost:8080/"
        },
        "id": "A22M0IeedDTy",
        "outputId": "999c30e0-99ab-4dd9-efe7-6726c2e87fb3"
      },
      "outputs": [
        {
          "name": "stdout",
          "output_type": "stream",
          "text": [
            "You can vote\n"
          ]
        }
      ],
      "source": [
        "age = 20\n",
        "\n",
        "# the test condition is always True\n",
        "while age > 18:\n",
        "  age = age - 1\n",
        "  \n",
        "  print('You can vote')\n",
        "  break"
      ]
    },
    {
      "cell_type": "code",
      "execution_count": null,
      "metadata": {
        "colab": {
          "base_uri": "https://localhost:8080/",
          "height": 1000
        },
        "id": "KachZOvmTAsb",
        "outputId": "26f85cdb-dced-4efa-cf87-bc032ed91cb2"
      },
      "outputs": [
        {
          "name": "stdout",
          "output_type": "stream",
          "text": [
            "\u001b[1;30;43mStreaming output truncated to the last 5000 lines.\u001b[0m\n",
            "You can vote\n",
            "You can vote\n",
            "You can vote\n",
            "You can vote\n",
            "You can vote\n",
            "You can vote\n",
            "You can vote\n",
            "You can vote\n",
            "You can vote\n",
            "You can vote\n",
            "You can vote\n",
            "You can vote\n",
            "You can vote\n",
            "You can vote\n",
            "You can vote\n",
            "You can vote\n",
            "You can vote\n",
            "You can vote\n",
            "You can vote\n",
            "You can vote\n",
            "You can vote\n",
            "You can vote\n",
            "You can vote\n",
            "You can vote\n",
            "You can vote\n",
            "You can vote\n",
            "You can vote\n",
            "You can vote\n",
            "You can vote\n",
            "You can vote\n",
            "You can vote\n",
            "You can vote\n",
            "You can vote\n",
            "You can vote\n",
            "You can vote\n",
            "You can vote\n",
            "You can vote\n",
            "You can vote\n",
            "You can vote\n",
            "You can vote\n",
            "You can vote\n",
            "You can vote\n",
            "You can vote\n",
            "You can vote\n",
            "You can vote\n",
            "You can vote\n",
            "You can vote\n",
            "You can vote\n",
            "You can vote\n",
            "You can vote\n",
            "You can vote\n",
            "You can vote\n",
            "You can vote\n",
            "You can vote\n",
            "You can vote\n",
            "You can vote\n",
            "You can vote\n",
            "You can vote\n",
            "You can vote\n",
            "You can vote\n",
            "You can vote\n",
            "You can vote\n",
            "You can vote\n",
            "You can vote\n",
            "You can vote\n",
            "You can vote\n",
            "You can vote\n",
            "You can vote\n",
            "You can vote\n",
            "You can vote\n",
            "You can vote\n",
            "You can vote\n",
            "You can vote\n",
            "You can vote\n",
            "You can vote\n",
            "You can vote\n",
            "You can vote\n",
            "You can vote\n",
            "You can vote\n",
            "You can vote\n",
            "You can vote\n",
            "You can vote\n",
            "You can vote\n",
            "You can vote\n",
            "You can vote\n",
            "You can vote\n",
            "You can vote\n",
            "You can vote\n",
            "You can vote\n",
            "You can vote\n",
            "You can vote\n",
            "You can vote\n",
            "You can vote\n",
            "You can vote\n",
            "You can vote\n",
            "You can vote\n",
            "You can vote\n",
            "You can vote\n",
            "You can vote\n",
            "You can vote\n",
            "You can vote\n",
            "You can vote\n",
            "You can vote\n",
            "You can vote\n",
            "You can vote\n",
            "You can vote\n",
            "You can vote\n",
            "You can vote\n",
            "You can vote\n",
            "You can vote\n",
            "You can vote\n",
            "You can vote\n",
            "You can vote\n",
            "You can vote\n",
            "You can vote\n",
            "You can vote\n",
            "You can vote\n",
            "You can vote\n",
            "You can vote\n",
            "You can vote\n",
            "You can vote\n",
            "You can vote\n",
            "You can vote\n",
            "You can vote\n",
            "You can vote\n",
            "You can vote\n",
            "You can vote\n",
            "You can vote\n",
            "You can vote\n",
            "You can vote\n",
            "You can vote\n",
            "You can vote\n",
            "You can vote\n",
            "You can vote\n",
            "You can vote\n",
            "You can vote\n",
            "You can vote\n",
            "You can vote\n",
            "You can vote\n",
            "You can vote\n",
            "You can vote\n",
            "You can vote\n",
            "You can vote\n",
            "You can vote\n",
            "You can vote\n",
            "You can vote\n",
            "You can vote\n",
            "You can vote\n",
            "You can vote\n",
            "You can vote\n",
            "You can vote\n",
            "You can vote\n",
            "You can vote\n",
            "You can vote\n",
            "You can vote\n",
            "You can vote\n",
            "You can vote\n",
            "You can vote\n",
            "You can vote\n",
            "You can vote\n",
            "You can vote\n",
            "You can vote\n",
            "You can vote\n",
            "You can vote\n",
            "You can vote\n",
            "You can vote\n",
            "You can vote\n",
            "You can vote\n",
            "You can vote\n",
            "You can vote\n",
            "You can vote\n",
            "You can vote\n",
            "You can vote\n",
            "You can vote\n",
            "You can vote\n",
            "You can vote\n",
            "You can vote\n",
            "You can vote\n",
            "You can vote\n",
            "You can vote\n",
            "You can vote\n",
            "You can vote\n",
            "You can vote\n",
            "You can vote\n",
            "You can vote\n",
            "You can vote\n",
            "You can vote\n",
            "You can vote\n",
            "You can vote\n",
            "You can vote\n",
            "You can vote\n",
            "You can vote\n",
            "You can vote\n",
            "You can vote\n",
            "You can vote\n",
            "You can vote\n",
            "You can vote\n",
            "You can vote\n",
            "You can vote\n",
            "You can vote\n",
            "You can vote\n",
            "You can vote\n",
            "You can vote\n",
            "You can vote\n",
            "You can vote\n",
            "You can vote\n",
            "You can vote\n",
            "You can vote\n",
            "You can vote\n",
            "You can vote\n",
            "You can vote\n",
            "You can vote\n",
            "You can vote\n",
            "You can vote\n",
            "You can vote\n",
            "You can vote\n",
            "You can vote\n",
            "You can vote\n",
            "You can vote\n",
            "You can vote\n",
            "You can vote\n",
            "You can vote\n",
            "You can vote\n",
            "You can vote\n",
            "You can vote\n",
            "You can vote\n",
            "You can vote\n",
            "You can vote\n",
            "You can vote\n",
            "You can vote\n",
            "You can vote\n",
            "You can vote\n",
            "You can vote\n",
            "You can vote\n",
            "You can vote\n",
            "You can vote\n",
            "You can vote\n",
            "You can vote\n",
            "You can vote\n",
            "You can vote\n",
            "You can vote\n",
            "You can vote\n",
            "You can vote\n",
            "You can vote\n",
            "You can vote\n",
            "You can vote\n",
            "You can vote\n",
            "You can vote\n",
            "You can vote\n",
            "You can vote\n",
            "You can vote\n",
            "You can vote\n",
            "You can vote\n",
            "You can vote\n",
            "You can vote\n",
            "You can vote\n",
            "You can vote\n",
            "You can vote\n",
            "You can vote\n",
            "You can vote\n",
            "You can vote\n",
            "You can vote\n",
            "You can vote\n",
            "You can vote\n",
            "You can vote\n",
            "You can vote\n",
            "You can vote\n",
            "You can vote\n",
            "You can vote\n",
            "You can vote\n",
            "You can vote\n",
            "You can vote\n",
            "You can vote\n",
            "You can vote\n",
            "You can vote\n",
            "You can vote\n",
            "You can vote\n",
            "You can vote\n",
            "You can vote\n",
            "You can vote\n",
            "You can vote\n",
            "You can vote\n",
            "You can vote\n",
            "You can vote\n",
            "You can vote\n",
            "You can vote\n",
            "You can vote\n",
            "You can vote\n",
            "You can vote\n",
            "You can vote\n",
            "You can vote\n",
            "You can vote\n",
            "You can vote\n",
            "You can vote\n",
            "You can vote\n",
            "You can vote\n",
            "You can vote\n",
            "You can vote\n",
            "You can vote\n",
            "You can vote\n",
            "You can vote\n",
            "You can vote\n",
            "You can vote\n",
            "You can vote\n",
            "You can vote\n",
            "You can vote\n",
            "You can vote\n",
            "You can vote\n",
            "You can vote\n",
            "You can vote\n",
            "You can vote\n",
            "You can vote\n",
            "You can vote\n",
            "You can vote\n",
            "You can vote\n",
            "You can vote\n",
            "You can vote\n",
            "You can vote\n",
            "You can vote\n",
            "You can vote\n",
            "You can vote\n",
            "You can vote\n",
            "You can vote\n",
            "You can vote\n",
            "You can vote\n",
            "You can vote\n",
            "You can vote\n",
            "You can vote\n",
            "You can vote\n",
            "You can vote\n",
            "You can vote\n",
            "You can vote\n",
            "You can vote\n",
            "You can vote\n",
            "You can vote\n",
            "You can vote\n",
            "You can vote\n",
            "You can vote\n",
            "You can vote\n",
            "You can vote\n",
            "You can vote\n",
            "You can vote\n",
            "You can vote\n",
            "You can vote\n",
            "You can vote\n",
            "You can vote\n",
            "You can vote\n",
            "You can vote\n",
            "You can vote\n",
            "You can vote\n",
            "You can vote\n",
            "You can vote\n",
            "You can vote\n",
            "You can vote\n",
            "You can vote\n",
            "You can vote\n",
            "You can vote\n",
            "You can vote\n",
            "You can vote\n",
            "You can vote\n",
            "You can vote\n",
            "You can vote\n",
            "You can vote\n",
            "You can vote\n",
            "You can vote\n",
            "You can vote\n",
            "You can vote\n",
            "You can vote\n",
            "You can vote\n",
            "You can vote\n",
            "You can vote\n",
            "You can vote\n",
            "You can vote\n",
            "You can vote\n",
            "You can vote\n",
            "You can vote\n",
            "You can vote\n",
            "You can vote\n",
            "You can vote\n",
            "You can vote\n",
            "You can vote\n",
            "You can vote\n",
            "You can vote\n",
            "You can vote\n",
            "You can vote\n",
            "You can vote\n",
            "You can vote\n",
            "You can vote\n",
            "You can vote\n",
            "You can vote\n",
            "You can vote\n",
            "You can vote\n",
            "You can vote\n",
            "You can vote\n",
            "You can vote\n",
            "You can vote\n",
            "You can vote\n",
            "You can vote\n",
            "You can vote\n",
            "You can vote\n",
            "You can vote\n",
            "You can vote\n",
            "You can vote\n",
            "You can vote\n",
            "You can vote\n",
            "You can vote\n",
            "You can vote\n",
            "You can vote\n",
            "You can vote\n",
            "You can vote\n",
            "You can vote\n",
            "You can vote\n",
            "You can vote\n",
            "You can vote\n",
            "You can vote\n",
            "You can vote\n",
            "You can vote\n",
            "You can vote\n",
            "You can vote\n",
            "You can vote\n",
            "You can vote\n",
            "You can vote\n",
            "You can vote\n",
            "You can vote\n",
            "You can vote\n",
            "You can vote\n",
            "You can vote\n",
            "You can vote\n",
            "You can vote\n",
            "You can vote\n",
            "You can vote\n",
            "You can vote\n",
            "You can vote\n",
            "You can vote\n",
            "You can vote\n",
            "You can vote\n",
            "You can vote\n",
            "You can vote\n",
            "You can vote\n",
            "You can vote\n",
            "You can vote\n",
            "You can vote\n",
            "You can vote\n",
            "You can vote\n",
            "You can vote\n",
            "You can vote\n",
            "You can vote\n",
            "You can vote\n",
            "You can vote\n",
            "You can vote\n",
            "You can vote\n",
            "You can vote\n",
            "You can vote\n",
            "You can vote\n",
            "You can vote\n",
            "You can vote\n",
            "You can vote\n",
            "You can vote\n",
            "You can vote\n",
            "You can vote\n",
            "You can vote\n",
            "You can vote\n",
            "You can vote\n",
            "You can vote\n",
            "You can vote\n",
            "You can vote\n",
            "You can vote\n",
            "You can vote\n",
            "You can vote\n",
            "You can vote\n",
            "You can vote\n",
            "You can vote\n",
            "You can vote\n",
            "You can vote\n",
            "You can vote\n",
            "You can vote\n",
            "You can vote\n",
            "You can vote\n",
            "You can vote\n",
            "You can vote\n",
            "You can vote\n",
            "You can vote\n",
            "You can vote\n",
            "You can vote\n",
            "You can vote\n",
            "You can vote\n",
            "You can vote\n",
            "You can vote\n",
            "You can vote\n",
            "You can vote\n",
            "You can vote\n",
            "You can vote\n",
            "You can vote\n",
            "You can vote\n",
            "You can vote\n",
            "You can vote\n",
            "You can vote\n",
            "You can vote\n",
            "You can vote\n",
            "You can vote\n",
            "You can vote\n",
            "You can vote\n",
            "You can vote\n",
            "You can vote\n",
            "You can vote\n",
            "You can vote\n",
            "You can vote\n",
            "You can vote\n",
            "You can vote\n",
            "You can vote\n",
            "You can vote\n",
            "You can vote\n",
            "You can vote\n",
            "You can vote\n",
            "You can vote\n",
            "You can vote\n",
            "You can vote\n",
            "You can vote\n",
            "You can vote\n",
            "You can vote\n",
            "You can vote\n",
            "You can vote\n",
            "You can vote\n",
            "You can vote\n",
            "You can vote\n",
            "You can vote\n",
            "You can vote\n",
            "You can vote\n",
            "You can vote\n",
            "You can vote\n",
            "You can vote\n",
            "You can vote\n",
            "You can vote\n",
            "You can vote\n",
            "You can vote\n",
            "You can vote\n",
            "You can vote\n",
            "You can vote\n",
            "You can vote\n",
            "You can vote\n",
            "You can vote\n",
            "You can vote\n",
            "You can vote\n",
            "You can vote\n",
            "You can vote\n",
            "You can vote\n",
            "You can vote\n",
            "You can vote\n",
            "You can vote\n",
            "You can vote\n",
            "You can vote\n",
            "You can vote\n",
            "You can vote\n",
            "You can vote\n",
            "You can vote\n",
            "You can vote\n",
            "You can vote\n",
            "You can vote\n",
            "You can vote\n",
            "You can vote\n",
            "You can vote\n",
            "You can vote\n",
            "You can vote\n",
            "You can vote\n",
            "You can vote\n",
            "You can vote\n",
            "You can vote\n",
            "You can vote\n",
            "You can vote\n",
            "You can vote\n",
            "You can vote\n",
            "You can vote\n",
            "You can vote\n",
            "You can vote\n",
            "You can vote\n",
            "You can vote\n",
            "You can vote\n",
            "You can vote\n",
            "You can vote\n",
            "You can vote\n",
            "You can vote\n",
            "You can vote\n",
            "You can vote\n",
            "You can vote\n",
            "You can vote\n",
            "You can vote\n",
            "You can vote\n",
            "You can vote\n",
            "You can vote\n",
            "You can vote\n",
            "You can vote\n",
            "You can vote\n",
            "You can vote\n",
            "You can vote\n",
            "You can vote\n",
            "You can vote\n",
            "You can vote\n",
            "You can vote\n",
            "You can vote\n",
            "You can vote\n",
            "You can vote\n",
            "You can vote\n",
            "You can vote\n",
            "You can vote\n",
            "You can vote\n",
            "You can vote\n",
            "You can vote\n",
            "You can vote\n",
            "You can vote\n",
            "You can vote\n",
            "You can vote\n",
            "You can vote\n",
            "You can vote\n",
            "You can vote\n",
            "You can vote\n",
            "You can vote\n",
            "You can vote\n",
            "You can vote\n",
            "You can vote\n",
            "You can vote\n",
            "You can vote\n",
            "You can vote\n",
            "You can vote\n",
            "You can vote\n",
            "You can vote\n",
            "You can vote\n",
            "You can vote\n",
            "You can vote\n",
            "You can vote\n",
            "You can vote\n",
            "You can vote\n",
            "You can vote\n",
            "You can vote\n",
            "You can vote\n",
            "You can vote\n",
            "You can vote\n",
            "You can vote\n",
            "You can vote\n",
            "You can vote\n",
            "You can vote\n",
            "You can vote\n",
            "You can vote\n",
            "You can vote\n",
            "You can vote\n",
            "You can vote\n",
            "You can vote\n",
            "You can vote\n",
            "You can vote\n",
            "You can vote\n",
            "You can vote\n",
            "You can vote\n",
            "You can vote\n",
            "You can vote\n",
            "You can vote\n",
            "You can vote\n",
            "You can vote\n",
            "You can vote\n",
            "You can vote\n",
            "You can vote\n",
            "You can vote\n",
            "You can vote\n",
            "You can vote\n",
            "You can vote\n",
            "You can vote\n",
            "You can vote\n",
            "You can vote\n",
            "You can vote\n",
            "You can vote\n",
            "You can vote\n",
            "You can vote\n",
            "You can vote\n",
            "You can vote\n",
            "You can vote\n",
            "You can vote\n",
            "You can vote\n",
            "You can vote\n",
            "You can vote\n",
            "You can vote\n",
            "You can vote\n",
            "You can vote\n",
            "You can vote\n",
            "You can vote\n",
            "You can vote\n",
            "You can vote\n",
            "You can vote\n",
            "You can vote\n",
            "You can vote\n",
            "You can vote\n",
            "You can vote\n",
            "You can vote\n",
            "You can vote\n",
            "You can vote\n",
            "You can vote\n",
            "You can vote\n",
            "You can vote\n",
            "You can vote\n",
            "You can vote\n",
            "You can vote\n",
            "You can vote\n",
            "You can vote\n",
            "You can vote\n",
            "You can vote\n",
            "You can vote\n",
            "You can vote\n",
            "You can vote\n",
            "You can vote\n",
            "You can vote\n",
            "You can vote\n",
            "You can vote\n",
            "You can vote\n",
            "You can vote\n",
            "You can vote\n",
            "You can vote\n",
            "You can vote\n",
            "You can vote\n",
            "You can vote\n",
            "You can vote\n",
            "You can vote\n",
            "You can vote\n",
            "You can vote\n",
            "You can vote\n",
            "You can vote\n",
            "You can vote\n",
            "You can vote\n",
            "You can vote\n",
            "You can vote\n",
            "You can vote\n",
            "You can vote\n",
            "You can vote\n",
            "You can vote\n",
            "You can vote\n",
            "You can vote\n",
            "You can vote\n",
            "You can vote\n",
            "You can vote\n",
            "You can vote\n",
            "You can vote\n",
            "You can vote\n",
            "You can vote\n",
            "You can vote\n",
            "You can vote\n",
            "You can vote\n",
            "You can vote\n",
            "You can vote\n",
            "You can vote\n",
            "You can vote\n",
            "You can vote\n",
            "You can vote\n",
            "You can vote\n",
            "You can vote\n",
            "You can vote\n",
            "You can vote\n",
            "You can vote\n",
            "You can vote\n",
            "You can vote\n",
            "You can vote\n",
            "You can vote\n",
            "You can vote\n",
            "You can vote\n",
            "You can vote\n",
            "You can vote\n",
            "You can vote\n",
            "You can vote\n",
            "You can vote\n",
            "You can vote\n",
            "You can vote\n",
            "You can vote\n",
            "You can vote\n",
            "You can vote\n",
            "You can vote\n",
            "You can vote\n",
            "You can vote\n",
            "You can vote\n",
            "You can vote\n",
            "You can vote\n",
            "You can vote\n",
            "You can vote\n",
            "You can vote\n",
            "You can vote\n",
            "You can vote\n",
            "You can vote\n",
            "You can vote\n",
            "You can vote\n",
            "You can vote\n",
            "You can vote\n",
            "You can vote\n",
            "You can vote\n",
            "You can vote\n",
            "You can vote\n",
            "You can vote\n",
            "You can vote\n",
            "You can vote\n",
            "You can vote\n",
            "You can vote\n",
            "You can vote\n",
            "You can vote\n",
            "You can vote\n",
            "You can vote\n",
            "You can vote\n",
            "You can vote\n",
            "You can vote\n",
            "You can vote\n",
            "You can vote\n",
            "You can vote\n",
            "You can vote\n",
            "You can vote\n",
            "You can vote\n",
            "You can vote\n",
            "You can vote\n",
            "You can vote\n",
            "You can vote\n",
            "You can vote\n",
            "You can vote\n",
            "You can vote\n",
            "You can vote\n",
            "You can vote\n",
            "You can vote\n",
            "You can vote\n",
            "You can vote\n",
            "You can vote\n",
            "You can vote\n",
            "You can vote\n",
            "You can vote\n",
            "You can vote\n",
            "You can vote\n",
            "You can vote\n",
            "You can vote\n",
            "You can vote\n",
            "You can vote\n",
            "You can vote\n",
            "You can vote\n",
            "You can vote\n",
            "You can vote\n",
            "You can vote\n",
            "You can vote\n",
            "You can vote\n",
            "You can vote\n",
            "You can vote\n",
            "You can vote\n",
            "You can vote\n",
            "You can vote\n",
            "You can vote\n",
            "You can vote\n",
            "You can vote\n",
            "You can vote\n",
            "You can vote\n",
            "You can vote\n",
            "You can vote\n",
            "You can vote\n",
            "You can vote\n",
            "You can vote\n",
            "You can vote\n",
            "You can vote\n",
            "You can vote\n",
            "You can vote\n",
            "You can vote\n",
            "You can vote\n",
            "You can vote\n",
            "You can vote\n",
            "You can vote\n",
            "You can vote\n",
            "You can vote\n",
            "You can vote\n",
            "You can vote\n",
            "You can vote\n",
            "You can vote\n",
            "You can vote\n",
            "You can vote\n",
            "You can vote\n",
            "You can vote\n",
            "You can vote\n",
            "You can vote\n",
            "You can vote\n",
            "You can vote\n",
            "You can vote\n",
            "You can vote\n",
            "You can vote\n",
            "You can vote\n",
            "You can vote\n",
            "You can vote\n",
            "You can vote\n",
            "You can vote\n",
            "You can vote\n",
            "You can vote\n",
            "You can vote\n",
            "You can vote\n",
            "You can vote\n",
            "You can vote\n",
            "You can vote\n",
            "You can vote\n",
            "You can vote\n",
            "You can vote\n",
            "You can vote\n",
            "You can vote\n",
            "You can vote\n",
            "You can vote\n",
            "You can vote\n",
            "You can vote\n",
            "You can vote\n",
            "You can vote\n",
            "You can vote\n",
            "You can vote\n",
            "You can vote\n",
            "You can vote\n",
            "You can vote\n",
            "You can vote\n",
            "You can vote\n",
            "You can vote\n",
            "You can vote\n",
            "You can vote\n",
            "You can vote\n",
            "You can vote\n",
            "You can vote\n",
            "You can vote\n",
            "You can vote\n",
            "You can vote\n",
            "You can vote\n",
            "You can vote\n",
            "You can vote\n",
            "You can vote\n",
            "You can vote\n",
            "You can vote\n",
            "You can vote\n",
            "You can vote\n",
            "You can vote\n",
            "You can vote\n",
            "You can vote\n",
            "You can vote\n",
            "You can vote\n",
            "You can vote\n",
            "You can vote\n",
            "You can vote\n",
            "You can vote\n",
            "You can vote\n",
            "You can vote\n",
            "You can vote\n",
            "You can vote\n",
            "You can vote\n",
            "You can vote\n",
            "You can vote\n",
            "You can vote\n",
            "You can vote\n",
            "You can vote\n",
            "You can vote\n",
            "You can vote\n",
            "You can vote\n",
            "You can vote\n",
            "You can vote\n",
            "You can vote\n",
            "You can vote\n",
            "You can vote\n",
            "You can vote\n",
            "You can vote\n",
            "You can vote\n",
            "You can vote\n",
            "You can vote\n",
            "You can vote\n",
            "You can vote\n",
            "You can vote\n",
            "You can vote\n",
            "You can vote\n",
            "You can vote\n",
            "You can vote\n",
            "You can vote\n",
            "You can vote\n",
            "You can vote\n",
            "You can vote\n",
            "You can vote\n",
            "You can vote\n",
            "You can vote\n",
            "You can vote\n",
            "You can vote\n",
            "You can vote\n",
            "You can vote\n",
            "You can vote\n",
            "You can vote\n",
            "You can vote\n",
            "You can vote\n",
            "You can vote\n",
            "You can vote\n",
            "You can vote\n",
            "You can vote\n",
            "You can vote\n",
            "You can vote\n",
            "You can vote\n",
            "You can vote\n",
            "You can vote\n",
            "You can vote\n",
            "You can vote\n",
            "You can vote\n",
            "You can vote\n",
            "You can vote\n",
            "You can vote\n",
            "You can vote\n",
            "You can vote\n",
            "You can vote\n",
            "You can vote\n",
            "You can vote\n",
            "You can vote\n",
            "You can vote\n",
            "You can vote\n",
            "You can vote\n",
            "You can vote\n",
            "You can vote\n",
            "You can vote\n",
            "You can vote\n",
            "You can vote\n",
            "You can vote\n",
            "You can vote\n",
            "You can vote\n",
            "You can vote\n",
            "You can vote\n",
            "You can vote\n",
            "You can vote\n",
            "You can vote\n",
            "You can vote\n",
            "You can vote\n",
            "You can vote\n",
            "You can vote\n",
            "You can vote\n",
            "You can vote\n",
            "You can vote\n",
            "You can vote\n",
            "You can vote\n",
            "You can vote\n",
            "You can vote\n",
            "You can vote\n",
            "You can vote\n",
            "You can vote\n",
            "You can vote\n",
            "You can vote\n",
            "You can vote\n",
            "You can vote\n",
            "You can vote\n",
            "You can vote\n",
            "You can vote\n",
            "You can vote\n",
            "You can vote\n",
            "You can vote\n",
            "You can vote\n",
            "You can vote\n",
            "You can vote\n",
            "You can vote\n",
            "You can vote\n",
            "You can vote\n",
            "You can vote\n",
            "You can vote\n",
            "You can vote\n",
            "You can vote\n",
            "You can vote\n",
            "You can vote\n",
            "You can vote\n",
            "You can vote\n",
            "You can vote\n",
            "You can vote\n",
            "You can vote\n",
            "You can vote\n",
            "You can vote\n",
            "You can vote\n",
            "You can vote\n",
            "You can vote\n",
            "You can vote\n",
            "You can vote\n",
            "You can vote\n",
            "You can vote\n",
            "You can vote\n",
            "You can vote\n",
            "You can vote\n",
            "You can vote\n",
            "You can vote\n",
            "You can vote\n",
            "You can vote\n",
            "You can vote\n",
            "You can vote\n",
            "You can vote\n",
            "You can vote\n",
            "You can vote\n",
            "You can vote\n",
            "You can vote\n",
            "You can vote\n",
            "You can vote\n",
            "You can vote\n",
            "You can vote\n",
            "You can vote\n",
            "You can vote\n",
            "You can vote\n",
            "You can vote\n",
            "You can vote\n",
            "You can vote\n",
            "You can vote\n",
            "You can vote\n",
            "You can vote\n",
            "You can vote\n",
            "You can vote\n",
            "You can vote\n",
            "You can vote\n",
            "You can vote\n",
            "You can vote\n",
            "You can vote\n",
            "You can vote\n",
            "You can vote\n",
            "You can vote\n",
            "You can vote\n",
            "You can vote\n",
            "You can vote\n",
            "You can vote\n",
            "You can vote\n",
            "You can vote\n",
            "You can vote\n",
            "You can vote\n",
            "You can vote\n",
            "You can vote\n",
            "You can vote\n",
            "You can vote\n",
            "You can vote\n",
            "You can vote\n",
            "You can vote\n",
            "You can vote\n",
            "You can vote\n",
            "You can vote\n",
            "You can vote\n",
            "You can vote\n",
            "You can vote\n",
            "You can vote\n",
            "You can vote\n",
            "You can vote\n",
            "You can vote\n",
            "You can vote\n",
            "You can vote\n",
            "You can vote\n",
            "You can vote\n",
            "You can vote\n",
            "You can vote\n",
            "You can vote\n",
            "You can vote\n",
            "You can vote\n",
            "You can vote\n",
            "You can vote\n",
            "You can vote\n",
            "You can vote\n",
            "You can vote\n",
            "You can vote\n",
            "You can vote\n",
            "You can vote\n",
            "You can vote\n",
            "You can vote\n",
            "You can vote\n",
            "You can vote\n",
            "You can vote\n",
            "You can vote\n",
            "You can vote\n",
            "You can vote\n",
            "You can vote\n",
            "You can vote\n",
            "You can vote\n",
            "You can vote\n",
            "You can vote\n",
            "You can vote\n",
            "You can vote\n",
            "You can vote\n",
            "You can vote\n",
            "You can vote\n",
            "You can vote\n",
            "You can vote\n",
            "You can vote\n",
            "You can vote\n",
            "You can vote\n",
            "You can vote\n",
            "You can vote\n",
            "You can vote\n",
            "You can vote\n",
            "You can vote\n",
            "You can vote\n",
            "You can vote\n",
            "You can vote\n",
            "You can vote\n",
            "You can vote\n",
            "You can vote\n",
            "You can vote\n",
            "You can vote\n",
            "You can vote\n",
            "You can vote\n",
            "You can vote\n",
            "You can vote\n",
            "You can vote\n",
            "You can vote\n",
            "You can vote\n",
            "You can vote\n",
            "You can vote\n",
            "You can vote\n",
            "You can vote\n",
            "You can vote\n",
            "You can vote\n",
            "You can vote\n",
            "You can vote\n",
            "You can vote\n",
            "You can vote\n",
            "You can vote\n",
            "You can vote\n",
            "You can vote\n",
            "You can vote\n",
            "You can vote\n",
            "You can vote\n",
            "You can vote\n",
            "You can vote\n",
            "You can vote\n",
            "You can vote\n",
            "You can vote\n",
            "You can vote\n",
            "You can vote\n",
            "You can vote\n",
            "You can vote\n",
            "You can vote\n",
            "You can vote\n",
            "You can vote\n",
            "You can vote\n",
            "You can vote\n",
            "You can vote\n",
            "You can vote\n",
            "You can vote\n",
            "You can vote\n",
            "You can vote\n",
            "You can vote\n",
            "You can vote\n",
            "You can vote\n",
            "You can vote\n",
            "You can vote\n",
            "You can vote\n",
            "You can vote\n",
            "You can vote\n",
            "You can vote\n",
            "You can vote\n",
            "You can vote\n",
            "You can vote\n",
            "You can vote\n",
            "You can vote\n",
            "You can vote\n",
            "You can vote\n",
            "You can vote\n",
            "You can vote\n",
            "You can vote\n",
            "You can vote\n",
            "You can vote\n",
            "You can vote\n",
            "You can vote\n",
            "You can vote\n",
            "You can vote\n",
            "You can vote\n",
            "You can vote\n",
            "You can vote\n",
            "You can vote\n",
            "You can vote\n",
            "You can vote\n",
            "You can vote\n",
            "You can vote\n",
            "You can vote\n",
            "You can vote\n",
            "You can vote\n",
            "You can vote\n",
            "You can vote\n",
            "You can vote\n",
            "You can vote\n",
            "You can vote\n",
            "You can vote\n",
            "You can vote\n",
            "You can vote\n",
            "You can vote\n",
            "You can vote\n",
            "You can vote\n",
            "You can vote\n",
            "You can vote\n",
            "You can vote\n",
            "You can vote\n",
            "You can vote\n",
            "You can vote\n",
            "You can vote\n",
            "You can vote\n",
            "You can vote\n",
            "You can vote\n",
            "You can vote\n",
            "You can vote\n",
            "You can vote\n",
            "You can vote\n",
            "You can vote\n",
            "You can vote\n",
            "You can vote\n",
            "You can vote\n",
            "You can vote\n",
            "You can vote\n",
            "You can vote\n",
            "You can vote\n",
            "You can vote\n",
            "You can vote\n",
            "You can vote\n",
            "You can vote\n",
            "You can vote\n",
            "You can vote\n",
            "You can vote\n",
            "You can vote\n",
            "You can vote\n",
            "You can vote\n",
            "You can vote\n",
            "You can vote\n",
            "You can vote\n",
            "You can vote\n",
            "You can vote\n",
            "You can vote\n",
            "You can vote\n",
            "You can vote\n",
            "You can vote\n",
            "You can vote\n",
            "You can vote\n",
            "You can vote\n",
            "You can vote\n",
            "You can vote\n",
            "You can vote\n",
            "You can vote\n",
            "You can vote\n",
            "You can vote\n",
            "You can vote\n",
            "You can vote\n",
            "You can vote\n",
            "You can vote\n",
            "You can vote\n",
            "You can vote\n",
            "You can vote\n",
            "You can vote\n",
            "You can vote\n",
            "You can vote\n",
            "You can vote\n",
            "You can vote\n",
            "You can vote\n",
            "You can vote\n",
            "You can vote\n",
            "You can vote\n",
            "You can vote\n",
            "You can vote\n",
            "You can vote\n",
            "You can vote\n",
            "You can vote\n",
            "You can vote\n",
            "You can vote\n",
            "You can vote\n",
            "You can vote\n",
            "You can vote\n",
            "You can vote\n",
            "You can vote\n",
            "You can vote\n",
            "You can vote\n",
            "You can vote\n",
            "You can vote\n",
            "You can vote\n",
            "You can vote\n",
            "You can vote\n",
            "You can vote\n",
            "You can vote\n",
            "You can vote\n",
            "You can vote\n",
            "You can vote\n",
            "You can vote\n",
            "You can vote\n",
            "You can vote\n",
            "You can vote\n",
            "You can vote\n",
            "You can vote\n",
            "You can vote\n",
            "You can vote\n",
            "You can vote\n",
            "You can vote\n",
            "You can vote\n",
            "You can vote\n",
            "You can vote\n",
            "You can vote\n",
            "You can vote\n",
            "You can vote\n",
            "You can vote\n",
            "You can vote\n",
            "You can vote\n",
            "You can vote\n",
            "You can vote\n",
            "You can vote\n",
            "You can vote\n",
            "You can vote\n",
            "You can vote\n",
            "You can vote\n",
            "You can vote\n",
            "You can vote\n",
            "You can vote\n",
            "You can vote\n",
            "You can vote\n",
            "You can vote\n",
            "You can vote\n",
            "You can vote\n",
            "You can vote\n",
            "You can vote\n",
            "You can vote\n",
            "You can vote\n",
            "You can vote\n",
            "You can vote\n",
            "You can vote\n",
            "You can vote\n",
            "You can vote\n",
            "You can vote\n",
            "You can vote\n",
            "You can vote\n",
            "You can vote\n",
            "You can vote\n",
            "You can vote\n",
            "You can vote\n",
            "You can vote\n",
            "You can vote\n",
            "You can vote\n",
            "You can vote\n",
            "You can vote\n",
            "You can vote\n",
            "You can vote\n",
            "You can vote\n",
            "You can vote\n",
            "You can vote\n",
            "You can vote\n",
            "You can vote\n",
            "You can vote\n",
            "You can vote\n",
            "You can vote\n",
            "You can vote\n",
            "You can vote\n",
            "You can vote\n",
            "You can vote\n",
            "You can vote\n",
            "You can vote\n",
            "You can vote\n",
            "You can vote\n",
            "You can vote\n",
            "You can vote\n",
            "You can vote\n",
            "You can vote\n",
            "You can vote\n",
            "You can vote\n",
            "You can vote\n",
            "You can vote\n",
            "You can vote\n",
            "You can vote\n",
            "You can vote\n",
            "You can vote\n",
            "You can vote\n",
            "You can vote\n",
            "You can vote\n",
            "You can vote\n",
            "You can vote\n",
            "You can vote\n",
            "You can vote\n",
            "You can vote\n",
            "You can vote\n",
            "You can vote\n",
            "You can vote\n",
            "You can vote\n",
            "You can vote\n",
            "You can vote\n",
            "You can vote\n",
            "You can vote\n",
            "You can vote\n",
            "You can vote\n",
            "You can vote\n",
            "You can vote\n",
            "You can vote\n",
            "You can vote\n",
            "You can vote\n",
            "You can vote\n",
            "You can vote\n",
            "You can vote\n",
            "You can vote\n",
            "You can vote\n",
            "You can vote\n",
            "You can vote\n",
            "You can vote\n",
            "You can vote\n",
            "You can vote\n",
            "You can vote\n",
            "You can vote\n",
            "You can vote\n",
            "You can vote\n",
            "You can vote\n",
            "You can vote\n",
            "You can vote\n",
            "You can vote\n",
            "You can vote\n",
            "You can vote\n",
            "You can vote\n",
            "You can vote\n",
            "You can vote\n",
            "You can vote\n",
            "You can vote\n",
            "You can vote\n",
            "You can vote\n",
            "You can vote\n",
            "You can vote\n",
            "You can vote\n",
            "You can vote\n",
            "You can vote\n",
            "You can vote\n",
            "You can vote\n",
            "You can vote\n",
            "You can vote\n",
            "You can vote\n",
            "You can vote\n",
            "You can vote\n",
            "You can vote\n",
            "You can vote\n",
            "You can vote\n",
            "You can vote\n",
            "You can vote\n",
            "You can vote\n",
            "You can vote\n",
            "You can vote\n",
            "You can vote\n",
            "You can vote\n",
            "You can vote\n",
            "You can vote\n",
            "You can vote\n",
            "You can vote\n",
            "You can vote\n",
            "You can vote\n",
            "You can vote\n",
            "You can vote\n",
            "You can vote\n",
            "You can vote\n",
            "You can vote\n",
            "You can vote\n",
            "You can vote\n",
            "You can vote\n",
            "You can vote\n",
            "You can vote\n",
            "You can vote\n",
            "You can vote\n",
            "You can vote\n",
            "You can vote\n",
            "You can vote\n",
            "You can vote\n",
            "You can vote\n",
            "You can vote\n",
            "You can vote\n",
            "You can vote\n",
            "You can vote\n",
            "You can vote\n",
            "You can vote\n",
            "You can vote\n",
            "You can vote\n",
            "You can vote\n",
            "You can vote\n",
            "You can vote\n",
            "You can vote\n",
            "You can vote\n",
            "You can vote\n",
            "You can vote\n",
            "You can vote\n",
            "You can vote\n",
            "You can vote\n",
            "You can vote\n",
            "You can vote\n",
            "You can vote\n",
            "You can vote\n",
            "You can vote\n",
            "You can vote\n",
            "You can vote\n",
            "You can vote\n",
            "You can vote\n",
            "You can vote\n",
            "You can vote\n",
            "You can vote\n",
            "You can vote\n",
            "You can vote\n",
            "You can vote\n",
            "You can vote\n",
            "You can vote\n",
            "You can vote\n",
            "You can vote\n",
            "You can vote\n",
            "You can vote\n",
            "You can vote\n",
            "You can vote\n",
            "You can vote\n",
            "You can vote\n",
            "You can vote\n",
            "You can vote\n",
            "You can vote\n",
            "You can vote\n",
            "You can vote\n",
            "You can vote\n",
            "You can vote\n",
            "You can vote\n",
            "You can vote\n",
            "You can vote\n",
            "You can vote\n",
            "You can vote\n",
            "You can vote\n",
            "You can vote\n",
            "You can vote\n",
            "You can vote\n",
            "You can vote\n",
            "You can vote\n",
            "You can vote\n",
            "You can vote\n",
            "You can vote\n",
            "You can vote\n",
            "You can vote\n",
            "You can vote\n",
            "You can vote\n",
            "You can vote\n",
            "You can vote\n",
            "You can vote\n",
            "You can vote\n",
            "You can vote\n",
            "You can vote\n",
            "You can vote\n",
            "You can vote\n",
            "You can vote\n",
            "You can vote\n",
            "You can vote\n",
            "You can vote\n",
            "You can vote\n",
            "You can vote\n",
            "You can vote\n",
            "You can vote\n",
            "You can vote\n",
            "You can vote\n",
            "You can vote\n",
            "You can vote\n",
            "You can vote\n",
            "You can vote\n",
            "You can vote\n",
            "You can vote\n",
            "You can vote\n",
            "You can vote\n",
            "You can vote\n",
            "You can vote\n",
            "You can vote\n",
            "You can vote\n",
            "You can vote\n",
            "You can vote\n",
            "You can vote\n",
            "You can vote\n",
            "You can vote\n",
            "You can vote\n",
            "You can vote\n",
            "You can vote\n",
            "You can vote\n",
            "You can vote\n",
            "You can vote\n",
            "You can vote\n",
            "You can vote\n",
            "You can vote\n",
            "You can vote\n",
            "You can vote\n",
            "You can vote\n",
            "You can vote\n",
            "You can vote\n",
            "You can vote\n",
            "You can vote\n",
            "You can vote\n",
            "You can vote\n",
            "You can vote\n",
            "You can vote\n",
            "You can vote\n",
            "You can vote\n",
            "You can vote\n",
            "You can vote\n",
            "You can vote\n",
            "You can vote\n",
            "You can vote\n",
            "You can vote\n",
            "You can vote\n",
            "You can vote\n",
            "You can vote\n",
            "You can vote\n",
            "You can vote\n",
            "You can vote\n",
            "You can vote\n",
            "You can vote\n",
            "You can vote\n",
            "You can vote\n",
            "You can vote\n",
            "You can vote\n",
            "You can vote\n",
            "You can vote\n",
            "You can vote\n",
            "You can vote\n",
            "You can vote\n",
            "You can vote\n",
            "You can vote\n",
            "You can vote\n",
            "You can vote\n",
            "You can vote\n",
            "You can vote\n",
            "You can vote\n",
            "You can vote\n",
            "You can vote\n",
            "You can vote\n",
            "You can vote\n",
            "You can vote\n",
            "You can vote\n",
            "You can vote\n",
            "You can vote\n",
            "You can vote\n",
            "You can vote\n",
            "You can vote\n",
            "You can vote\n",
            "You can vote\n",
            "You can vote\n",
            "You can vote\n",
            "You can vote\n",
            "You can vote\n",
            "You can vote\n",
            "You can vote\n",
            "You can vote\n",
            "You can vote\n",
            "You can vote\n",
            "You can vote\n",
            "You can vote\n",
            "You can vote\n",
            "You can vote\n",
            "You can vote\n",
            "You can vote\n",
            "You can vote\n",
            "You can vote\n",
            "You can vote\n",
            "You can vote\n",
            "You can vote\n",
            "You can vote\n",
            "You can vote\n",
            "You can vote\n",
            "You can vote\n",
            "You can vote\n",
            "You can vote\n",
            "You can vote\n",
            "You can vote\n",
            "You can vote\n",
            "You can vote\n",
            "You can vote\n",
            "You can vote\n",
            "You can vote\n",
            "You can vote\n",
            "You can vote\n",
            "You can vote\n",
            "You can vote\n",
            "You can vote\n",
            "You can vote\n",
            "You can vote\n",
            "You can vote\n",
            "You can vote\n",
            "You can vote\n",
            "You can vote\n",
            "You can vote\n",
            "You can vote\n",
            "You can vote\n",
            "You can vote\n",
            "You can vote\n",
            "You can vote\n",
            "You can vote\n",
            "You can vote\n",
            "You can vote\n",
            "You can vote\n",
            "You can vote\n",
            "You can vote\n",
            "You can vote\n",
            "You can vote\n",
            "You can vote\n",
            "You can vote\n",
            "You can vote\n",
            "You can vote\n",
            "You can vote\n",
            "You can vote\n",
            "You can vote\n",
            "You can vote\n",
            "You can vote\n",
            "You can vote\n",
            "You can vote\n",
            "You can vote\n",
            "You can vote\n",
            "You can vote\n",
            "You can vote\n",
            "You can vote\n",
            "You can vote\n",
            "You can vote\n",
            "You can vote\n",
            "You can vote\n",
            "You can vote\n",
            "You can vote\n",
            "You can vote\n",
            "You can vote\n",
            "You can vote\n",
            "You can vote\n",
            "You can vote\n",
            "You can vote\n",
            "You can vote\n",
            "You can vote\n",
            "You can vote\n",
            "You can vote\n",
            "You can vote\n",
            "You can vote\n",
            "You can vote\n",
            "You can vote\n",
            "You can vote\n",
            "You can vote\n",
            "You can vote\n",
            "You can vote\n",
            "You can vote\n",
            "You can vote\n",
            "You can vote\n",
            "You can vote\n",
            "You can vote\n",
            "You can vote\n",
            "You can vote\n",
            "You can vote\n",
            "You can vote\n",
            "You can vote\n",
            "You can vote\n",
            "You can vote\n",
            "You can vote\n",
            "You can vote\n",
            "You can vote\n",
            "You can vote\n",
            "You can vote\n",
            "You can vote\n",
            "You can vote\n",
            "You can vote\n",
            "You can vote\n",
            "You can vote\n",
            "You can vote\n",
            "You can vote\n",
            "You can vote\n",
            "You can vote\n",
            "You can vote\n",
            "You can vote\n",
            "You can vote\n",
            "You can vote\n",
            "You can vote\n",
            "You can vote\n",
            "You can vote\n",
            "You can vote\n",
            "You can vote\n",
            "You can vote\n",
            "You can vote\n",
            "You can vote\n",
            "You can vote\n",
            "You can vote\n",
            "You can vote\n",
            "You can vote\n",
            "You can vote\n",
            "You can vote\n",
            "You can vote\n",
            "You can vote\n",
            "You can vote\n",
            "You can vote\n",
            "You can vote\n",
            "You can vote\n",
            "You can vote\n",
            "You can vote\n",
            "You can vote\n",
            "You can vote\n",
            "You can vote\n",
            "You can vote\n",
            "You can vote\n",
            "You can vote\n",
            "You can vote\n",
            "You can vote\n",
            "You can vote\n",
            "You can vote\n",
            "You can vote\n",
            "You can vote\n",
            "You can vote\n",
            "You can vote\n",
            "You can vote\n",
            "You can vote\n",
            "You can vote\n",
            "You can vote\n",
            "You can vote\n",
            "You can vote\n",
            "You can vote\n",
            "You can vote\n",
            "You can vote\n",
            "You can vote\n",
            "You can vote\n",
            "You can vote\n",
            "You can vote\n",
            "You can vote\n",
            "You can vote\n",
            "You can vote\n",
            "You can vote\n",
            "You can vote\n",
            "You can vote\n",
            "You can vote\n",
            "You can vote\n",
            "You can vote\n",
            "You can vote\n",
            "You can vote\n",
            "You can vote\n",
            "You can vote\n",
            "You can vote\n",
            "You can vote\n",
            "You can vote\n",
            "You can vote\n",
            "You can vote\n",
            "You can vote\n",
            "You can vote\n",
            "You can vote\n",
            "You can vote\n",
            "You can vote\n",
            "You can vote\n",
            "You can vote\n",
            "You can vote\n",
            "You can vote\n",
            "You can vote\n",
            "You can vote\n",
            "You can vote\n",
            "You can vote\n",
            "You can vote\n",
            "You can vote\n",
            "You can vote\n",
            "You can vote\n",
            "You can vote\n",
            "You can vote\n",
            "You can vote\n",
            "You can vote\n",
            "You can vote\n",
            "You can vote\n",
            "You can vote\n",
            "You can vote\n",
            "You can vote\n",
            "You can vote\n",
            "You can vote\n",
            "You can vote\n",
            "You can vote\n",
            "You can vote\n",
            "You can vote\n",
            "You can vote\n",
            "You can vote\n",
            "You can vote\n",
            "You can vote\n",
            "You can vote\n",
            "You can vote\n",
            "You can vote\n",
            "You can vote\n",
            "You can vote\n",
            "You can vote\n",
            "You can vote\n",
            "You can vote\n",
            "You can vote\n",
            "You can vote\n",
            "You can vote\n",
            "You can vote\n",
            "You can vote\n",
            "You can vote\n",
            "You can vote\n",
            "You can vote\n",
            "You can vote\n",
            "You can vote\n",
            "You can vote\n",
            "You can vote\n",
            "You can vote\n",
            "You can vote\n",
            "You can vote\n",
            "You can vote\n",
            "You can vote\n",
            "You can vote\n",
            "You can vote\n",
            "You can vote\n",
            "You can vote\n",
            "You can vote\n",
            "You can vote\n",
            "You can vote\n",
            "You can vote\n",
            "You can vote\n",
            "You can vote\n",
            "You can vote\n",
            "You can vote\n",
            "You can vote\n",
            "You can vote\n",
            "You can vote\n",
            "You can vote\n",
            "You can vote\n",
            "You can vote\n",
            "You can vote\n",
            "You can vote\n",
            "You can vote\n",
            "You can vote\n",
            "You can vote\n",
            "You can vote\n",
            "You can vote\n",
            "You can vote\n",
            "You can vote\n",
            "You can vote\n",
            "You can vote\n",
            "You can vote\n",
            "You can vote\n",
            "You can vote\n",
            "You can vote\n",
            "You can vote\n",
            "You can vote\n",
            "You can vote\n",
            "You can vote\n",
            "You can vote\n",
            "You can vote\n",
            "You can vote\n",
            "You can vote\n",
            "You can vote\n",
            "You can vote\n",
            "You can vote\n",
            "You can vote\n",
            "You can vote\n",
            "You can vote\n",
            "You can vote\n",
            "You can vote\n",
            "You can vote\n",
            "You can vote\n",
            "You can vote\n",
            "You can vote\n",
            "You can vote\n",
            "You can vote\n",
            "You can vote\n",
            "You can vote\n",
            "You can vote\n",
            "You can vote\n",
            "You can vote\n",
            "You can vote\n",
            "You can vote\n",
            "You can vote\n",
            "You can vote\n",
            "You can vote\n",
            "You can vote\n",
            "You can vote\n",
            "You can vote\n",
            "You can vote\n",
            "You can vote\n",
            "You can vote\n",
            "You can vote\n",
            "You can vote\n",
            "You can vote\n",
            "You can vote\n",
            "You can vote\n",
            "You can vote\n",
            "You can vote\n",
            "You can vote\n",
            "You can vote\n",
            "You can vote\n",
            "You can vote\n",
            "You can vote\n",
            "You can vote\n",
            "You can vote\n",
            "You can vote\n",
            "You can vote\n",
            "You can vote\n",
            "You can vote\n",
            "You can vote\n",
            "You can vote\n",
            "You can vote\n",
            "You can vote\n",
            "You can vote\n",
            "You can vote\n",
            "You can vote\n",
            "You can vote\n",
            "You can vote\n",
            "You can vote\n",
            "You can vote\n",
            "You can vote\n",
            "You can vote\n",
            "You can vote\n",
            "You can vote\n",
            "You can vote\n",
            "You can vote\n",
            "You can vote\n",
            "You can vote\n",
            "You can vote\n",
            "You can vote\n",
            "You can vote\n",
            "You can vote\n",
            "You can vote\n",
            "You can vote\n",
            "You can vote\n",
            "You can vote\n",
            "You can vote\n",
            "You can vote\n",
            "You can vote\n",
            "You can vote\n",
            "You can vote\n",
            "You can vote\n",
            "You can vote\n",
            "You can vote\n",
            "You can vote\n",
            "You can vote\n",
            "You can vote\n",
            "You can vote\n",
            "You can vote\n",
            "You can vote\n",
            "You can vote\n",
            "You can vote\n",
            "You can vote\n",
            "You can vote\n",
            "You can vote\n",
            "You can vote\n",
            "You can vote\n",
            "You can vote\n",
            "You can vote\n",
            "You can vote\n",
            "You can vote\n",
            "You can vote\n",
            "You can vote\n",
            "You can vote\n",
            "You can vote\n",
            "You can vote\n",
            "You can vote\n",
            "You can vote\n",
            "You can vote\n",
            "You can vote\n",
            "You can vote\n",
            "You can vote\n",
            "You can vote\n",
            "You can vote\n",
            "You can vote\n",
            "You can vote\n",
            "You can vote\n",
            "You can vote\n",
            "You can vote\n",
            "You can vote\n",
            "You can vote\n",
            "You can vote\n",
            "You can vote\n",
            "You can vote\n",
            "You can vote\n",
            "You can vote\n",
            "You can vote\n",
            "You can vote\n",
            "You can vote\n",
            "You can vote\n",
            "You can vote\n",
            "You can vote\n",
            "You can vote\n",
            "You can vote\n",
            "You can vote\n",
            "You can vote\n",
            "You can vote\n",
            "You can vote\n",
            "You can vote\n",
            "You can vote\n",
            "You can vote\n",
            "You can vote\n",
            "You can vote\n",
            "You can vote\n",
            "You can vote\n",
            "You can vote\n",
            "You can vote\n",
            "You can vote\n",
            "You can vote\n",
            "You can vote\n",
            "You can vote\n",
            "You can vote\n",
            "You can vote\n",
            "You can vote\n",
            "You can vote\n",
            "You can vote\n",
            "You can vote\n",
            "You can vote\n",
            "You can vote\n",
            "You can vote\n",
            "You can vote\n",
            "You can vote\n",
            "You can vote\n",
            "You can vote\n",
            "You can vote\n",
            "You can vote\n",
            "You can vote\n",
            "You can vote\n",
            "You can vote\n",
            "You can vote\n",
            "You can vote\n",
            "You can vote\n",
            "You can vote\n",
            "You can vote\n",
            "You can vote\n",
            "You can vote\n",
            "You can vote\n",
            "You can vote\n",
            "You can vote\n",
            "You can vote\n",
            "You can vote\n",
            "You can vote\n",
            "You can vote\n",
            "You can vote\n",
            "You can vote\n",
            "You can vote\n",
            "You can vote\n",
            "You can vote\n",
            "You can vote\n",
            "You can vote\n",
            "You can vote\n",
            "You can vote\n",
            "You can vote\n",
            "You can vote\n",
            "You can vote\n",
            "You can vote\n",
            "You can vote\n",
            "You can vote\n",
            "You can vote\n",
            "You can vote\n",
            "You can vote\n",
            "You can vote\n",
            "You can vote\n",
            "You can vote\n",
            "You can vote\n",
            "You can vote\n",
            "You can vote\n",
            "You can vote\n",
            "You can vote\n",
            "You can vote\n",
            "You can vote\n",
            "You can vote\n",
            "You can vote\n",
            "You can vote\n",
            "You can vote\n",
            "You can vote\n",
            "You can vote\n",
            "You can vote\n",
            "You can vote\n",
            "You can vote\n",
            "You can vote\n",
            "You can vote\n",
            "You can vote\n",
            "You can vote\n",
            "You can vote\n",
            "You can vote\n",
            "You can vote\n",
            "You can vote\n",
            "You can vote\n",
            "You can vote\n",
            "You can vote\n",
            "You can vote\n",
            "You can vote\n",
            "You can vote\n",
            "You can vote\n",
            "You can vote\n",
            "You can vote\n",
            "You can vote\n",
            "You can vote\n",
            "You can vote\n",
            "You can vote\n",
            "You can vote\n",
            "You can vote\n",
            "You can vote\n",
            "You can vote\n",
            "You can vote\n",
            "You can vote\n",
            "You can vote\n",
            "You can vote\n",
            "You can vote\n",
            "You can vote\n",
            "You can vote\n",
            "You can vote\n",
            "You can vote\n",
            "You can vote\n",
            "You can vote\n",
            "You can vote\n",
            "You can vote\n",
            "You can vote\n",
            "You can vote\n",
            "You can vote\n",
            "You can vote\n",
            "You can vote\n",
            "You can vote\n",
            "You can vote\n",
            "You can vote\n",
            "You can vote\n",
            "You can vote\n",
            "You can vote\n",
            "You can vote\n",
            "You can vote\n",
            "You can vote\n",
            "You can vote\n",
            "You can vote\n",
            "You can vote\n",
            "You can vote\n",
            "You can vote\n",
            "You can vote\n",
            "You can vote\n",
            "You can vote\n",
            "You can vote\n",
            "You can vote\n",
            "You can vote\n",
            "You can vote\n",
            "You can vote\n",
            "You can vote\n",
            "You can vote\n",
            "You can vote\n",
            "You can vote\n",
            "You can vote\n",
            "You can vote\n",
            "You can vote\n",
            "You can vote\n",
            "You can vote\n",
            "You can vote\n",
            "You can vote\n",
            "You can vote\n",
            "You can vote\n",
            "You can vote\n",
            "You can vote\n",
            "You can vote\n",
            "You can vote\n",
            "You can vote\n",
            "You can vote\n",
            "You can vote\n",
            "You can vote\n",
            "You can vote\n",
            "You can vote\n",
            "You can vote\n",
            "You can vote\n",
            "You can vote\n",
            "You can vote\n",
            "You can vote\n",
            "You can vote\n",
            "You can vote\n",
            "You can vote\n",
            "You can vote\n",
            "You can vote\n",
            "You can vote\n",
            "You can vote\n",
            "You can vote\n",
            "You can vote\n",
            "You can vote\n",
            "You can vote\n",
            "You can vote\n",
            "You can vote\n",
            "You can vote\n",
            "You can vote\n",
            "You can vote\n",
            "You can vote\n",
            "You can vote\n",
            "You can vote\n",
            "You can vote\n",
            "You can vote\n",
            "You can vote\n",
            "You can vote\n",
            "You can vote\n",
            "You can vote\n",
            "You can vote\n",
            "You can vote\n",
            "You can vote\n",
            "You can vote\n",
            "You can vote\n",
            "You can vote\n",
            "You can vote\n",
            "You can vote\n",
            "You can vote\n",
            "You can vote\n",
            "You can vote\n",
            "You can vote\n",
            "You can vote\n",
            "You can vote\n",
            "You can vote\n",
            "You can vote\n",
            "You can vote\n",
            "You can vote\n",
            "You can vote\n",
            "You can vote\n",
            "You can vote\n",
            "You can vote\n",
            "You can vote\n",
            "You can vote\n",
            "You can vote\n",
            "You can vote\n",
            "You can vote\n",
            "You can vote\n",
            "You can vote\n",
            "You can vote\n",
            "You can vote\n",
            "You can vote\n",
            "You can vote\n",
            "You can vote\n",
            "You can vote\n",
            "You can vote\n",
            "You can vote\n",
            "You can vote\n",
            "You can vote\n",
            "You can vote\n",
            "You can vote\n",
            "You can vote\n",
            "You can vote\n",
            "You can vote\n",
            "You can vote\n",
            "You can vote\n",
            "You can vote\n",
            "You can vote\n",
            "You can vote\n",
            "You can vote\n",
            "You can vote\n",
            "You can vote\n",
            "You can vote\n",
            "You can vote\n",
            "You can vote\n",
            "You can vote\n",
            "You can vote\n",
            "You can vote\n",
            "You can vote\n",
            "You can vote\n",
            "You can vote\n",
            "You can vote\n",
            "You can vote\n",
            "You can vote\n",
            "You can vote\n",
            "You can vote\n",
            "You can vote\n",
            "You can vote\n",
            "You can vote\n",
            "You can vote\n",
            "You can vote\n",
            "You can vote\n",
            "You can vote\n",
            "You can vote\n",
            "You can vote\n",
            "You can vote\n",
            "You can vote\n",
            "You can vote\n",
            "You can vote\n",
            "You can vote\n",
            "You can vote\n",
            "You can vote\n",
            "You can vote\n",
            "You can vote\n",
            "You can vote\n",
            "You can vote\n",
            "You can vote\n",
            "You can vote\n",
            "You can vote\n",
            "You can vote\n",
            "You can vote\n",
            "You can vote\n",
            "You can vote\n",
            "You can vote\n",
            "You can vote\n",
            "You can vote\n",
            "You can vote\n",
            "You can vote\n",
            "You can vote\n",
            "You can vote\n",
            "You can vote\n",
            "You can vote\n",
            "You can vote\n",
            "You can vote\n",
            "You can vote\n",
            "You can vote\n",
            "You can vote\n",
            "You can vote\n",
            "You can vote\n",
            "You can vote\n",
            "You can vote\n",
            "You can vote\n",
            "You can vote\n",
            "You can vote\n",
            "You can vote\n",
            "You can vote\n",
            "You can vote\n",
            "You can vote\n",
            "You can vote\n",
            "You can vote\n",
            "You can vote\n",
            "You can vote\n",
            "You can vote\n",
            "You can vote\n",
            "You can vote\n",
            "You can vote\n",
            "You can vote\n",
            "You can vote\n",
            "You can vote\n",
            "You can vote\n",
            "You can vote\n",
            "You can vote\n",
            "You can vote\n",
            "You can vote\n",
            "You can vote\n",
            "You can vote\n",
            "You can vote\n",
            "You can vote\n",
            "You can vote\n",
            "You can vote\n",
            "You can vote\n",
            "You can vote\n",
            "You can vote\n",
            "You can vote\n",
            "You can vote\n",
            "You can vote\n",
            "You can vote\n",
            "You can vote\n",
            "You can vote\n",
            "You can vote\n",
            "You can vote\n",
            "You can vote\n",
            "You can vote\n",
            "You can vote\n",
            "You can vote\n",
            "You can vote\n",
            "You can vote\n",
            "You can vote\n",
            "You can vote\n",
            "You can vote\n",
            "You can vote\n",
            "You can vote\n",
            "You can vote\n",
            "You can vote\n",
            "You can vote\n",
            "You can vote\n",
            "You can vote\n",
            "You can vote\n",
            "You can vote\n",
            "You can vote\n",
            "You can vote\n",
            "You can vote\n",
            "You can vote\n",
            "You can vote\n",
            "You can vote\n",
            "You can vote\n",
            "You can vote\n",
            "You can vote\n",
            "You can vote\n",
            "You can vote\n",
            "You can vote\n",
            "You can vote\n",
            "You can vote\n",
            "You can vote\n",
            "You can vote\n",
            "You can vote\n",
            "You can vote\n",
            "You can vote\n",
            "You can vote\n",
            "You can vote\n",
            "You can vote\n",
            "You can vote\n",
            "You can vote\n",
            "You can vote\n",
            "You can vote\n",
            "You can vote\n",
            "You can vote\n",
            "You can vote\n",
            "You can vote\n",
            "You can vote\n",
            "You can vote\n",
            "You can vote\n",
            "You can vote\n",
            "You can vote\n",
            "You can vote\n",
            "You can vote\n",
            "You can vote\n",
            "You can vote\n",
            "You can vote\n",
            "You can vote\n",
            "You can vote\n",
            "You can vote\n",
            "You can vote\n",
            "You can vote\n",
            "You can vote\n",
            "You can vote\n",
            "You can vote\n",
            "You can vote\n",
            "You can vote\n",
            "You can vote\n",
            "You can vote\n",
            "You can vote\n",
            "You can vote\n",
            "You can vote\n",
            "You can vote\n",
            "You can vote\n",
            "You can vote\n",
            "You can vote\n",
            "You can vote\n",
            "You can vote\n",
            "You can vote\n",
            "You can vote\n",
            "You can vote\n",
            "You can vote\n",
            "You can vote\n",
            "You can vote\n",
            "You can vote\n",
            "You can vote\n",
            "You can vote\n",
            "You can vote\n",
            "You can vote\n",
            "You can vote\n",
            "You can vote\n",
            "You can vote\n",
            "You can vote\n",
            "You can vote\n",
            "You can vote\n",
            "You can vote\n",
            "You can vote\n",
            "You can vote\n",
            "You can vote\n",
            "You can vote\n",
            "You can vote\n",
            "You can vote\n",
            "You can vote\n",
            "You can vote\n",
            "You can vote\n",
            "You can vote\n",
            "You can vote\n",
            "You can vote\n",
            "You can vote\n",
            "You can vote\n",
            "You can vote\n",
            "You can vote\n",
            "You can vote\n",
            "You can vote\n",
            "You can vote\n",
            "You can vote\n",
            "You can vote\n",
            "You can vote\n",
            "You can vote\n",
            "You can vote\n",
            "You can vote\n",
            "You can vote\n",
            "You can vote\n",
            "You can vote\n",
            "You can vote\n",
            "You can vote\n",
            "You can vote\n",
            "You can vote\n",
            "You can vote\n",
            "You can vote\n",
            "You can vote\n",
            "You can vote\n",
            "You can vote\n",
            "You can vote\n",
            "You can vote\n",
            "You can vote\n",
            "You can vote\n",
            "You can vote\n",
            "You can vote\n",
            "You can vote\n",
            "You can vote\n",
            "You can vote\n",
            "You can vote\n",
            "You can vote\n",
            "You can vote\n",
            "You can vote\n",
            "You can vote\n",
            "You can vote\n",
            "You can vote\n",
            "You can vote\n",
            "You can vote\n",
            "You can vote\n",
            "You can vote\n",
            "You can vote\n",
            "You can vote\n",
            "You can vote\n",
            "You can vote\n",
            "You can vote\n",
            "You can vote\n",
            "You can vote\n",
            "You can vote\n",
            "You can vote\n",
            "You can vote\n",
            "You can vote\n",
            "You can vote\n",
            "You can vote\n",
            "You can vote\n",
            "You can vote\n",
            "You can vote\n",
            "You can vote\n",
            "You can vote\n",
            "You can vote\n",
            "You can vote\n",
            "You can vote\n",
            "You can vote\n",
            "You can vote\n",
            "You can vote\n",
            "You can vote\n",
            "You can vote\n",
            "You can vote\n",
            "You can vote\n",
            "You can vote\n",
            "You can vote\n",
            "You can vote\n",
            "You can vote\n",
            "You can vote\n",
            "You can vote\n",
            "You can vote\n",
            "You can vote\n",
            "You can vote\n",
            "You can vote\n",
            "You can vote\n",
            "You can vote\n",
            "You can vote\n",
            "You can vote\n",
            "You can vote\n",
            "You can vote\n",
            "You can vote\n",
            "You can vote\n",
            "You can vote\n",
            "You can vote\n",
            "You can vote\n",
            "You can vote\n",
            "You can vote\n",
            "You can vote\n",
            "You can vote\n",
            "You can vote\n",
            "You can vote\n",
            "You can vote\n",
            "You can vote\n",
            "You can vote\n",
            "You can vote\n",
            "You can vote\n",
            "You can vote\n",
            "You can vote\n",
            "You can vote\n",
            "You can vote\n",
            "You can vote\n",
            "You can vote\n",
            "You can vote\n",
            "You can vote\n",
            "You can vote\n",
            "You can vote\n",
            "You can vote\n",
            "You can vote\n",
            "You can vote\n",
            "You can vote\n",
            "You can vote\n",
            "You can vote\n",
            "You can vote\n",
            "You can vote\n",
            "You can vote\n",
            "You can vote\n",
            "You can vote\n",
            "You can vote\n",
            "You can vote\n",
            "You can vote\n",
            "You can vote\n",
            "You can vote\n",
            "You can vote\n",
            "You can vote\n",
            "You can vote\n",
            "You can vote\n",
            "You can vote\n",
            "You can vote\n",
            "You can vote\n",
            "You can vote\n",
            "You can vote\n",
            "You can vote\n",
            "You can vote\n",
            "You can vote\n",
            "You can vote\n",
            "You can vote\n",
            "You can vote\n",
            "You can vote\n",
            "You can vote\n",
            "You can vote\n",
            "You can vote\n",
            "You can vote\n",
            "You can vote\n",
            "You can vote\n",
            "You can vote\n",
            "You can vote\n",
            "You can vote\n",
            "You can vote\n",
            "You can vote\n",
            "You can vote\n",
            "You can vote\n",
            "You can vote\n",
            "You can vote\n",
            "You can vote\n",
            "You can vote\n",
            "You can vote\n",
            "You can vote\n",
            "You can vote\n",
            "You can vote\n",
            "You can vote\n",
            "You can vote\n",
            "You can vote\n",
            "You can vote\n",
            "You can vote\n",
            "You can vote\n",
            "You can vote\n",
            "You can vote\n",
            "You can vote\n",
            "You can vote\n",
            "You can vote\n",
            "You can vote\n",
            "You can vote\n",
            "You can vote\n",
            "You can vote\n",
            "You can vote\n",
            "You can vote\n",
            "You can vote\n",
            "You can vote\n",
            "You can vote\n",
            "You can vote\n",
            "You can vote\n",
            "You can vote\n",
            "You can vote\n",
            "You can vote\n",
            "You can vote\n",
            "You can vote\n",
            "You can vote\n",
            "You can vote\n",
            "You can vote\n",
            "You can vote\n",
            "You can vote\n",
            "You can vote\n",
            "You can vote\n",
            "You can vote\n",
            "You can vote\n",
            "You can vote\n",
            "You can vote\n",
            "You can vote\n",
            "You can vote\n",
            "You can vote\n",
            "You can vote\n",
            "You can vote\n",
            "You can vote\n",
            "You can vote\n",
            "You can vote\n",
            "You can vote\n",
            "You can vote\n",
            "You can vote\n",
            "You can vote\n",
            "You can vote\n",
            "You can vote\n",
            "You can vote\n",
            "You can vote\n",
            "You can vote\n",
            "You can vote\n",
            "You can vote\n",
            "You can vote\n",
            "You can vote\n",
            "You can vote\n",
            "You can vote\n",
            "You can vote\n",
            "You can vote\n",
            "You can vote\n",
            "You can vote\n",
            "You can vote\n",
            "You can vote\n",
            "You can vote\n",
            "You can vote\n",
            "You can vote\n",
            "You can vote\n",
            "You can vote\n",
            "You can vote\n",
            "You can vote\n",
            "You can vote\n",
            "You can vote\n",
            "You can vote\n",
            "You can vote\n",
            "You can vote\n",
            "You can vote\n",
            "You can vote\n",
            "You can vote\n",
            "You can vote\n",
            "You can vote\n",
            "You can vote\n",
            "You can vote\n",
            "You can vote\n",
            "You can vote\n",
            "You can vote\n",
            "You can vote\n",
            "You can vote\n",
            "You can vote\n",
            "You can vote\n",
            "You can vote\n",
            "You can vote\n",
            "You can vote\n",
            "You can vote\n",
            "You can vote\n",
            "You can vote\n",
            "You can vote\n",
            "You can vote\n",
            "You can vote\n",
            "You can vote\n",
            "You can vote\n",
            "You can vote\n",
            "You can vote\n",
            "You can vote\n",
            "You can vote\n",
            "You can vote\n",
            "You can vote\n",
            "You can vote\n",
            "You can vote\n",
            "You can vote\n",
            "You can vote\n",
            "You can vote\n",
            "You can vote\n",
            "You can vote\n",
            "You can vote\n",
            "You can vote\n",
            "You can vote\n",
            "You can vote\n",
            "You can vote\n",
            "You can vote\n",
            "You can vote\n",
            "You can vote\n",
            "You can vote\n",
            "You can vote\n",
            "You can vote\n",
            "You can vote\n",
            "You can vote\n",
            "You can vote\n",
            "You can vote\n",
            "You can vote\n",
            "You can vote\n",
            "You can vote\n",
            "You can vote\n",
            "You can vote\n",
            "You can vote\n",
            "You can vote\n",
            "You can vote\n",
            "You can vote\n",
            "You can vote\n",
            "You can vote\n",
            "You can vote\n",
            "You can vote\n",
            "You can vote\n",
            "You can vote\n",
            "You can vote\n",
            "You can vote\n",
            "You can vote\n",
            "You can vote\n",
            "You can vote\n",
            "You can vote\n",
            "You can vote\n",
            "You can vote\n",
            "You can vote\n",
            "You can vote\n",
            "You can vote\n",
            "You can vote\n",
            "You can vote\n",
            "You can vote\n",
            "You can vote\n",
            "You can vote\n",
            "You can vote\n",
            "You can vote\n",
            "You can vote\n",
            "You can vote\n",
            "You can vote\n",
            "You can vote\n",
            "You can vote\n",
            "You can vote\n",
            "You can vote\n",
            "You can vote\n",
            "You can vote\n",
            "You can vote\n",
            "You can vote\n",
            "You can vote\n",
            "You can vote\n",
            "You can vote\n",
            "You can vote\n",
            "You can vote\n",
            "You can vote\n",
            "You can vote\n",
            "You can vote\n",
            "You can vote\n",
            "You can vote\n",
            "You can vote\n",
            "You can vote\n",
            "You can vote\n",
            "You can vote\n",
            "You can vote\n",
            "You can vote\n",
            "You can vote\n",
            "You can vote\n",
            "You can vote\n",
            "You can vote\n",
            "You can vote\n",
            "You can vote\n",
            "You can vote\n",
            "You can vote\n",
            "You can vote\n",
            "You can vote\n",
            "You can vote\n",
            "You can vote\n",
            "You can vote\n",
            "You can vote\n",
            "You can vote\n",
            "You can vote\n",
            "You can vote\n",
            "You can vote\n",
            "You can vote\n",
            "You can vote\n",
            "You can vote\n",
            "You can vote\n",
            "You can vote\n",
            "You can vote\n",
            "You can vote\n",
            "You can vote\n",
            "You can vote\n",
            "You can vote\n",
            "You can vote\n",
            "You can vote\n",
            "You can vote\n",
            "You can vote\n",
            "You can vote\n",
            "You can vote\n",
            "You can vote\n",
            "You can vote\n",
            "You can vote\n",
            "You can vote\n",
            "You can vote\n",
            "You can vote\n",
            "You can vote\n",
            "You can vote\n",
            "You can vote\n",
            "You can vote\n",
            "You can vote\n",
            "You can vote\n",
            "You can vote\n",
            "You can vote\n",
            "You can vote\n",
            "You can vote\n",
            "You can vote\n",
            "You can vote\n",
            "You can vote\n",
            "You can vote\n",
            "You can vote\n",
            "You can vote\n",
            "You can vote\n",
            "You can vote\n",
            "You can vote\n",
            "You can vote\n",
            "You can vote\n",
            "You can vote\n",
            "You can vote\n",
            "You can vote\n",
            "You can vote\n",
            "You can vote\n",
            "You can vote\n",
            "You can vote\n",
            "You can vote\n",
            "You can vote\n",
            "You can vote\n",
            "You can vote\n",
            "You can vote\n",
            "You can vote\n",
            "You can vote\n",
            "You can vote\n",
            "You can vote\n",
            "You can vote\n",
            "You can vote\n",
            "You can vote\n",
            "You can vote\n",
            "You can vote\n",
            "You can vote\n",
            "You can vote\n",
            "You can vote\n",
            "You can vote\n",
            "You can vote\n",
            "You can vote\n",
            "You can vote\n",
            "You can vote\n",
            "You can vote\n",
            "You can vote\n",
            "You can vote\n",
            "You can vote\n",
            "You can vote\n",
            "You can vote\n",
            "You can vote\n",
            "You can vote\n",
            "You can vote\n",
            "You can vote\n",
            "You can vote\n",
            "You can vote\n",
            "You can vote\n",
            "You can vote\n",
            "You can vote\n",
            "You can vote\n",
            "You can vote\n",
            "You can vote\n",
            "You can vote\n",
            "You can vote\n",
            "You can vote\n",
            "You can vote\n",
            "You can vote\n",
            "You can vote\n",
            "You can vote\n",
            "You can vote\n",
            "You can vote\n",
            "You can vote\n",
            "You can vote\n",
            "You can vote\n",
            "You can vote\n",
            "You can vote\n",
            "You can vote\n",
            "You can vote\n",
            "You can vote\n",
            "You can vote\n",
            "You can vote\n",
            "You can vote\n",
            "You can vote\n",
            "You can vote\n",
            "You can vote\n",
            "You can vote\n",
            "You can vote\n",
            "You can vote\n",
            "You can vote\n",
            "You can vote\n",
            "You can vote\n",
            "You can vote\n",
            "You can vote\n",
            "You can vote\n",
            "You can vote\n",
            "You can vote\n",
            "You can vote\n",
            "You can vote\n",
            "You can vote\n",
            "You can vote\n",
            "You can vote\n",
            "You can vote\n",
            "You can vote\n",
            "You can vote\n",
            "You can vote\n",
            "You can vote\n",
            "You can vote\n",
            "You can vote\n",
            "You can vote\n",
            "You can vote\n",
            "You can vote\n",
            "You can vote\n",
            "You can vote\n",
            "You can vote\n",
            "You can vote\n",
            "You can vote\n",
            "You can vote\n",
            "You can vote\n",
            "You can vote\n",
            "You can vote\n",
            "You can vote\n",
            "You can vote\n",
            "You can vote\n",
            "You can vote\n",
            "You can vote\n",
            "You can vote\n",
            "You can vote\n",
            "You can vote\n",
            "You can vote\n",
            "You can vote\n",
            "You can vote\n",
            "You can vote\n",
            "You can vote\n",
            "You can vote\n",
            "You can vote\n",
            "You can vote\n",
            "You can vote\n",
            "You can vote\n",
            "You can vote\n",
            "You can vote\n",
            "You can vote\n",
            "You can vote\n",
            "You can vote\n",
            "You can vote\n",
            "You can vote\n",
            "You can vote\n",
            "You can vote\n",
            "You can vote\n",
            "You can vote\n",
            "You can vote\n",
            "You can vote\n",
            "You can vote\n",
            "You can vote\n",
            "You can vote\n",
            "You can vote\n",
            "You can vote\n",
            "You can vote\n",
            "You can vote\n",
            "You can vote\n",
            "You can vote\n",
            "You can vote\n",
            "You can vote\n",
            "You can vote\n",
            "You can vote\n",
            "You can vote\n",
            "You can vote\n",
            "You can vote\n",
            "You can vote\n",
            "You can vote\n",
            "You can vote\n",
            "You can vote\n",
            "You can vote\n",
            "You can vote\n",
            "You can vote\n",
            "You can vote\n",
            "You can vote\n",
            "You can vote\n",
            "You can vote\n",
            "You can vote\n",
            "You can vote\n",
            "You can vote\n",
            "You can vote\n",
            "You can vote\n",
            "You can vote\n",
            "You can vote\n",
            "You can vote\n",
            "You can vote\n",
            "You can vote\n",
            "You can vote\n",
            "You can vote\n",
            "You can vote\n",
            "You can vote\n",
            "You can vote\n",
            "You can vote\n",
            "You can vote\n",
            "You can vote\n",
            "You can vote\n",
            "You can vote\n",
            "You can vote\n",
            "You can vote\n",
            "You can vote\n",
            "You can vote\n",
            "You can vote\n",
            "You can vote\n",
            "You can vote\n",
            "You can vote\n",
            "You can vote\n",
            "You can vote\n",
            "You can vote\n",
            "You can vote\n",
            "You can vote\n",
            "You can vote\n",
            "You can vote\n",
            "You can vote\n",
            "You can vote\n",
            "You can vote\n",
            "You can vote\n",
            "You can vote\n",
            "You can vote\n",
            "You can vote\n",
            "You can vote\n",
            "You can vote\n",
            "You can vote\n",
            "You can vote\n",
            "You can vote\n",
            "You can vote\n",
            "You can vote\n",
            "You can vote\n",
            "You can vote\n",
            "You can vote\n",
            "You can vote\n",
            "You can vote\n",
            "You can vote\n",
            "You can vote\n",
            "You can vote\n",
            "You can vote\n",
            "You can vote\n",
            "You can vote\n",
            "You can vote\n",
            "You can vote\n",
            "You can vote\n",
            "You can vote\n",
            "You can vote\n",
            "You can vote\n",
            "You can vote\n",
            "You can vote\n",
            "You can vote\n",
            "You can vote\n",
            "You can vote\n",
            "You can vote\n",
            "You can vote\n",
            "You can vote\n",
            "You can vote\n",
            "You can vote\n",
            "You can vote\n",
            "You can vote\n",
            "You can vote\n",
            "You can vote\n",
            "You can vote\n",
            "You can vote\n",
            "You can vote\n",
            "You can vote\n",
            "You can vote\n",
            "You can vote\n",
            "You can vote\n",
            "You can vote\n",
            "You can vote\n",
            "You can vote\n",
            "You can vote\n",
            "You can vote\n",
            "You can vote\n",
            "You can vote\n",
            "You can vote\n",
            "You can vote\n",
            "You can vote\n",
            "You can vote\n",
            "You can vote\n",
            "You can vote\n",
            "You can vote\n",
            "You can vote\n",
            "You can vote\n",
            "You can vote\n",
            "You can vote\n",
            "You can vote\n",
            "You can vote\n",
            "You can vote\n",
            "You can vote\n",
            "You can vote\n",
            "You can vote\n",
            "You can vote\n",
            "You can vote\n",
            "You can vote\n",
            "You can vote\n",
            "You can vote\n",
            "You can vote\n",
            "You can vote\n",
            "You can vote\n",
            "You can vote\n",
            "You can vote\n",
            "You can vote\n",
            "You can vote\n",
            "You can vote\n",
            "You can vote\n",
            "You can vote\n",
            "You can vote\n",
            "You can vote\n",
            "You can vote\n",
            "You can vote\n",
            "You can vote\n",
            "You can vote\n",
            "You can vote\n",
            "You can vote\n",
            "You can vote\n",
            "You can vote\n",
            "You can vote\n",
            "You can vote\n",
            "You can vote\n",
            "You can vote\n",
            "You can vote\n",
            "You can vote\n",
            "You can vote\n",
            "You can vote\n",
            "You can vote\n",
            "You can vote\n",
            "You can vote\n",
            "You can vote\n",
            "You can vote\n",
            "You can vote\n",
            "You can vote\n",
            "You can vote\n",
            "You can vote\n",
            "You can vote\n",
            "You can vote\n",
            "You can vote\n",
            "You can vote\n",
            "You can vote\n",
            "You can vote\n",
            "You can vote\n",
            "You can vote\n",
            "You can vote\n",
            "You can vote\n",
            "You can vote\n",
            "You can vote\n",
            "You can vote\n",
            "You can vote\n",
            "You can vote\n",
            "You can vote\n",
            "You can vote\n",
            "You can vote\n",
            "You can vote\n",
            "You can vote\n",
            "You can vote\n",
            "You can vote\n",
            "You can vote\n",
            "You can vote\n",
            "You can vote\n",
            "You can vote\n",
            "You can vote\n",
            "You can vote\n",
            "You can vote\n",
            "You can vote\n",
            "You can vote\n",
            "You can vote\n",
            "You can vote\n",
            "You can vote\n",
            "You can vote\n",
            "You can vote\n",
            "You can vote\n",
            "You can vote\n",
            "You can vote\n",
            "You can vote\n",
            "You can vote\n",
            "You can vote\n",
            "You can vote\n",
            "You can vote\n",
            "You can vote\n",
            "You can vote\n",
            "You can vote\n",
            "You can vote\n",
            "You can vote\n",
            "You can vote\n",
            "You can vote\n",
            "You can vote\n",
            "You can vote\n",
            "You can vote\n",
            "You can vote\n",
            "You can vote\n",
            "You can vote\n",
            "You can vote\n",
            "You can vote\n",
            "You can vote\n",
            "You can vote\n",
            "You can vote\n",
            "You can vote\n",
            "You can vote\n",
            "You can vote\n",
            "You can vote\n",
            "You can vote\n",
            "You can vote\n",
            "You can vote\n",
            "You can vote\n",
            "You can vote\n",
            "You can vote\n",
            "You can vote\n",
            "You can vote\n",
            "You can vote\n",
            "You can vote\n",
            "You can vote\n",
            "You can vote\n",
            "You can vote\n",
            "You can vote\n",
            "You can vote\n",
            "You can vote\n",
            "You can vote\n",
            "You can vote\n",
            "You can vote\n",
            "You can vote\n",
            "You can vote\n",
            "You can vote\n",
            "You can vote\n",
            "You can vote\n",
            "You can vote\n",
            "You can vote\n",
            "You can vote\n",
            "You can vote\n",
            "You can vote\n",
            "You can vote\n",
            "You can vote\n",
            "You can vote\n",
            "You can vote\n",
            "You can vote\n",
            "You can vote\n",
            "You can vote\n",
            "You can vote\n",
            "You can vote\n",
            "You can vote\n",
            "You can vote\n",
            "You can vote\n",
            "You can vote\n",
            "You can vote\n",
            "You can vote\n",
            "You can vote\n",
            "You can vote\n",
            "You can vote\n",
            "You can vote\n",
            "You can vote\n",
            "You can vote\n",
            "You can vote\n",
            "You can vote\n",
            "You can vote\n",
            "You can vote\n",
            "You can vote\n",
            "You can vote\n",
            "You can vote\n",
            "You can vote\n",
            "You can vote\n",
            "You can vote\n",
            "You can vote\n",
            "You can vote\n",
            "You can vote\n",
            "You can vote\n",
            "You can vote\n",
            "You can vote\n",
            "You can vote\n",
            "You can vote\n",
            "You can vote\n",
            "You can vote\n",
            "You can vote\n",
            "You can vote\n",
            "You can vote\n",
            "You can vote\n",
            "You can vote\n",
            "You can vote\n",
            "You can vote\n",
            "You can vote\n",
            "You can vote\n",
            "You can vote\n",
            "You can vote\n",
            "You can vote\n",
            "You can vote\n",
            "You can vote\n",
            "You can vote\n",
            "You can vote\n",
            "You can vote\n",
            "You can vote\n",
            "You can vote\n",
            "You can vote\n",
            "You can vote\n",
            "You can vote\n",
            "You can vote\n",
            "You can vote\n",
            "You can vote\n",
            "You can vote\n",
            "You can vote\n",
            "You can vote\n",
            "You can vote\n",
            "You can vote\n",
            "You can vote\n",
            "You can vote\n",
            "You can vote\n",
            "You can vote\n",
            "You can vote\n",
            "You can vote\n",
            "You can vote\n",
            "You can vote\n",
            "You can vote\n",
            "You can vote\n",
            "You can vote\n",
            "You can vote\n",
            "You can vote\n",
            "You can vote\n",
            "You can vote\n",
            "You can vote\n",
            "You can vote\n",
            "You can vote\n",
            "You can vote\n",
            "You can vote\n",
            "You can vote\n",
            "You can vote\n",
            "You can vote\n",
            "You can vote\n",
            "You can vote\n",
            "You can vote\n",
            "You can vote\n",
            "You can vote\n",
            "You can vote\n",
            "You can vote\n",
            "You can vote\n",
            "You can vote\n",
            "You can vote\n",
            "You can vote\n",
            "You can vote\n",
            "You can vote\n",
            "You can vote\n",
            "You can vote\n",
            "You can vote\n",
            "You can vote\n",
            "You can vote\n",
            "You can vote\n",
            "You can vote\n",
            "You can vote\n",
            "You can vote\n",
            "You can vote\n",
            "You can vote\n",
            "You can vote\n",
            "You can vote\n",
            "You can vote\n",
            "You can vote\n",
            "You can vote\n",
            "You can vote\n",
            "You can vote\n",
            "You can vote\n",
            "You can vote\n",
            "You can vote\n",
            "You can vote\n",
            "You can vote\n",
            "You can vote\n",
            "You can vote\n",
            "You can vote\n",
            "You can vote\n",
            "You can vote\n",
            "You can vote\n",
            "You can vote\n",
            "You can vote\n",
            "You can vote\n",
            "You can vote\n",
            "You can vote\n",
            "You can vote\n",
            "You can vote\n",
            "You can vote\n",
            "You can vote\n",
            "You can vote\n",
            "You can vote\n",
            "You can vote\n",
            "You can vote\n",
            "You can vote\n",
            "You can vote\n",
            "You can vote\n",
            "You can vote\n",
            "You can vote\n",
            "You can vote\n",
            "You can vote\n",
            "You can vote\n",
            "You can vote\n",
            "You can vote\n",
            "You can vote\n",
            "You can vote\n",
            "You can vote\n",
            "You can vote\n",
            "You can vote\n",
            "You can vote\n",
            "You can vote\n",
            "You can vote\n",
            "You can vote\n",
            "You can vote\n",
            "You can vote\n",
            "You can vote\n",
            "You can vote\n",
            "You can vote\n",
            "You can vote\n",
            "You can vote\n",
            "You can vote\n",
            "You can vote\n",
            "You can vote\n",
            "You can vote\n",
            "You can vote\n",
            "You can vote\n",
            "You can vote\n",
            "You can vote\n",
            "You can vote\n",
            "You can vote\n",
            "You can vote\n",
            "You can vote\n",
            "You can vote\n",
            "You can vote\n",
            "You can vote\n",
            "You can vote\n",
            "You can vote\n",
            "You can vote\n",
            "You can vote\n",
            "You can vote\n",
            "You can vote\n",
            "You can vote\n",
            "You can vote\n",
            "You can vote\n",
            "You can vote\n",
            "You can vote\n",
            "You can vote\n",
            "You can vote\n",
            "You can vote\n",
            "You can vote\n",
            "You can vote\n",
            "You can vote\n",
            "You can vote\n",
            "You can vote\n",
            "You can vote\n",
            "You can vote\n",
            "You can vote\n",
            "You can vote\n",
            "You can vote\n",
            "You can vote\n",
            "You can vote\n",
            "You can vote\n",
            "You can vote\n",
            "You can vote\n",
            "You can vote\n",
            "You can vote\n",
            "You can vote\n",
            "You can vote\n",
            "You can vote\n",
            "You can vote\n",
            "You can vote\n",
            "You can vote\n",
            "You can vote\n",
            "You can vote\n",
            "You can vote\n",
            "You can vote\n",
            "You can vote\n",
            "You can vote\n",
            "You can vote\n",
            "You can vote\n",
            "You can vote\n",
            "You can vote\n",
            "You can vote\n",
            "You can vote\n",
            "You can vote\n",
            "You can vote\n",
            "You can vote\n",
            "You can vote\n",
            "You can vote\n",
            "You can vote\n",
            "You can vote\n",
            "You can vote\n",
            "You can vote\n",
            "You can vote\n",
            "You can vote\n",
            "You can vote\n",
            "You can vote\n",
            "You can vote\n",
            "You can vote\n",
            "You can vote\n",
            "You can vote\n",
            "You can vote\n",
            "You can vote\n",
            "You can vote\n",
            "You can vote\n",
            "You can vote\n",
            "You can vote\n",
            "You can vote\n",
            "You can vote\n",
            "You can vote\n",
            "You can vote\n",
            "You can vote\n",
            "You can vote\n",
            "You can vote\n",
            "You can vote\n",
            "You can vote\n",
            "You can vote\n",
            "You can vote\n",
            "You can vote\n",
            "You can vote\n",
            "You can vote\n",
            "You can vote\n",
            "You can vote\n",
            "You can vote\n",
            "You can vote\n",
            "You can vote\n",
            "You can vote\n",
            "You can vote\n",
            "You can vote\n",
            "You can vote\n",
            "You can vote\n",
            "You can vote\n",
            "You can vote\n",
            "You can vote\n",
            "You can vote\n",
            "You can vote\n",
            "You can vote\n",
            "You can vote\n",
            "You can vote\n",
            "You can vote\n",
            "You can vote\n",
            "You can vote\n",
            "You can vote\n",
            "You can vote\n",
            "You can vote\n",
            "You can vote\n",
            "You can vote\n",
            "You can vote\n",
            "You can vote\n",
            "You can vote\n",
            "You can vote\n",
            "You can vote\n",
            "You can vote\n",
            "You can vote\n",
            "You can vote\n",
            "You can vote\n",
            "You can vote\n",
            "You can vote\n",
            "You can vote\n",
            "You can vote\n",
            "You can vote\n",
            "You can vote\n",
            "You can vote\n",
            "You can vote\n",
            "You can vote\n",
            "You can vote\n",
            "You can vote\n",
            "You can vote\n",
            "You can vote\n",
            "You can vote\n",
            "You can vote\n",
            "You can vote\n",
            "You can vote\n",
            "You can vote\n",
            "You can vote\n",
            "You can vote\n",
            "You can vote\n",
            "You can vote\n",
            "You can vote\n",
            "You can vote\n",
            "You can vote\n",
            "You can vote\n",
            "You can vote\n",
            "You can vote\n",
            "You can vote\n",
            "You can vote\n",
            "You can vote\n",
            "You can vote\n",
            "You can vote\n",
            "You can vote\n",
            "You can vote\n",
            "You can vote\n",
            "You can vote\n",
            "You can vote\n",
            "You can vote\n",
            "You can vote\n",
            "You can vote\n",
            "You can vote\n",
            "You can vote\n",
            "You can vote\n",
            "You can vote\n",
            "You can vote\n",
            "You can vote\n",
            "You can vote\n",
            "You can vote\n",
            "You can vote\n",
            "You can vote\n",
            "You can vote\n",
            "You can vote\n",
            "You can vote\n",
            "You can vote\n",
            "You can vote\n",
            "You can vote\n",
            "You can vote\n",
            "You can vote\n",
            "You can vote\n",
            "You can vote\n",
            "You can vote\n",
            "You can vote\n",
            "You can vote\n",
            "You can vote\n",
            "You can vote\n",
            "You can vote\n",
            "You can vote\n",
            "You can vote\n",
            "You can vote\n",
            "You can vote\n",
            "You can vote\n",
            "You can vote\n",
            "You can vote\n",
            "You can vote\n",
            "You can vote\n",
            "You can vote\n",
            "You can vote\n",
            "You can vote\n",
            "You can vote\n",
            "You can vote\n",
            "You can vote\n",
            "You can vote\n",
            "You can vote\n",
            "You can vote\n",
            "You can vote\n",
            "You can vote\n",
            "You can vote\n",
            "You can vote\n",
            "You can vote\n",
            "You can vote\n",
            "You can vote\n",
            "You can vote\n",
            "You can vote\n",
            "You can vote\n",
            "You can vote\n",
            "You can vote\n",
            "You can vote\n",
            "You can vote\n",
            "You can vote\n",
            "You can vote\n",
            "You can vote\n",
            "You can vote\n",
            "You can vote\n",
            "You can vote\n",
            "You can vote\n",
            "You can vote\n",
            "You can vote\n",
            "You can vote\n",
            "You can vote\n",
            "You can vote\n",
            "You can vote\n",
            "You can vote\n",
            "You can vote\n",
            "You can vote\n",
            "You can vote\n",
            "You can vote\n",
            "You can vote\n",
            "You can vote\n",
            "You can vote\n",
            "You can vote\n",
            "You can vote\n",
            "You can vote\n",
            "You can vote\n",
            "You can vote\n",
            "You can vote\n",
            "You can vote\n",
            "You can vote\n",
            "You can vote\n",
            "You can vote\n",
            "You can vote\n",
            "You can vote\n",
            "You can vote\n",
            "You can vote\n",
            "You can vote\n",
            "You can vote\n",
            "You can vote\n",
            "You can vote\n",
            "You can vote\n",
            "You can vote\n",
            "You can vote\n",
            "You can vote\n",
            "You can vote\n",
            "You can vote\n",
            "You can vote\n",
            "You can vote\n",
            "You can vote\n",
            "You can vote\n",
            "You can vote\n",
            "You can vote\n",
            "You can vote\n",
            "You can vote\n",
            "You can vote\n",
            "You can vote\n",
            "You can vote\n",
            "You can vote\n",
            "You can vote\n",
            "You can vote\n",
            "You can vote\n",
            "You can vote\n",
            "You can vote\n",
            "You can vote\n",
            "You can vote\n",
            "You can vote\n",
            "You can vote\n",
            "You can vote\n",
            "You can vote\n",
            "You can vote\n",
            "You can vote\n",
            "You can vote\n",
            "You can vote\n",
            "You can vote\n",
            "You can vote\n",
            "You can vote\n",
            "You can vote\n",
            "You can vote\n",
            "You can vote\n",
            "You can vote\n",
            "You can vote\n",
            "You can vote\n",
            "You can vote\n",
            "You can vote\n",
            "You can vote\n",
            "You can vote\n",
            "You can vote\n",
            "You can vote\n",
            "You can vote\n",
            "You can vote\n",
            "You can vote\n",
            "You can vote\n",
            "You can vote\n",
            "You can vote\n",
            "You can vote\n",
            "You can vote\n",
            "You can vote\n",
            "You can vote\n",
            "You can vote\n",
            "You can vote\n",
            "You can vote\n",
            "You can vote\n",
            "You can vote\n",
            "You can vote\n",
            "You can vote\n",
            "You can vote\n",
            "You can vote\n",
            "You can vote\n",
            "You can vote\n",
            "You can vote\n",
            "You can vote\n",
            "You can vote\n",
            "You can vote\n",
            "You can vote\n",
            "You can vote\n",
            "You can vote\n",
            "You can vote\n",
            "You can vote\n",
            "You can vote\n",
            "You can vote\n",
            "You can vote\n",
            "You can vote\n",
            "You can vote\n",
            "You can vote\n",
            "You can vote\n",
            "You can vote\n",
            "You can vote\n",
            "You can vote\n",
            "You can vote\n",
            "You can vote\n",
            "You can vote\n",
            "You can vote\n",
            "You can vote\n",
            "You can vote\n",
            "You can vote\n",
            "You can vote\n",
            "You can vote\n",
            "You can vote\n",
            "You can vote\n",
            "You can vote\n",
            "You can vote\n",
            "You can vote\n",
            "You can vote\n",
            "You can vote\n",
            "You can vote\n",
            "You can vote\n",
            "You can vote\n",
            "You can vote\n",
            "You can vote\n",
            "You can vote\n",
            "You can vote\n",
            "You can vote\n",
            "You can vote\n",
            "You can vote\n",
            "You can vote\n",
            "You can vote\n",
            "You can vote\n",
            "You can vote\n",
            "You can vote\n",
            "You can vote\n",
            "You can vote\n",
            "You can vote\n",
            "You can vote\n",
            "You can vote\n",
            "You can vote\n",
            "You can vote\n",
            "You can vote\n",
            "You can vote\n",
            "You can vote\n",
            "You can vote\n",
            "You can vote\n",
            "You can vote\n",
            "You can vote\n",
            "You can vote\n",
            "You can vote\n",
            "You can vote\n",
            "You can vote\n",
            "You can vote\n",
            "You can vote\n",
            "You can vote\n",
            "You can vote\n",
            "You can vote\n",
            "You can vote\n",
            "You can vote\n",
            "You can vote\n",
            "You can vote\n",
            "You can vote\n",
            "You can vote\n",
            "You can vote\n",
            "You can vote\n",
            "You can vote\n",
            "You can vote\n",
            "You can vote\n",
            "You can vote\n",
            "You can vote\n",
            "You can vote\n",
            "You can vote\n",
            "You can vote\n",
            "You can vote\n",
            "You can vote\n",
            "You can vote\n",
            "You can vote\n",
            "You can vote\n",
            "You can vote\n",
            "You can vote\n",
            "You can vote\n",
            "You can vote\n",
            "You can vote\n",
            "You can vote\n",
            "You can vote\n",
            "You can vote\n",
            "You can vote\n",
            "You can vote\n",
            "You can vote\n",
            "You can vote\n",
            "You can vote\n",
            "You can vote\n",
            "You can vote\n",
            "You can vote\n",
            "You can vote\n",
            "You can vote\n",
            "You can vote\n",
            "You can vote\n",
            "You can vote\n",
            "You can vote\n",
            "You can vote\n",
            "You can vote\n",
            "You can vote\n",
            "You can vote\n",
            "You can vote\n",
            "You can vote\n",
            "You can vote\n",
            "You can vote\n",
            "You can vote\n",
            "You can vote\n",
            "You can vote\n",
            "You can vote\n",
            "You can vote\n",
            "You can vote\n",
            "You can vote\n",
            "You can vote\n",
            "You can vote\n",
            "You can vote\n",
            "You can vote\n",
            "You can vote\n",
            "You can vote\n",
            "You can vote\n",
            "You can vote\n",
            "You can vote\n",
            "You can vote\n",
            "You can vote\n",
            "You can vote\n",
            "You can vote\n",
            "You can vote\n",
            "You can vote\n",
            "You can vote\n",
            "You can vote\n",
            "You can vote\n",
            "You can vote\n",
            "You can vote\n",
            "You can vote\n",
            "You can vote\n",
            "You can vote\n",
            "You can vote\n",
            "You can vote\n",
            "You can vote\n",
            "You can vote\n",
            "You can vote\n",
            "You can vote\n",
            "You can vote\n",
            "You can vote\n",
            "You can vote\n",
            "You can vote\n",
            "You can vote\n",
            "You can vote\n",
            "You can vote\n",
            "You can vote\n",
            "You can vote\n",
            "You can vote\n",
            "You can vote\n",
            "You can vote\n",
            "You can vote\n",
            "You can vote\n",
            "You can vote\n",
            "You can vote\n",
            "You can vote\n",
            "You can vote\n",
            "You can vote\n",
            "You can vote\n",
            "You can vote\n",
            "You can vote\n",
            "You can vote\n",
            "You can vote\n",
            "You can vote\n",
            "You can vote\n",
            "You can vote\n",
            "You can vote\n",
            "You can vote\n",
            "You can vote\n",
            "You can vote\n",
            "You can vote\n",
            "You can vote\n",
            "You can vote\n",
            "You can vote\n",
            "You can vote\n",
            "You can vote\n",
            "You can vote\n",
            "You can vote\n",
            "You can vote\n",
            "You can vote\n",
            "You can vote\n",
            "You can vote\n",
            "You can vote\n",
            "You can vote\n",
            "You can vote\n",
            "You can vote\n",
            "You can vote\n",
            "You can vote\n",
            "You can vote\n",
            "You can vote\n",
            "You can vote\n",
            "You can vote\n",
            "You can vote\n",
            "You can vote\n",
            "You can vote\n",
            "You can vote\n",
            "You can vote\n",
            "You can vote\n",
            "You can vote\n",
            "You can vote\n",
            "You can vote\n",
            "You can vote\n",
            "You can vote\n",
            "You can vote\n",
            "You can vote\n",
            "You can vote\n",
            "You can vote\n",
            "You can vote\n",
            "You can vote\n",
            "You can vote\n",
            "You can vote\n",
            "You can vote\n",
            "You can vote\n",
            "You can vote\n",
            "You can vote\n",
            "You can vote\n",
            "You can vote\n",
            "You can vote\n",
            "You can vote\n",
            "You can vote\n",
            "You can vote\n",
            "You can vote\n",
            "You can vote\n",
            "You can vote\n",
            "You can vote\n",
            "You can vote\n",
            "You can vote\n",
            "You can vote\n",
            "You can vote\n",
            "You can vote\n",
            "You can vote\n",
            "You can vote\n",
            "You can vote\n",
            "You can vote\n",
            "You can vote\n",
            "You can vote\n",
            "You can vote\n",
            "You can vote\n",
            "You can vote\n",
            "You can vote\n",
            "You can vote\n",
            "You can vote\n",
            "You can vote\n",
            "You can vote\n",
            "You can vote\n",
            "You can vote\n",
            "You can vote\n",
            "You can vote\n",
            "You can vote\n",
            "You can vote\n",
            "You can vote\n",
            "You can vote\n",
            "You can vote\n",
            "You can vote\n",
            "You can vote\n",
            "You can vote\n",
            "You can vote\n",
            "You can vote\n",
            "You can vote\n",
            "You can vote\n",
            "You can vote\n",
            "You can vote\n",
            "You can vote\n",
            "You can vote\n",
            "You can vote\n",
            "You can vote\n",
            "You can vote\n",
            "You can vote\n",
            "You can vote\n",
            "You can vote\n",
            "You can vote\n",
            "You can vote\n",
            "You can vote\n",
            "You can vote\n",
            "You can vote\n",
            "You can vote\n",
            "You can vote\n",
            "You can vote\n",
            "You can vote\n",
            "You can vote\n",
            "You can vote\n",
            "You can vote\n",
            "You can vote\n",
            "You can vote\n",
            "You can vote\n",
            "You can vote\n",
            "You can vote\n",
            "You can vote\n",
            "You can vote\n",
            "You can vote\n",
            "You can vote\n",
            "You can vote\n",
            "You can vote\n",
            "You can vote\n",
            "You can vote\n",
            "You can vote\n",
            "You can vote\n",
            "You can vote\n",
            "You can vote\n",
            "You can vote\n",
            "You can vote\n",
            "You can vote\n",
            "You can vote\n",
            "You can vote\n",
            "You can vote\n",
            "You can vote\n",
            "You can vote\n",
            "You can vote\n",
            "You can vote\n",
            "You can vote\n",
            "You can vote\n",
            "You can vote\n",
            "You can vote\n",
            "You can vote\n",
            "You can vote\n",
            "You can vote\n",
            "You can vote\n",
            "You can vote\n",
            "You can vote\n",
            "You can vote\n",
            "You can vote\n",
            "You can vote\n",
            "You can vote\n",
            "You can vote\n",
            "You can vote\n",
            "You can vote\n",
            "You can vote\n",
            "You can vote\n",
            "You can vote\n",
            "You can vote\n",
            "You can vote\n",
            "You can vote\n",
            "You can vote\n",
            "You can vote\n",
            "You can vote\n",
            "You can vote\n",
            "You can vote\n",
            "You can vote\n",
            "You can vote\n",
            "You can vote\n",
            "You can vote\n",
            "You can vote\n",
            "You can vote\n",
            "You can vote\n",
            "You can vote\n",
            "You can vote\n",
            "You can vote\n",
            "You can vote\n",
            "You can vote\n",
            "You can vote\n",
            "You can vote\n",
            "You can vote\n",
            "You can vote\n",
            "You can vote\n",
            "You can vote\n",
            "You can vote\n",
            "You can vote\n",
            "You can vote\n",
            "You can vote\n",
            "You can vote\n",
            "You can vote\n",
            "You can vote\n",
            "You can vote\n",
            "You can vote\n",
            "You can vote\n",
            "You can vote\n",
            "You can vote\n",
            "You can vote\n",
            "You can vote\n",
            "You can vote\n",
            "You can vote\n",
            "You can vote\n",
            "You can vote\n",
            "You can vote\n",
            "You can vote\n",
            "You can vote\n",
            "You can vote\n",
            "You can vote\n",
            "You can vote\n",
            "You can vote\n",
            "You can vote\n",
            "You can vote\n",
            "You can vote\n",
            "You can vote\n",
            "You can vote\n",
            "You can vote\n",
            "You can vote\n",
            "You can vote\n",
            "You can vote\n",
            "You can vote\n",
            "You can vote\n",
            "You can vote\n",
            "You can vote\n",
            "You can vote\n",
            "You can vote\n",
            "You can vote\n",
            "You can vote\n",
            "You can vote\n",
            "You can vote\n",
            "You can vote\n",
            "You can vote\n",
            "You can vote\n",
            "You can vote\n",
            "You can vote\n",
            "You can vote\n",
            "You can vote\n",
            "You can vote\n",
            "You can vote\n",
            "You can vote\n",
            "You can vote\n",
            "You can vote\n",
            "You can vote\n",
            "You can vote\n",
            "You can vote\n",
            "You can vote\n",
            "You can vote\n",
            "You can vote\n",
            "You can vote\n",
            "You can vote\n",
            "You can vote\n",
            "You can vote\n",
            "You can vote\n",
            "You can vote\n",
            "You can vote\n",
            "You can vote\n",
            "You can vote\n",
            "You can vote\n",
            "You can vote\n",
            "You can vote\n",
            "You can vote\n",
            "You can vote\n",
            "You can vote\n",
            "You can vote\n",
            "You can vote\n",
            "You can vote\n",
            "You can vote\n",
            "You can vote\n",
            "You can vote\n",
            "You can vote\n",
            "You can vote\n",
            "You can vote\n",
            "You can vote\n",
            "You can vote\n",
            "You can vote\n",
            "You can vote\n",
            "You can vote\n",
            "You can vote\n",
            "You can vote\n",
            "You can vote\n",
            "You can vote\n",
            "You can vote\n",
            "You can vote\n",
            "You can vote\n",
            "You can vote\n",
            "You can vote\n",
            "You can vote\n",
            "You can vote\n",
            "You can vote\n",
            "You can vote\n",
            "You can vote\n",
            "You can vote\n",
            "You can vote\n",
            "You can vote\n",
            "You can vote\n",
            "You can vote\n",
            "You can vote\n",
            "You can vote\n",
            "You can vote\n",
            "You can vote\n",
            "You can vote\n",
            "You can vote\n",
            "You can vote\n",
            "You can vote\n",
            "You can vote\n",
            "You can vote\n",
            "You can vote\n",
            "You can vote\n",
            "You can vote\n",
            "You can vote\n",
            "You can vote\n",
            "You can vote\n",
            "You can vote\n",
            "You can vote\n",
            "You can vote\n",
            "You can vote\n",
            "You can vote\n",
            "You can vote\n",
            "You can vote\n",
            "You can vote\n",
            "You can vote\n",
            "You can vote\n",
            "You can vote\n",
            "You can vote\n",
            "You can vote\n",
            "You can vote\n",
            "You can vote\n",
            "You can vote\n",
            "You can vote\n",
            "You can vote\n",
            "You can vote\n",
            "You can vote\n",
            "You can vote\n",
            "You can vote\n",
            "You can vote\n",
            "You can vote\n",
            "You can vote\n",
            "You can vote\n",
            "You can vote\n",
            "You can vote\n",
            "You can vote\n",
            "You can vote\n",
            "You can vote\n",
            "You can vote\n",
            "You can vote\n",
            "You can vote\n",
            "You can vote\n",
            "You can vote\n",
            "You can vote\n",
            "You can vote\n",
            "You can vote\n",
            "You can vote\n",
            "You can vote\n",
            "You can vote\n",
            "You can vote\n",
            "You can vote\n",
            "You can vote\n",
            "You can vote\n",
            "You can vote\n",
            "You can vote\n",
            "You can vote\n",
            "You can vote\n",
            "You can vote\n",
            "You can vote\n",
            "You can vote\n",
            "You can vote\n",
            "You can vote\n",
            "You can vote\n",
            "You can vote\n",
            "You can vote\n",
            "You can vote\n",
            "You can vote\n",
            "You can vote\n",
            "You can vote\n",
            "You can vote\n",
            "You can vote\n",
            "You can vote\n",
            "You can vote\n",
            "You can vote\n",
            "You can vote\n",
            "You can vote\n",
            "You can vote\n",
            "You can vote\n",
            "You can vote\n",
            "You can vote\n",
            "You can vote\n",
            "You can vote\n",
            "You can vote\n",
            "You can vote\n",
            "You can vote\n",
            "You can vote\n",
            "You can vote\n",
            "You can vote\n",
            "You can vote\n",
            "You can vote\n",
            "You can vote\n",
            "You can vote\n",
            "You can vote\n",
            "You can vote\n",
            "You can vote\n",
            "You can vote\n",
            "You can vote\n",
            "You can vote\n",
            "You can vote\n",
            "You can vote\n",
            "You can vote\n",
            "You can vote\n",
            "You can vote\n",
            "You can vote\n",
            "You can vote\n",
            "You can vote\n",
            "You can vote\n",
            "You can vote\n",
            "You can vote\n",
            "You can vote\n",
            "You can vote\n",
            "You can vote\n",
            "You can vote\n",
            "You can vote\n",
            "You can vote\n",
            "You can vote\n",
            "You can vote\n",
            "You can vote\n",
            "You can vote\n",
            "You can vote\n",
            "You can vote\n",
            "You can vote\n",
            "You can vote\n",
            "You can vote\n",
            "You can vote\n",
            "You can vote\n",
            "You can vote\n",
            "You can vote\n",
            "You can vote\n",
            "You can vote\n",
            "You can vote\n",
            "You can vote\n",
            "You can vote\n",
            "You can vote\n",
            "You can vote\n",
            "You can vote\n",
            "You can vote\n",
            "You can vote\n",
            "You can vote\n",
            "You can vote\n",
            "You can vote\n",
            "You can vote\n",
            "You can vote\n",
            "You can vote\n",
            "You can vote\n",
            "You can vote\n",
            "You can vote\n",
            "You can vote\n",
            "You can vote\n",
            "You can vote\n",
            "You can vote\n",
            "You can vote\n",
            "You can vote\n",
            "You can vote\n",
            "You can vote\n",
            "You can vote\n",
            "You can vote\n",
            "You can vote\n",
            "You can vote\n",
            "You can vote\n",
            "You can vote\n",
            "You can vote\n",
            "You can vote\n",
            "You can vote\n",
            "You can vote\n",
            "You can vote\n",
            "You can vote\n",
            "You can vote\n",
            "You can vote\n",
            "You can vote\n",
            "You can vote\n",
            "You can vote\n",
            "You can vote\n",
            "You can vote\n",
            "You can vote\n",
            "You can vote\n",
            "You can vote\n",
            "You can vote\n",
            "You can vote\n",
            "You can vote\n",
            "You can vote\n",
            "You can vote\n",
            "You can vote\n",
            "You can vote\n",
            "You can vote\n",
            "You can vote\n",
            "You can vote\n",
            "You can vote\n",
            "You can vote\n",
            "You can vote\n",
            "You can vote\n",
            "You can vote\n",
            "You can vote\n",
            "You can vote\n",
            "You can vote\n",
            "You can vote\n",
            "You can vote\n",
            "You can vote\n",
            "You can vote\n",
            "You can vote\n",
            "You can vote\n",
            "You can vote\n",
            "You can vote\n",
            "You can vote\n",
            "You can vote\n",
            "You can vote\n",
            "You can vote\n",
            "You can vote\n",
            "You can vote\n",
            "You can vote\n",
            "You can vote\n",
            "You can vote\n",
            "You can vote\n",
            "You can vote\n",
            "You can vote\n",
            "You can vote\n",
            "You can vote\n",
            "You can vote\n",
            "You can vote\n",
            "You can vote\n",
            "You can vote\n",
            "You can vote\n",
            "You can vote\n",
            "You can vote\n",
            "You can vote\n",
            "You can vote\n",
            "You can vote\n",
            "You can vote\n",
            "You can vote\n",
            "You can vote\n",
            "You can vote\n",
            "You can vote\n",
            "You can vote\n",
            "You can vote\n",
            "You can vote\n",
            "You can vote\n",
            "You can vote\n",
            "You can vote\n",
            "You can vote\n",
            "You can vote\n",
            "You can vote\n",
            "You can vote\n",
            "You can vote\n",
            "You can vote\n",
            "You can vote\n",
            "You can vote\n",
            "You can vote\n",
            "You can vote\n",
            "You can vote\n",
            "You can vote\n",
            "You can vote\n",
            "You can vote\n",
            "You can vote\n",
            "You can vote\n",
            "You can vote\n",
            "You can vote\n",
            "You can vote\n",
            "You can vote\n",
            "You can vote\n",
            "You can vote\n",
            "You can vote\n",
            "You can vote\n",
            "You can vote\n",
            "You can vote\n",
            "You can vote\n",
            "You can vote\n",
            "You can vote\n",
            "You can vote\n",
            "You can vote\n",
            "You can vote\n",
            "You can vote\n",
            "You can vote\n",
            "You can vote\n",
            "You can vote\n",
            "You can vote\n",
            "You can vote\n",
            "You can vote\n",
            "You can vote\n",
            "You can vote\n",
            "You can vote\n",
            "You can vote\n",
            "You can vote\n",
            "You can vote\n",
            "You can vote\n",
            "You can vote\n",
            "You can vote\n",
            "You can vote\n",
            "You can vote\n",
            "You can vote\n",
            "You can vote\n",
            "You can vote\n",
            "You can vote\n",
            "You can vote\n",
            "You can vote\n",
            "You can vote\n",
            "You can vote\n",
            "You can vote\n",
            "You can vote\n",
            "You can vote\n",
            "You can vote\n",
            "You can vote\n",
            "You can vote\n",
            "You can vote\n",
            "You can vote\n",
            "You can vote\n",
            "You can vote\n",
            "You can vote\n",
            "You can vote\n",
            "You can vote\n",
            "You can vote\n",
            "You can vote\n",
            "You can vote\n",
            "You can vote\n",
            "You can vote\n",
            "You can vote\n",
            "You can vote\n",
            "You can vote\n",
            "You can vote\n",
            "You can vote\n",
            "You can vote\n",
            "You can vote\n",
            "You can vote\n",
            "You can vote\n",
            "You can vote\n",
            "You can vote\n",
            "You can vote\n",
            "You can vote\n",
            "You can vote\n",
            "You can vote\n",
            "You can vote\n",
            "You can vote\n",
            "You can vote\n",
            "You can vote\n",
            "You can vote\n",
            "You can vote\n",
            "You can vote\n",
            "You can vote\n",
            "You can vote\n",
            "You can vote\n",
            "You can vote\n",
            "You can vote\n",
            "You can vote\n",
            "You can vote\n",
            "You can vote\n",
            "You can vote\n",
            "You can vote\n",
            "You can vote\n",
            "You can vote\n",
            "You can vote\n",
            "You can vote\n",
            "You can vote\n",
            "You can vote\n",
            "You can vote\n",
            "You can vote\n",
            "You can vote\n",
            "You can vote\n",
            "You can vote\n",
            "You can vote\n",
            "You can vote\n",
            "You can vote\n",
            "You can vote\n",
            "You can vote\n",
            "You can vote\n",
            "You can vote\n",
            "You can vote\n",
            "You can vote\n",
            "You can vote\n",
            "You can vote\n",
            "You can vote\n",
            "You can vote\n",
            "You can vote\n",
            "You can vote\n",
            "You can vote\n",
            "You can vote\n",
            "You can vote\n",
            "You can vote\n",
            "You can vote\n",
            "You can vote\n",
            "You can vote\n",
            "You can vote\n",
            "You can vote\n",
            "You can vote\n",
            "You can vote\n",
            "You can vote\n",
            "You can vote\n",
            "You can vote\n",
            "You can vote\n",
            "You can vote\n",
            "You can vote\n",
            "You can vote\n",
            "You can vote\n",
            "You can vote\n",
            "You can vote\n",
            "You can vote\n",
            "You can vote\n",
            "You can vote\n",
            "You can vote\n",
            "You can vote\n",
            "You can vote\n",
            "You can vote\n",
            "You can vote\n",
            "You can vote\n",
            "You can vote\n",
            "You can vote\n",
            "You can vote\n",
            "You can vote\n",
            "You can vote\n",
            "You can vote\n",
            "You can vote\n",
            "You can vote\n",
            "You can vote\n",
            "You can vote\n",
            "You can vote\n",
            "You can vote\n",
            "You can vote\n",
            "You can vote\n",
            "You can vote\n",
            "You can vote\n",
            "You can vote\n",
            "You can vote\n",
            "You can vote\n",
            "You can vote\n",
            "You can vote\n",
            "You can vote\n",
            "You can vote\n",
            "You can vote\n",
            "You can vote\n",
            "You can vote\n",
            "You can vote\n",
            "You can vote\n",
            "You can vote\n",
            "You can vote\n",
            "You can vote\n",
            "You can vote\n",
            "You can vote\n",
            "You can vote\n",
            "You can vote\n",
            "You can vote\n",
            "You can vote\n",
            "You can vote\n",
            "You can vote\n",
            "You can vote\n",
            "You can vote\n",
            "You can vote\n",
            "You can vote\n",
            "You can vote\n",
            "You can vote\n",
            "You can vote\n",
            "You can vote\n",
            "You can vote\n",
            "You can vote\n",
            "You can vote\n",
            "You can vote\n",
            "You can vote\n",
            "You can vote\n",
            "You can vote\n",
            "You can vote\n",
            "You can vote\n",
            "You can vote\n",
            "You can vote\n",
            "You can vote\n",
            "You can vote\n",
            "You can vote\n",
            "You can vote\n",
            "You can vote\n",
            "You can vote\n",
            "You can vote\n",
            "You can vote\n",
            "You can vote\n",
            "You can vote\n",
            "You can vote\n",
            "You can vote\n",
            "You can vote\n",
            "You can vote\n",
            "You can vote\n",
            "You can vote\n",
            "You can vote\n",
            "You can vote\n",
            "You can vote\n",
            "You can vote\n",
            "You can vote\n",
            "You can vote\n",
            "You can vote\n",
            "You can vote\n",
            "You can vote\n",
            "You can vote\n",
            "You can vote\n",
            "You can vote\n",
            "You can vote\n",
            "You can vote\n",
            "You can vote\n",
            "You can vote\n",
            "You can vote\n",
            "You can vote\n",
            "You can vote\n",
            "You can vote\n",
            "You can vote\n",
            "You can vote\n",
            "You can vote\n",
            "You can vote\n",
            "You can vote\n",
            "You can vote\n",
            "You can vote\n",
            "You can vote\n",
            "You can vote\n",
            "You can vote\n",
            "You can vote\n",
            "You can vote\n",
            "You can vote\n",
            "You can vote\n",
            "You can vote\n",
            "You can vote\n",
            "You can vote\n",
            "You can vote\n",
            "You can vote\n",
            "You can vote\n",
            "You can vote\n",
            "You can vote\n",
            "You can vote\n",
            "You can vote\n",
            "You can vote\n",
            "You can vote\n",
            "You can vote\n",
            "You can vote\n",
            "You can vote\n",
            "You can vote\n",
            "You can vote\n",
            "You can vote\n",
            "You can vote\n",
            "You can vote\n",
            "You can vote\n",
            "You can vote\n",
            "You can vote\n",
            "You can vote\n",
            "You can vote\n",
            "You can vote\n",
            "You can vote\n",
            "You can vote\n",
            "You can vote\n",
            "You can vote\n",
            "You can vote\n",
            "You can vote\n",
            "You can vote\n",
            "You can vote\n",
            "You can vote\n",
            "You can vote\n",
            "You can vote\n",
            "You can vote\n",
            "You can vote\n",
            "You can vote\n",
            "You can vote\n",
            "You can vote\n",
            "You can vote"
          ]
        },
        {
          "ename": "KeyboardInterrupt",
          "evalue": "ignored",
          "output_type": "error",
          "traceback": [
            "\u001b[0;31m---------------------------------------------------------------------------\u001b[0m",
            "\u001b[0;31mKeyboardInterrupt\u001b[0m                         Traceback (most recent call last)",
            "\u001b[0;32m<ipython-input-20-61f50f4a0e23>\u001b[0m in \u001b[0;36m<module>\u001b[0;34m\u001b[0m\n\u001b[1;32m      5\u001b[0m   \u001b[0mage\u001b[0m \u001b[0;34m=\u001b[0m \u001b[0mage\u001b[0m \u001b[0;34m-\u001b[0m \u001b[0;36m1\u001b[0m\u001b[0;34m\u001b[0m\u001b[0;34m\u001b[0m\u001b[0m\n\u001b[1;32m      6\u001b[0m \u001b[0;34m\u001b[0m\u001b[0m\n\u001b[0;32m----> 7\u001b[0;31m   \u001b[0mprint\u001b[0m\u001b[0;34m(\u001b[0m\u001b[0;34m'You can vote'\u001b[0m\u001b[0;34m)\u001b[0m\u001b[0;34m\u001b[0m\u001b[0;34m\u001b[0m\u001b[0m\n\u001b[0m\u001b[1;32m      8\u001b[0m \u001b[0;34m\u001b[0m\u001b[0m\n",
            "\u001b[0;32m/usr/local/lib/python3.8/dist-packages/ipykernel/iostream.py\u001b[0m in \u001b[0;36mwrite\u001b[0;34m(self, string)\u001b[0m\n\u001b[1;32m    402\u001b[0m             \u001b[0mis_child\u001b[0m \u001b[0;34m=\u001b[0m \u001b[0;34m(\u001b[0m\u001b[0;32mnot\u001b[0m \u001b[0mself\u001b[0m\u001b[0;34m.\u001b[0m\u001b[0m_is_master_process\u001b[0m\u001b[0;34m(\u001b[0m\u001b[0;34m)\u001b[0m\u001b[0;34m)\u001b[0m\u001b[0;34m\u001b[0m\u001b[0;34m\u001b[0m\u001b[0m\n\u001b[1;32m    403\u001b[0m             \u001b[0;31m# only touch the buffer in the IO thread to avoid races\u001b[0m\u001b[0;34m\u001b[0m\u001b[0;34m\u001b[0m\u001b[0;34m\u001b[0m\u001b[0m\n\u001b[0;32m--> 404\u001b[0;31m             \u001b[0mself\u001b[0m\u001b[0;34m.\u001b[0m\u001b[0mpub_thread\u001b[0m\u001b[0;34m.\u001b[0m\u001b[0mschedule\u001b[0m\u001b[0;34m(\u001b[0m\u001b[0;32mlambda\u001b[0m \u001b[0;34m:\u001b[0m \u001b[0mself\u001b[0m\u001b[0;34m.\u001b[0m\u001b[0m_buffer\u001b[0m\u001b[0;34m.\u001b[0m\u001b[0mwrite\u001b[0m\u001b[0;34m(\u001b[0m\u001b[0mstring\u001b[0m\u001b[0;34m)\u001b[0m\u001b[0;34m)\u001b[0m\u001b[0;34m\u001b[0m\u001b[0;34m\u001b[0m\u001b[0m\n\u001b[0m\u001b[1;32m    405\u001b[0m             \u001b[0;32mif\u001b[0m \u001b[0mis_child\u001b[0m\u001b[0;34m:\u001b[0m\u001b[0;34m\u001b[0m\u001b[0;34m\u001b[0m\u001b[0m\n\u001b[1;32m    406\u001b[0m                 \u001b[0;31m# mp.Pool cannot be trusted to flush promptly (or ever),\u001b[0m\u001b[0;34m\u001b[0m\u001b[0;34m\u001b[0m\u001b[0;34m\u001b[0m\u001b[0m\n",
            "\u001b[0;32m/usr/local/lib/python3.8/dist-packages/ipykernel/iostream.py\u001b[0m in \u001b[0;36mschedule\u001b[0;34m(self, f)\u001b[0m\n\u001b[1;32m    203\u001b[0m             \u001b[0mself\u001b[0m\u001b[0;34m.\u001b[0m\u001b[0m_events\u001b[0m\u001b[0;34m.\u001b[0m\u001b[0mappend\u001b[0m\u001b[0;34m(\u001b[0m\u001b[0mf\u001b[0m\u001b[0;34m)\u001b[0m\u001b[0;34m\u001b[0m\u001b[0;34m\u001b[0m\u001b[0m\n\u001b[1;32m    204\u001b[0m             \u001b[0;31m# wake event thread (message content is ignored)\u001b[0m\u001b[0;34m\u001b[0m\u001b[0;34m\u001b[0m\u001b[0;34m\u001b[0m\u001b[0m\n\u001b[0;32m--> 205\u001b[0;31m             \u001b[0mself\u001b[0m\u001b[0;34m.\u001b[0m\u001b[0m_event_pipe\u001b[0m\u001b[0;34m.\u001b[0m\u001b[0msend\u001b[0m\u001b[0;34m(\u001b[0m\u001b[0;34mb''\u001b[0m\u001b[0;34m)\u001b[0m\u001b[0;34m\u001b[0m\u001b[0;34m\u001b[0m\u001b[0m\n\u001b[0m\u001b[1;32m    206\u001b[0m         \u001b[0;32melse\u001b[0m\u001b[0;34m:\u001b[0m\u001b[0;34m\u001b[0m\u001b[0;34m\u001b[0m\u001b[0m\n\u001b[1;32m    207\u001b[0m             \u001b[0mf\u001b[0m\u001b[0;34m(\u001b[0m\u001b[0;34m)\u001b[0m\u001b[0;34m\u001b[0m\u001b[0;34m\u001b[0m\u001b[0m\n",
            "\u001b[0;32m/usr/local/lib/python3.8/dist-packages/zmq/sugar/socket.py\u001b[0m in \u001b[0;36msend\u001b[0;34m(self, data, flags, copy, track, routing_id, group)\u001b[0m\n\u001b[1;32m    616\u001b[0m                 )\n\u001b[1;32m    617\u001b[0m             \u001b[0mdata\u001b[0m\u001b[0;34m.\u001b[0m\u001b[0mgroup\u001b[0m \u001b[0;34m=\u001b[0m \u001b[0mgroup\u001b[0m\u001b[0;34m\u001b[0m\u001b[0;34m\u001b[0m\u001b[0m\n\u001b[0;32m--> 618\u001b[0;31m         \u001b[0;32mreturn\u001b[0m \u001b[0msuper\u001b[0m\u001b[0;34m(\u001b[0m\u001b[0;34m)\u001b[0m\u001b[0;34m.\u001b[0m\u001b[0msend\u001b[0m\u001b[0;34m(\u001b[0m\u001b[0mdata\u001b[0m\u001b[0;34m,\u001b[0m \u001b[0mflags\u001b[0m\u001b[0;34m=\u001b[0m\u001b[0mflags\u001b[0m\u001b[0;34m,\u001b[0m \u001b[0mcopy\u001b[0m\u001b[0;34m=\u001b[0m\u001b[0mcopy\u001b[0m\u001b[0;34m,\u001b[0m \u001b[0mtrack\u001b[0m\u001b[0;34m=\u001b[0m\u001b[0mtrack\u001b[0m\u001b[0;34m)\u001b[0m\u001b[0;34m\u001b[0m\u001b[0;34m\u001b[0m\u001b[0m\n\u001b[0m\u001b[1;32m    619\u001b[0m \u001b[0;34m\u001b[0m\u001b[0m\n\u001b[1;32m    620\u001b[0m     def send_multipart(\n",
            "\u001b[0;32mzmq/backend/cython/socket.pyx\u001b[0m in \u001b[0;36mzmq.backend.cython.socket.Socket.send\u001b[0;34m()\u001b[0m\n",
            "\u001b[0;32mzmq/backend/cython/socket.pyx\u001b[0m in \u001b[0;36mzmq.backend.cython.socket.Socket.send\u001b[0;34m()\u001b[0m\n",
            "\u001b[0;32mzmq/backend/cython/socket.pyx\u001b[0m in \u001b[0;36mzmq.backend.cython.socket._send_copy\u001b[0;34m()\u001b[0m\n",
            "\u001b[0;32m/usr/local/lib/python3.8/dist-packages/zmq/backend/cython/checkrc.pxd\u001b[0m in \u001b[0;36mzmq.backend.cython.checkrc._check_rc\u001b[0;34m()\u001b[0m\n",
            "\u001b[0;31mKeyboardInterrupt\u001b[0m: "
          ]
        }
      ],
      "source": [
        "age = 20\n",
        "\n",
        "# the test condition is always True\n",
        "while age < 100:\n",
        "  age = age - 1\n",
        "  \n",
        "  print('You can vote')\n",
        "  "
      ]
    },
    {
      "cell_type": "code",
      "execution_count": null,
      "metadata": {
        "colab": {
          "base_uri": "https://localhost:8080/"
        },
        "id": "eKEXghlATAxI",
        "outputId": "a43cfd87-9995-4d55-f5b6-b1ca168a95ae"
      },
      "outputs": [
        {
          "name": "stdout",
          "output_type": "stream",
          "text": [
            "Less than 5\n",
            "Less than 5\n",
            "Less than 5\n",
            "Less than 5\n",
            "Less than 5\n"
          ]
        }
      ],
      "source": [
        "for i in range(1, 10):\n",
        "    if i < 5:\n",
        "        continue\n",
        "    else:\n",
        "        print('Less than 5')"
      ]
    },
    {
      "cell_type": "code",
      "execution_count": null,
      "metadata": {
        "id": "6mAfBFaVvDtf"
      },
      "outputs": [],
      "source": [
        "# Example: Print numbers less than 50 (While)\n",
        "# Count the total number of digits in a number (75669) -- output - 5\n"
      ]
    },
    {
      "cell_type": "markdown",
      "metadata": {
        "id": "Uyr53DYNo8tR"
      },
      "source": [
        "3_Feb_2023"
      ]
    },
    {
      "cell_type": "code",
      "execution_count": null,
      "metadata": {
        "id": "7MVcVTcuo3x5"
      },
      "outputs": [],
      "source": [
        "# String\n",
        "# str --> string (abcdi)\n",
        "\n",
        "# Data Types(str, int, float, bool) and Data Structure(list) has their own functions."
      ]
    },
    {
      "cell_type": "code",
      "source": [
        "a = ['SHweta', 'Ankit', 'Payhon']\n"
      ],
      "metadata": {
        "id": "uiN5Wh_7L3KV"
      },
      "execution_count": null,
      "outputs": []
    },
    {
      "cell_type": "code",
      "execution_count": null,
      "metadata": {
        "colab": {
          "base_uri": "https://localhost:8080/"
        },
        "id": "92v1ivxIo312",
        "outputId": "3fd393db-c59e-4f3d-99df-dd3e9c40cf7c"
      },
      "outputs": [
        {
          "data": {
            "text/plain": [
              "['Uttam', 'Grade', 'at', 'Edyoda']"
            ]
          },
          "execution_count": 6,
          "metadata": {},
          "output_type": "execute_result"
        }
      ],
      "source": [
        "a = \"Uttam/Grade/at/Edyoda\"\n",
        "a.split('/')"
      ]
    },
    {
      "cell_type": "code",
      "execution_count": null,
      "metadata": {
        "colab": {
          "base_uri": "https://localhost:8080/"
        },
        "id": "zZZrT1FOo37F",
        "outputId": "4cf11854-2984-4bad-cb46-42537106717e"
      },
      "outputs": [
        {
          "data": {
            "text/plain": [
              "['1', '34']"
            ]
          },
          "execution_count": 8,
          "metadata": {},
          "output_type": "execute_result"
        }
      ],
      "source": [
        "b = '1234'\n",
        "b.split('2')"
      ]
    },
    {
      "cell_type": "code",
      "execution_count": null,
      "metadata": {
        "colab": {
          "base_uri": "https://localhost:8080/",
          "height": 35
        },
        "id": "zX8OE9Puo3-G",
        "outputId": "69ed0241-8703-4415-ce07-70e31292440d"
      },
      "outputs": [
        {
          "data": {
            "application/vnd.google.colaboratory.intrinsic+json": {
              "type": "string"
            },
            "text/plain": [
              "'U-t-t-a-m- -G-r-a-d-e- -s-a-i- -c-h-a-r-a-n'"
            ]
          },
          "execution_count": 9,
          "metadata": {},
          "output_type": "execute_result"
        }
      ],
      "source": [
        "# JOIN\n",
        "c = 'Uttam Grade sai charan'\n",
        "\n",
        "'-'.join(c)"
      ]
    },
    {
      "cell_type": "code",
      "execution_count": null,
      "metadata": {
        "colab": {
          "base_uri": "https://localhost:8080/",
          "height": 35
        },
        "id": "KgnLDEgpo4CN",
        "outputId": "97e9a188-26b1-441f-8f03-771bcfbe57fd"
      },
      "outputs": [
        {
          "data": {
            "application/vnd.google.colaboratory.intrinsic+json": {
              "type": "string"
            },
            "text/plain": [
              "' Gr'"
            ]
          },
          "execution_count": 13,
          "metadata": {},
          "output_type": "execute_result"
        }
      ],
      "source": [
        "d = 'Uttam Grade'\n",
        "d[5:8] # Indexing "
      ]
    },
    {
      "cell_type": "code",
      "execution_count": null,
      "metadata": {
        "colab": {
          "base_uri": "https://localhost:8080/",
          "height": 184
        },
        "id": "0tMN6dXYo4Fw",
        "outputId": "704f3646-fb15-46a1-aede-7447bbc21464"
      },
      "outputs": [
        {
          "ename": "TypeError",
          "evalue": "ignored",
          "output_type": "error",
          "traceback": [
            "\u001b[0;31m---------------------------------------------------------------------------\u001b[0m",
            "\u001b[0;31mTypeError\u001b[0m                                 Traceback (most recent call last)",
            "\u001b[0;32m<ipython-input-16-a074d887a5e2>\u001b[0m in \u001b[0;36m<module>\u001b[0;34m\u001b[0m\n\u001b[1;32m      1\u001b[0m \u001b[0;31m# Replace a character in string\u001b[0m\u001b[0;34m\u001b[0m\u001b[0;34m\u001b[0m\u001b[0;34m\u001b[0m\u001b[0m\n\u001b[0;32m----> 2\u001b[0;31m \u001b[0md\u001b[0m\u001b[0;34m[\u001b[0m\u001b[0;36m0\u001b[0m\u001b[0;34m]\u001b[0m \u001b[0;34m=\u001b[0m \u001b[0;34m'S'\u001b[0m\u001b[0;34m\u001b[0m\u001b[0;34m\u001b[0m\u001b[0m\n\u001b[0m",
            "\u001b[0;31mTypeError\u001b[0m: 'str' object does not support item assignment"
          ]
        }
      ],
      "source": [
        "# Replace a character in string\n",
        "d[0] = 'S'"
      ]
    },
    {
      "cell_type": "code",
      "execution_count": null,
      "metadata": {
        "colab": {
          "base_uri": "https://localhost:8080/",
          "height": 35
        },
        "id": "23JAeEcro4KU",
        "outputId": "91823330-b73b-4c18-e69b-8d2be63f192d"
      },
      "outputs": [
        {
          "data": {
            "application/vnd.google.colaboratory.intrinsic+json": {
              "type": "string"
            },
            "text/plain": [
              "'UTTAM'"
            ]
          },
          "execution_count": 18,
          "metadata": {},
          "output_type": "execute_result"
        }
      ],
      "source": [
        "# upper, lower, capitalize()\n",
        "\n",
        "a = 'uttam'\n",
        "a.upper()"
      ]
    },
    {
      "cell_type": "code",
      "execution_count": null,
      "metadata": {
        "colab": {
          "base_uri": "https://localhost:8080/",
          "height": 35
        },
        "id": "Q-yQqy7Ko4NK",
        "outputId": "b0f72c46-2388-4828-d3d3-61c9cd587e8a"
      },
      "outputs": [
        {
          "data": {
            "application/vnd.google.colaboratory.intrinsic+json": {
              "type": "string"
            },
            "text/plain": [
              "'ashique'"
            ]
          },
          "execution_count": 19,
          "metadata": {},
          "output_type": "execute_result"
        }
      ],
      "source": [
        "b = 'ASHIQUE'\n",
        "b.lower()"
      ]
    },
    {
      "cell_type": "code",
      "execution_count": null,
      "metadata": {
        "colab": {
          "base_uri": "https://localhost:8080/",
          "height": 35
        },
        "id": "t1gOhctIvDxi",
        "outputId": "1505dc25-661d-48b8-8dfd-65bb26e2137e"
      },
      "outputs": [
        {
          "data": {
            "application/vnd.google.colaboratory.intrinsic+json": {
              "type": "string"
            },
            "text/plain": [
              "'Shruti'"
            ]
          },
          "execution_count": 20,
          "metadata": {},
          "output_type": "execute_result"
        }
      ],
      "source": [
        "c = 'shruti'\n",
        "c.capitalize()"
      ]
    },
    {
      "cell_type": "code",
      "execution_count": null,
      "metadata": {
        "colab": {
          "base_uri": "https://localhost:8080/",
          "height": 35
        },
        "id": "a9knjDeUvD4R",
        "outputId": "c043c284-70f1-4adc-a2d9-372976eedf45"
      },
      "outputs": [
        {
          "data": {
            "application/vnd.google.colaboratory.intrinsic+json": {
              "type": "string"
            },
            "text/plain": [
              "'Omkar'"
            ]
          },
          "execution_count": 22,
          "metadata": {},
          "output_type": "execute_result"
        }
      ],
      "source": [
        "d = 'OMKAR'\n",
        "d.title()"
      ]
    },
    {
      "cell_type": "code",
      "execution_count": null,
      "metadata": {
        "colab": {
          "base_uri": "https://localhost:8080/"
        },
        "id": "N59EVTNVvD-n",
        "outputId": "f3901d49-0a35-4c7c-b508-e404b5aa1abe"
      },
      "outputs": [
        {
          "data": {
            "text/plain": [
              "False"
            ]
          },
          "execution_count": 25,
          "metadata": {},
          "output_type": "execute_result"
        }
      ],
      "source": [
        "# islower()\n",
        "e = \"Uttam\"\n",
        "e.islower()"
      ]
    },
    {
      "cell_type": "code",
      "execution_count": null,
      "metadata": {
        "colab": {
          "base_uri": "https://localhost:8080/"
        },
        "id": "VJ9twJb6vEDt",
        "outputId": "d5862b02-2c8d-46f5-abc1-cc3e1dfcb5cc"
      },
      "outputs": [
        {
          "data": {
            "text/plain": [
              "False"
            ]
          },
          "execution_count": 26,
          "metadata": {},
          "output_type": "execute_result"
        }
      ],
      "source": [
        "# isupper()\n",
        "f = 'Shruti'\n",
        "f.isupper()"
      ]
    },
    {
      "cell_type": "code",
      "execution_count": null,
      "metadata": {
        "colab": {
          "base_uri": "https://localhost:8080/",
          "height": 35
        },
        "id": "FevUM7dGvEJL",
        "outputId": "2abadbf5-4109-44e5-c091-c6f7f5dbe664"
      },
      "outputs": [
        {
          "data": {
            "application/vnd.google.colaboratory.intrinsic+json": {
              "type": "string"
            },
            "text/plain": [
              "'Engine Learning'"
            ]
          },
          "execution_count": 27,
          "metadata": {},
          "output_type": "execute_result"
        }
      ],
      "source": [
        "# Replace \n",
        "r = 'Machine Learning'\n",
        "\n",
        "r.replace(\"Machine\", 'Engine')"
      ]
    },
    {
      "cell_type": "code",
      "execution_count": null,
      "metadata": {
        "colab": {
          "base_uri": "https://localhost:8080/",
          "height": 35
        },
        "id": "xlERWTgL02jM",
        "outputId": "cfa22940-864f-46ff-e333-dcb571b1ca06"
      },
      "outputs": [
        {
          "data": {
            "application/vnd.google.colaboratory.intrinsic+json": {
              "type": "string"
            },
            "text/plain": [
              "'Kabhi Mishra'"
            ]
          },
          "execution_count": 28,
          "metadata": {},
          "output_type": "execute_result"
        }
      ],
      "source": [
        "'Abhi Mishra'.replace('Abhi', 'Kabhi')"
      ]
    },
    {
      "cell_type": "code",
      "execution_count": null,
      "metadata": {
        "id": "_eu2hy8802rP"
      },
      "outputs": [],
      "source": [
        "y = 'Yashini'\n",
        "y = y.replace('Y', 'z')"
      ]
    },
    {
      "cell_type": "code",
      "execution_count": null,
      "metadata": {
        "colab": {
          "base_uri": "https://localhost:8080/"
        },
        "id": "62oAxj_i02zL",
        "outputId": "590f2e2b-8a21-4f61-cbb7-946895c68d9b"
      },
      "outputs": [
        {
          "name": "stdout",
          "output_type": "stream",
          "text": [
            "zashini\n"
          ]
        }
      ],
      "source": [
        "print(y)"
      ]
    },
    {
      "cell_type": "code",
      "execution_count": null,
      "metadata": {
        "id": "I3RPNElR02-E"
      },
      "outputs": [],
      "source": [
        "v = 'Vinay Meena'\n",
        "v = v.replace('a', 'k')"
      ]
    },
    {
      "cell_type": "code",
      "execution_count": null,
      "metadata": {
        "colab": {
          "base_uri": "https://localhost:8080/",
          "height": 35
        },
        "id": "NtUm0Ejc03HM",
        "outputId": "bc7f93b2-a0c4-4c37-c08a-49a8864806b4"
      },
      "outputs": [
        {
          "data": {
            "application/vnd.google.colaboratory.intrinsic+json": {
              "type": "string"
            },
            "text/plain": [
              "'Vinky Meenk'"
            ]
          },
          "execution_count": 36,
          "metadata": {},
          "output_type": "execute_result"
        }
      ],
      "source": [
        "v"
      ]
    },
    {
      "cell_type": "code",
      "execution_count": null,
      "metadata": {
        "colab": {
          "base_uri": "https://localhost:8080/"
        },
        "id": "Af3zzckl03N-",
        "outputId": "c91106e2-5d27-4eb9-db35-27cd2666e651"
      },
      "outputs": [
        {
          "output_type": "execute_result",
          "data": {
            "text/plain": [
              "2"
            ]
          },
          "metadata": {},
          "execution_count": 51
        }
      ],
      "source": [
        "# count\n",
        "a = 'Uttam'\n",
        "a.count('t')"
      ]
    },
    {
      "cell_type": "code",
      "execution_count": null,
      "metadata": {
        "colab": {
          "base_uri": "https://localhost:8080/"
        },
        "id": "SI_Rm5T-03T4",
        "outputId": "4a8ba97b-4272-4c38-b4d7-fb310c8294db"
      },
      "outputs": [
        {
          "data": {
            "text/plain": [
              "5"
            ]
          },
          "execution_count": 43,
          "metadata": {},
          "output_type": "execute_result"
        }
      ],
      "source": [
        "len(a)"
      ]
    },
    {
      "cell_type": "code",
      "execution_count": null,
      "metadata": {
        "colab": {
          "base_uri": "https://localhost:8080/"
        },
        "id": "3MS5AQLq03YR",
        "outputId": "07fd7a52-a2d0-4cf3-e524-e6ae0d796e96"
      },
      "outputs": [
        {
          "output_type": "execute_result",
          "data": {
            "text/plain": [
              "2"
            ]
          },
          "metadata": {},
          "execution_count": 53
        }
      ],
      "source": [
        "# Find\n",
        "f = 'Uattam'\n",
        "f.find('tt')"
      ]
    },
    {
      "cell_type": "code",
      "execution_count": null,
      "metadata": {
        "id": "Xi2iFFVi03eg",
        "colab": {
          "base_uri": "https://localhost:8080/"
        },
        "outputId": "b2491299-6f56-42c5-ac89-c9a2255c7606"
      },
      "outputs": [
        {
          "output_type": "execute_result",
          "data": {
            "text/plain": [
              "1"
            ]
          },
          "metadata": {},
          "execution_count": 56
        }
      ],
      "source": [
        "m = 'Moanoo'\n",
        "m.find('o')"
      ]
    },
    {
      "cell_type": "code",
      "execution_count": null,
      "metadata": {
        "id": "hu3xUNqk03lj",
        "colab": {
          "base_uri": "https://localhost:8080/"
        },
        "outputId": "1cd43891-c4d8-4fa5-9f42-e03bafb3f3fa"
      },
      "outputs": [
        {
          "output_type": "execute_result",
          "data": {
            "text/plain": [
              "3"
            ]
          },
          "metadata": {},
          "execution_count": 62
        }
      ],
      "source": [
        "# Find and Count\n",
        "c = 'Artificial'\n",
        "c.count('i') # how manny times i is occuring"
      ]
    },
    {
      "cell_type": "code",
      "source": [
        "c.find('ia') # index value"
      ],
      "metadata": {
        "colab": {
          "base_uri": "https://localhost:8080/"
        },
        "id": "f330oIF15eiu",
        "outputId": "66485fe4-e2dc-4040-b6f2-398c50591838"
      },
      "execution_count": null,
      "outputs": [
        {
          "output_type": "execute_result",
          "data": {
            "text/plain": [
              "7"
            ]
          },
          "metadata": {},
          "execution_count": 59
        }
      ]
    },
    {
      "cell_type": "code",
      "source": [
        "a=\"a/b/c/d/e\"\n",
        "a = a.split(\"/\")\n"
      ],
      "metadata": {
        "id": "aPEay-uf5enL"
      },
      "execution_count": null,
      "outputs": []
    },
    {
      "cell_type": "code",
      "source": [
        "for i in a:\n",
        " print(i)   #output is not as per my expectation"
      ],
      "metadata": {
        "colab": {
          "base_uri": "https://localhost:8080/"
        },
        "id": "BfN_ZjGB5etP",
        "outputId": "ad5106bc-aa25-4990-ab1f-8bb57652d0e3"
      },
      "execution_count": null,
      "outputs": [
        {
          "output_type": "stream",
          "name": "stdout",
          "text": [
            "a\n",
            "b\n",
            "c\n",
            "d\n",
            "e\n"
          ]
        }
      ]
    },
    {
      "cell_type": "markdown",
      "source": [
        "06_Feb"
      ],
      "metadata": {
        "id": "6w7cfHP1Dciw"
      }
    },
    {
      "cell_type": "code",
      "source": [
        "a = 123\n",
        "id(a)"
      ],
      "metadata": {
        "id": "-fTDWyKD5e06",
        "colab": {
          "base_uri": "https://localhost:8080/"
        },
        "outputId": "3703808f-b2c5-440b-809c-283dd86e3818"
      },
      "execution_count": null,
      "outputs": [
        {
          "output_type": "execute_result",
          "data": {
            "text/plain": [
              "9796992"
            ]
          },
          "metadata": {},
          "execution_count": 8
        }
      ]
    },
    {
      "cell_type": "code",
      "source": [
        "c = (1,2,3)\n",
        "type(c)"
      ],
      "metadata": {
        "colab": {
          "base_uri": "https://localhost:8080/"
        },
        "id": "EV3m5jRcKNt9",
        "outputId": "fd7ec3d2-4b42-4f78-f62f-7958c7ed8e5a"
      },
      "execution_count": null,
      "outputs": [
        {
          "output_type": "execute_result",
          "data": {
            "text/plain": [
              "tuple"
            ]
          },
          "metadata": {},
          "execution_count": 9
        }
      ]
    },
    {
      "cell_type": "code",
      "source": [
        "\n",
        "b =  [(1,2,3),{1,1,1,2},\"This Question is Easy Please don't skip it\",3.14]\n",
        "id(b)\n",
        "\n",
        "# 3 int objects 1,2,3\n",
        "# 1 string object \n",
        "# 1 float object 3.14\n",
        "# 1 tuple\n",
        "# 1 list\n",
        "# 1 set"
      ],
      "metadata": {
        "colab": {
          "base_uri": "https://localhost:8080/"
        },
        "id": "yq6nD1g4DfBU",
        "outputId": "5e0d2495-0d0e-4596-e883-c5c7a3a1e470"
      },
      "execution_count": null,
      "outputs": [
        {
          "output_type": "execute_result",
          "data": {
            "text/plain": [
              "140472549771968"
            ]
          },
          "metadata": {},
          "execution_count": 2
        }
      ]
    },
    {
      "cell_type": "code",
      "source": [
        "{'Uttam': 123}"
      ],
      "metadata": {
        "id": "gahfnFWLDfIi"
      },
      "execution_count": null,
      "outputs": []
    },
    {
      "cell_type": "code",
      "source": [
        "# List, [], list"
      ],
      "metadata": {
        "id": "WUZggnjlDfRL"
      },
      "execution_count": null,
      "outputs": []
    },
    {
      "cell_type": "code",
      "source": [
        "l = [\"machine learning\", True, 45, 12.4]\n",
        "l[0][0:5]"
      ],
      "metadata": {
        "colab": {
          "base_uri": "https://localhost:8080/",
          "height": 35
        },
        "id": "MblCu2UbDfYx",
        "outputId": "7138b899-22f1-43d5-f4bb-a83b1ef04372"
      },
      "execution_count": null,
      "outputs": [
        {
          "output_type": "execute_result",
          "data": {
            "text/plain": [
              "'machi'"
            ],
            "application/vnd.google.colaboratory.intrinsic+json": {
              "type": "string"
            }
          },
          "metadata": {},
          "execution_count": 13
        }
      ]
    },
    {
      "cell_type": "code",
      "source": [
        "z = ['Anisha', \"234\", \"56.3\", \"False\"]\n",
        "z[1][1]"
      ],
      "metadata": {
        "colab": {
          "base_uri": "https://localhost:8080/",
          "height": 35
        },
        "id": "JwGluAmNDffb",
        "outputId": "f6812226-5f0f-484c-f10a-9d9f1ace5e14"
      },
      "execution_count": null,
      "outputs": [
        {
          "output_type": "execute_result",
          "data": {
            "text/plain": [
              "'3'"
            ],
            "application/vnd.google.colaboratory.intrinsic+json": {
              "type": "string"
            }
          },
          "metadata": {},
          "execution_count": 22
        }
      ]
    },
    {
      "cell_type": "code",
      "source": [
        "ritesh = [1,2,3,4,\"Uttam\",'Shweta','Tiwari']\n",
        "ritesh[-2][3:5]"
      ],
      "metadata": {
        "colab": {
          "base_uri": "https://localhost:8080/",
          "height": 35
        },
        "id": "1Z37bzx-Dfk6",
        "outputId": "ffd8c30b-2fa5-4de2-898b-0b8ba1a9e9ad"
      },
      "execution_count": null,
      "outputs": [
        {
          "output_type": "execute_result",
          "data": {
            "text/plain": [
              "'et'"
            ],
            "application/vnd.google.colaboratory.intrinsic+json": {
              "type": "string"
            }
          },
          "metadata": {},
          "execution_count": 28
        }
      ]
    },
    {
      "cell_type": "code",
      "source": [
        "# Append (Add)\n",
        "m = ['Uttam', 'Grade', \"Edyoda\"]\n",
        "m.append('Machine')"
      ],
      "metadata": {
        "id": "hkSwkjouDfpW"
      },
      "execution_count": null,
      "outputs": []
    },
    {
      "cell_type": "code",
      "source": [
        "m"
      ],
      "metadata": {
        "colab": {
          "base_uri": "https://localhost:8080/"
        },
        "id": "To885vbrDfxi",
        "outputId": "e66933e5-0840-4d6c-c227-4d837af74a95"
      },
      "execution_count": null,
      "outputs": [
        {
          "output_type": "execute_result",
          "data": {
            "text/plain": [
              "['Uttam', 'Grade', 'Edyoda', 'Machine']"
            ]
          },
          "metadata": {},
          "execution_count": 30
        }
      ]
    },
    {
      "cell_type": "code",
      "source": [
        "a = [1,2,3,4,5,'Mahesh']\n",
        "\n",
        "a.append(40)"
      ],
      "metadata": {
        "id": "pMF_E49CDf6P"
      },
      "execution_count": null,
      "outputs": []
    },
    {
      "cell_type": "code",
      "source": [
        "print(a)"
      ],
      "metadata": {
        "colab": {
          "base_uri": "https://localhost:8080/"
        },
        "id": "WgKl6ftbDf_k",
        "outputId": "c315cdd2-5d36-4d2c-b390-263d58a22d06"
      },
      "execution_count": null,
      "outputs": [
        {
          "output_type": "stream",
          "name": "stdout",
          "text": [
            "[1, 2, 3, 4, 5, 'Mahesh', 40]\n"
          ]
        }
      ]
    },
    {
      "cell_type": "code",
      "source": [
        "b = [1,2,3]\n",
        "\n",
        "b.append()"
      ],
      "metadata": {
        "id": "o0DbDzPZDgD2"
      },
      "execution_count": null,
      "outputs": []
    },
    {
      "cell_type": "code",
      "source": [
        "b"
      ],
      "metadata": {
        "colab": {
          "base_uri": "https://localhost:8080/"
        },
        "id": "ENxnkR5_DgJg",
        "outputId": "d1c2cbef-ee0d-496e-c26b-ba99c068f8cd"
      },
      "execution_count": null,
      "outputs": [
        {
          "output_type": "execute_result",
          "data": {
            "text/plain": [
              "[1, 2, 3, [4, 5, 6]]"
            ]
          },
          "metadata": {},
          "execution_count": 40
        }
      ]
    },
    {
      "cell_type": "code",
      "source": [
        "c = [10,20,30]\n",
        "c.extend([40,50,60])"
      ],
      "metadata": {
        "id": "cdRKFwSVDgOt"
      },
      "execution_count": null,
      "outputs": []
    },
    {
      "cell_type": "code",
      "source": [
        "c"
      ],
      "metadata": {
        "colab": {
          "base_uri": "https://localhost:8080/"
        },
        "id": "EBzeKsuPDgUz",
        "outputId": "5a3701c4-e57a-4a93-c302-07527bb78f84"
      },
      "execution_count": null,
      "outputs": [
        {
          "output_type": "execute_result",
          "data": {
            "text/plain": [
              "[10, 20, 30, 40, 50, 60]"
            ]
          },
          "metadata": {},
          "execution_count": 44
        }
      ]
    },
    {
      "cell_type": "code",
      "source": [
        "app = [100,200]\n",
        "app.append([300])\n",
        "print(app)"
      ],
      "metadata": {
        "id": "iMPXl9Qg5e5y",
        "colab": {
          "base_uri": "https://localhost:8080/"
        },
        "outputId": "19846a93-35dd-4b86-c663-5b905ee94846"
      },
      "execution_count": null,
      "outputs": [
        {
          "output_type": "stream",
          "name": "stdout",
          "text": [
            "[100, 200, [300]]\n"
          ]
        }
      ]
    },
    {
      "cell_type": "code",
      "source": [
        "ext = [100,200, 300]\n",
        "ext.extend([300, 300])\n",
        "print(ext)"
      ],
      "metadata": {
        "colab": {
          "base_uri": "https://localhost:8080/"
        },
        "id": "hpUfCSXNSS4N",
        "outputId": "bccc17ae-8a65-47f5-c50f-f0075e5f00c0"
      },
      "execution_count": null,
      "outputs": [
        {
          "output_type": "stream",
          "name": "stdout",
          "text": [
            "[100, 200, 300, 300, 300]\n"
          ]
        }
      ]
    },
    {
      "cell_type": "code",
      "source": [
        "ris = ['Prabhu','Deva', 'Prasann']\n",
        "ris.insert(1,'Shweta')"
      ],
      "metadata": {
        "id": "Lgy4tRasSS7F"
      },
      "execution_count": null,
      "outputs": []
    },
    {
      "cell_type": "code",
      "source": [
        "ris"
      ],
      "metadata": {
        "colab": {
          "base_uri": "https://localhost:8080/"
        },
        "id": "KuHyF66MSS91",
        "outputId": "358eafed-0fec-4413-b2c0-84b1bc9de9a7"
      },
      "execution_count": null,
      "outputs": [
        {
          "output_type": "execute_result",
          "data": {
            "text/plain": [
              "['Prabhu', 'Shweta', 'Deva', 'Prasann']"
            ]
          },
          "metadata": {},
          "execution_count": 51
        }
      ]
    },
    {
      "cell_type": "code",
      "source": [
        "a = [1,2,3]\n",
        "a.insert(2, 'Uttam')"
      ],
      "metadata": {
        "id": "hGvtj_OfSTA-"
      },
      "execution_count": null,
      "outputs": []
    },
    {
      "cell_type": "code",
      "source": [
        "a"
      ],
      "metadata": {
        "colab": {
          "base_uri": "https://localhost:8080/"
        },
        "id": "MDTnAI0DSTDt",
        "outputId": "d69f5deb-d3d9-44d8-dd57-7bf84c533b2f"
      },
      "execution_count": null,
      "outputs": [
        {
          "output_type": "execute_result",
          "data": {
            "text/plain": [
              "[1, 2, 'Uttam', 3]"
            ]
          },
          "metadata": {},
          "execution_count": 53
        }
      ]
    },
    {
      "cell_type": "code",
      "source": [
        "txt = \"My name is Ståle\"\n",
        "\n",
        "x = txt.encode()\n",
        "\n",
        "print(x)\n"
      ],
      "metadata": {
        "colab": {
          "base_uri": "https://localhost:8080/"
        },
        "id": "xQxGdq-AWCDK",
        "outputId": "3751c3a6-e162-4042-ceaf-308b8dd4b04e"
      },
      "execution_count": null,
      "outputs": [
        {
          "output_type": "stream",
          "name": "stdout",
          "text": [
            "b'My name is St\\xc3\\xa5le'\n"
          ]
        }
      ]
    },
    {
      "cell_type": "code",
      "source": [],
      "metadata": {
        "id": "bssI-nG8WCKc"
      },
      "execution_count": null,
      "outputs": []
    },
    {
      "cell_type": "markdown",
      "source": [
        "07_Feb_2023"
      ],
      "metadata": {
        "id": "Qy0AglBTOQ3O"
      }
    },
    {
      "cell_type": "code",
      "source": [
        "# delete operations in lists -----------> ctrl + ?\n",
        "# sort,index,count in lists\n",
        "# insert in lists\n",
        "# about tuples\n",
        "# dictionaries and it's builtin"
      ],
      "metadata": {
        "id": "0T4wH0aOWCO4"
      },
      "execution_count": null,
      "outputs": []
    },
    {
      "cell_type": "code",
      "source": [
        "a = [1,2,3, 'Uttam', 'Grade', 'Machine Learning']\n",
        "# remove\n",
        "a.remove(\"Uttam\")"
      ],
      "metadata": {
        "id": "FEfkCC3sOTte"
      },
      "execution_count": null,
      "outputs": []
    },
    {
      "cell_type": "code",
      "source": [
        "a"
      ],
      "metadata": {
        "colab": {
          "base_uri": "https://localhost:8080/"
        },
        "id": "7oMG4x5ZOTwP",
        "outputId": "054e87c9-9b63-497d-b0fc-85c135fdaf9f"
      },
      "execution_count": null,
      "outputs": [
        {
          "output_type": "execute_result",
          "data": {
            "text/plain": [
              "[1, 2, 3, 'Grade', 'Machine Learning']"
            ]
          },
          "metadata": {},
          "execution_count": 2
        }
      ]
    },
    {
      "cell_type": "code",
      "source": [
        "# pop\n",
        "a.pop(2)"
      ],
      "metadata": {
        "colab": {
          "base_uri": "https://localhost:8080/"
        },
        "id": "b3gVD3iSOT1N",
        "outputId": "6454be69-d3da-49f7-9703-39a8bc0a879c"
      },
      "execution_count": null,
      "outputs": [
        {
          "output_type": "execute_result",
          "data": {
            "text/plain": [
              "3"
            ]
          },
          "metadata": {},
          "execution_count": 4
        }
      ]
    },
    {
      "cell_type": "code",
      "source": [
        "a"
      ],
      "metadata": {
        "colab": {
          "base_uri": "https://localhost:8080/"
        },
        "id": "IDtkhFKFOT5n",
        "outputId": "d86ab244-4d7d-41f1-ce7c-a5c0d4d3f079"
      },
      "execution_count": null,
      "outputs": [
        {
          "output_type": "execute_result",
          "data": {
            "text/plain": [
              "[1, 2, 'Grade', 'Machine Learning']"
            ]
          },
          "metadata": {},
          "execution_count": 5
        }
      ]
    },
    {
      "cell_type": "code",
      "source": [
        "b = ['Shruti', 'Nividita',True, 'Bheem']\n",
        "b.append(56)"
      ],
      "metadata": {
        "id": "60wYya5EOT85"
      },
      "execution_count": null,
      "outputs": []
    },
    {
      "cell_type": "code",
      "source": [
        "b"
      ],
      "metadata": {
        "colab": {
          "base_uri": "https://localhost:8080/"
        },
        "id": "zX5F4ZDxOUAn",
        "outputId": "e33ee9da-f60e-424d-88b0-09da618c9128"
      },
      "execution_count": null,
      "outputs": [
        {
          "output_type": "execute_result",
          "data": {
            "text/plain": [
              "['Shruti', 'Nividita', True, 'Bheem', 1]"
            ]
          },
          "metadata": {},
          "execution_count": 13
        }
      ]
    },
    {
      "cell_type": "code",
      "source": [
        "b.extend([1,2])"
      ],
      "metadata": {
        "id": "1ZgSUV8LOUDZ"
      },
      "execution_count": null,
      "outputs": []
    },
    {
      "cell_type": "code",
      "source": [
        "b.remove(2) # Actual element value"
      ],
      "metadata": {
        "id": "hl5xrVKJOUGb"
      },
      "execution_count": null,
      "outputs": []
    },
    {
      "cell_type": "code",
      "source": [
        "b.pop(4) # It will take index value"
      ],
      "metadata": {
        "colab": {
          "base_uri": "https://localhost:8080/"
        },
        "id": "hNMpLapnOUKl",
        "outputId": "4df71fd5-fb51-4c8f-b4ca-0032c4980aea"
      },
      "execution_count": null,
      "outputs": [
        {
          "output_type": "execute_result",
          "data": {
            "text/plain": [
              "56"
            ]
          },
          "metadata": {},
          "execution_count": 12
        }
      ]
    },
    {
      "cell_type": "code",
      "source": [
        "del b[0:5] # pass the index then it will work"
      ],
      "metadata": {
        "id": "XMmrQK5zOUOv"
      },
      "execution_count": null,
      "outputs": []
    },
    {
      "cell_type": "code",
      "source": [
        "b"
      ],
      "metadata": {
        "colab": {
          "base_uri": "https://localhost:8080/"
        },
        "id": "9KuElzGKOUSj",
        "outputId": "6937e810-f035-4c90-b682-477926fa8c8c"
      },
      "execution_count": null,
      "outputs": [
        {
          "output_type": "execute_result",
          "data": {
            "text/plain": [
              "['Nividita', True, 'Bheem', 1]"
            ]
          },
          "metadata": {},
          "execution_count": 17
        }
      ]
    },
    {
      "cell_type": "code",
      "source": [
        "b.clear() # will clear all the elements from the list"
      ],
      "metadata": {
        "id": "KLcDJLHeOUXV"
      },
      "execution_count": null,
      "outputs": []
    },
    {
      "cell_type": "code",
      "source": [
        "b"
      ],
      "metadata": {
        "colab": {
          "base_uri": "https://localhost:8080/"
        },
        "id": "-4N7JJumOUbQ",
        "outputId": "d02d0270-4f84-496c-9a72-9f35168c5779"
      },
      "execution_count": null,
      "outputs": [
        {
          "output_type": "execute_result",
          "data": {
            "text/plain": [
              "[]"
            ]
          },
          "metadata": {},
          "execution_count": 19
        }
      ]
    },
    {
      "cell_type": "code",
      "source": [
        "# Concatenate two lists \n",
        "l1 = ['Uttam', 'Ujjwal', 'Machine']\n",
        "l2 = ['Grade','Kumar', 'Aritificial']\n",
        "\n",
        "output = ['Uttam Grade', 'Ujjwal Kumar','Machine Artificial']"
      ],
      "metadata": {
        "id": "LL8uSOEqOUdo"
      },
      "execution_count": null,
      "outputs": []
    },
    {
      "cell_type": "code",
      "source": [
        "l1=[' Uttam','Ujjwal','Machine']\n",
        "l2=[' Grade',' Kumar',' Artificial']\n",
        "l3 = []\n",
        "for i in range(len(l1)):\n",
        "        l3.append(l1[i]+l2[i])\n",
        "        \n",
        "print(l3)"
      ],
      "metadata": {
        "colab": {
          "base_uri": "https://localhost:8080/"
        },
        "id": "PtVW37t1OUhK",
        "outputId": "f6ab72a8-4baa-4efd-9cd0-2ee9927b2d30"
      },
      "execution_count": null,
      "outputs": [
        {
          "output_type": "stream",
          "name": "stdout",
          "text": [
            "[' Uttam Grade', 'Ujjwal Kumar', 'Machine Artificial']\n"
          ]
        }
      ]
    },
    {
      "cell_type": "code",
      "source": [
        "l1=['uttam','ujjal','machine']\n",
        "l2=['kumar','grade','learning']\n",
        "l3 = []\n",
        "for i in range(0,3):\n",
        "    l3[3]=l1[i]+l2[i]\n",
        "print(l3)   "
      ],
      "metadata": {
        "id": "K5J8_mf3WCWq",
        "colab": {
          "base_uri": "https://localhost:8080/",
          "height": 218
        },
        "outputId": "af312375-fc48-42bd-919a-b3e7cdb2b207"
      },
      "execution_count": null,
      "outputs": [
        {
          "output_type": "error",
          "ename": "IndexError",
          "evalue": "ignored",
          "traceback": [
            "\u001b[0;31m---------------------------------------------------------------------------\u001b[0m",
            "\u001b[0;31mIndexError\u001b[0m                                Traceback (most recent call last)",
            "\u001b[0;32m<ipython-input-40-1ef0a156a47b>\u001b[0m in \u001b[0;36m<module>\u001b[0;34m\u001b[0m\n\u001b[1;32m      3\u001b[0m \u001b[0ml3\u001b[0m \u001b[0;34m=\u001b[0m \u001b[0;34m[\u001b[0m\u001b[0;34m]\u001b[0m\u001b[0;34m\u001b[0m\u001b[0;34m\u001b[0m\u001b[0m\n\u001b[1;32m      4\u001b[0m \u001b[0;32mfor\u001b[0m \u001b[0mi\u001b[0m \u001b[0;32min\u001b[0m \u001b[0mrange\u001b[0m\u001b[0;34m(\u001b[0m\u001b[0;36m0\u001b[0m\u001b[0;34m,\u001b[0m\u001b[0;36m3\u001b[0m\u001b[0;34m)\u001b[0m\u001b[0;34m:\u001b[0m\u001b[0;34m\u001b[0m\u001b[0;34m\u001b[0m\u001b[0m\n\u001b[0;32m----> 5\u001b[0;31m     \u001b[0ml3\u001b[0m\u001b[0;34m[\u001b[0m\u001b[0;36m3\u001b[0m\u001b[0;34m]\u001b[0m\u001b[0;34m=\u001b[0m\u001b[0ml1\u001b[0m\u001b[0;34m[\u001b[0m\u001b[0mi\u001b[0m\u001b[0;34m]\u001b[0m\u001b[0;34m+\u001b[0m\u001b[0ml2\u001b[0m\u001b[0;34m[\u001b[0m\u001b[0mi\u001b[0m\u001b[0;34m]\u001b[0m\u001b[0;34m\u001b[0m\u001b[0;34m\u001b[0m\u001b[0m\n\u001b[0m\u001b[1;32m      6\u001b[0m \u001b[0mprint\u001b[0m\u001b[0;34m(\u001b[0m\u001b[0ml3\u001b[0m\u001b[0;34m)\u001b[0m\u001b[0;34m\u001b[0m\u001b[0;34m\u001b[0m\u001b[0m\n",
            "\u001b[0;31mIndexError\u001b[0m: list assignment index out of range"
          ]
        }
      ]
    },
    {
      "cell_type": "code",
      "source": [
        "c = []\n",
        "c.append('Uttam')"
      ],
      "metadata": {
        "id": "2sX0lYtoV5IY"
      },
      "execution_count": null,
      "outputs": []
    },
    {
      "cell_type": "code",
      "source": [
        "# dictionary , dict, {}, store (key:value)"
      ],
      "metadata": {
        "id": "GQFc_WNBV5Ni"
      },
      "execution_count": null,
      "outputs": []
    },
    {
      "cell_type": "code",
      "source": [
        "l = [1,2,3]\n",
        "d = {\"Uttam\": 24,\n",
        "    'Ujjwal': 25,\n",
        "     'Hareesh': [1,2,3, True],\n",
        "     'Sh': 'Shweta'}"
      ],
      "metadata": {
        "id": "BznEIiqZY6Xk"
      },
      "execution_count": null,
      "outputs": []
    },
    {
      "cell_type": "code",
      "source": [
        "d"
      ],
      "metadata": {
        "colab": {
          "base_uri": "https://localhost:8080/"
        },
        "id": "r5QTRpzOY6a4",
        "outputId": "18e9836d-6ad6-4296-9542-f1339b6c8d12"
      },
      "execution_count": null,
      "outputs": [
        {
          "output_type": "execute_result",
          "data": {
            "text/plain": [
              "{'Uttam': 24, 'Ujjwal': 25, 'Hareesh': [1, 2, 3, True], 'Sh': 'Shweta'}"
            ]
          },
          "metadata": {},
          "execution_count": 42
        }
      ]
    },
    {
      "cell_type": "code",
      "source": [
        "d1 = {1: 'ML',\n",
        "      2 : 'Edyoda'}\n",
        "\n",
        "d1"
      ],
      "metadata": {
        "colab": {
          "base_uri": "https://localhost:8080/"
        },
        "id": "EKxR4j38Y6gF",
        "outputId": "b543b83c-7ffe-48ef-cb96-66802dc38a6e"
      },
      "execution_count": null,
      "outputs": [
        {
          "output_type": "execute_result",
          "data": {
            "text/plain": [
              "{1: 'ML', 2: 'Edyoda'}"
            ]
          },
          "metadata": {},
          "execution_count": 44
        }
      ]
    },
    {
      "cell_type": "code",
      "source": [
        "d2 = {1 : 'Manish',\n",
        "      1: 'Uttam',\n",
        "      1: 'shweta'\n",
        "    \n",
        "}\n",
        "d2"
      ],
      "metadata": {
        "colab": {
          "base_uri": "https://localhost:8080/"
        },
        "id": "80LuJw3JY6mp",
        "outputId": "bdee4704-eb3a-44e8-9c5b-f283f957d3a0"
      },
      "execution_count": null,
      "outputs": [
        {
          "output_type": "execute_result",
          "data": {
            "text/plain": [
              "{1: 'shweta'}"
            ]
          },
          "metadata": {},
          "execution_count": 46
        }
      ]
    },
    {
      "cell_type": "code",
      "source": [
        "b={1:'asach',2:[]}\n",
        "\n",
        "print(b)"
      ],
      "metadata": {
        "colab": {
          "base_uri": "https://localhost:8080/"
        },
        "id": "N6T5KrCpV5TS",
        "outputId": "b5411f89-b30d-4edf-cc47-ccb460da908a"
      },
      "execution_count": null,
      "outputs": [
        {
          "output_type": "stream",
          "name": "stdout",
          "text": [
            "{1: 'asach', 2: ' '}\n"
          ]
        }
      ]
    },
    {
      "cell_type": "code",
      "source": [
        "dic = {\"uttam\": [1,2,3],\n",
        "       'Hareesh':  34,\n",
        "       12 : 'Ujjwal'}\n",
        "\n",
        "dic[12]"
      ],
      "metadata": {
        "colab": {
          "base_uri": "https://localhost:8080/",
          "height": 35
        },
        "id": "ohWWY8vWV5Yy",
        "outputId": "d1d810e7-1111-4691-fa95-8d2d31290c87"
      },
      "execution_count": null,
      "outputs": [
        {
          "output_type": "execute_result",
          "data": {
            "text/plain": [
              "'Ujjwal'"
            ],
            "application/vnd.google.colaboratory.intrinsic+json": {
              "type": "string"
            }
          },
          "metadata": {},
          "execution_count": 52
        }
      ]
    },
    {
      "cell_type": "code",
      "source": [
        "dic['uttam']"
      ],
      "metadata": {
        "colab": {
          "base_uri": "https://localhost:8080/"
        },
        "id": "gTmttTkkduHb",
        "outputId": "34aa8803-e4ef-4d05-fe1f-77974f2e2e64"
      },
      "execution_count": null,
      "outputs": [
        {
          "output_type": "execute_result",
          "data": {
            "text/plain": [
              "[1, 2, 3]"
            ]
          },
          "metadata": {},
          "execution_count": 53
        }
      ]
    },
    {
      "cell_type": "code",
      "source": [
        "del dic['Hareesh']"
      ],
      "metadata": {
        "id": "k9GgerFSduKJ"
      },
      "execution_count": null,
      "outputs": []
    },
    {
      "cell_type": "code",
      "source": [
        "dic"
      ],
      "metadata": {
        "colab": {
          "base_uri": "https://localhost:8080/"
        },
        "id": "5R2jJOD-duM_",
        "outputId": "7ecfdafb-1e30-4ab9-cf16-66f9d8317294"
      },
      "execution_count": null,
      "outputs": [
        {
          "output_type": "execute_result",
          "data": {
            "text/plain": [
              "{'uttam': [1, 2, 3], 12: 'Ujjwal'}"
            ]
          },
          "metadata": {},
          "execution_count": 55
        }
      ]
    },
    {
      "cell_type": "code",
      "source": [
        "# Delete a list of keys from a dictionary\n",
        "\n",
        "sample_dict = {\n",
        "    \"name\": \"Kelly\",\n",
        "    \"age\": 25,\n",
        "    \"salary\": 8000,\n",
        "    \"city\": \"New york\"\n",
        "}\n",
        "\n",
        "# Keys to remove\n",
        "keys = [\"name\", \"salary\"]"
      ],
      "metadata": {
        "id": "sXLmrwZWduQS"
      },
      "execution_count": null,
      "outputs": []
    },
    {
      "cell_type": "code",
      "source": [
        "sample_dict[0]"
      ],
      "metadata": {
        "colab": {
          "base_uri": "https://localhost:8080/",
          "height": 166
        },
        "id": "RQ6eq0qhduWD",
        "outputId": "e53ba67a-7957-4dbb-9224-91bf9085473a"
      },
      "execution_count": null,
      "outputs": [
        {
          "output_type": "error",
          "ename": "KeyError",
          "evalue": "ignored",
          "traceback": [
            "\u001b[0;31m---------------------------------------------------------------------------\u001b[0m",
            "\u001b[0;31mKeyError\u001b[0m                                  Traceback (most recent call last)",
            "\u001b[0;32m<ipython-input-59-bec4201a7a27>\u001b[0m in \u001b[0;36m<module>\u001b[0;34m\u001b[0m\n\u001b[0;32m----> 1\u001b[0;31m \u001b[0msample_dict\u001b[0m\u001b[0;34m[\u001b[0m\u001b[0;36m0\u001b[0m\u001b[0;34m]\u001b[0m\u001b[0;34m\u001b[0m\u001b[0;34m\u001b[0m\u001b[0m\n\u001b[0m",
            "\u001b[0;31mKeyError\u001b[0m: 0"
          ]
        }
      ]
    },
    {
      "cell_type": "code",
      "source": [
        "# Change value of a key in a nested dictionary\n",
        "\n",
        "sample_dict = {\n",
        "    'emp1': {'name': 'Jhon', 'salary': 7500},\n",
        "    'emp2': {'name': 'Emma', 'salary': 8000},\n",
        "    'emp3': {'name': 'Brad', 'salary': 500}\n",
        "}"
      ],
      "metadata": {
        "id": "ZsnQ2oYGduaq"
      },
      "execution_count": null,
      "outputs": []
    },
    {
      "cell_type": "code",
      "source": [
        "sample_dict['emp1']['salary'] = [10,29,30]"
      ],
      "metadata": {
        "id": "MxGnaa6ydudl"
      },
      "execution_count": null,
      "outputs": []
    },
    {
      "cell_type": "code",
      "source": [
        "sample_dict['emp4'] = [12,3]"
      ],
      "metadata": {
        "id": "rZD1iPs0V5b6"
      },
      "execution_count": null,
      "outputs": []
    },
    {
      "cell_type": "code",
      "source": [
        "sample_dict"
      ],
      "metadata": {
        "id": "y7fmmhFYWCaN",
        "colab": {
          "base_uri": "https://localhost:8080/"
        },
        "outputId": "52c30643-3cb3-4194-cde5-03005f1352b4"
      },
      "execution_count": null,
      "outputs": [
        {
          "output_type": "execute_result",
          "data": {
            "text/plain": [
              "{'emp1': {'name': 'Uttam', 'salary': [10, 29, 30]},\n",
              " 'emp2': {'name': 'Emma', 'salary': 8000},\n",
              " 'emp3': {'name': 'Brad', 'salary': 500},\n",
              " 'emp4': [12, 3]}"
            ]
          },
          "metadata": {},
          "execution_count": 77
        }
      ]
    },
    {
      "cell_type": "code",
      "source": [
        "x = 17/2%2*3**3\n",
        "if (x>10):\n",
        "  print(x)\n",
        "  "
      ],
      "metadata": {
        "id": "E5WfnBq2j77l",
        "colab": {
          "base_uri": "https://localhost:8080/"
        },
        "outputId": "b9e9e87f-54f4-4db5-9931-67c2210cd836"
      },
      "execution_count": null,
      "outputs": [
        {
          "output_type": "stream",
          "name": "stdout",
          "text": [
            "13.5\n"
          ]
        }
      ]
    },
    {
      "cell_type": "markdown",
      "source": [
        "08_Feb_2023"
      ],
      "metadata": {
        "id": "cJmp0XUcVs6A"
      }
    },
    {
      "cell_type": "code",
      "source": [
        "word = str(input(\"enter the string : \"))\n",
        "word[-4:-1]\n",
        "#word[0:3]"
      ],
      "metadata": {
        "colab": {
          "base_uri": "https://localhost:8080/",
          "height": 53
        },
        "id": "hEgdWr-rVr7q",
        "outputId": "34518e8b-3b7c-4291-c3f5-21a4457086ae"
      },
      "execution_count": null,
      "outputs": [
        {
          "name": "stdout",
          "output_type": "stream",
          "text": [
            "enter the string : edyoda\n"
          ]
        },
        {
          "output_type": "execute_result",
          "data": {
            "text/plain": [
              "'yod'"
            ],
            "application/vnd.google.colaboratory.intrinsic+json": {
              "type": "string"
            }
          },
          "metadata": {},
          "execution_count": 3
        }
      ]
    },
    {
      "cell_type": "code",
      "source": [
        "sake =int(input(\"enter the series\"))\n",
        "sake1 =int(input(\"enter the series\"))\n",
        "sake2=int(input(\"enter the series\"))\n",
        "sake3 =int(input(\"enter the series\"))\n",
        "count=0\n",
        "count1=0\n",
        "for i in [10,20,30]:\n",
        "   if i%2==0:\n",
        "      count+=1\n",
        "   else :\n",
        "      count1+=1\n",
        "print(count,\" count of even number\")\n",
        "print(count1,\"count of odd number\")"
      ],
      "metadata": {
        "colab": {
          "base_uri": "https://localhost:8080/"
        },
        "id": "BHLunn7DVsBS",
        "outputId": "2215428a-107c-4593-d08f-cadd36e700ed"
      },
      "execution_count": null,
      "outputs": [
        {
          "output_type": "stream",
          "name": "stdout",
          "text": [
            "enter the series12\n",
            "enter the series15\n",
            "enter the series20\n",
            "enter the series56\n",
            "3  count of even number\n",
            "1 count of odd number\n"
          ]
        }
      ]
    },
    {
      "cell_type": "code",
      "source": [
        "# dictionary , dict, {}, key:value\n",
        "d = {'uttam': [1,2,3],\n",
        "     'Ujjwal': 'Harshvardhan'}"
      ],
      "metadata": {
        "id": "CpKLd5DHVsEm"
      },
      "execution_count": null,
      "outputs": []
    },
    {
      "cell_type": "code",
      "source": [
        "d['Chaitanya'] = 12"
      ],
      "metadata": {
        "id": "JPn83Z5mVsHh"
      },
      "execution_count": null,
      "outputs": []
    },
    {
      "cell_type": "code",
      "source": [
        "d = {'Nikhil': 'M.Tech',\n",
        "     'Nikhil': 'B.tech',\n",
        "     'Shweta': 'B.Com'}\n",
        "\n",
        "d"
      ],
      "metadata": {
        "colab": {
          "base_uri": "https://localhost:8080/"
        },
        "id": "38Udaq21kuTl",
        "outputId": "31d40327-19d1-47d8-b5bb-4fa666f3ecd5"
      },
      "execution_count": null,
      "outputs": [
        {
          "output_type": "execute_result",
          "data": {
            "text/plain": [
              "{'Nikhil': 'B.tech', 'Shweta': 'B.Com'}"
            ]
          },
          "metadata": {},
          "execution_count": 1
        }
      ]
    },
    {
      "cell_type": "code",
      "source": [
        "d"
      ],
      "metadata": {
        "colab": {
          "base_uri": "https://localhost:8080/"
        },
        "id": "VG3s9W7SVsLF",
        "outputId": "1eb950da-16ee-4beb-dc14-706d44ad6d2e"
      },
      "execution_count": null,
      "outputs": [
        {
          "output_type": "execute_result",
          "data": {
            "text/plain": [
              "{'uttam': [1, 2, 3], 'Ujjwal': 'Harshvardhan', 'Chaitanya': 12}"
            ]
          },
          "metadata": {},
          "execution_count": 9
        }
      ]
    },
    {
      "cell_type": "code",
      "source": [
        "del d['Chaitanya']"
      ],
      "metadata": {
        "id": "sSWU55HwVsOR"
      },
      "execution_count": null,
      "outputs": []
    },
    {
      "cell_type": "code",
      "source": [
        "l = [1,2,3, -1,-10, 1000, 50]  # sort (ascending and decending order)\n",
        "l.sort()"
      ],
      "metadata": {
        "id": "kEO8GudIVsR8"
      },
      "execution_count": null,
      "outputs": []
    },
    {
      "cell_type": "code",
      "source": [
        "l"
      ],
      "metadata": {
        "id": "bvEDXI4dj8DT",
        "colab": {
          "base_uri": "https://localhost:8080/"
        },
        "outputId": "077c36b4-a8dd-4935-9071-cd9ba7d9d213"
      },
      "execution_count": null,
      "outputs": [
        {
          "output_type": "execute_result",
          "data": {
            "text/plain": [
              "[-10, -1, 1, 2, 3, 50, 1000]"
            ]
          },
          "metadata": {},
          "execution_count": 11
        }
      ]
    },
    {
      "cell_type": "code",
      "source": [
        "l.sort(reverse = True)# decending"
      ],
      "metadata": {
        "id": "vlLKvlb9j8LH"
      },
      "execution_count": null,
      "outputs": []
    },
    {
      "cell_type": "code",
      "source": [
        "l"
      ],
      "metadata": {
        "colab": {
          "base_uri": "https://localhost:8080/"
        },
        "id": "c384JkxEb2ns",
        "outputId": "88910490-643c-4bf0-a14f-46be33c184c9"
      },
      "execution_count": null,
      "outputs": [
        {
          "output_type": "execute_result",
          "data": {
            "text/plain": [
              "[1000, 50, 3, 2, 1, -1, -10]"
            ]
          },
          "metadata": {},
          "execution_count": 13
        }
      ]
    },
    {
      "cell_type": "code",
      "source": [
        "l.index(50) # index"
      ],
      "metadata": {
        "colab": {
          "base_uri": "https://localhost:8080/"
        },
        "id": "W2m0HptQb2sg",
        "outputId": "a8d3010b-b499-434d-b7ad-6b9c0ed6ec48"
      },
      "execution_count": null,
      "outputs": [
        {
          "output_type": "execute_result",
          "data": {
            "text/plain": [
              "1"
            ]
          },
          "metadata": {},
          "execution_count": 18
        }
      ]
    },
    {
      "cell_type": "code",
      "source": [
        "y = ['Yashini', 'Shweta','Satendra','12Abhinav12','34.4']\n",
        "y.sort()"
      ],
      "metadata": {
        "id": "2Iy0vdb9b2zR"
      },
      "execution_count": null,
      "outputs": []
    },
    {
      "cell_type": "code",
      "source": [
        "y"
      ],
      "metadata": {
        "colab": {
          "base_uri": "https://localhost:8080/"
        },
        "id": "PANIRtqub25Z",
        "outputId": "97c3521c-5fd1-412e-cbe8-0640c333e861"
      },
      "execution_count": null,
      "outputs": [
        {
          "output_type": "execute_result",
          "data": {
            "text/plain": [
              "['12Abhinav12', '34.4', 'Satendra', 'Shweta', 'Yashini']"
            ]
          },
          "metadata": {},
          "execution_count": 32
        }
      ]
    },
    {
      "cell_type": "code",
      "source": [
        "# count\n",
        "a = [1,2,2,2,3,4,5,6,6,7, 'Uttam', 'Uttam']\n",
        "\n",
        "a.count('Uttam')"
      ],
      "metadata": {
        "colab": {
          "base_uri": "https://localhost:8080/"
        },
        "id": "2KcWlzI4b2-I",
        "outputId": "016b9497-d2e6-4fcf-ed53-5e32530ca02d"
      },
      "execution_count": null,
      "outputs": [
        {
          "output_type": "execute_result",
          "data": {
            "text/plain": [
              "2"
            ]
          },
          "metadata": {},
          "execution_count": 35
        }
      ]
    },
    {
      "cell_type": "code",
      "source": [
        "# Tuple is immutable ( I cannot change(add, delete, update)) once we create tuple)\n",
        "# Tuple, tuple, ()\n",
        "t = (1,2,3,4,5, 'Uttam')\n",
        "type(t)  # if we want to change in to my immutable first we have to convert into \n",
        "# another datastructure (list) and add a values then convert it intto \n",
        "# again immutable"
      ],
      "metadata": {
        "colab": {
          "base_uri": "https://localhost:8080/"
        },
        "id": "ljH7lpayeb_R",
        "outputId": "d1b93a0f-0c42-4168-d617-0198a4feb1fb"
      },
      "execution_count": null,
      "outputs": [
        {
          "output_type": "execute_result",
          "data": {
            "text/plain": [
              "tuple"
            ]
          },
          "metadata": {},
          "execution_count": 36
        }
      ]
    },
    {
      "cell_type": "code",
      "source": [
        "() # tuple\n",
        "print()"
      ],
      "metadata": {
        "id": "Vud5k-Vfmr-3"
      },
      "execution_count": null,
      "outputs": []
    },
    {
      "cell_type": "code",
      "source": [
        "t1 = list(t)"
      ],
      "metadata": {
        "id": "grF__N6AecIY"
      },
      "execution_count": null,
      "outputs": []
    },
    {
      "cell_type": "code",
      "source": [
        "t1.append('Hareesh')"
      ],
      "metadata": {
        "id": "pYgRHEOMecM7"
      },
      "execution_count": null,
      "outputs": []
    },
    {
      "cell_type": "code",
      "source": [
        "t1"
      ],
      "metadata": {
        "colab": {
          "base_uri": "https://localhost:8080/"
        },
        "id": "guK0jDNYecVv",
        "outputId": "84a63c37-9d02-4eb7-a7e5-6256a855c6fd"
      },
      "execution_count": null,
      "outputs": [
        {
          "output_type": "execute_result",
          "data": {
            "text/plain": [
              "[1, 2, 3, 4, 5, 'Uttam', 'Hareesh']"
            ]
          },
          "metadata": {},
          "execution_count": 43
        }
      ]
    },
    {
      "cell_type": "code",
      "source": [
        "t = tuple(t1)"
      ],
      "metadata": {
        "id": "0PtV1IAFeceZ"
      },
      "execution_count": null,
      "outputs": []
    },
    {
      "cell_type": "code",
      "source": [
        "t"
      ],
      "metadata": {
        "colab": {
          "base_uri": "https://localhost:8080/"
        },
        "id": "MhwFi059eckP",
        "outputId": "0eb385fa-44c9-48f5-e2fe-52f5b66870be"
      },
      "execution_count": null,
      "outputs": [
        {
          "output_type": "execute_result",
          "data": {
            "text/plain": [
              "(1, 2, 3, 4, 5, 'Uttam', 'Hareesh')"
            ]
          },
          "metadata": {},
          "execution_count": 45
        }
      ]
    },
    {
      "cell_type": "code",
      "source": [
        "mano = ('a', 'b', 'c')\n",
        "type(mano)"
      ],
      "metadata": {
        "colab": {
          "base_uri": "https://localhost:8080/"
        },
        "id": "jRH8gpvzecoj",
        "outputId": "193a0771-6e91-49bd-c3cb-b4be08ca9b4c"
      },
      "execution_count": null,
      "outputs": [
        {
          "output_type": "execute_result",
          "data": {
            "text/plain": [
              "tuple"
            ]
          },
          "metadata": {},
          "execution_count": 46
        }
      ]
    },
    {
      "cell_type": "code",
      "source": [
        "mano1 = list(mano)"
      ],
      "metadata": {
        "id": "KXb3J2y6gW6i"
      },
      "execution_count": null,
      "outputs": []
    },
    {
      "cell_type": "code",
      "source": [
        "mano1.append('d')"
      ],
      "metadata": {
        "id": "r2V3iea_gXEe"
      },
      "execution_count": null,
      "outputs": []
    },
    {
      "cell_type": "code",
      "source": [
        "mano1"
      ],
      "metadata": {
        "colab": {
          "base_uri": "https://localhost:8080/"
        },
        "id": "ApOkhacugXO1",
        "outputId": "5e72fed0-1355-4e82-96ef-26993d5a5888"
      },
      "execution_count": null,
      "outputs": [
        {
          "output_type": "execute_result",
          "data": {
            "text/plain": [
              "['a', 'b', 'c', 'd']"
            ]
          },
          "metadata": {},
          "execution_count": 50
        }
      ]
    },
    {
      "cell_type": "code",
      "source": [
        "mano = tuple(mano1)"
      ],
      "metadata": {
        "id": "fIGrvDjRgXYR"
      },
      "execution_count": null,
      "outputs": []
    },
    {
      "cell_type": "code",
      "source": [
        "mano"
      ],
      "metadata": {
        "colab": {
          "base_uri": "https://localhost:8080/"
        },
        "id": "sJ9BLH4Necsu",
        "outputId": "1c440328-1e31-4ac7-d7a7-aeb33a8beac9"
      },
      "execution_count": null,
      "outputs": [
        {
          "output_type": "execute_result",
          "data": {
            "text/plain": [
              "('a', 'b', 'c', 'd')"
            ]
          },
          "metadata": {},
          "execution_count": 52
        }
      ]
    },
    {
      "cell_type": "code",
      "source": [
        "d1 = {'Shweta': 'B.Tech', \n",
        "      'Manish': 'M.Tech',\n",
        "      'Uttam': ['M.S', 'P.HD']}\n",
        "d1     "
      ],
      "metadata": {
        "colab": {
          "base_uri": "https://localhost:8080/"
        },
        "id": "1gwSHulhg3qT",
        "outputId": "a86ed8f8-6e9e-426a-e051-08f3d125d675"
      },
      "execution_count": null,
      "outputs": [
        {
          "output_type": "execute_result",
          "data": {
            "text/plain": [
              "{'Shweta': 'B.Tech', 'Manish': 'M.Tech', 'Uttam': ['M.S', 'P.HD']}"
            ]
          },
          "metadata": {},
          "execution_count": 54
        }
      ]
    },
    {
      "cell_type": "code",
      "source": [
        "d1.values()"
      ],
      "metadata": {
        "colab": {
          "base_uri": "https://localhost:8080/"
        },
        "id": "tj2rFJf3g3z7",
        "outputId": "63ed8dfc-90d8-440f-b8dd-de027fb860e3"
      },
      "execution_count": null,
      "outputs": [
        {
          "output_type": "execute_result",
          "data": {
            "text/plain": [
              "dict_values(['B.Tech', 'M.Tech', ['M.S', 'P.HD']])"
            ]
          },
          "metadata": {},
          "execution_count": 55
        }
      ]
    },
    {
      "cell_type": "code",
      "source": [
        "d1.keys()"
      ],
      "metadata": {
        "colab": {
          "base_uri": "https://localhost:8080/"
        },
        "id": "toQwqDglg37G",
        "outputId": "5703ecec-1e1b-4be3-b9c2-0db9411fde87"
      },
      "execution_count": null,
      "outputs": [
        {
          "output_type": "execute_result",
          "data": {
            "text/plain": [
              "dict_keys(['Shweta', 'Manish', 'Uttam'])"
            ]
          },
          "metadata": {},
          "execution_count": 56
        }
      ]
    },
    {
      "cell_type": "code",
      "source": [
        "d1.items()"
      ],
      "metadata": {
        "colab": {
          "base_uri": "https://localhost:8080/"
        },
        "id": "Jy3BkQ06g4BK",
        "outputId": "b517a448-d01b-4029-a3f2-4966730f17ea"
      },
      "execution_count": null,
      "outputs": [
        {
          "output_type": "execute_result",
          "data": {
            "text/plain": [
              "dict_items([('Shweta', 'B.Tech'), ('Manish', 'M.Tech'), ('Uttam', ['M.S', 'P.HD'])])"
            ]
          },
          "metadata": {},
          "execution_count": 57
        }
      ]
    },
    {
      "cell_type": "code",
      "source": [
        "z = {1: [1,2,3,4,5],\n",
        "     'Uttam': 'AI',\n",
        "     2: False}\n",
        "z"
      ],
      "metadata": {
        "colab": {
          "base_uri": "https://localhost:8080/"
        },
        "id": "CQk69PTgg4Jr",
        "outputId": "fca2b776-609a-4192-ee89-93e726b28e38"
      },
      "execution_count": null,
      "outputs": [
        {
          "output_type": "execute_result",
          "data": {
            "text/plain": [
              "{1: [1, 2, 3, 4, 5], 'Uttam': 'AI', 2: False}"
            ]
          },
          "metadata": {},
          "execution_count": 58
        }
      ]
    },
    {
      "cell_type": "code",
      "source": [
        "z.keys()"
      ],
      "metadata": {
        "colab": {
          "base_uri": "https://localhost:8080/"
        },
        "id": "Pbq3Gl9kg4Og",
        "outputId": "def33182-cb56-41f3-b30a-a9e94d0dc11c"
      },
      "execution_count": null,
      "outputs": [
        {
          "output_type": "execute_result",
          "data": {
            "text/plain": [
              "dict_keys([1, 'Uttam', 2])"
            ]
          },
          "metadata": {},
          "execution_count": 59
        }
      ]
    },
    {
      "cell_type": "code",
      "source": [
        "z.values()"
      ],
      "metadata": {
        "colab": {
          "base_uri": "https://localhost:8080/"
        },
        "id": "k2Ob8h2Gg4UI",
        "outputId": "d6b198c9-1535-48d8-df56-32d6f7bffdbd"
      },
      "execution_count": null,
      "outputs": [
        {
          "output_type": "execute_result",
          "data": {
            "text/plain": [
              "dict_values([[1, 2, 3, 4, 5], 'AI', False])"
            ]
          },
          "metadata": {},
          "execution_count": 60
        }
      ]
    },
    {
      "cell_type": "code",
      "source": [
        "z.items()"
      ],
      "metadata": {
        "colab": {
          "base_uri": "https://localhost:8080/"
        },
        "id": "U3QRew-JiJ_j",
        "outputId": "638cab68-849c-452a-e53c-23b31231ea85"
      },
      "execution_count": null,
      "outputs": [
        {
          "output_type": "execute_result",
          "data": {
            "text/plain": [
              "dict_items([(1, [1, 2, 3, 4, 5]), ('Uttam', 'AI'), (2, False)])"
            ]
          },
          "metadata": {},
          "execution_count": 61
        }
      ]
    },
    {
      "cell_type": "code",
      "source": [
        "a = (1,2,3, [4,5,6])"
      ],
      "metadata": {
        "id": "dnIoUKGZiKHU"
      },
      "execution_count": null,
      "outputs": []
    },
    {
      "cell_type": "code",
      "source": [
        "a[3][1] = 50"
      ],
      "metadata": {
        "id": "t6Znw_sgilZi"
      },
      "execution_count": null,
      "outputs": []
    },
    {
      "cell_type": "code",
      "source": [
        "a"
      ],
      "metadata": {
        "colab": {
          "base_uri": "https://localhost:8080/"
        },
        "id": "qJSCPI0silf2",
        "outputId": "423b74e4-35c2-4db6-f304-dd5a419d5f18"
      },
      "execution_count": null,
      "outputs": [
        {
          "output_type": "execute_result",
          "data": {
            "text/plain": [
              "(1, 2, 3, [4, 50, 6])"
            ]
          },
          "metadata": {},
          "execution_count": 67
        }
      ]
    },
    {
      "cell_type": "code",
      "source": [
        "for i in range(1,10):\n",
        "  print(i)"
      ],
      "metadata": {
        "colab": {
          "base_uri": "https://localhost:8080/"
        },
        "id": "ZTTsT5Xfilmh",
        "outputId": "b6a32aa4-8f60-4990-b6b1-8b512edd9563"
      },
      "execution_count": null,
      "outputs": [
        {
          "output_type": "stream",
          "name": "stdout",
          "text": [
            "1\n",
            "2\n",
            "3\n",
            "4\n",
            "5\n",
            "6\n",
            "7\n",
            "8\n",
            "9\n"
          ]
        }
      ]
    },
    {
      "cell_type": "code",
      "source": [
        "for i in 'Uttam':\n",
        "  print(i)"
      ],
      "metadata": {
        "colab": {
          "base_uri": "https://localhost:8080/"
        },
        "id": "azNgpJOFilup",
        "outputId": "1086ddd3-e2d7-4c8d-ff1e-a98a80810d50"
      },
      "execution_count": null,
      "outputs": [
        {
          "output_type": "stream",
          "name": "stdout",
          "text": [
            "U\n",
            "t\n",
            "t\n",
            "a\n",
            "m\n"
          ]
        }
      ]
    },
    {
      "cell_type": "code",
      "source": [
        "for i in \"123\":\n",
        "  print(i)"
      ],
      "metadata": {
        "colab": {
          "base_uri": "https://localhost:8080/"
        },
        "id": "kHBZR1R4il3u",
        "outputId": "2a22d116-b523-4a1c-ad6e-ff03ca51cabc"
      },
      "execution_count": null,
      "outputs": [
        {
          "output_type": "stream",
          "name": "stdout",
          "text": [
            "1\n",
            "2\n",
            "3\n"
          ]
        }
      ]
    },
    {
      "cell_type": "code",
      "source": [
        "for i in [1,2,3,4,5,6,' Uttam']:\n",
        "  print(i)"
      ],
      "metadata": {
        "colab": {
          "base_uri": "https://localhost:8080/"
        },
        "id": "gDe5729pil-4",
        "outputId": "7b061e6d-f0ca-4f33-e397-488bafba0e2e"
      },
      "execution_count": null,
      "outputs": [
        {
          "output_type": "stream",
          "name": "stdout",
          "text": [
            "1\n",
            "2\n",
            "3\n",
            "4\n",
            "5\n",
            "6\n",
            " Uttam\n"
          ]
        }
      ]
    },
    {
      "cell_type": "code",
      "source": [
        "d = {1: 'Uttam',\n",
        "     2 : 'Machine Learning',\n",
        "     3: 'ARI'}\n",
        "\n",
        "for i, j in d.items():\n",
        "  print(i , '-->', j)"
      ],
      "metadata": {
        "colab": {
          "base_uri": "https://localhost:8080/"
        },
        "id": "w6mcew5aimGZ",
        "outputId": "4de1de11-e24c-4a15-dd35-1d774cc36564"
      },
      "execution_count": null,
      "outputs": [
        {
          "output_type": "stream",
          "name": "stdout",
          "text": [
            "1 --> Uttam\n",
            "2 --> Machine Learning\n",
            "3 --> ARI\n"
          ]
        }
      ]
    },
    {
      "cell_type": "code",
      "source": [
        "sake = input(\"enter the series\").split(' ')\n",
        "count=0\n",
        "count1=0\n",
        "for i in range(0, sake):\n",
        "   if int(i)%2==0:\n",
        "      #count+=1\n",
        "      count = count + 1\n",
        "   else :\n",
        "      count1+=1\n",
        "print(count,\" count of even number\")\n",
        "print(count1,\"count of odd number\")"
      ],
      "metadata": {
        "colab": {
          "base_uri": "https://localhost:8080/"
        },
        "id": "qqpVAVkSimK7",
        "outputId": "9811ecec-f534-44b8-89ef-2b1bad242804"
      },
      "execution_count": null,
      "outputs": [
        {
          "output_type": "stream",
          "name": "stdout",
          "text": [
            "enter the series500\n",
            "250  count of even number\n",
            "250 count of odd number\n"
          ]
        }
      ]
    },
    {
      "cell_type": "markdown",
      "source": [
        "09_Feb_2023"
      ],
      "metadata": {
        "id": "nESPKtAHgWLC"
      }
    },
    {
      "cell_type": "code",
      "source": [
        "t = (1,2,3,4,5)\n",
        "for i in \"True\":\n",
        "  print(i)\n"
      ],
      "metadata": {
        "id": "vCBTyOiYimSN",
        "colab": {
          "base_uri": "https://localhost:8080/"
        },
        "outputId": "35b8ee92-a1fe-45d2-cc21-b17d9a36cd50"
      },
      "execution_count": null,
      "outputs": [
        {
          "output_type": "stream",
          "name": "stdout",
          "text": [
            "T\n",
            "r\n",
            "u\n",
            "e\n"
          ]
        }
      ]
    },
    {
      "cell_type": "code",
      "source": [
        "# Data Structure \n",
        "# LIst, list, []\n",
        "# Tuple , tuple , ()\n",
        "# Dictionary, dict, {}, key:value ( unordered)bydefault\n",
        "# Set --> set, {} # ordered ( bydefault)"
      ],
      "metadata": {
        "id": "cdfBwvEtgZUE"
      },
      "execution_count": null,
      "outputs": []
    },
    {
      "cell_type": "code",
      "source": [
        "s = {1,1,2,3,4,5,4} # values \n",
        "d = {1:'Uttam',\n",
        "     2: 'ML'} # key : value\n",
        "\n",
        "type(d)"
      ],
      "metadata": {
        "colab": {
          "base_uri": "https://localhost:8080/"
        },
        "id": "1sNTnWJlgZh0",
        "outputId": "f8b23644-a6e4-4570-e13d-20772f7b9bf7"
      },
      "execution_count": null,
      "outputs": [
        {
          "output_type": "execute_result",
          "data": {
            "text/plain": [
              "dict"
            ]
          },
          "metadata": {},
          "execution_count": 10
        }
      ]
    },
    {
      "cell_type": "code",
      "source": [
        "s  # duplicasy is not allowed in to the set"
      ],
      "metadata": {
        "colab": {
          "base_uri": "https://localhost:8080/"
        },
        "id": "B_E3jdkpgZpX",
        "outputId": "328f5f57-c7ad-4ad9-fd0d-380e9752ff66"
      },
      "execution_count": null,
      "outputs": [
        {
          "output_type": "execute_result",
          "data": {
            "text/plain": [
              "{1, 2, 3, 4, 5}"
            ]
          },
          "metadata": {},
          "execution_count": 11
        }
      ]
    },
    {
      "cell_type": "code",
      "source": [
        "s1 = {'uttam','Uttam', 1,2,2,3, -1,4,4} \n",
        "s1 # bydefault it will sort the values "
      ],
      "metadata": {
        "colab": {
          "base_uri": "https://localhost:8080/"
        },
        "id": "sYybYhuugZxs",
        "outputId": "49e3e501-9547-400a-c2f2-b746b99df079"
      },
      "execution_count": null,
      "outputs": [
        {
          "output_type": "execute_result",
          "data": {
            "text/plain": [
              "{-1, 1, 2, 3, 4, 'Uttam', 'uttam'}"
            ]
          },
          "metadata": {},
          "execution_count": 14
        }
      ]
    },
    {
      "cell_type": "code",
      "source": [
        "# ord # ASCII numbers\n",
        "ord('a')"
      ],
      "metadata": {
        "colab": {
          "base_uri": "https://localhost:8080/"
        },
        "id": "Jjh2ts0DgZ6G",
        "outputId": "201513c7-9eec-4cf3-bc72-53cc9e8ed2d0"
      },
      "execution_count": null,
      "outputs": [
        {
          "output_type": "execute_result",
          "data": {
            "text/plain": [
              "97"
            ]
          },
          "metadata": {},
          "execution_count": 18
        }
      ]
    },
    {
      "cell_type": "code",
      "source": [
        "# chr\n",
        "chr(65)"
      ],
      "metadata": {
        "colab": {
          "base_uri": "https://localhost:8080/",
          "height": 35
        },
        "id": "q6tlbepDgaCd",
        "outputId": "023c679c-f239-4376-c01a-3916bd53d286"
      },
      "execution_count": null,
      "outputs": [
        {
          "output_type": "execute_result",
          "data": {
            "text/plain": [
              "'A'"
            ],
            "application/vnd.google.colaboratory.intrinsic+json": {
              "type": "string"
            }
          },
          "metadata": {},
          "execution_count": 92
        }
      ]
    },
    {
      "cell_type": "code",
      "source": [
        "a = '45'\n",
        "\n",
        "a.isdigit()"
      ],
      "metadata": {
        "colab": {
          "base_uri": "https://localhost:8080/"
        },
        "id": "i6xLLvbJgaI-",
        "outputId": "cee178b7-1fe1-4a6b-81aa-5c1b2e397b04"
      },
      "execution_count": null,
      "outputs": [
        {
          "output_type": "execute_result",
          "data": {
            "text/plain": [
              "True"
            ]
          },
          "metadata": {},
          "execution_count": 22
        }
      ]
    },
    {
      "cell_type": "code",
      "source": [
        "# concat, + , append, add"
      ],
      "metadata": {
        "id": "c3aoMbtlgaOG"
      },
      "execution_count": null,
      "outputs": []
    },
    {
      "cell_type": "code",
      "source": [
        "s = {1,2,3,4,5}\n",
        "m = {1,2,5,6,7,8}\n",
        "\n"
      ],
      "metadata": {
        "id": "3zEdUhYDgaR-"
      },
      "execution_count": null,
      "outputs": []
    },
    {
      "cell_type": "code",
      "source": [
        "s.add(32)"
      ],
      "metadata": {
        "id": "uNULGDUpgaa6"
      },
      "execution_count": null,
      "outputs": []
    },
    {
      "cell_type": "code",
      "source": [
        "s"
      ],
      "metadata": {
        "colab": {
          "base_uri": "https://localhost:8080/"
        },
        "id": "i6zg_IVegag4",
        "outputId": "86b31856-5160-4930-c4a4-d1bbb58df8f5"
      },
      "execution_count": null,
      "outputs": [
        {
          "output_type": "execute_result",
          "data": {
            "text/plain": [
              "{1, 2, 3, 4, 5, 32}"
            ]
          },
          "metadata": {},
          "execution_count": 28
        }
      ]
    },
    {
      "cell_type": "code",
      "source": [
        "s.discard(5)"
      ],
      "metadata": {
        "id": "9YJlXZHRganP"
      },
      "execution_count": null,
      "outputs": []
    },
    {
      "cell_type": "code",
      "source": [
        "s"
      ],
      "metadata": {
        "colab": {
          "base_uri": "https://localhost:8080/"
        },
        "id": "ARLXYayjgas6",
        "outputId": "d17dcb81-37b5-4801-8a17-02112249a0f3"
      },
      "execution_count": null,
      "outputs": [
        {
          "output_type": "execute_result",
          "data": {
            "text/plain": [
              "{1, 2, 3, 4, 32}"
            ]
          },
          "metadata": {},
          "execution_count": 30
        }
      ]
    },
    {
      "cell_type": "code",
      "source": [
        "len(s)"
      ],
      "metadata": {
        "colab": {
          "base_uri": "https://localhost:8080/"
        },
        "id": "Kk8ekTj9gayQ",
        "outputId": "7d264b31-4867-4a31-9079-4c15b1bc2b10"
      },
      "execution_count": null,
      "outputs": [
        {
          "output_type": "execute_result",
          "data": {
            "text/plain": [
              "5"
            ]
          },
          "metadata": {},
          "execution_count": 32
        }
      ]
    },
    {
      "cell_type": "code",
      "source": [
        "A = {1,3,5}\n",
        "B = {0,2,4}"
      ],
      "metadata": {
        "id": "YxL1eMxDga6a"
      },
      "execution_count": null,
      "outputs": []
    },
    {
      "cell_type": "code",
      "source": [
        "# intersaction, union\n",
        "A.union(B) # ALL the values"
      ],
      "metadata": {
        "colab": {
          "base_uri": "https://localhost:8080/"
        },
        "id": "NH5n_bQ3uLB1",
        "outputId": "44b1c514-9497-467e-b6ad-51312e36f73d"
      },
      "execution_count": null,
      "outputs": [
        {
          "output_type": "execute_result",
          "data": {
            "text/plain": [
              "{0, 1, 2, 3, 4, 5}"
            ]
          },
          "metadata": {},
          "execution_count": 35
        }
      ]
    },
    {
      "cell_type": "code",
      "source": [
        "A | B # Union"
      ],
      "metadata": {
        "colab": {
          "base_uri": "https://localhost:8080/"
        },
        "id": "XTzbz6cQuLOO",
        "outputId": "0541026a-91a4-4af5-d562-453f71486146"
      },
      "execution_count": null,
      "outputs": [
        {
          "output_type": "execute_result",
          "data": {
            "text/plain": [
              "{0, 1, 2, 3, 4, 5}"
            ]
          },
          "metadata": {},
          "execution_count": 36
        }
      ]
    },
    {
      "cell_type": "code",
      "source": [
        "# Intersaction\n",
        "\n",
        "A = {1,3,5}\n",
        "B = {1,2,3}\n",
        "\n",
        "A.intersection(B) # common(similar) values"
      ],
      "metadata": {
        "colab": {
          "base_uri": "https://localhost:8080/"
        },
        "id": "PMXX6Qw5uLUF",
        "outputId": "cd4d2ed5-4714-4c95-85e2-470936d5f310"
      },
      "execution_count": null,
      "outputs": [
        {
          "output_type": "execute_result",
          "data": {
            "text/plain": [
              "{1, 3}"
            ]
          },
          "metadata": {},
          "execution_count": 38
        }
      ]
    },
    {
      "cell_type": "code",
      "source": [
        "A & B"
      ],
      "metadata": {
        "colab": {
          "base_uri": "https://localhost:8080/"
        },
        "id": "piO6cafYuLaU",
        "outputId": "916b81d3-c0f8-4485-bdaa-8dfbdc5dbd54"
      },
      "execution_count": null,
      "outputs": [
        {
          "output_type": "execute_result",
          "data": {
            "text/plain": [
              "{1, 3}"
            ]
          },
          "metadata": {},
          "execution_count": 39
        }
      ]
    },
    {
      "cell_type": "code",
      "source": [
        "# difference \n",
        "A = {2 , 3 , 5}\n",
        "B = {1 , 2 , 6}\n",
        "# What A have that B doesnt have\n",
        "# the set A − B consists of elements that are in A but not in B.\n",
        "A - B"
      ],
      "metadata": {
        "colab": {
          "base_uri": "https://localhost:8080/"
        },
        "id": "vSk488WGuLkL",
        "outputId": "a50518ba-80af-4250-c2a0-dddbd77198ad"
      },
      "execution_count": null,
      "outputs": [
        {
          "output_type": "execute_result",
          "data": {
            "text/plain": [
              "{3, 5}"
            ]
          },
          "metadata": {},
          "execution_count": 40
        }
      ]
    },
    {
      "cell_type": "code",
      "source": [
        "B - A"
      ],
      "metadata": {
        "colab": {
          "base_uri": "https://localhost:8080/"
        },
        "id": "UzKA3tlGuLsa",
        "outputId": "88b2d580-9120-4487-8fb0-aab30d717548"
      },
      "execution_count": null,
      "outputs": [
        {
          "output_type": "execute_result",
          "data": {
            "text/plain": [
              "{1, 6}"
            ]
          },
          "metadata": {},
          "execution_count": 41
        }
      ]
    },
    {
      "cell_type": "code",
      "source": [
        "A.difference(B)"
      ],
      "metadata": {
        "colab": {
          "base_uri": "https://localhost:8080/"
        },
        "id": "3BMDP4K0uLyv",
        "outputId": "dde02a13-b034-4055-c017-37b7a17b16f4"
      },
      "execution_count": null,
      "outputs": [
        {
          "output_type": "execute_result",
          "data": {
            "text/plain": [
              "{3, 5}"
            ]
          },
          "metadata": {},
          "execution_count": 43
        }
      ]
    },
    {
      "cell_type": "code",
      "source": [
        "# Unique valus ( symettric difference)\n",
        "A = {2 , 3 , 5}\n",
        "B = {1 , 2 , 6}\n",
        "\n",
        "A ^ B"
      ],
      "metadata": {
        "colab": {
          "base_uri": "https://localhost:8080/"
        },
        "id": "d-BYha6BuL9X",
        "outputId": "b6993b2e-d01b-439b-d163-9568cc4a44a4"
      },
      "execution_count": null,
      "outputs": [
        {
          "output_type": "execute_result",
          "data": {
            "text/plain": [
              "{1, 3, 5, 6}"
            ]
          },
          "metadata": {},
          "execution_count": 44
        }
      ]
    },
    {
      "cell_type": "code",
      "source": [
        "A.symmetric_difference(B)"
      ],
      "metadata": {
        "colab": {
          "base_uri": "https://localhost:8080/"
        },
        "id": "bdyuBHZcuMGy",
        "outputId": "2510de5f-ede1-4bc2-fc79-d132edb12135"
      },
      "execution_count": null,
      "outputs": [
        {
          "output_type": "execute_result",
          "data": {
            "text/plain": [
              "{1, 3, 5, 6}"
            ]
          },
          "metadata": {},
          "execution_count": 47
        }
      ]
    },
    {
      "cell_type": "code",
      "source": [
        "A = {1,2,3, 3, 3,3}\n",
        "B = {3,1,2}\n",
        "# set are equal\n",
        "A == B"
      ],
      "metadata": {
        "colab": {
          "base_uri": "https://localhost:8080/"
        },
        "id": "AIEL9jVDuMNR",
        "outputId": "1ec3083e-e064-4dd4-b05d-2992ff93bcfc"
      },
      "execution_count": null,
      "outputs": [
        {
          "output_type": "execute_result",
          "data": {
            "text/plain": [
              "True"
            ]
          },
          "metadata": {},
          "execution_count": 53
        }
      ]
    },
    {
      "cell_type": "code",
      "source": [
        "if A == B:\n",
        "  print('Yes, set are equal')\n",
        "else:\n",
        "  print('No equal')"
      ],
      "metadata": {
        "colab": {
          "base_uri": "https://localhost:8080/"
        },
        "id": "g5zTeVHfuMSi",
        "outputId": "9ce0d7bb-b1a4-4cbc-9f85-ed4419e1f4c7"
      },
      "execution_count": null,
      "outputs": [
        {
          "output_type": "stream",
          "name": "stdout",
          "text": [
            "Yes, set are equal\n"
          ]
        }
      ]
    },
    {
      "cell_type": "code",
      "source": [
        "d = {'Uttam': 1, \n",
        "     'Ujjwal': 2}\n",
        "\n",
        "d"
      ],
      "metadata": {
        "colab": {
          "base_uri": "https://localhost:8080/"
        },
        "id": "V5biMOmruMZW",
        "outputId": "da7cbd84-aeb7-46bf-bda2-0f118b250c79"
      },
      "execution_count": null,
      "outputs": [
        {
          "output_type": "execute_result",
          "data": {
            "text/plain": [
              "{'Uttam': 1, 'Ujjwal': 2}"
            ]
          },
          "metadata": {},
          "execution_count": 54
        }
      ]
    },
    {
      "cell_type": "code",
      "source": [
        "d1 = dict(ujjwal = 'Uttam', age = 50, country = 'London')\n",
        "d1"
      ],
      "metadata": {
        "colab": {
          "base_uri": "https://localhost:8080/"
        },
        "id": "o9XjK3pGuMiJ",
        "outputId": "d6f85a7d-f8ea-4893-82f5-dd63ab75a0a2"
      },
      "execution_count": null,
      "outputs": [
        {
          "output_type": "execute_result",
          "data": {
            "text/plain": [
              "{'ujjwal': 'Uttam', 'age': 50, 'country': 'London'}"
            ]
          },
          "metadata": {},
          "execution_count": 60
        }
      ]
    },
    {
      "cell_type": "code",
      "source": [
        "A = {1,3,5}\n",
        "B = {1,2,3}\n",
        "C = {2,3,6}\n",
        "\n",
        "B-(C-A)"
      ],
      "metadata": {
        "colab": {
          "base_uri": "https://localhost:8080/"
        },
        "id": "G0tw8ZjigbCS",
        "outputId": "d5d480a0-bcf7-4204-a270-766a4105ce2a"
      },
      "execution_count": null,
      "outputs": [
        {
          "output_type": "execute_result",
          "data": {
            "text/plain": [
              "{1, 3}"
            ]
          },
          "metadata": {},
          "execution_count": 62
        }
      ]
    },
    {
      "cell_type": "code",
      "source": [
        "s = 'Santosh'\n",
        "# hsotnaS\n",
        "s[0:3]"
      ],
      "metadata": {
        "id": "xJvwtQ7IimZm",
        "colab": {
          "base_uri": "https://localhost:8080/",
          "height": 35
        },
        "outputId": "46aabcc8-32ef-4db6-a676-727ac3504965"
      },
      "execution_count": null,
      "outputs": [
        {
          "output_type": "execute_result",
          "data": {
            "text/plain": [
              "'San'"
            ],
            "application/vnd.google.colaboratory.intrinsic+json": {
              "type": "string"
            }
          },
          "metadata": {},
          "execution_count": 63
        }
      ]
    },
    {
      "cell_type": "code",
      "source": [
        "s[::-1]"
      ],
      "metadata": {
        "colab": {
          "base_uri": "https://localhost:8080/",
          "height": 35
        },
        "id": "w3EleHhtzKTW",
        "outputId": "7079f454-6ae5-4c29-b1dc-41ad5ce4868e"
      },
      "execution_count": null,
      "outputs": [
        {
          "output_type": "execute_result",
          "data": {
            "text/plain": [
              "'hsotnaS'"
            ],
            "application/vnd.google.colaboratory.intrinsic+json": {
              "type": "string"
            }
          },
          "metadata": {},
          "execution_count": 66
        }
      ]
    },
    {
      "cell_type": "code",
      "source": [
        "a = 'Uttam'\n",
        "\n",
        "for i in ''.join(list(reversed(a))): # /n ( new line)\n",
        "  print(i, end = '')"
      ],
      "metadata": {
        "colab": {
          "base_uri": "https://localhost:8080/"
        },
        "id": "AGTjyfj7z8E_",
        "outputId": "d50186fc-a6c0-4424-daea-690bf2628a18"
      },
      "execution_count": null,
      "outputs": [
        {
          "output_type": "stream",
          "name": "stdout",
          "text": [
            "mattU"
          ]
        }
      ]
    },
    {
      "cell_type": "code",
      "source": [
        "''.join(list(reversed(s)))"
      ],
      "metadata": {
        "colab": {
          "base_uri": "https://localhost:8080/",
          "height": 35
        },
        "id": "lKPMZWbwzKay",
        "outputId": "4f482d90-0369-456f-86d5-84d4d72a5b64"
      },
      "execution_count": null,
      "outputs": [
        {
          "output_type": "execute_result",
          "data": {
            "text/plain": [
              "'hsotnaS'"
            ],
            "application/vnd.google.colaboratory.intrinsic+json": {
              "type": "string"
            }
          },
          "metadata": {},
          "execution_count": 72
        }
      ]
    },
    {
      "cell_type": "code",
      "source": [
        "sake=input(\"enter the input \")\n",
        "for i in range(len(sake),0,-1):\n",
        "  sake[i] = sake.append(i)\n",
        "  print(sake) "
      ],
      "metadata": {
        "colab": {
          "base_uri": "https://localhost:8080/",
          "height": 235
        },
        "id": "Yl2A15NNzKj0",
        "outputId": "d141bd29-83f1-4e80-8db6-c9824bb880bd"
      },
      "execution_count": null,
      "outputs": [
        {
          "name": "stdout",
          "output_type": "stream",
          "text": [
            "enter the input Uttam\n"
          ]
        },
        {
          "output_type": "error",
          "ename": "AttributeError",
          "evalue": "ignored",
          "traceback": [
            "\u001b[0;31m---------------------------------------------------------------------------\u001b[0m",
            "\u001b[0;31mAttributeError\u001b[0m                            Traceback (most recent call last)",
            "\u001b[0;32m<ipython-input-90-5800ca0e037a>\u001b[0m in \u001b[0;36m<module>\u001b[0;34m\u001b[0m\n\u001b[1;32m      1\u001b[0m \u001b[0msake\u001b[0m\u001b[0;34m=\u001b[0m\u001b[0minput\u001b[0m\u001b[0;34m(\u001b[0m\u001b[0;34m\"enter the input \"\u001b[0m\u001b[0;34m)\u001b[0m\u001b[0;34m\u001b[0m\u001b[0;34m\u001b[0m\u001b[0m\n\u001b[1;32m      2\u001b[0m \u001b[0;32mfor\u001b[0m \u001b[0mi\u001b[0m \u001b[0;32min\u001b[0m \u001b[0mrange\u001b[0m\u001b[0;34m(\u001b[0m\u001b[0mlen\u001b[0m\u001b[0;34m(\u001b[0m\u001b[0msake\u001b[0m\u001b[0;34m)\u001b[0m\u001b[0;34m,\u001b[0m\u001b[0;36m0\u001b[0m\u001b[0;34m,\u001b[0m\u001b[0;34m-\u001b[0m\u001b[0;36m1\u001b[0m\u001b[0;34m)\u001b[0m\u001b[0;34m:\u001b[0m\u001b[0;34m\u001b[0m\u001b[0;34m\u001b[0m\u001b[0m\n\u001b[0;32m----> 3\u001b[0;31m   \u001b[0msake\u001b[0m\u001b[0;34m[\u001b[0m\u001b[0mi\u001b[0m\u001b[0;34m]\u001b[0m \u001b[0;34m=\u001b[0m \u001b[0msake\u001b[0m\u001b[0;34m.\u001b[0m\u001b[0mappend\u001b[0m\u001b[0;34m(\u001b[0m\u001b[0mi\u001b[0m\u001b[0;34m)\u001b[0m\u001b[0;34m\u001b[0m\u001b[0;34m\u001b[0m\u001b[0m\n\u001b[0m\u001b[1;32m      4\u001b[0m   \u001b[0mprint\u001b[0m\u001b[0;34m(\u001b[0m\u001b[0msake\u001b[0m\u001b[0;34m)\u001b[0m\u001b[0;34m\u001b[0m\u001b[0;34m\u001b[0m\u001b[0m\n",
            "\u001b[0;31mAttributeError\u001b[0m: 'str' object has no attribute 'append'"
          ]
        }
      ]
    },
    {
      "cell_type": "code",
      "source": [],
      "metadata": {
        "id": "WuA2k_X7qNEb"
      },
      "execution_count": null,
      "outputs": []
    },
    {
      "cell_type": "markdown",
      "source": [
        "10_Feb_2023"
      ],
      "metadata": {
        "id": "xWp9_Gk4qaug"
      }
    },
    {
      "cell_type": "code",
      "source": [
        "list(range(0, 10,1))"
      ],
      "metadata": {
        "colab": {
          "base_uri": "https://localhost:8080/"
        },
        "id": "hBsfc462qNNK",
        "outputId": "64d8f774-39ca-4379-ce8b-f432274c2a0d"
      },
      "execution_count": null,
      "outputs": [
        {
          "output_type": "execute_result",
          "data": {
            "text/plain": [
              "[0, 1, 2, 3, 4, 5, 6, 7, 8, 9]"
            ]
          },
          "metadata": {},
          "execution_count": 8
        }
      ]
    },
    {
      "cell_type": "code",
      "source": [
        "list(range(-10, -1))"
      ],
      "metadata": {
        "colab": {
          "base_uri": "https://localhost:8080/"
        },
        "id": "0VNsCoTJqNT0",
        "outputId": "26ab30ea-d174-4a8e-b877-daca352578c3"
      },
      "execution_count": null,
      "outputs": [
        {
          "output_type": "execute_result",
          "data": {
            "text/plain": [
              "[-10, -9, -8, -7, -6, -5, -4, -3, -2]"
            ]
          },
          "metadata": {},
          "execution_count": 13
        }
      ]
    },
    {
      "cell_type": "code",
      "source": [
        "# Display Fibonacci series up to 10 terms\n",
        "\n",
        "# Fibonacci sequence:\n",
        "# 0  1  1  2  3  5  8  13  21  34"
      ],
      "metadata": {
        "id": "lX5G4_ErqNZe"
      },
      "execution_count": null,
      "outputs": []
    },
    {
      "cell_type": "code",
      "source": [
        "a = 0\n",
        "b = 1\n",
        "\n",
        "for i in range(10):\n",
        "  print(a, end = ' ')\n",
        "  c = a + b\n",
        "  a = b\n",
        "  b = c\n"
      ],
      "metadata": {
        "colab": {
          "base_uri": "https://localhost:8080/"
        },
        "id": "5iKpZbjKqNjH",
        "outputId": "4defae2c-b217-45a9-a01e-c5440971f395"
      },
      "execution_count": null,
      "outputs": [
        {
          "output_type": "stream",
          "name": "stdout",
          "text": [
            "0 1 1 2 3 5 8 13 21 34 "
          ]
        }
      ]
    },
    {
      "cell_type": "code",
      "source": [
        "# if - else\n",
        "\n",
        "# I am going to delhi by train , I missed the train, I will to by bus\n",
        "a = input('Enter the train')\n",
        "if a == 'miss': # False\n",
        "  print('I will go by bus')\n",
        "else:\n",
        "  print('I will go by train happiply')\n"
      ],
      "metadata": {
        "colab": {
          "base_uri": "https://localhost:8080/"
        },
        "id": "UYGbEkz4qNqb",
        "outputId": "d0576146-5f95-40e2-c8e4-005347ff7b15"
      },
      "execution_count": null,
      "outputs": [
        {
          "output_type": "stream",
          "name": "stdout",
          "text": [
            "Enter the trainmiss\n",
            "I will go by bus\n"
          ]
        }
      ]
    },
    {
      "cell_type": "code",
      "source": [
        "help = input('Enter the marks-->')\n",
        "\n",
        "if help == 'Uttam': # True/satisfied\n",
        "  print('I will give you 10 Crore')\n",
        "else:\n",
        "  print('other wise I will cry')"
      ],
      "metadata": {
        "colab": {
          "base_uri": "https://localhost:8080/"
        },
        "id": "u3vzhiyBqNv5",
        "outputId": "750f19fa-b759-4b5d-e1be-b38a1123f123"
      },
      "execution_count": null,
      "outputs": [
        {
          "output_type": "stream",
          "name": "stdout",
          "text": [
            "Enter the marks-->Uttam\n",
            "I will give you 10 Crore\n"
          ]
        }
      ]
    },
    {
      "cell_type": "code",
      "source": [
        "marks = int(input('How much you have scored ? '))\n",
        "\n",
        "if marks > 100:\n",
        "  print('You are Man of the Match and you will get bonus 1 crore rs')\n",
        "\n",
        "elif 100 > marks > 80:\n",
        "  print('You will not be man of the match you will get only 50 lack rs')\n",
        "\n",
        "else:\n",
        "  print('10 lack')"
      ],
      "metadata": {
        "colab": {
          "base_uri": "https://localhost:8080/"
        },
        "id": "cKDb4eKhqN3d",
        "outputId": "ffe77184-6409-4c28-f3d3-c32d904d9909"
      },
      "execution_count": null,
      "outputs": [
        {
          "output_type": "stream",
          "name": "stdout",
          "text": [
            "How much you have scored ? 90\n",
            "You will not be man of the match you will get only 50 lack rs\n"
          ]
        }
      ]
    },
    {
      "cell_type": "code",
      "source": [],
      "metadata": {
        "id": "EnK1JmCVIFMS"
      },
      "execution_count": null,
      "outputs": []
    },
    {
      "cell_type": "markdown",
      "source": [
        "13_Feb_2023"
      ],
      "metadata": {
        "id": "DmpTseKRIIKW"
      }
    },
    {
      "cell_type": "code",
      "source": [
        "# String functions \n",
        "# List \n",
        "# Range \n",
        "# While"
      ],
      "metadata": {
        "id": "1xiOR2mRIFWE"
      },
      "execution_count": null,
      "outputs": []
    },
    {
      "cell_type": "code",
      "source": [
        "# Funtions ( mixer grinder ) -- > re-use\n",
        "# input"
      ],
      "metadata": {
        "id": "s8M09hYYIFdk"
      },
      "execution_count": null,
      "outputs": []
    },
    {
      "cell_type": "code",
      "source": [
        "def uttam(x): # input value\n",
        "  for i in range(1, x):\n",
        "    print(i)"
      ],
      "metadata": {
        "id": "azSAXVADIFla"
      },
      "execution_count": null,
      "outputs": []
    },
    {
      "cell_type": "code",
      "source": [
        "uttam(20)"
      ],
      "metadata": {
        "colab": {
          "base_uri": "https://localhost:8080/"
        },
        "id": "4nqt7QJYIFwu",
        "outputId": "ce7d3d46-86fd-4145-f304-104634b6245e"
      },
      "execution_count": null,
      "outputs": [
        {
          "output_type": "stream",
          "name": "stdout",
          "text": [
            "1\n",
            "2\n",
            "3\n",
            "4\n",
            "5\n",
            "6\n",
            "7\n",
            "8\n",
            "9\n",
            "10\n",
            "11\n",
            "12\n",
            "13\n",
            "14\n",
            "15\n",
            "16\n",
            "17\n",
            "18\n",
            "19\n"
          ]
        }
      ]
    },
    {
      "cell_type": "code",
      "source": [
        "uttam(10)"
      ],
      "metadata": {
        "colab": {
          "base_uri": "https://localhost:8080/"
        },
        "id": "-BtUL7QgIF6H",
        "outputId": "c1274ef3-30e7-43cf-bc37-2c43b0c20d31"
      },
      "execution_count": null,
      "outputs": [
        {
          "output_type": "stream",
          "name": "stdout",
          "text": [
            "1\n",
            "2\n",
            "3\n",
            "4\n",
            "5\n",
            "6\n",
            "7\n",
            "8\n",
            "9\n"
          ]
        }
      ]
    },
    {
      "cell_type": "code",
      "source": [
        "uttam(5)"
      ],
      "metadata": {
        "colab": {
          "base_uri": "https://localhost:8080/"
        },
        "id": "9xs0eB_5IGCB",
        "outputId": "ed850c4e-6b6e-44b1-e9f9-93c34f88487c"
      },
      "execution_count": null,
      "outputs": [
        {
          "output_type": "stream",
          "name": "stdout",
          "text": [
            "1\n",
            "2\n",
            "3\n",
            "4\n"
          ]
        }
      ]
    },
    {
      "cell_type": "code",
      "source": [
        "def adding_values(x, y):\n",
        "  c = x + y\n",
        "  print('This is the sum of values', c)"
      ],
      "metadata": {
        "id": "UHkjDQQNIGKj"
      },
      "execution_count": null,
      "outputs": []
    },
    {
      "cell_type": "code",
      "source": [
        "def mahesh(x, y):\n",
        "  return x + y\n",
        "  "
      ],
      "metadata": {
        "id": "LMzB06pwOBLN"
      },
      "execution_count": null,
      "outputs": []
    },
    {
      "cell_type": "code",
      "source": [],
      "metadata": {
        "id": "wSnuINmuOuk3"
      },
      "execution_count": null,
      "outputs": []
    },
    {
      "cell_type": "code",
      "source": [
        "mahesh(1,2)"
      ],
      "metadata": {
        "colab": {
          "base_uri": "https://localhost:8080/"
        },
        "id": "R5EdarznOb6I",
        "outputId": "bdafe3c9-5ce4-4799-a750-92495ae74a28"
      },
      "execution_count": null,
      "outputs": [
        {
          "output_type": "execute_result",
          "data": {
            "text/plain": [
              "3"
            ]
          },
          "metadata": {},
          "execution_count": 19
        }
      ]
    },
    {
      "cell_type": "code",
      "source": [
        "adding_values(4,5)"
      ],
      "metadata": {
        "colab": {
          "base_uri": "https://localhost:8080/"
        },
        "id": "agD37qW3OElU",
        "outputId": "29971220-bda4-481f-b874-3bb00af16c99"
      },
      "execution_count": null,
      "outputs": [
        {
          "output_type": "execute_result",
          "data": {
            "text/plain": [
              "9"
            ]
          },
          "metadata": {},
          "execution_count": 14
        }
      ]
    },
    {
      "cell_type": "code",
      "source": [
        "adding_values(1,20)"
      ],
      "metadata": {
        "id": "XG8B2VgXqN9j",
        "colab": {
          "base_uri": "https://localhost:8080/"
        },
        "outputId": "351d349f-6ef5-4b59-ac53-8ec867a5ec67"
      },
      "execution_count": null,
      "outputs": [
        {
          "output_type": "stream",
          "name": "stdout",
          "text": [
            "This is the sum of values 21\n"
          ]
        }
      ]
    },
    {
      "cell_type": "code",
      "source": [
        "adding_values(100,200)"
      ],
      "metadata": {
        "id": "pZ1AedgjqOFM",
        "colab": {
          "base_uri": "https://localhost:8080/"
        },
        "outputId": "bca14b39-630e-4426-ac7d-880b71099ad2"
      },
      "execution_count": null,
      "outputs": [
        {
          "output_type": "stream",
          "name": "stdout",
          "text": [
            "This is the sum of values 300\n"
          ]
        }
      ]
    },
    {
      "cell_type": "code",
      "source": [
        "adding_values(39,49)"
      ],
      "metadata": {
        "id": "nitPylAaqOLM",
        "colab": {
          "base_uri": "https://localhost:8080/"
        },
        "outputId": "d0ec857f-2b5b-4b7e-e3e7-d8c881b8298d"
      },
      "execution_count": null,
      "outputs": [
        {
          "output_type": "stream",
          "name": "stdout",
          "text": [
            "This is the sum of values 88\n"
          ]
        }
      ]
    },
    {
      "cell_type": "code",
      "source": [
        "def square(a): # always function return the vlaues\n",
        "  return (a**2) - 5"
      ],
      "metadata": {
        "id": "maXTZqR9qORz"
      },
      "execution_count": null,
      "outputs": []
    },
    {
      "cell_type": "code",
      "source": [
        "square(10)"
      ],
      "metadata": {
        "id": "jJkM5ZRZqOZI",
        "colab": {
          "base_uri": "https://localhost:8080/"
        },
        "outputId": "b3fa7a15-ca2c-411b-f5d6-7a113be689cb"
      },
      "execution_count": null,
      "outputs": [
        {
          "output_type": "execute_result",
          "data": {
            "text/plain": [
              "95"
            ]
          },
          "metadata": {},
          "execution_count": 16
        }
      ]
    },
    {
      "cell_type": "code",
      "source": [
        "square(5)"
      ],
      "metadata": {
        "id": "ZrBWPAn0qOgJ",
        "colab": {
          "base_uri": "https://localhost:8080/"
        },
        "outputId": "b35f657c-5cea-42e1-8060-2d5e1fecb3ff"
      },
      "execution_count": null,
      "outputs": [
        {
          "output_type": "execute_result",
          "data": {
            "text/plain": [
              "25"
            ]
          },
          "metadata": {},
          "execution_count": 12
        }
      ]
    },
    {
      "cell_type": "code",
      "source": [
        "# you have to create a function name square and multiply the vlaues with the same values (4*4)\n",
        "# run the function on the list [10,20,30,40,50]"
      ],
      "metadata": {
        "id": "J7Oc4h9HqOo-"
      },
      "execution_count": null,
      "outputs": []
    },
    {
      "cell_type": "code",
      "source": [
        "# Given a list of numbers. write a program to turn every item of a list into its square.\n",
        "# numbers = [1, 2, 3, 4, 5, 6, 7]\n"
      ],
      "metadata": {
        "id": "n2c4GBMjzKt0"
      },
      "execution_count": null,
      "outputs": []
    },
    {
      "cell_type": "code",
      "source": [
        "# Concatenate two lists in the following order\n",
        "# list1 = [\"Hello \", \"take \"]\n",
        "#list2 = [\"Dear\", \"Sir\"]\n",
        "\n",
        "# Expected output:\n",
        "\n",
        "# ['Hello Dear', 'Hello Sir', 'take Dear', 'take Sir']"
      ],
      "metadata": {
        "id": "6i6joeyIzK2y"
      },
      "execution_count": null,
      "outputs": []
    },
    {
      "cell_type": "code",
      "source": [
        "#Write a Python program to create a new dictionary by extracting the mentioned keys from the \n",
        "#below dictionary.\n",
        "\n",
        "# sample_dict = {\n",
        "#     \"name\": \"Kelly\",\n",
        "#     \"age\": 25,\n",
        "#     \"salary\": 8000,\n",
        "#     \"city\": \"New york\"}\n",
        "\n",
        "# # Keys to extract\n",
        "# keys = [\"name\", \"salary\"]\n",
        "\n",
        "# Expected output:\n",
        "\n",
        "# {'name': 'Kelly', 'salary': 8000}"
      ],
      "metadata": {
        "id": "3Xp3T50nzK85"
      },
      "execution_count": null,
      "outputs": []
    },
    {
      "cell_type": "code",
      "source": [
        "sample_dict = {\n",
        "    \"name\": \"Kelly\",\n",
        "    \"age\": 25,\n",
        "    \"salary\": 8000,\n",
        "    \"city\": \"New york\"}"
      ],
      "metadata": {
        "id": "Ywj-zGF0zLD4"
      },
      "execution_count": null,
      "outputs": []
    },
    {
      "cell_type": "code",
      "source": [
        "keys = [\"name\", \"salary\"]\n",
        "for i in keys:\n",
        "  print(i, sample_dict[i])"
      ],
      "metadata": {
        "id": "XczGJRBlzLQA",
        "colab": {
          "base_uri": "https://localhost:8080/"
        },
        "outputId": "d3b7cab1-1f3e-44b1-b4f4-c1dad6008a72"
      },
      "execution_count": null,
      "outputs": [
        {
          "output_type": "stream",
          "name": "stdout",
          "text": [
            "name Kelly\n",
            "salary 8000\n"
          ]
        }
      ]
    },
    {
      "cell_type": "code",
      "source": [
        "# Remove all occurrences of a specific item from a list.\n",
        "# list1 = [5, 20, 15, 20, 25, 50, 20]\n",
        "\n",
        "# Expected output:\n",
        "\n",
        "# [5, 15, 25, 50]"
      ],
      "metadata": {
        "id": "TrOtmPR_zLWv"
      },
      "execution_count": null,
      "outputs": []
    },
    {
      "cell_type": "markdown",
      "source": [
        "## 14_Feb_2023"
      ],
      "metadata": {
        "id": "GWOqX7N9TAOP"
      }
    },
    {
      "cell_type": "code",
      "source": [
        "# About Functions\n",
        "# Function Syntax and it's usage\n",
        "# Local,Global and Builtin Namespace\n",
        "# Argument Passing Techniques"
      ],
      "metadata": {
        "id": "w_uzW6kwS-R_"
      },
      "execution_count": null,
      "outputs": []
    },
    {
      "cell_type": "code",
      "source": [
        "def edyoda():\n",
        "  return 'Hello Data Science'"
      ],
      "metadata": {
        "id": "kSrX1R9QS-Z9"
      },
      "execution_count": null,
      "outputs": []
    },
    {
      "cell_type": "code",
      "source": [
        "edyoda()"
      ],
      "metadata": {
        "colab": {
          "base_uri": "https://localhost:8080/",
          "height": 36
        },
        "id": "Cew2dFBXS-ho",
        "outputId": "ecd6a364-29a7-41ea-cd88-f47490aea7b3"
      },
      "execution_count": null,
      "outputs": [
        {
          "output_type": "execute_result",
          "data": {
            "text/plain": [
              "'Hello Data Science'"
            ],
            "application/vnd.google.colaboratory.intrinsic+json": {
              "type": "string"
            }
          },
          "metadata": {},
          "execution_count": 2
        }
      ]
    },
    {
      "cell_type": "code",
      "source": [
        "edyoda()"
      ],
      "metadata": {
        "colab": {
          "base_uri": "https://localhost:8080/",
          "height": 36
        },
        "id": "K89Ec5CzS-rO",
        "outputId": "067cfe4f-6cf3-426d-c4bf-ba1d256ce133"
      },
      "execution_count": null,
      "outputs": [
        {
          "output_type": "execute_result",
          "data": {
            "text/plain": [
              "'Hello Data Science'"
            ],
            "application/vnd.google.colaboratory.intrinsic+json": {
              "type": "string"
            }
          },
          "metadata": {},
          "execution_count": 3
        }
      ]
    },
    {
      "cell_type": "code",
      "source": [
        "# local and global \n",
        "global_var = 10\n",
        "\n",
        "def outer_func():\n",
        "  outer_var = 20\n",
        "\n",
        "  def inner_func():\n",
        "    inner_var = 30\n",
        "\n",
        "    print('Inner var', inner_var)\n",
        "\n",
        "  print('Outer_var', outer_var)\n",
        "\n",
        "  inner_func()\n",
        "\n",
        "print('global_var', global_var)\n",
        "\n",
        "outer_func()\n",
        "\n"
      ],
      "metadata": {
        "colab": {
          "base_uri": "https://localhost:8080/"
        },
        "id": "Z8CbNhSKS-zz",
        "outputId": "16c3e294-b04f-4ac1-c14c-e9447688ecae"
      },
      "execution_count": null,
      "outputs": [
        {
          "output_type": "stream",
          "name": "stdout",
          "text": [
            "global_var 10\n",
            "Outer_var 20\n",
            "Inner var 30\n"
          ]
        }
      ]
    },
    {
      "cell_type": "code",
      "source": [
        "global_var = 10 # I can use inside the function or outside the function\n",
        "\n",
        "def func():\n",
        "  local_var = 20   # I can use only inside the function\n",
        "  \n",
        "  # modify \n",
        "  global global_var\n",
        "  global_var = 30\n",
        "\n",
        "print(global_var)\n",
        "func()\n",
        "print(global_var)"
      ],
      "metadata": {
        "colab": {
          "base_uri": "https://localhost:8080/"
        },
        "id": "P1CxG48WS-78",
        "outputId": "501bf41b-b810-4a2e-8a0c-8b4642eb27f6"
      },
      "execution_count": null,
      "outputs": [
        {
          "output_type": "stream",
          "name": "stdout",
          "text": [
            "10\n",
            "30\n"
          ]
        }
      ]
    },
    {
      "cell_type": "code",
      "source": [
        "print(global_var)"
      ],
      "metadata": {
        "colab": {
          "base_uri": "https://localhost:8080/"
        },
        "id": "VrsTc8PgS_C2",
        "outputId": "1bdca6f4-5d5f-4ca9-f2a6-840f0a233db8"
      },
      "execution_count": null,
      "outputs": [
        {
          "output_type": "stream",
          "name": "stdout",
          "text": [
            "30\n"
          ]
        }
      ]
    },
    {
      "cell_type": "code",
      "source": [
        "c = 1  # global variable\n",
        "\n",
        "def add():\n",
        "\n",
        "  d = 5\n",
        "  return d\n",
        "d = 10\n",
        "print(d)\n",
        "add()"
      ],
      "metadata": {
        "colab": {
          "base_uri": "https://localhost:8080/"
        },
        "id": "XcNF2yg4S_Ii",
        "outputId": "50d1e02d-44e5-4e07-f919-cb6deec6a447"
      },
      "execution_count": null,
      "outputs": [
        {
          "output_type": "stream",
          "name": "stdout",
          "text": [
            "10\n"
          ]
        },
        {
          "output_type": "execute_result",
          "data": {
            "text/plain": [
              "5"
            ]
          },
          "metadata": {},
          "execution_count": 20
        }
      ]
    },
    {
      "cell_type": "code",
      "source": [
        "for i in range(1, 10):\n",
        "  if i < 10:\n",
        "    print('Hurray')"
      ],
      "metadata": {
        "id": "DuovUZ-2eXX5"
      },
      "execution_count": null,
      "outputs": []
    },
    {
      "cell_type": "code",
      "source": [
        "print('Uttam Grade')"
      ],
      "metadata": {
        "colab": {
          "base_uri": "https://localhost:8080/"
        },
        "id": "o4JZMaJZZMm-",
        "outputId": "62f9de3b-2386-40ba-e026-8ecc61d31850"
      },
      "execution_count": null,
      "outputs": [
        {
          "output_type": "stream",
          "name": "stdout",
          "text": [
            "Uttam Grade\n"
          ]
        }
      ]
    },
    {
      "cell_type": "code",
      "source": [
        "range(1,10)"
      ],
      "metadata": {
        "colab": {
          "base_uri": "https://localhost:8080/"
        },
        "id": "HiILufY5ZMx0",
        "outputId": "6f41c08e-26ce-4c67-d1ca-ccc7cf9e7802"
      },
      "execution_count": null,
      "outputs": [
        {
          "output_type": "execute_result",
          "data": {
            "text/plain": [
              "range(1, 10)"
            ]
          },
          "metadata": {},
          "execution_count": 24
        }
      ]
    },
    {
      "cell_type": "code",
      "source": [
        "True"
      ],
      "metadata": {
        "colab": {
          "base_uri": "https://localhost:8080/"
        },
        "id": "adh7KvpAS_N4",
        "outputId": "dbcaa35b-0282-4d0f-adfd-85e096f4431f"
      },
      "execution_count": null,
      "outputs": [
        {
          "output_type": "execute_result",
          "data": {
            "text/plain": [
              "True"
            ]
          },
          "metadata": {},
          "execution_count": 25
        }
      ]
    },
    {
      "cell_type": "code",
      "source": [
        "true"
      ],
      "metadata": {
        "id": "WeG5hKH3zLiK",
        "colab": {
          "base_uri": "https://localhost:8080/",
          "height": 165
        },
        "outputId": "d4d9c5d4-1578-4f50-aaec-b868e6bb29af"
      },
      "execution_count": null,
      "outputs": [
        {
          "output_type": "error",
          "ename": "NameError",
          "evalue": "ignored",
          "traceback": [
            "\u001b[0;31m---------------------------------------------------------------------------\u001b[0m",
            "\u001b[0;31mNameError\u001b[0m                                 Traceback (most recent call last)",
            "\u001b[0;32m<ipython-input-26-724ba28f4a9a>\u001b[0m in \u001b[0;36m<module>\u001b[0;34m\u001b[0m\n\u001b[0;32m----> 1\u001b[0;31m \u001b[0mtrue\u001b[0m\u001b[0;34m\u001b[0m\u001b[0;34m\u001b[0m\u001b[0m\n\u001b[0m",
            "\u001b[0;31mNameError\u001b[0m: name 'true' is not defined"
          ]
        }
      ]
    },
    {
      "cell_type": "code",
      "source": [
        "none"
      ],
      "metadata": {
        "id": "8_oCDVE1zLnf",
        "colab": {
          "base_uri": "https://localhost:8080/",
          "height": 165
        },
        "outputId": "ee60b9b0-9af9-4376-e466-739e61a2cbe9"
      },
      "execution_count": null,
      "outputs": [
        {
          "output_type": "error",
          "ename": "NameError",
          "evalue": "ignored",
          "traceback": [
            "\u001b[0;31m---------------------------------------------------------------------------\u001b[0m",
            "\u001b[0;31mNameError\u001b[0m                                 Traceback (most recent call last)",
            "\u001b[0;32m<ipython-input-27-02135ff9133d>\u001b[0m in \u001b[0;36m<module>\u001b[0;34m\u001b[0m\n\u001b[0;32m----> 1\u001b[0;31m \u001b[0mnone\u001b[0m\u001b[0;34m\u001b[0m\u001b[0;34m\u001b[0m\u001b[0m\n\u001b[0m",
            "\u001b[0;31mNameError\u001b[0m: name 'none' is not defined"
          ]
        }
      ]
    },
    {
      "cell_type": "code",
      "source": [
        "None"
      ],
      "metadata": {
        "id": "ftRhYIhtzLrm"
      },
      "execution_count": null,
      "outputs": []
    },
    {
      "cell_type": "code",
      "source": [
        "# Argument Passing Techniques\n",
        "def myfnc(a, b=18, c=10): # now c = 10 will be my bydefault value for c\n",
        "  return a, b, c"
      ],
      "metadata": {
        "id": "V9y7wO4LeP4C"
      },
      "execution_count": null,
      "outputs": []
    },
    {
      "cell_type": "code",
      "source": [
        "myfnc(1, 100,200)"
      ],
      "metadata": {
        "colab": {
          "base_uri": "https://localhost:8080/"
        },
        "id": "HJCJCveLeP86",
        "outputId": "317a5c4f-a2e3-4f92-9316-80ecd49a4e97"
      },
      "execution_count": null,
      "outputs": [
        {
          "output_type": "execute_result",
          "data": {
            "text/plain": [
              "(1, 100, 200)"
            ]
          },
          "metadata": {},
          "execution_count": 36
        }
      ]
    },
    {
      "cell_type": "code",
      "source": [
        "# args ( Non-keyword argument) --> *args\n",
        "# kwargs (Keyword Argument)  ---> **kwargs"
      ],
      "metadata": {
        "id": "Y0RhQhgseQCn"
      },
      "execution_count": null,
      "outputs": []
    },
    {
      "cell_type": "code",
      "source": [
        "def mynewfnc(*args):\n",
        "  for i in args:\n",
        "    print(i)\n",
        "\n",
        "mynewfnc('Uttam', 'Grade', 'Shweta', 'Neha', 'Satende', 'blbll', 'Edyoda', '35', 45)"
      ],
      "metadata": {
        "colab": {
          "base_uri": "https://localhost:8080/"
        },
        "id": "Pbx7p0QIeQGu",
        "outputId": "a82dc735-fb82-476a-9ba5-faaa655f269d"
      },
      "execution_count": null,
      "outputs": [
        {
          "output_type": "stream",
          "name": "stdout",
          "text": [
            "Uttam\n",
            "Grade\n",
            "Shweta\n",
            "Neha\n",
            "Satende\n",
            "blbll\n",
            "Edyoda\n",
            "35\n",
            "45\n"
          ]
        }
      ]
    },
    {
      "cell_type": "code",
      "source": [
        "def myfn(a, *b):\n",
        "  print('First argument', a)\n",
        "  for i in b:\n",
        "    print(i)\n",
        "\n",
        "myfn(\"uttam\", 'Grade','SHwta', 'aksah', 56)"
      ],
      "metadata": {
        "colab": {
          "base_uri": "https://localhost:8080/"
        },
        "id": "p8w-mQcxeQK7",
        "outputId": "5bd70b73-1d5f-4a86-d7e5-99d70988c13b"
      },
      "execution_count": null,
      "outputs": [
        {
          "output_type": "stream",
          "name": "stdout",
          "text": [
            "First argument uttam\n",
            "Grade\n",
            "SHwta\n",
            "aksah\n",
            "56\n"
          ]
        }
      ]
    },
    {
      "cell_type": "code",
      "source": [
        "def kw(**c): # dictionary\n",
        "  for i, j in c.items():\n",
        "    print(i, '----', j)"
      ],
      "metadata": {
        "id": "msdcSQpieQQ8"
      },
      "execution_count": null,
      "outputs": []
    },
    {
      "cell_type": "code",
      "source": [
        "kw(first = 'Uttam', Last = 'Grade', age = 50, degree = 'ms.c')"
      ],
      "metadata": {
        "colab": {
          "base_uri": "https://localhost:8080/"
        },
        "id": "UtXB35lBeQXV",
        "outputId": "920ca0e1-6f7f-4ebd-c28b-e4298fbffc10"
      },
      "execution_count": null,
      "outputs": [
        {
          "output_type": "stream",
          "name": "stdout",
          "text": [
            "first ---- Uttam\n",
            "Last ---- Grade\n",
            "age ---- 50\n",
            "degree ---- ms.c\n"
          ]
        }
      ]
    },
    {
      "cell_type": "code",
      "source": [
        "def mahesh(arg1,agr2, **args):\n",
        "  print(arg1, agr2)\n",
        "  for i,j in args.items():\n",
        "    print(i, j)\n",
        "\n",
        "\n",
        "mahesh('Uttam',True, a = 10, b = 20,c = 39, d = 30 )\n"
      ],
      "metadata": {
        "colab": {
          "base_uri": "https://localhost:8080/"
        },
        "id": "wydk1nbGeQdM",
        "outputId": "13667b21-32d2-4971-9123-75c94defe5c3"
      },
      "execution_count": null,
      "outputs": [
        {
          "output_type": "stream",
          "name": "stdout",
          "text": [
            "Uttam True\n",
            "a 10\n",
            "b 20\n",
            "c 39\n",
            "d 30\n"
          ]
        }
      ]
    },
    {
      "cell_type": "code",
      "source": [
        "kazi('Uttam', \"Mahesh\",' Abhilash', first = 'ak', second = '2k')\n"
      ],
      "metadata": {
        "id": "MdCGWGM6murA"
      },
      "execution_count": null,
      "outputs": []
    },
    {
      "cell_type": "code",
      "source": [
        "def kazi(*a, **b):\n",
        "  for i in a:\n",
        "    print(i)\n",
        "\n",
        "  for j,k in b.items():\n",
        "    print(j, k)\n",
        "kazi('Uttam', \"Mahesh\",' Abhilash', first = 'ak', second = '2k')\n"
      ],
      "metadata": {
        "colab": {
          "base_uri": "https://localhost:8080/"
        },
        "id": "jbgXyCRkeQgZ",
        "outputId": "cb530146-5313-4470-93ff-086b5d8826a8"
      },
      "execution_count": null,
      "outputs": [
        {
          "output_type": "stream",
          "name": "stdout",
          "text": [
            "Uttam\n",
            "Mahesh\n",
            " Abhilash\n",
            "first ak\n",
            "second 2k\n"
          ]
        }
      ]
    },
    {
      "cell_type": "code",
      "source": [
        "kazi('Uttam', \"Mahesh\",' Abhilash', first = 'ak', second = '2k')"
      ],
      "metadata": {
        "colab": {
          "base_uri": "https://localhost:8080/"
        },
        "id": "AFSLgPM8eQjz",
        "outputId": "79b9dba9-76e2-419b-e839-50e5d867befe"
      },
      "execution_count": null,
      "outputs": [
        {
          "output_type": "stream",
          "name": "stdout",
          "text": [
            "Uttam\n",
            "Mahesh\n",
            " Abhilash\n",
            "first ak\n",
            "second 2k\n"
          ]
        }
      ]
    },
    {
      "cell_type": "code",
      "source": [
        "def sake(a, *b):\n",
        "  for i in a:\n",
        "    print(i)"
      ],
      "metadata": {
        "id": "Q85h_gH0eQoB"
      },
      "execution_count": null,
      "outputs": []
    },
    {
      "cell_type": "code",
      "source": [
        "sake('Uttam','Grade', 'Host')"
      ],
      "metadata": {
        "colab": {
          "base_uri": "https://localhost:8080/"
        },
        "id": "XjFLqGWieQrr",
        "outputId": "6d8cb41a-141a-4f23-d195-a8cfe4662549"
      },
      "execution_count": null,
      "outputs": [
        {
          "output_type": "stream",
          "name": "stdout",
          "text": [
            "U\n",
            "t\n",
            "t\n",
            "a\n",
            "m\n"
          ]
        }
      ]
    },
    {
      "cell_type": "code",
      "source": [
        "a = \"Uttam\"\n",
        "b = ['Uttam', \"Ujjwal\", 'sake']"
      ],
      "metadata": {
        "id": "CT4MjYKJeQww"
      },
      "execution_count": null,
      "outputs": []
    },
    {
      "cell_type": "code",
      "source": [
        "for i in a:\n",
        "  print(i)"
      ],
      "metadata": {
        "colab": {
          "base_uri": "https://localhost:8080/"
        },
        "id": "i2s1hShCnvZB",
        "outputId": "7c3500f2-2042-4d6a-ddc5-f6a8559112b9"
      },
      "execution_count": null,
      "outputs": [
        {
          "output_type": "stream",
          "name": "stdout",
          "text": [
            "U\n",
            "t\n",
            "t\n",
            "a\n",
            "m\n"
          ]
        }
      ]
    },
    {
      "cell_type": "code",
      "source": [
        "for i in b:\n",
        "  print(i)"
      ],
      "metadata": {
        "colab": {
          "base_uri": "https://localhost:8080/"
        },
        "id": "nDuk5J0Xnv8J",
        "outputId": "8bf5d19c-2d11-43a3-add8-6c69caf3b1dd"
      },
      "execution_count": null,
      "outputs": [
        {
          "output_type": "stream",
          "name": "stdout",
          "text": [
            "Uttam\n",
            "Ujjwal\n",
            "sake\n"
          ]
        }
      ]
    },
    {
      "cell_type": "markdown",
      "source": [
        "15_Feb_2023"
      ],
      "metadata": {
        "id": "qPXN8xOkZFTl"
      }
    },
    {
      "cell_type": "code",
      "source": [
        "# Modules # group of data, I can use the code or  my file or my function anywhere"
      ],
      "metadata": {
        "id": "XKpUY7OvZCUu"
      },
      "execution_count": null,
      "outputs": []
    },
    {
      "cell_type": "code",
      "source": [
        "a = 'Uttam'\n",
        "type(a)"
      ],
      "metadata": {
        "colab": {
          "base_uri": "https://localhost:8080/"
        },
        "id": "CtkAB5FRZCZ6",
        "outputId": "638ba5cf-9c53-4dbf-c912-db22b08a13bb"
      },
      "execution_count": null,
      "outputs": [
        {
          "output_type": "execute_result",
          "data": {
            "text/plain": [
              "str"
            ]
          },
          "metadata": {},
          "execution_count": 1
        }
      ]
    },
    {
      "cell_type": "code",
      "source": [
        "b = 'Uttam', 'Shweta',' Abhishek'\n",
        "type(b)\n",
        "# By default data structure in python is Tuple"
      ],
      "metadata": {
        "colab": {
          "base_uri": "https://localhost:8080/"
        },
        "id": "2ys1QiD5ZCic",
        "outputId": "a34b0332-46b9-4b03-e6af-c9501cf3ea9f"
      },
      "execution_count": null,
      "outputs": [
        {
          "output_type": "execute_result",
          "data": {
            "text/plain": [
              "tuple"
            ]
          },
          "metadata": {},
          "execution_count": 2
        }
      ]
    },
    {
      "cell_type": "code",
      "source": [
        "########################## File 1 ############\n",
        "def mohsin(*a): \n",
        "    for i in a:\n",
        "        return 'This is my output', i\n",
        "\n",
        "def uttam(**b):\n",
        "    for i, j in b.items():\n",
        "        return i, j\n",
        "\n",
        "\n",
        "print(mohsin('Uttam', 'Dhusyant', 'Bnaglore', 'Delhi'))\n",
        "\n"
      ],
      "metadata": {
        "id": "Rz66-O0ZgsDG"
      },
      "execution_count": null,
      "outputs": []
    },
    {
      "cell_type": "code",
      "source": [
        "############################## File 2 ##############\n",
        "# modules ( COntains the function or I can say functionallity(Features) from the form )\n",
        "import prac # 1 way\n",
        "\n",
        "print(prac.mohsin('1','2','3'))\n",
        "\n",
        "print(prac.uttam(a=1, b = 2, c = 3))\n",
        "\n",
        "\n",
        "############################\n",
        "from prac import uttam, mohsin # 2nd Way\n",
        "from prac import *         # 3rd Way  _ > * means everything ( all the functions)\n",
        "print(uttam(a = 10, b = 20))\n",
        "print(mohsin('1','20'))"
      ],
      "metadata": {
        "id": "Zb5T6fXNZCp_"
      },
      "execution_count": null,
      "outputs": []
    },
    {
      "cell_type": "code",
      "source": [
        "# Packages / Library ( Inbuild Modules)"
      ],
      "metadata": {
        "id": "x2wu7uwCZCvU"
      },
      "execution_count": null,
      "outputs": []
    },
    {
      "cell_type": "code",
      "source": [
        "import requests ###### extract data from the html pages (URL)\n",
        "# Web Scrapping\n",
        "x = requests.get(\"https://medium.com/@jan_5421/insider-trading-visualised-with-python-sec-api-io-5f12a7799b3e\")\n",
        "\n",
        "x.status_code\n",
        "# 404 ( Er)"
      ],
      "metadata": {
        "colab": {
          "base_uri": "https://localhost:8080/"
        },
        "id": "bqI6w_bCZC1B",
        "outputId": "2433209b-10e6-4a24-c746-43aa57aa3bdb"
      },
      "execution_count": null,
      "outputs": [
        {
          "output_type": "execute_result",
          "data": {
            "text/plain": [
              "200"
            ]
          },
          "metadata": {},
          "execution_count": 1
        }
      ]
    },
    {
      "cell_type": "code",
      "source": [
        "sum = 0\n",
        "def fun(n):\n",
        "  for i in range(1,n+1):\n",
        "    sum = sum + i\n",
        "  print(sum)\n",
        "fun(5)"
      ],
      "metadata": {
        "colab": {
          "base_uri": "https://localhost:8080/",
          "height": 321
        },
        "id": "H3gOnaGfZC6Y",
        "outputId": "e1c5538a-b7e4-44f8-e14b-1a7f00333e3c"
      },
      "execution_count": null,
      "outputs": [
        {
          "output_type": "error",
          "ename": "UnboundLocalError",
          "evalue": "ignored",
          "traceback": [
            "\u001b[0;31m---------------------------------------------------------------------------\u001b[0m",
            "\u001b[0;31mUnboundLocalError\u001b[0m                         Traceback (most recent call last)",
            "\u001b[0;32m<ipython-input-7-bb734957152b>\u001b[0m in \u001b[0;36m<module>\u001b[0;34m\u001b[0m\n\u001b[1;32m      4\u001b[0m     \u001b[0msum\u001b[0m \u001b[0;34m=\u001b[0m \u001b[0msum\u001b[0m \u001b[0;34m+\u001b[0m \u001b[0mi\u001b[0m\u001b[0;34m\u001b[0m\u001b[0;34m\u001b[0m\u001b[0m\n\u001b[1;32m      5\u001b[0m   \u001b[0mprint\u001b[0m\u001b[0;34m(\u001b[0m\u001b[0msum\u001b[0m\u001b[0;34m)\u001b[0m\u001b[0;34m\u001b[0m\u001b[0;34m\u001b[0m\u001b[0m\n\u001b[0;32m----> 6\u001b[0;31m \u001b[0mfun\u001b[0m\u001b[0;34m(\u001b[0m\u001b[0;36m5\u001b[0m\u001b[0;34m)\u001b[0m\u001b[0;34m\u001b[0m\u001b[0;34m\u001b[0m\u001b[0m\n\u001b[0m",
            "\u001b[0;32m<ipython-input-7-bb734957152b>\u001b[0m in \u001b[0;36mfun\u001b[0;34m(n)\u001b[0m\n\u001b[1;32m      2\u001b[0m \u001b[0;32mdef\u001b[0m \u001b[0mfun\u001b[0m\u001b[0;34m(\u001b[0m\u001b[0mn\u001b[0m\u001b[0;34m)\u001b[0m\u001b[0;34m:\u001b[0m\u001b[0;34m\u001b[0m\u001b[0;34m\u001b[0m\u001b[0m\n\u001b[1;32m      3\u001b[0m   \u001b[0;32mfor\u001b[0m \u001b[0mi\u001b[0m \u001b[0;32min\u001b[0m \u001b[0mrange\u001b[0m\u001b[0;34m(\u001b[0m\u001b[0;36m1\u001b[0m\u001b[0;34m,\u001b[0m\u001b[0mn\u001b[0m\u001b[0;34m+\u001b[0m\u001b[0;36m1\u001b[0m\u001b[0;34m)\u001b[0m\u001b[0;34m:\u001b[0m\u001b[0;34m\u001b[0m\u001b[0;34m\u001b[0m\u001b[0m\n\u001b[0;32m----> 4\u001b[0;31m     \u001b[0msum\u001b[0m \u001b[0;34m=\u001b[0m \u001b[0msum\u001b[0m \u001b[0;34m+\u001b[0m \u001b[0mi\u001b[0m\u001b[0;34m\u001b[0m\u001b[0;34m\u001b[0m\u001b[0m\n\u001b[0m\u001b[1;32m      5\u001b[0m   \u001b[0mprint\u001b[0m\u001b[0;34m(\u001b[0m\u001b[0msum\u001b[0m\u001b[0;34m)\u001b[0m\u001b[0;34m\u001b[0m\u001b[0;34m\u001b[0m\u001b[0m\n\u001b[1;32m      6\u001b[0m \u001b[0mfun\u001b[0m\u001b[0;34m(\u001b[0m\u001b[0;36m5\u001b[0m\u001b[0;34m)\u001b[0m\u001b[0;34m\u001b[0m\u001b[0;34m\u001b[0m\u001b[0m\n",
            "\u001b[0;31mUnboundLocalError\u001b[0m: local variable 'sum' referenced before assignment"
          ]
        }
      ]
    },
    {
      "cell_type": "code",
      "source": [
        "def fun(n):\n",
        "  sum = 0\n",
        "  for i in range(1,n+1):\n",
        "    sum = sum + i\n",
        "  print(sum)\n",
        "fun(5)"
      ],
      "metadata": {
        "id": "4WUAckFxZC_B"
      },
      "execution_count": null,
      "outputs": []
    },
    {
      "cell_type": "code",
      "source": [
        " #response(200"
      ],
      "metadata": {
        "id": "4vUsnOc4ZDDt"
      },
      "execution_count": null,
      "outputs": []
    },
    {
      "cell_type": "code",
      "source": [
        "# Write a Python program to get a list, sorted in increasing order by the last element in each \n",
        "#tuple from a given list of non-empty tuples\n",
        "\n",
        "\n",
        "\n",
        "# Sample List : [(2, 5), (1, 2), (4, 4), (2, 3), (2, 1)]\n",
        "\n",
        "# Expected Result : [(2, 1), (1, 2), (2, 3), (4, 4), (2, 5)]"
      ],
      "metadata": {
        "id": "gMCjTqK0ZDIW"
      },
      "execution_count": null,
      "outputs": []
    },
    {
      "cell_type": "code",
      "source": [
        "# x=[(2, 5), (1, 2), (4, 4), (2, 3), (2, 1)]\n",
        "# y=[]\n",
        "# for i in x:\n",
        "#     if i[0][1]==1:\n",
        "#       y[0]=  y.append(i)\n",
        "#     elif  i[0][1]==2:  \n",
        "#         y[1]= y.append(i)\n",
        "#     elif  i[0][1]==3:\n",
        "#         y[2]= y.append(i)\n",
        "#     elif  i[0][1]==4:\n",
        "#        y[3]= y.append(i)\n",
        "#     else  :\n",
        "#       y[4]= y.append(i)    \n",
        "# print(y)"
      ],
      "metadata": {
        "id": "2_nMt_NIZDNd"
      },
      "execution_count": null,
      "outputs": []
    },
    {
      "cell_type": "code",
      "source": [
        "# Differnce between print and return "
      ],
      "metadata": {
        "id": "F89A8UNtZDVO"
      },
      "execution_count": null,
      "outputs": []
    },
    {
      "cell_type": "markdown",
      "source": [
        "16_Feb_2023"
      ],
      "metadata": {
        "id": "MPxTaHMGnjwA"
      }
    },
    {
      "cell_type": "code",
      "source": [
        "!pip install Game"
      ],
      "metadata": {
        "colab": {
          "base_uri": "https://localhost:8080/"
        },
        "id": "Tur_QS99oiyz",
        "outputId": "6956ae3c-04fb-4863-937e-7c72ef9db749"
      },
      "execution_count": null,
      "outputs": [
        {
          "output_type": "stream",
          "name": "stdout",
          "text": [
            "Looking in indexes: https://pypi.org/simple, https://us-python.pkg.dev/colab-wheels/public/simple/\n",
            "Requirement already satisfied: Game in /usr/local/lib/python3.8/dist-packages (0.0.5)\n"
          ]
        }
      ]
    },
    {
      "cell_type": "code",
      "source": [
        "# Reading and Writing file\n",
        "# File(.txt, .doc, .pdf, .xlsx, .xls etc) Handling"
      ],
      "metadata": {
        "id": "JVKJNPj0ZDdo"
      },
      "execution_count": null,
      "outputs": []
    },
    {
      "cell_type": "code",
      "source": [
        "a = \"Uttam\"\n",
        "b = 34\n",
        "c = [1,2,3,4]"
      ],
      "metadata": {
        "id": "4Myx9VF7ZDks"
      },
      "execution_count": null,
      "outputs": []
    },
    {
      "cell_type": "code",
      "source": [
        "# opening a file\n",
        "# call a file\n",
        "r = open(\"/content/sample3 (1).txt\", 'r')\n",
        "r.readlines()"
      ],
      "metadata": {
        "id": "Aq1ZgHnYZDpn",
        "colab": {
          "base_uri": "https://localhost:8080/"
        },
        "outputId": "7f33cadf-cb76-42a2-8c6f-05b46dd0d769"
      },
      "execution_count": null,
      "outputs": [
        {
          "output_type": "execute_result",
          "data": {
            "text/plain": [
              "['Quod equidem non reprehendo;\\n',\n",
              " 'Lorem ipsum dolor sit amet, consectetur adipiscing elit. Quibus natura iure responderit non esse verum aliunde finem beate vivendi, a se principia rei gerendae peti; Quae enim adhuc protulisti, popularia sunt, ego autem a te elegantiora desidero. Duo Reges: constructio interrete. Tum Lucius: Mihi vero ista valde probata sunt, quod item fratri puto. Bestiarum vero nullum iudicium puto. Nihil enim iam habes, quod ad corpus referas; Deinde prima illa, quae in congressu solemus: Quid tu, inquit, huc? Et homini, qui ceteris animantibus plurimum praestat, praecipue a natura nihil datum esse dicemus?\\n',\n",
              " '\\n',\n",
              " 'Iam id ipsum absurdum, maximum malum neglegi. Quod ea non occurrentia fingunt, vincunt Aristonem; Atqui perspicuum est hominem e corpore animoque constare, cum primae sint animi partes, secundae corporis. Fieri, inquam, Triari, nullo pacto potest, ut non dicas, quid non probes eius, a quo dissentias. Equidem e Cn. An dubium est, quin virtus ita maximam partem optineat in rebus humanis, ut reliquas obruat?\\n',\n",
              " '\\n',\n",
              " 'Quis istum dolorem timet?\\n',\n",
              " 'Summus dolor plures dies manere non potest? Dicet pro me ipsa virtus nec dubitabit isti vestro beato M. Tubulum fuisse, qua illum, cuius is condemnatus est rogatione, P. Quod si ita sit, cur opera philosophiae sit danda nescio.\\n',\n",
              " '\\n',\n",
              " 'Ex eorum enim scriptis et institutis cum omnis doctrina liberalis, omnis historia.\\n',\n",
              " 'Quod si ita est, sequitur id ipsum, quod te velle video, omnes semper beatos esse sapientes. Cum enim fertur quasi torrens oratio, quamvis multa cuiusque modi rapiat, nihil tamen teneas, nihil apprehendas, nusquam orationem rapidam coerceas. Ita redarguitur ipse a sese, convincunturque scripta eius probitate ipsius ac moribus. At quanta conantur! Mundum hunc omnem oppidum esse nostrum! Incendi igitur eos, qui audiunt, vides. Vide, ne magis, inquam, tuum fuerit, cum re idem tibi, quod mihi, videretur, non nova te rebus nomina inponere. Qui-vere falsone, quaerere mittimus-dicitur oculis se privasse; Si ista mala sunt, in quae potest incidere sapiens, sapientem esse non esse ad beate vivendum satis. At vero si ad vitem sensus accesserit, ut appetitum quendam habeat et per se ipsa moveatur, quid facturam putas?\\n',\n",
              " '\\n',\n",
              " 'Quem si tenueris, non modo meum Ciceronem, sed etiam me ipsum abducas licebit.\\n',\n",
              " 'Stulti autem malorum memoria torquentur, sapientes bona praeterita grata recordatione renovata delectant.\\n',\n",
              " 'Esse enim quam vellet iniquus iustus poterat inpune.\\n',\n",
              " 'Quae autem natura suae primae institutionis oblita est?\\n',\n",
              " 'Verum tamen cum de rebus grandioribus dicas, ipsae res verba rapiunt;\\n',\n",
              " 'Hoc est non modo cor non habere, sed ne palatum quidem.\\n',\n",
              " 'Voluptatem cum summum bonum diceret, primum in eo ipso parum vidit, deinde hoc quoque alienum; Sed tu istuc dixti bene Latine, parum plane. Nam haec ipsa mihi erunt in promptu, quae modo audivi, nec ante aggrediar, quam te ab istis, quos dicis, instructum videro. Fatebuntur Stoici haec omnia dicta esse praeclare, neque eam causam Zenoni desciscendi fuisse. Non autem hoc: igitur ne illud quidem. Ratio quidem vestra sic cogit. Cum audissem Antiochum, Brute, ut solebam, cum M. An quod ita callida est, ut optime possit architectari voluptates?\\n',\n",
              " '\\n',\n",
              " 'Idemne, quod iucunde?\\n',\n",
              " 'Haec mihi videtur delicatior, ut ita dicam, molliorque ratio, quam virtutis vis gravitasque postulat. Sed quoniam et advesperascit et mihi ad villam revertendum est, nunc quidem hactenus; Cuius ad naturam apta ratio vera illa et summa lex a philosophis dicitur. Neque solum ea communia, verum etiam paria esse dixerunt. Sed nunc, quod agimus; A mene tu?']"
            ]
          },
          "metadata": {},
          "execution_count": 13
        }
      ]
    },
    {
      "cell_type": "code",
      "source": [
        "import pandas as pd  # read a excel and pdf , json, etc.\n",
        "# Alias ( short name)(Pet Name)\n",
        "excel = pd.read_excel('/content/Data Refresh Sample Data.xlsx')\n",
        "excel"
      ],
      "metadata": {
        "id": "f4kilxa0ZDwY",
        "colab": {
          "base_uri": "https://localhost:8080/",
          "height": 739
        },
        "outputId": "984523db-bef1-4403-a3a9-9d05d9e61657"
      },
      "execution_count": null,
      "outputs": [
        {
          "output_type": "execute_result",
          "data": {
            "text/plain": [
              "         Ship Mode     Profit  Unit Price  Shipping Cost       Customer Name\n",
              "0      Regular Air  -213.2500       38.94          35.00  Muhammed MacIntyre\n",
              "1   Delivery Truck   457.8100      208.16          68.02        Barry French\n",
              "2      Regular Air    46.7075        8.69           2.99        Barry French\n",
              "3      Regular Air  1198.9710      195.99           3.99       Clay Rozendal\n",
              "4      Regular Air    -4.7150        5.28           2.99       Claudia Miner\n",
              "5      Regular Air   782.9100       39.89           3.04     Neola Schneider\n",
              "6      Regular Air    93.8000       15.74           1.39    Allen Rosenblatt\n",
              "7   Delivery Truck   440.7200      100.98          26.22     Sylvia Foulston\n",
              "8      Regular Air  -481.0410      100.98          69.00     Sylvia Foulston\n",
              "9      Regular Air   -11.6820       65.99           5.26         Jim Radford\n",
              "10     Regular Air   313.5780      155.99           8.99         Jim Radford\n",
              "11     Express Air    26.9200        3.69           0.50      Carlos Soltero\n",
              "12     Regular Air    -5.7700        4.71           0.70      Carlos Soltero\n",
              "13     Regular Air  -172.8795       15.99          13.18         Carl Ludwig\n",
              "14     Regular Air  -144.5500        4.89           4.93         Carl Ludwig\n",
              "15     Regular Air     5.7600        2.88           0.70          Don Miller\n",
              "16     Regular Air   252.6600       40.96           1.99          Jack Garza\n",
              "17  Delivery Truck -1766.0100       95.95          74.35          Julia West\n",
              "18     Regular Air  -236.2675        3.89           7.01      Eugene Barchas\n",
              "19  Delivery Truck    80.4400      120.98          30.00      Eugene Barchas\n",
              "20     Regular Air   118.9400      500.98           5.76      Eugene Barchas\n",
              "21  Delivery Truck  3424.2200      500.98          26.00        Edward Hooks"
            ],
            "text/html": [
              "\n",
              "  <div id=\"df-0f27003d-e0be-46b1-996b-986ce2a84e45\">\n",
              "    <div class=\"colab-df-container\">\n",
              "      <div>\n",
              "<style scoped>\n",
              "    .dataframe tbody tr th:only-of-type {\n",
              "        vertical-align: middle;\n",
              "    }\n",
              "\n",
              "    .dataframe tbody tr th {\n",
              "        vertical-align: top;\n",
              "    }\n",
              "\n",
              "    .dataframe thead th {\n",
              "        text-align: right;\n",
              "    }\n",
              "</style>\n",
              "<table border=\"1\" class=\"dataframe\">\n",
              "  <thead>\n",
              "    <tr style=\"text-align: right;\">\n",
              "      <th></th>\n",
              "      <th>Ship Mode</th>\n",
              "      <th>Profit</th>\n",
              "      <th>Unit Price</th>\n",
              "      <th>Shipping Cost</th>\n",
              "      <th>Customer Name</th>\n",
              "    </tr>\n",
              "  </thead>\n",
              "  <tbody>\n",
              "    <tr>\n",
              "      <th>0</th>\n",
              "      <td>Regular Air</td>\n",
              "      <td>-213.2500</td>\n",
              "      <td>38.94</td>\n",
              "      <td>35.00</td>\n",
              "      <td>Muhammed MacIntyre</td>\n",
              "    </tr>\n",
              "    <tr>\n",
              "      <th>1</th>\n",
              "      <td>Delivery Truck</td>\n",
              "      <td>457.8100</td>\n",
              "      <td>208.16</td>\n",
              "      <td>68.02</td>\n",
              "      <td>Barry French</td>\n",
              "    </tr>\n",
              "    <tr>\n",
              "      <th>2</th>\n",
              "      <td>Regular Air</td>\n",
              "      <td>46.7075</td>\n",
              "      <td>8.69</td>\n",
              "      <td>2.99</td>\n",
              "      <td>Barry French</td>\n",
              "    </tr>\n",
              "    <tr>\n",
              "      <th>3</th>\n",
              "      <td>Regular Air</td>\n",
              "      <td>1198.9710</td>\n",
              "      <td>195.99</td>\n",
              "      <td>3.99</td>\n",
              "      <td>Clay Rozendal</td>\n",
              "    </tr>\n",
              "    <tr>\n",
              "      <th>4</th>\n",
              "      <td>Regular Air</td>\n",
              "      <td>-4.7150</td>\n",
              "      <td>5.28</td>\n",
              "      <td>2.99</td>\n",
              "      <td>Claudia Miner</td>\n",
              "    </tr>\n",
              "    <tr>\n",
              "      <th>5</th>\n",
              "      <td>Regular Air</td>\n",
              "      <td>782.9100</td>\n",
              "      <td>39.89</td>\n",
              "      <td>3.04</td>\n",
              "      <td>Neola Schneider</td>\n",
              "    </tr>\n",
              "    <tr>\n",
              "      <th>6</th>\n",
              "      <td>Regular Air</td>\n",
              "      <td>93.8000</td>\n",
              "      <td>15.74</td>\n",
              "      <td>1.39</td>\n",
              "      <td>Allen Rosenblatt</td>\n",
              "    </tr>\n",
              "    <tr>\n",
              "      <th>7</th>\n",
              "      <td>Delivery Truck</td>\n",
              "      <td>440.7200</td>\n",
              "      <td>100.98</td>\n",
              "      <td>26.22</td>\n",
              "      <td>Sylvia Foulston</td>\n",
              "    </tr>\n",
              "    <tr>\n",
              "      <th>8</th>\n",
              "      <td>Regular Air</td>\n",
              "      <td>-481.0410</td>\n",
              "      <td>100.98</td>\n",
              "      <td>69.00</td>\n",
              "      <td>Sylvia Foulston</td>\n",
              "    </tr>\n",
              "    <tr>\n",
              "      <th>9</th>\n",
              "      <td>Regular Air</td>\n",
              "      <td>-11.6820</td>\n",
              "      <td>65.99</td>\n",
              "      <td>5.26</td>\n",
              "      <td>Jim Radford</td>\n",
              "    </tr>\n",
              "    <tr>\n",
              "      <th>10</th>\n",
              "      <td>Regular Air</td>\n",
              "      <td>313.5780</td>\n",
              "      <td>155.99</td>\n",
              "      <td>8.99</td>\n",
              "      <td>Jim Radford</td>\n",
              "    </tr>\n",
              "    <tr>\n",
              "      <th>11</th>\n",
              "      <td>Express Air</td>\n",
              "      <td>26.9200</td>\n",
              "      <td>3.69</td>\n",
              "      <td>0.50</td>\n",
              "      <td>Carlos Soltero</td>\n",
              "    </tr>\n",
              "    <tr>\n",
              "      <th>12</th>\n",
              "      <td>Regular Air</td>\n",
              "      <td>-5.7700</td>\n",
              "      <td>4.71</td>\n",
              "      <td>0.70</td>\n",
              "      <td>Carlos Soltero</td>\n",
              "    </tr>\n",
              "    <tr>\n",
              "      <th>13</th>\n",
              "      <td>Regular Air</td>\n",
              "      <td>-172.8795</td>\n",
              "      <td>15.99</td>\n",
              "      <td>13.18</td>\n",
              "      <td>Carl Ludwig</td>\n",
              "    </tr>\n",
              "    <tr>\n",
              "      <th>14</th>\n",
              "      <td>Regular Air</td>\n",
              "      <td>-144.5500</td>\n",
              "      <td>4.89</td>\n",
              "      <td>4.93</td>\n",
              "      <td>Carl Ludwig</td>\n",
              "    </tr>\n",
              "    <tr>\n",
              "      <th>15</th>\n",
              "      <td>Regular Air</td>\n",
              "      <td>5.7600</td>\n",
              "      <td>2.88</td>\n",
              "      <td>0.70</td>\n",
              "      <td>Don Miller</td>\n",
              "    </tr>\n",
              "    <tr>\n",
              "      <th>16</th>\n",
              "      <td>Regular Air</td>\n",
              "      <td>252.6600</td>\n",
              "      <td>40.96</td>\n",
              "      <td>1.99</td>\n",
              "      <td>Jack Garza</td>\n",
              "    </tr>\n",
              "    <tr>\n",
              "      <th>17</th>\n",
              "      <td>Delivery Truck</td>\n",
              "      <td>-1766.0100</td>\n",
              "      <td>95.95</td>\n",
              "      <td>74.35</td>\n",
              "      <td>Julia West</td>\n",
              "    </tr>\n",
              "    <tr>\n",
              "      <th>18</th>\n",
              "      <td>Regular Air</td>\n",
              "      <td>-236.2675</td>\n",
              "      <td>3.89</td>\n",
              "      <td>7.01</td>\n",
              "      <td>Eugene Barchas</td>\n",
              "    </tr>\n",
              "    <tr>\n",
              "      <th>19</th>\n",
              "      <td>Delivery Truck</td>\n",
              "      <td>80.4400</td>\n",
              "      <td>120.98</td>\n",
              "      <td>30.00</td>\n",
              "      <td>Eugene Barchas</td>\n",
              "    </tr>\n",
              "    <tr>\n",
              "      <th>20</th>\n",
              "      <td>Regular Air</td>\n",
              "      <td>118.9400</td>\n",
              "      <td>500.98</td>\n",
              "      <td>5.76</td>\n",
              "      <td>Eugene Barchas</td>\n",
              "    </tr>\n",
              "    <tr>\n",
              "      <th>21</th>\n",
              "      <td>Delivery Truck</td>\n",
              "      <td>3424.2200</td>\n",
              "      <td>500.98</td>\n",
              "      <td>26.00</td>\n",
              "      <td>Edward Hooks</td>\n",
              "    </tr>\n",
              "  </tbody>\n",
              "</table>\n",
              "</div>\n",
              "      <button class=\"colab-df-convert\" onclick=\"convertToInteractive('df-0f27003d-e0be-46b1-996b-986ce2a84e45')\"\n",
              "              title=\"Convert this dataframe to an interactive table.\"\n",
              "              style=\"display:none;\">\n",
              "        \n",
              "  <svg xmlns=\"http://www.w3.org/2000/svg\" height=\"24px\"viewBox=\"0 0 24 24\"\n",
              "       width=\"24px\">\n",
              "    <path d=\"M0 0h24v24H0V0z\" fill=\"none\"/>\n",
              "    <path d=\"M18.56 5.44l.94 2.06.94-2.06 2.06-.94-2.06-.94-.94-2.06-.94 2.06-2.06.94zm-11 1L8.5 8.5l.94-2.06 2.06-.94-2.06-.94L8.5 2.5l-.94 2.06-2.06.94zm10 10l.94 2.06.94-2.06 2.06-.94-2.06-.94-.94-2.06-.94 2.06-2.06.94z\"/><path d=\"M17.41 7.96l-1.37-1.37c-.4-.4-.92-.59-1.43-.59-.52 0-1.04.2-1.43.59L10.3 9.45l-7.72 7.72c-.78.78-.78 2.05 0 2.83L4 21.41c.39.39.9.59 1.41.59.51 0 1.02-.2 1.41-.59l7.78-7.78 2.81-2.81c.8-.78.8-2.07 0-2.86zM5.41 20L4 18.59l7.72-7.72 1.47 1.35L5.41 20z\"/>\n",
              "  </svg>\n",
              "      </button>\n",
              "      \n",
              "  <style>\n",
              "    .colab-df-container {\n",
              "      display:flex;\n",
              "      flex-wrap:wrap;\n",
              "      gap: 12px;\n",
              "    }\n",
              "\n",
              "    .colab-df-convert {\n",
              "      background-color: #E8F0FE;\n",
              "      border: none;\n",
              "      border-radius: 50%;\n",
              "      cursor: pointer;\n",
              "      display: none;\n",
              "      fill: #1967D2;\n",
              "      height: 32px;\n",
              "      padding: 0 0 0 0;\n",
              "      width: 32px;\n",
              "    }\n",
              "\n",
              "    .colab-df-convert:hover {\n",
              "      background-color: #E2EBFA;\n",
              "      box-shadow: 0px 1px 2px rgba(60, 64, 67, 0.3), 0px 1px 3px 1px rgba(60, 64, 67, 0.15);\n",
              "      fill: #174EA6;\n",
              "    }\n",
              "\n",
              "    [theme=dark] .colab-df-convert {\n",
              "      background-color: #3B4455;\n",
              "      fill: #D2E3FC;\n",
              "    }\n",
              "\n",
              "    [theme=dark] .colab-df-convert:hover {\n",
              "      background-color: #434B5C;\n",
              "      box-shadow: 0px 1px 3px 1px rgba(0, 0, 0, 0.15);\n",
              "      filter: drop-shadow(0px 1px 2px rgba(0, 0, 0, 0.3));\n",
              "      fill: #FFFFFF;\n",
              "    }\n",
              "  </style>\n",
              "\n",
              "      <script>\n",
              "        const buttonEl =\n",
              "          document.querySelector('#df-0f27003d-e0be-46b1-996b-986ce2a84e45 button.colab-df-convert');\n",
              "        buttonEl.style.display =\n",
              "          google.colab.kernel.accessAllowed ? 'block' : 'none';\n",
              "\n",
              "        async function convertToInteractive(key) {\n",
              "          const element = document.querySelector('#df-0f27003d-e0be-46b1-996b-986ce2a84e45');\n",
              "          const dataTable =\n",
              "            await google.colab.kernel.invokeFunction('convertToInteractive',\n",
              "                                                     [key], {});\n",
              "          if (!dataTable) return;\n",
              "\n",
              "          const docLinkHtml = 'Like what you see? Visit the ' +\n",
              "            '<a target=\"_blank\" href=https://colab.research.google.com/notebooks/data_table.ipynb>data table notebook</a>'\n",
              "            + ' to learn more about interactive tables.';\n",
              "          element.innerHTML = '';\n",
              "          dataTable['output_type'] = 'display_data';\n",
              "          await google.colab.output.renderOutput(dataTable, element);\n",
              "          const docLink = document.createElement('div');\n",
              "          docLink.innerHTML = docLinkHtml;\n",
              "          element.appendChild(docLink);\n",
              "        }\n",
              "      </script>\n",
              "    </div>\n",
              "  </div>\n",
              "  "
            ]
          },
          "metadata": {},
          "execution_count": 14
        }
      ]
    },
    {
      "cell_type": "code",
      "source": [
        "dir(pandas)"
      ],
      "metadata": {
        "id": "ZtGfWjZLZD2R",
        "colab": {
          "base_uri": "https://localhost:8080/",
          "height": 166
        },
        "outputId": "bfdadeac-22bb-4f40-fdf9-83227c6c22ad"
      },
      "execution_count": null,
      "outputs": [
        {
          "output_type": "error",
          "ename": "NameError",
          "evalue": "ignored",
          "traceback": [
            "\u001b[0;31m---------------------------------------------------------------------------\u001b[0m",
            "\u001b[0;31mNameError\u001b[0m                                 Traceback (most recent call last)",
            "\u001b[0;32m<ipython-input-15-4d3ccab4dfcd>\u001b[0m in \u001b[0;36m<module>\u001b[0;34m\u001b[0m\n\u001b[0;32m----> 1\u001b[0;31m \u001b[0mdir\u001b[0m\u001b[0;34m(\u001b[0m\u001b[0mpandas\u001b[0m\u001b[0;34m)\u001b[0m\u001b[0;34m\u001b[0m\u001b[0;34m\u001b[0m\u001b[0m\n\u001b[0m",
            "\u001b[0;31mNameError\u001b[0m: name 'pandas' is not defined"
          ]
        }
      ]
    },
    {
      "cell_type": "markdown",
      "source": [
        "17_Feb_2023"
      ],
      "metadata": {
        "id": "KYaxUyCjuEor"
      }
    },
    {
      "cell_type": "code",
      "source": [
        "# Regex ( Regular Expression )"
      ],
      "metadata": {
        "id": "pIwn2W1MZD7w"
      },
      "execution_count": null,
      "outputs": []
    },
    {
      "cell_type": "code",
      "source": [
        "import re"
      ],
      "metadata": {
        "id": "Ykei27G8t_1r"
      },
      "execution_count": null,
      "outputs": []
    },
    {
      "cell_type": "code",
      "source": [
        "\n",
        "txt = \"The rain in Spain\"\n",
        "x = re.search(\"^The\", txt)\n",
        "x"
      ],
      "metadata": {
        "colab": {
          "base_uri": "https://localhost:8080/"
        },
        "id": "aVNcQF6Zt_-S",
        "outputId": "ff8b34ce-513a-413e-da78-edec7b93ef72"
      },
      "execution_count": null,
      "outputs": [
        {
          "output_type": "execute_result",
          "data": {
            "text/plain": [
              "<re.Match object; span=(0, 3), match='The'>"
            ]
          },
          "metadata": {},
          "execution_count": 2
        }
      ]
    },
    {
      "cell_type": "code",
      "source": [
        "a = 'Uttam is my Name what Uttam is your name'\n",
        "\n",
        "y = re.search('Uttam', a)\n",
        "y"
      ],
      "metadata": {
        "colab": {
          "base_uri": "https://localhost:8080/"
        },
        "id": "A3Rx7ahVuAD_",
        "outputId": "af70c3f3-5869-49e9-dd09-9853ee2444bd"
      },
      "execution_count": null,
      "outputs": [
        {
          "output_type": "execute_result",
          "data": {
            "text/plain": [
              "<re.Match object; span=(0, 5), match='Uttam'>"
            ]
          },
          "metadata": {},
          "execution_count": 5
        }
      ]
    },
    {
      "cell_type": "code",
      "source": [
        "a = 'Uttam is my Name what Uttam is your  Uttam  name Grade'\n",
        "\n",
        "y = re.findall('uttam', a)\n",
        "y\n"
      ],
      "metadata": {
        "colab": {
          "base_uri": "https://localhost:8080/"
        },
        "id": "wCptGfmNuAH5",
        "outputId": "9fa65a27-7ed4-4c1b-b736-310eb3f0ce0d"
      },
      "execution_count": null,
      "outputs": [
        {
          "output_type": "execute_result",
          "data": {
            "text/plain": [
              "[]"
            ]
          },
          "metadata": {},
          "execution_count": 5
        }
      ]
    },
    {
      "cell_type": "code",
      "source": [
        "a = 'Uttam is my Name Grade what Uttam is your  Uttam  name Grade'\n",
        "\n",
        "y = re.findall('Grade$', a)\n",
        "y\n"
      ],
      "metadata": {
        "colab": {
          "base_uri": "https://localhost:8080/"
        },
        "id": "8GTiB9I7uAL2",
        "outputId": "53e125b0-6cfb-4ba4-89ce-455ff5bb0850"
      },
      "execution_count": null,
      "outputs": [
        {
          "output_type": "execute_result",
          "data": {
            "text/plain": [
              "['Grade']"
            ]
          },
          "metadata": {},
          "execution_count": 14
        }
      ]
    },
    {
      "cell_type": "code",
      "source": [
        "a = 'Uttam Grade'\n",
        "\n",
        "y = re.findall('^Uttam Grade$', a)\n",
        "y\n"
      ],
      "metadata": {
        "colab": {
          "base_uri": "https://localhost:8080/"
        },
        "id": "e68cjKfGuAQ8",
        "outputId": "b9ca9534-6d63-49e7-f5aa-1350b09ad359"
      },
      "execution_count": null,
      "outputs": [
        {
          "output_type": "execute_result",
          "data": {
            "text/plain": [
              "['Uttam Grade']"
            ]
          },
          "metadata": {},
          "execution_count": 16
        }
      ]
    },
    {
      "cell_type": "code",
      "source": [
        "a = \"Feature Engineering is often known as the secret sauce to creating superior and better performing machine learning models. Just one excellent feature could be your ticket to winning a Kaggle challenge! The importance of feature engineering is even more important for unstructured, textual data because we need to convert free flowing text into some numeric representations which can then be understood by machine learning algorithms. Even with the advent of automated feature engineering capabilities, you would still need to understand the core concepts behind different feature engineering strategies before applying them as black box models. Always remember, “If you are given a box of tools to repair a house, you should know when to use a power drill and when to use a hammer!”. I’m sure all of you must be having a fair idea of what textual data comprises of in this scenario. Do remember you can always have text data in the form of structured data attributes, but usually those fall under the umbrella of structured, categorical data.\""
      ],
      "metadata": {
        "id": "e1dPdpnbuAYt"
      },
      "execution_count": null,
      "outputs": []
    },
    {
      "cell_type": "code",
      "source": [],
      "metadata": {
        "id": "aUz3vu1V2teS"
      },
      "execution_count": null,
      "outputs": []
    },
    {
      "cell_type": "markdown",
      "source": [],
      "metadata": {
        "id": "MxmfS77Z2smA"
      }
    },
    {
      "cell_type": "code",
      "source": [
        "import pandas as pd\n",
        "a = pd.read_csv('/content/dataset.csv')\n",
        "a"
      ],
      "metadata": {
        "colab": {
          "base_uri": "https://localhost:8080/",
          "height": 423
        },
        "id": "fj8YcxvKuAfw",
        "outputId": "28deac97-6641-4d4a-c489-dc7ef4a8866b"
      },
      "execution_count": null,
      "outputs": [
        {
          "output_type": "execute_result",
          "data": {
            "text/plain": [
              "                                                    text  humor\n",
              "0      Joe biden rules out 2020 bid: 'guys, i'm not r...  False\n",
              "1      Watch: darvish gave hitter whiplash with slow ...  False\n",
              "2      What do you call a turtle without its shell? d...   True\n",
              "3          5 reasons the 2016 election feels so personal  False\n",
              "4      Pasco police shot mexican migrant from behind,...  False\n",
              "...                                                  ...    ...\n",
              "98726  From the maasai mara to the bbc's big cat diar...  False\n",
              "98727  My father was a doolittle tokyo raider and a g...  False\n",
              "98728  How kim jong un ‘baited’ trump into canceling ...  False\n",
              "98729  Adorable baby fox rescued from drain as mother...  False\n",
              "98730                                Florida senator bil    NaN\n",
              "\n",
              "[98731 rows x 2 columns]"
            ],
            "text/html": [
              "\n",
              "  <div id=\"df-f6593447-86cb-4e0a-8074-73b781487226\">\n",
              "    <div class=\"colab-df-container\">\n",
              "      <div>\n",
              "<style scoped>\n",
              "    .dataframe tbody tr th:only-of-type {\n",
              "        vertical-align: middle;\n",
              "    }\n",
              "\n",
              "    .dataframe tbody tr th {\n",
              "        vertical-align: top;\n",
              "    }\n",
              "\n",
              "    .dataframe thead th {\n",
              "        text-align: right;\n",
              "    }\n",
              "</style>\n",
              "<table border=\"1\" class=\"dataframe\">\n",
              "  <thead>\n",
              "    <tr style=\"text-align: right;\">\n",
              "      <th></th>\n",
              "      <th>text</th>\n",
              "      <th>humor</th>\n",
              "    </tr>\n",
              "  </thead>\n",
              "  <tbody>\n",
              "    <tr>\n",
              "      <th>0</th>\n",
              "      <td>Joe biden rules out 2020 bid: 'guys, i'm not r...</td>\n",
              "      <td>False</td>\n",
              "    </tr>\n",
              "    <tr>\n",
              "      <th>1</th>\n",
              "      <td>Watch: darvish gave hitter whiplash with slow ...</td>\n",
              "      <td>False</td>\n",
              "    </tr>\n",
              "    <tr>\n",
              "      <th>2</th>\n",
              "      <td>What do you call a turtle without its shell? d...</td>\n",
              "      <td>True</td>\n",
              "    </tr>\n",
              "    <tr>\n",
              "      <th>3</th>\n",
              "      <td>5 reasons the 2016 election feels so personal</td>\n",
              "      <td>False</td>\n",
              "    </tr>\n",
              "    <tr>\n",
              "      <th>4</th>\n",
              "      <td>Pasco police shot mexican migrant from behind,...</td>\n",
              "      <td>False</td>\n",
              "    </tr>\n",
              "    <tr>\n",
              "      <th>...</th>\n",
              "      <td>...</td>\n",
              "      <td>...</td>\n",
              "    </tr>\n",
              "    <tr>\n",
              "      <th>98726</th>\n",
              "      <td>From the maasai mara to the bbc's big cat diar...</td>\n",
              "      <td>False</td>\n",
              "    </tr>\n",
              "    <tr>\n",
              "      <th>98727</th>\n",
              "      <td>My father was a doolittle tokyo raider and a g...</td>\n",
              "      <td>False</td>\n",
              "    </tr>\n",
              "    <tr>\n",
              "      <th>98728</th>\n",
              "      <td>How kim jong un ‘baited’ trump into canceling ...</td>\n",
              "      <td>False</td>\n",
              "    </tr>\n",
              "    <tr>\n",
              "      <th>98729</th>\n",
              "      <td>Adorable baby fox rescued from drain as mother...</td>\n",
              "      <td>False</td>\n",
              "    </tr>\n",
              "    <tr>\n",
              "      <th>98730</th>\n",
              "      <td>Florida senator bil</td>\n",
              "      <td>NaN</td>\n",
              "    </tr>\n",
              "  </tbody>\n",
              "</table>\n",
              "<p>98731 rows × 2 columns</p>\n",
              "</div>\n",
              "      <button class=\"colab-df-convert\" onclick=\"convertToInteractive('df-f6593447-86cb-4e0a-8074-73b781487226')\"\n",
              "              title=\"Convert this dataframe to an interactive table.\"\n",
              "              style=\"display:none;\">\n",
              "        \n",
              "  <svg xmlns=\"http://www.w3.org/2000/svg\" height=\"24px\"viewBox=\"0 0 24 24\"\n",
              "       width=\"24px\">\n",
              "    <path d=\"M0 0h24v24H0V0z\" fill=\"none\"/>\n",
              "    <path d=\"M18.56 5.44l.94 2.06.94-2.06 2.06-.94-2.06-.94-.94-2.06-.94 2.06-2.06.94zm-11 1L8.5 8.5l.94-2.06 2.06-.94-2.06-.94L8.5 2.5l-.94 2.06-2.06.94zm10 10l.94 2.06.94-2.06 2.06-.94-2.06-.94-.94-2.06-.94 2.06-2.06.94z\"/><path d=\"M17.41 7.96l-1.37-1.37c-.4-.4-.92-.59-1.43-.59-.52 0-1.04.2-1.43.59L10.3 9.45l-7.72 7.72c-.78.78-.78 2.05 0 2.83L4 21.41c.39.39.9.59 1.41.59.51 0 1.02-.2 1.41-.59l7.78-7.78 2.81-2.81c.8-.78.8-2.07 0-2.86zM5.41 20L4 18.59l7.72-7.72 1.47 1.35L5.41 20z\"/>\n",
              "  </svg>\n",
              "      </button>\n",
              "      \n",
              "  <style>\n",
              "    .colab-df-container {\n",
              "      display:flex;\n",
              "      flex-wrap:wrap;\n",
              "      gap: 12px;\n",
              "    }\n",
              "\n",
              "    .colab-df-convert {\n",
              "      background-color: #E8F0FE;\n",
              "      border: none;\n",
              "      border-radius: 50%;\n",
              "      cursor: pointer;\n",
              "      display: none;\n",
              "      fill: #1967D2;\n",
              "      height: 32px;\n",
              "      padding: 0 0 0 0;\n",
              "      width: 32px;\n",
              "    }\n",
              "\n",
              "    .colab-df-convert:hover {\n",
              "      background-color: #E2EBFA;\n",
              "      box-shadow: 0px 1px 2px rgba(60, 64, 67, 0.3), 0px 1px 3px 1px rgba(60, 64, 67, 0.15);\n",
              "      fill: #174EA6;\n",
              "    }\n",
              "\n",
              "    [theme=dark] .colab-df-convert {\n",
              "      background-color: #3B4455;\n",
              "      fill: #D2E3FC;\n",
              "    }\n",
              "\n",
              "    [theme=dark] .colab-df-convert:hover {\n",
              "      background-color: #434B5C;\n",
              "      box-shadow: 0px 1px 3px 1px rgba(0, 0, 0, 0.15);\n",
              "      filter: drop-shadow(0px 1px 2px rgba(0, 0, 0, 0.3));\n",
              "      fill: #FFFFFF;\n",
              "    }\n",
              "  </style>\n",
              "\n",
              "      <script>\n",
              "        const buttonEl =\n",
              "          document.querySelector('#df-f6593447-86cb-4e0a-8074-73b781487226 button.colab-df-convert');\n",
              "        buttonEl.style.display =\n",
              "          google.colab.kernel.accessAllowed ? 'block' : 'none';\n",
              "\n",
              "        async function convertToInteractive(key) {\n",
              "          const element = document.querySelector('#df-f6593447-86cb-4e0a-8074-73b781487226');\n",
              "          const dataTable =\n",
              "            await google.colab.kernel.invokeFunction('convertToInteractive',\n",
              "                                                     [key], {});\n",
              "          if (!dataTable) return;\n",
              "\n",
              "          const docLinkHtml = 'Like what you see? Visit the ' +\n",
              "            '<a target=\"_blank\" href=https://colab.research.google.com/notebooks/data_table.ipynb>data table notebook</a>'\n",
              "            + ' to learn more about interactive tables.';\n",
              "          element.innerHTML = '';\n",
              "          dataTable['output_type'] = 'display_data';\n",
              "          await google.colab.output.renderOutput(dataTable, element);\n",
              "          const docLink = document.createElement('div');\n",
              "          docLink.innerHTML = docLinkHtml;\n",
              "          element.appendChild(docLink);\n",
              "        }\n",
              "      </script>\n",
              "    </div>\n",
              "  </div>\n",
              "  "
            ]
          },
          "metadata": {},
          "execution_count": 28
        }
      ]
    },
    {
      "cell_type": "code",
      "source": [
        "a['text'][0:5]"
      ],
      "metadata": {
        "colab": {
          "base_uri": "https://localhost:8080/"
        },
        "id": "5aJDpqzQuAk2",
        "outputId": "223c85b0-f2f1-47b7-e3ef-7b02ac2bb693"
      },
      "execution_count": null,
      "outputs": [
        {
          "output_type": "execute_result",
          "data": {
            "text/plain": [
              "0    Joe biden rules out 2020 bid: 'guys, i'm not r...\n",
              "1    Watch: darvish gave hitter whiplash with slow ...\n",
              "2    What do you call a turtle without its shell? d...\n",
              "3        5 reasons the 2016 election feels so personal\n",
              "4    Pasco police shot mexican migrant from behind,...\n",
              "Name: text, dtype: object"
            ]
          },
          "metadata": {},
          "execution_count": 23
        }
      ]
    },
    {
      "cell_type": "code",
      "source": [
        "c = a['text'][3]"
      ],
      "metadata": {
        "id": "X1xPXWgvuAry"
      },
      "execution_count": null,
      "outputs": []
    },
    {
      "cell_type": "code",
      "source": [
        "c"
      ],
      "metadata": {
        "colab": {
          "base_uri": "https://localhost:8080/",
          "height": 35
        },
        "id": "lop1Z0Y0uAx4",
        "outputId": "758f261a-ca32-4f96-f963-f5ab3b7e3c52"
      },
      "execution_count": null,
      "outputs": [
        {
          "output_type": "execute_result",
          "data": {
            "text/plain": [
              "'5 reasons the 2016 election feels so personal'"
            ],
            "application/vnd.google.colaboratory.intrinsic+json": {
              "type": "string"
            }
          },
          "metadata": {},
          "execution_count": 35
        }
      ]
    },
    {
      "cell_type": "code",
      "source": [
        "re.search('gave', c)"
      ],
      "metadata": {
        "colab": {
          "base_uri": "https://localhost:8080/"
        },
        "id": "RzVdKXk_uA3N",
        "outputId": "15d0dbe5-754f-4fa3-ef34-c173ac165885"
      },
      "execution_count": null,
      "outputs": [
        {
          "output_type": "execute_result",
          "data": {
            "text/plain": [
              "<re.Match object; span=(15, 19), match='gave'>"
            ]
          },
          "metadata": {},
          "execution_count": 31
        }
      ]
    },
    {
      "cell_type": "code",
      "source": [
        "re.findall('slow', c)"
      ],
      "metadata": {
        "colab": {
          "base_uri": "https://localhost:8080/"
        },
        "id": "FUNllVaDuA8x",
        "outputId": "5e19a20e-2cec-46d4-8798-d0827fc509d1"
      },
      "execution_count": null,
      "outputs": [
        {
          "output_type": "execute_result",
          "data": {
            "text/plain": [
              "['slow']"
            ]
          },
          "metadata": {},
          "execution_count": 32
        }
      ]
    },
    {
      "cell_type": "code",
      "source": [
        "re.findall('[a-d]', c)"
      ],
      "metadata": {
        "colab": {
          "base_uri": "https://localhost:8080/"
        },
        "id": "AscsiFNHuBCJ",
        "outputId": "39f4dc0a-d7b5-46b6-f152-030bac893e2a"
      },
      "execution_count": null,
      "outputs": [
        {
          "output_type": "execute_result",
          "data": {
            "text/plain": [
              "['a', 'c', 'a']"
            ]
          },
          "metadata": {},
          "execution_count": 37
        }
      ]
    },
    {
      "cell_type": "code",
      "source": [
        "for i in a['text'][0:100]:\n",
        "  d = re.findall('[0-9]', i)\n",
        "  if len(d) == 0:\n",
        "    del d\n",
        "  else:\n",
        "    print(d)"
      ],
      "metadata": {
        "colab": {
          "base_uri": "https://localhost:8080/"
        },
        "id": "jwJ9BplwuBF7",
        "outputId": "99d85359-d1a5-4ae1-b18e-5c6b3bdafc87"
      },
      "execution_count": null,
      "outputs": [
        {
          "output_type": "stream",
          "name": "stdout",
          "text": [
            "['2', '0', '2', '0']\n",
            "['5', '2', '0', '1', '6']\n",
            "['5']\n",
            "['2', '0', '1', '5']\n",
            "['2', '0', '1', '6']\n",
            "['2', '0', '2', '0']\n",
            "['1', '4']\n",
            "['5', '0']\n",
            "['4']\n",
            "['5', '2']\n",
            "['2']\n",
            "['2', '1']\n",
            "['1', '2', '1']\n",
            "['2']\n",
            "['3', '6', '0', '0']\n",
            "['6']\n",
            "['1', '8']\n",
            "['9']\n"
          ]
        }
      ]
    },
    {
      "cell_type": "code",
      "source": [
        "x = a['text'][0]"
      ],
      "metadata": {
        "id": "5k3_M17MuBeu"
      },
      "execution_count": null,
      "outputs": []
    },
    {
      "cell_type": "code",
      "source": [
        "x"
      ],
      "metadata": {
        "colab": {
          "base_uri": "https://localhost:8080/",
          "height": 35
        },
        "id": "asvImWLYuBjM",
        "outputId": "eba0bed2-6cbf-4bf6-c830-5abd20d39bf8"
      },
      "execution_count": null,
      "outputs": [
        {
          "output_type": "execute_result",
          "data": {
            "text/plain": [
              "\"Joe biden rules out 2020 bid: 'guys, i'm not running'\""
            ],
            "application/vnd.google.colaboratory.intrinsic+json": {
              "type": "string"
            }
          },
          "metadata": {},
          "execution_count": 48
        }
      ]
    },
    {
      "cell_type": "code",
      "source": [
        "re.sub(' ', '-', x, 3)"
      ],
      "metadata": {
        "colab": {
          "base_uri": "https://localhost:8080/",
          "height": 35
        },
        "id": "1yaIoDJouBn8",
        "outputId": "c2e67127-6df7-4172-d0b5-4772be24e003"
      },
      "execution_count": null,
      "outputs": [
        {
          "output_type": "execute_result",
          "data": {
            "text/plain": [
              "\"Joe-biden-rules-out 2020 bid: 'guys, i'm not running'\""
            ],
            "application/vnd.google.colaboratory.intrinsic+json": {
              "type": "string"
            }
          },
          "metadata": {},
          "execution_count": 55
        }
      ]
    },
    {
      "cell_type": "code",
      "source": [
        "x.replace(' ', '-', 3)"
      ],
      "metadata": {
        "colab": {
          "base_uri": "https://localhost:8080/",
          "height": 35
        },
        "id": "fEkl4NQpuBtv",
        "outputId": "d87ccaa8-3013-444f-ab96-6454acc6671b"
      },
      "execution_count": null,
      "outputs": [
        {
          "output_type": "execute_result",
          "data": {
            "text/plain": [
              "\"Joe-biden-rules-out 2020 bid: 'guys, i'm not running'\""
            ],
            "application/vnd.google.colaboratory.intrinsic+json": {
              "type": "string"
            }
          },
          "metadata": {},
          "execution_count": 56
        }
      ]
    },
    {
      "cell_type": "code",
      "source": [
        "re.findall('\\d', x) # [0-9] # \\s"
      ],
      "metadata": {
        "colab": {
          "base_uri": "https://localhost:8080/"
        },
        "id": "c1mlLvviuB0K",
        "outputId": "98bf4377-92c5-458f-9cdb-1713e517e3f6"
      },
      "execution_count": null,
      "outputs": [
        {
          "output_type": "execute_result",
          "data": {
            "text/plain": [
              "['2', '0', '2', '0']"
            ]
          },
          "metadata": {},
          "execution_count": 58
        }
      ]
    },
    {
      "cell_type": "markdown",
      "source": [
        "20_Feb_2023"
      ],
      "metadata": {
        "id": "eGguf0HNMGEe"
      }
    },
    {
      "cell_type": "code",
      "source": [
        "import pandas as pd\n",
        "df = pd.read_csv('/content/dataset.csv')\n",
        "df"
      ],
      "metadata": {
        "id": "zS9kcC6EuB6b",
        "colab": {
          "base_uri": "https://localhost:8080/",
          "height": 423
        },
        "outputId": "156ab238-0788-4c5d-bf10-56d54a89ae3c"
      },
      "execution_count": null,
      "outputs": [
        {
          "output_type": "execute_result",
          "data": {
            "text/plain": [
              "                                                    text  humor\n",
              "0      Joe biden rules out 2020 bid: 'guys, i'm not r...  False\n",
              "1      Watch: darvish gave hitter whiplash with slow ...  False\n",
              "2      What do you call a turtle without its shell? d...   True\n",
              "3          5 reasons the 2016 election feels so personal  False\n",
              "4      Pasco police shot mexican migrant from behind,...  False\n",
              "...                                                  ...    ...\n",
              "28213  Why america, not donald trump, will win in the...  False\n",
              "28214  Can you tell the difference between christian ...  False\n",
              "28215  Did you hear about lance armstrong having a th...   True\n",
              "28216  Kanye west's proposal to kim kardashian, as de...  False\n",
              "28217                          Donald trump implies he w    NaN\n",
              "\n",
              "[28218 rows x 2 columns]"
            ],
            "text/html": [
              "\n",
              "  <div id=\"df-32017e0e-2dba-4715-af0a-bef57f6cff73\">\n",
              "    <div class=\"colab-df-container\">\n",
              "      <div>\n",
              "<style scoped>\n",
              "    .dataframe tbody tr th:only-of-type {\n",
              "        vertical-align: middle;\n",
              "    }\n",
              "\n",
              "    .dataframe tbody tr th {\n",
              "        vertical-align: top;\n",
              "    }\n",
              "\n",
              "    .dataframe thead th {\n",
              "        text-align: right;\n",
              "    }\n",
              "</style>\n",
              "<table border=\"1\" class=\"dataframe\">\n",
              "  <thead>\n",
              "    <tr style=\"text-align: right;\">\n",
              "      <th></th>\n",
              "      <th>text</th>\n",
              "      <th>humor</th>\n",
              "    </tr>\n",
              "  </thead>\n",
              "  <tbody>\n",
              "    <tr>\n",
              "      <th>0</th>\n",
              "      <td>Joe biden rules out 2020 bid: 'guys, i'm not r...</td>\n",
              "      <td>False</td>\n",
              "    </tr>\n",
              "    <tr>\n",
              "      <th>1</th>\n",
              "      <td>Watch: darvish gave hitter whiplash with slow ...</td>\n",
              "      <td>False</td>\n",
              "    </tr>\n",
              "    <tr>\n",
              "      <th>2</th>\n",
              "      <td>What do you call a turtle without its shell? d...</td>\n",
              "      <td>True</td>\n",
              "    </tr>\n",
              "    <tr>\n",
              "      <th>3</th>\n",
              "      <td>5 reasons the 2016 election feels so personal</td>\n",
              "      <td>False</td>\n",
              "    </tr>\n",
              "    <tr>\n",
              "      <th>4</th>\n",
              "      <td>Pasco police shot mexican migrant from behind,...</td>\n",
              "      <td>False</td>\n",
              "    </tr>\n",
              "    <tr>\n",
              "      <th>...</th>\n",
              "      <td>...</td>\n",
              "      <td>...</td>\n",
              "    </tr>\n",
              "    <tr>\n",
              "      <th>28213</th>\n",
              "      <td>Why america, not donald trump, will win in the...</td>\n",
              "      <td>False</td>\n",
              "    </tr>\n",
              "    <tr>\n",
              "      <th>28214</th>\n",
              "      <td>Can you tell the difference between christian ...</td>\n",
              "      <td>False</td>\n",
              "    </tr>\n",
              "    <tr>\n",
              "      <th>28215</th>\n",
              "      <td>Did you hear about lance armstrong having a th...</td>\n",
              "      <td>True</td>\n",
              "    </tr>\n",
              "    <tr>\n",
              "      <th>28216</th>\n",
              "      <td>Kanye west's proposal to kim kardashian, as de...</td>\n",
              "      <td>False</td>\n",
              "    </tr>\n",
              "    <tr>\n",
              "      <th>28217</th>\n",
              "      <td>Donald trump implies he w</td>\n",
              "      <td>NaN</td>\n",
              "    </tr>\n",
              "  </tbody>\n",
              "</table>\n",
              "<p>28218 rows × 2 columns</p>\n",
              "</div>\n",
              "      <button class=\"colab-df-convert\" onclick=\"convertToInteractive('df-32017e0e-2dba-4715-af0a-bef57f6cff73')\"\n",
              "              title=\"Convert this dataframe to an interactive table.\"\n",
              "              style=\"display:none;\">\n",
              "        \n",
              "  <svg xmlns=\"http://www.w3.org/2000/svg\" height=\"24px\"viewBox=\"0 0 24 24\"\n",
              "       width=\"24px\">\n",
              "    <path d=\"M0 0h24v24H0V0z\" fill=\"none\"/>\n",
              "    <path d=\"M18.56 5.44l.94 2.06.94-2.06 2.06-.94-2.06-.94-.94-2.06-.94 2.06-2.06.94zm-11 1L8.5 8.5l.94-2.06 2.06-.94-2.06-.94L8.5 2.5l-.94 2.06-2.06.94zm10 10l.94 2.06.94-2.06 2.06-.94-2.06-.94-.94-2.06-.94 2.06-2.06.94z\"/><path d=\"M17.41 7.96l-1.37-1.37c-.4-.4-.92-.59-1.43-.59-.52 0-1.04.2-1.43.59L10.3 9.45l-7.72 7.72c-.78.78-.78 2.05 0 2.83L4 21.41c.39.39.9.59 1.41.59.51 0 1.02-.2 1.41-.59l7.78-7.78 2.81-2.81c.8-.78.8-2.07 0-2.86zM5.41 20L4 18.59l7.72-7.72 1.47 1.35L5.41 20z\"/>\n",
              "  </svg>\n",
              "      </button>\n",
              "      \n",
              "  <style>\n",
              "    .colab-df-container {\n",
              "      display:flex;\n",
              "      flex-wrap:wrap;\n",
              "      gap: 12px;\n",
              "    }\n",
              "\n",
              "    .colab-df-convert {\n",
              "      background-color: #E8F0FE;\n",
              "      border: none;\n",
              "      border-radius: 50%;\n",
              "      cursor: pointer;\n",
              "      display: none;\n",
              "      fill: #1967D2;\n",
              "      height: 32px;\n",
              "      padding: 0 0 0 0;\n",
              "      width: 32px;\n",
              "    }\n",
              "\n",
              "    .colab-df-convert:hover {\n",
              "      background-color: #E2EBFA;\n",
              "      box-shadow: 0px 1px 2px rgba(60, 64, 67, 0.3), 0px 1px 3px 1px rgba(60, 64, 67, 0.15);\n",
              "      fill: #174EA6;\n",
              "    }\n",
              "\n",
              "    [theme=dark] .colab-df-convert {\n",
              "      background-color: #3B4455;\n",
              "      fill: #D2E3FC;\n",
              "    }\n",
              "\n",
              "    [theme=dark] .colab-df-convert:hover {\n",
              "      background-color: #434B5C;\n",
              "      box-shadow: 0px 1px 3px 1px rgba(0, 0, 0, 0.15);\n",
              "      filter: drop-shadow(0px 1px 2px rgba(0, 0, 0, 0.3));\n",
              "      fill: #FFFFFF;\n",
              "    }\n",
              "  </style>\n",
              "\n",
              "      <script>\n",
              "        const buttonEl =\n",
              "          document.querySelector('#df-32017e0e-2dba-4715-af0a-bef57f6cff73 button.colab-df-convert');\n",
              "        buttonEl.style.display =\n",
              "          google.colab.kernel.accessAllowed ? 'block' : 'none';\n",
              "\n",
              "        async function convertToInteractive(key) {\n",
              "          const element = document.querySelector('#df-32017e0e-2dba-4715-af0a-bef57f6cff73');\n",
              "          const dataTable =\n",
              "            await google.colab.kernel.invokeFunction('convertToInteractive',\n",
              "                                                     [key], {});\n",
              "          if (!dataTable) return;\n",
              "\n",
              "          const docLinkHtml = 'Like what you see? Visit the ' +\n",
              "            '<a target=\"_blank\" href=https://colab.research.google.com/notebooks/data_table.ipynb>data table notebook</a>'\n",
              "            + ' to learn more about interactive tables.';\n",
              "          element.innerHTML = '';\n",
              "          dataTable['output_type'] = 'display_data';\n",
              "          await google.colab.output.renderOutput(dataTable, element);\n",
              "          const docLink = document.createElement('div');\n",
              "          docLink.innerHTML = docLinkHtml;\n",
              "          element.appendChild(docLink);\n",
              "        }\n",
              "      </script>\n",
              "    </div>\n",
              "  </div>\n",
              "  "
            ]
          },
          "metadata": {},
          "execution_count": 6
        }
      ]
    },
    {
      "cell_type": "code",
      "source": [
        "c = df['text'][3]"
      ],
      "metadata": {
        "id": "leqiO80GuCAs"
      },
      "execution_count": null,
      "outputs": []
    },
    {
      "cell_type": "code",
      "source": [
        "# Pattern\n",
        "#re.findall('\\D', c)"
      ],
      "metadata": {
        "id": "vhxDCOeXZED1",
        "colab": {
          "base_uri": "https://localhost:8080/"
        },
        "outputId": "ed6a8c22-ea58-49da-ee88-0ae2bb196cd2"
      },
      "execution_count": null,
      "outputs": [
        {
          "output_type": "execute_result",
          "data": {
            "text/plain": [
              "[' ',\n",
              " 'r',\n",
              " 'e',\n",
              " 'a',\n",
              " 's',\n",
              " 'o',\n",
              " 'n',\n",
              " 's',\n",
              " ' ',\n",
              " 't',\n",
              " 'h',\n",
              " 'e',\n",
              " ' ',\n",
              " ' ',\n",
              " 'e',\n",
              " 'l',\n",
              " 'e',\n",
              " 'c',\n",
              " 't',\n",
              " 'i',\n",
              " 'o',\n",
              " 'n',\n",
              " ' ',\n",
              " 'f',\n",
              " 'e',\n",
              " 'e',\n",
              " 'l',\n",
              " 's',\n",
              " ' ',\n",
              " 's',\n",
              " 'o',\n",
              " ' ',\n",
              " 'p',\n",
              " 'e',\n",
              " 'r',\n",
              " 's',\n",
              " 'o',\n",
              " 'n',\n",
              " 'a',\n",
              " 'l']"
            ]
          },
          "metadata": {},
          "execution_count": 21
        }
      ]
    },
    {
      "cell_type": "code",
      "source": [
        "############################ Patterns in Regular Expression ###############\n",
        "# /@Edyoda-Uttam/$Uttam"
      ],
      "metadata": {
        "id": "3e51lRCNOkzm"
      },
      "execution_count": null,
      "outputs": []
    },
    {
      "cell_type": "code",
      "source": [
        "s = 'GeeksforGeeks: A computer science portal for geeks'\n",
        " \n",
        "match = re.search(r'^@gmail$', s)\n",
        "\n",
        "# what is r here before portal"
      ],
      "metadata": {
        "id": "XT_54QsIEdXt"
      },
      "execution_count": null,
      "outputs": []
    },
    {
      "cell_type": "code",
      "source": [
        "# USe for Regular Expression\n",
        "\n",
        "# Web(Web Page) - Scrapping & Data Collection\n",
        "# (NLP) - Text preprocessing(Clearing, removing)\n",
        "# Pattern Detection for ID, E-mail, Names\n",
        "# Date time Manipulation (20 -02 -2012) - day, month, festival, meeting, 2023-02-20, 500 days"
      ],
      "metadata": {
        "id": "oxLtKiHUPFI-"
      },
      "execution_count": null,
      "outputs": []
    },
    {
      "cell_type": "code",
      "source": [
        "# Text preprocssing\n",
        "# we will remove keyword , @, $, %, ^\n",
        "# utt@grade, @ uttam "
      ],
      "metadata": {
        "id": "2ummV0q6PFTf"
      },
      "execution_count": null,
      "outputs": []
    },
    {
      "cell_type": "code",
      "source": [
        "df = pd.read_csv('/content/train (4).csv')\n",
        "df"
      ],
      "metadata": {
        "colab": {
          "base_uri": "https://localhost:8080/",
          "height": 423
        },
        "id": "71VSkgIIPFd9",
        "outputId": "675ff416-b6dd-4f82-ec1e-f90d7ecb4bef"
      },
      "execution_count": null,
      "outputs": [
        {
          "output_type": "execute_result",
          "data": {
            "text/plain": [
              "         id keyword location  \\\n",
              "0         1     NaN      NaN   \n",
              "1         4     NaN      NaN   \n",
              "2         5     NaN      NaN   \n",
              "3         6     NaN      NaN   \n",
              "4         7     NaN      NaN   \n",
              "...     ...     ...      ...   \n",
              "7608  10869     NaN      NaN   \n",
              "7609  10870     NaN      NaN   \n",
              "7610  10871     NaN      NaN   \n",
              "7611  10872     NaN      NaN   \n",
              "7612  10873     NaN      NaN   \n",
              "\n",
              "                                                   text  target  \n",
              "0     Our Deeds are the Reason of this #earthquake M...       1  \n",
              "1                Forest fire near La Ronge Sask. Canada       1  \n",
              "2     All residents asked to 'shelter in place' are ...       1  \n",
              "3     13,000 people receive #wildfires evacuation or...       1  \n",
              "4     Just got sent this photo from Ruby #Alaska as ...       1  \n",
              "...                                                 ...     ...  \n",
              "7608  Two giant cranes holding a bridge collapse int...       1  \n",
              "7609  @aria_ahrary @TheTawniest The out of control w...       1  \n",
              "7610  M1.94 [01:04 UTC]?5km S of Volcano Hawaii. htt...       1  \n",
              "7611  Police investigating after an e-bike collided ...       1  \n",
              "7612  The Latest: More Homes Razed by Northern Calif...       1  \n",
              "\n",
              "[7613 rows x 5 columns]"
            ],
            "text/html": [
              "\n",
              "  <div id=\"df-3559d629-9a4a-47b9-a937-02bf7345210f\">\n",
              "    <div class=\"colab-df-container\">\n",
              "      <div>\n",
              "<style scoped>\n",
              "    .dataframe tbody tr th:only-of-type {\n",
              "        vertical-align: middle;\n",
              "    }\n",
              "\n",
              "    .dataframe tbody tr th {\n",
              "        vertical-align: top;\n",
              "    }\n",
              "\n",
              "    .dataframe thead th {\n",
              "        text-align: right;\n",
              "    }\n",
              "</style>\n",
              "<table border=\"1\" class=\"dataframe\">\n",
              "  <thead>\n",
              "    <tr style=\"text-align: right;\">\n",
              "      <th></th>\n",
              "      <th>id</th>\n",
              "      <th>keyword</th>\n",
              "      <th>location</th>\n",
              "      <th>text</th>\n",
              "      <th>target</th>\n",
              "    </tr>\n",
              "  </thead>\n",
              "  <tbody>\n",
              "    <tr>\n",
              "      <th>0</th>\n",
              "      <td>1</td>\n",
              "      <td>NaN</td>\n",
              "      <td>NaN</td>\n",
              "      <td>Our Deeds are the Reason of this #earthquake M...</td>\n",
              "      <td>1</td>\n",
              "    </tr>\n",
              "    <tr>\n",
              "      <th>1</th>\n",
              "      <td>4</td>\n",
              "      <td>NaN</td>\n",
              "      <td>NaN</td>\n",
              "      <td>Forest fire near La Ronge Sask. Canada</td>\n",
              "      <td>1</td>\n",
              "    </tr>\n",
              "    <tr>\n",
              "      <th>2</th>\n",
              "      <td>5</td>\n",
              "      <td>NaN</td>\n",
              "      <td>NaN</td>\n",
              "      <td>All residents asked to 'shelter in place' are ...</td>\n",
              "      <td>1</td>\n",
              "    </tr>\n",
              "    <tr>\n",
              "      <th>3</th>\n",
              "      <td>6</td>\n",
              "      <td>NaN</td>\n",
              "      <td>NaN</td>\n",
              "      <td>13,000 people receive #wildfires evacuation or...</td>\n",
              "      <td>1</td>\n",
              "    </tr>\n",
              "    <tr>\n",
              "      <th>4</th>\n",
              "      <td>7</td>\n",
              "      <td>NaN</td>\n",
              "      <td>NaN</td>\n",
              "      <td>Just got sent this photo from Ruby #Alaska as ...</td>\n",
              "      <td>1</td>\n",
              "    </tr>\n",
              "    <tr>\n",
              "      <th>...</th>\n",
              "      <td>...</td>\n",
              "      <td>...</td>\n",
              "      <td>...</td>\n",
              "      <td>...</td>\n",
              "      <td>...</td>\n",
              "    </tr>\n",
              "    <tr>\n",
              "      <th>7608</th>\n",
              "      <td>10869</td>\n",
              "      <td>NaN</td>\n",
              "      <td>NaN</td>\n",
              "      <td>Two giant cranes holding a bridge collapse int...</td>\n",
              "      <td>1</td>\n",
              "    </tr>\n",
              "    <tr>\n",
              "      <th>7609</th>\n",
              "      <td>10870</td>\n",
              "      <td>NaN</td>\n",
              "      <td>NaN</td>\n",
              "      <td>@aria_ahrary @TheTawniest The out of control w...</td>\n",
              "      <td>1</td>\n",
              "    </tr>\n",
              "    <tr>\n",
              "      <th>7610</th>\n",
              "      <td>10871</td>\n",
              "      <td>NaN</td>\n",
              "      <td>NaN</td>\n",
              "      <td>M1.94 [01:04 UTC]?5km S of Volcano Hawaii. htt...</td>\n",
              "      <td>1</td>\n",
              "    </tr>\n",
              "    <tr>\n",
              "      <th>7611</th>\n",
              "      <td>10872</td>\n",
              "      <td>NaN</td>\n",
              "      <td>NaN</td>\n",
              "      <td>Police investigating after an e-bike collided ...</td>\n",
              "      <td>1</td>\n",
              "    </tr>\n",
              "    <tr>\n",
              "      <th>7612</th>\n",
              "      <td>10873</td>\n",
              "      <td>NaN</td>\n",
              "      <td>NaN</td>\n",
              "      <td>The Latest: More Homes Razed by Northern Calif...</td>\n",
              "      <td>1</td>\n",
              "    </tr>\n",
              "  </tbody>\n",
              "</table>\n",
              "<p>7613 rows × 5 columns</p>\n",
              "</div>\n",
              "      <button class=\"colab-df-convert\" onclick=\"convertToInteractive('df-3559d629-9a4a-47b9-a937-02bf7345210f')\"\n",
              "              title=\"Convert this dataframe to an interactive table.\"\n",
              "              style=\"display:none;\">\n",
              "        \n",
              "  <svg xmlns=\"http://www.w3.org/2000/svg\" height=\"24px\"viewBox=\"0 0 24 24\"\n",
              "       width=\"24px\">\n",
              "    <path d=\"M0 0h24v24H0V0z\" fill=\"none\"/>\n",
              "    <path d=\"M18.56 5.44l.94 2.06.94-2.06 2.06-.94-2.06-.94-.94-2.06-.94 2.06-2.06.94zm-11 1L8.5 8.5l.94-2.06 2.06-.94-2.06-.94L8.5 2.5l-.94 2.06-2.06.94zm10 10l.94 2.06.94-2.06 2.06-.94-2.06-.94-.94-2.06-.94 2.06-2.06.94z\"/><path d=\"M17.41 7.96l-1.37-1.37c-.4-.4-.92-.59-1.43-.59-.52 0-1.04.2-1.43.59L10.3 9.45l-7.72 7.72c-.78.78-.78 2.05 0 2.83L4 21.41c.39.39.9.59 1.41.59.51 0 1.02-.2 1.41-.59l7.78-7.78 2.81-2.81c.8-.78.8-2.07 0-2.86zM5.41 20L4 18.59l7.72-7.72 1.47 1.35L5.41 20z\"/>\n",
              "  </svg>\n",
              "      </button>\n",
              "      \n",
              "  <style>\n",
              "    .colab-df-container {\n",
              "      display:flex;\n",
              "      flex-wrap:wrap;\n",
              "      gap: 12px;\n",
              "    }\n",
              "\n",
              "    .colab-df-convert {\n",
              "      background-color: #E8F0FE;\n",
              "      border: none;\n",
              "      border-radius: 50%;\n",
              "      cursor: pointer;\n",
              "      display: none;\n",
              "      fill: #1967D2;\n",
              "      height: 32px;\n",
              "      padding: 0 0 0 0;\n",
              "      width: 32px;\n",
              "    }\n",
              "\n",
              "    .colab-df-convert:hover {\n",
              "      background-color: #E2EBFA;\n",
              "      box-shadow: 0px 1px 2px rgba(60, 64, 67, 0.3), 0px 1px 3px 1px rgba(60, 64, 67, 0.15);\n",
              "      fill: #174EA6;\n",
              "    }\n",
              "\n",
              "    [theme=dark] .colab-df-convert {\n",
              "      background-color: #3B4455;\n",
              "      fill: #D2E3FC;\n",
              "    }\n",
              "\n",
              "    [theme=dark] .colab-df-convert:hover {\n",
              "      background-color: #434B5C;\n",
              "      box-shadow: 0px 1px 3px 1px rgba(0, 0, 0, 0.15);\n",
              "      filter: drop-shadow(0px 1px 2px rgba(0, 0, 0, 0.3));\n",
              "      fill: #FFFFFF;\n",
              "    }\n",
              "  </style>\n",
              "\n",
              "      <script>\n",
              "        const buttonEl =\n",
              "          document.querySelector('#df-3559d629-9a4a-47b9-a937-02bf7345210f button.colab-df-convert');\n",
              "        buttonEl.style.display =\n",
              "          google.colab.kernel.accessAllowed ? 'block' : 'none';\n",
              "\n",
              "        async function convertToInteractive(key) {\n",
              "          const element = document.querySelector('#df-3559d629-9a4a-47b9-a937-02bf7345210f');\n",
              "          const dataTable =\n",
              "            await google.colab.kernel.invokeFunction('convertToInteractive',\n",
              "                                                     [key], {});\n",
              "          if (!dataTable) return;\n",
              "\n",
              "          const docLinkHtml = 'Like what you see? Visit the ' +\n",
              "            '<a target=\"_blank\" href=https://colab.research.google.com/notebooks/data_table.ipynb>data table notebook</a>'\n",
              "            + ' to learn more about interactive tables.';\n",
              "          element.innerHTML = '';\n",
              "          dataTable['output_type'] = 'display_data';\n",
              "          await google.colab.output.renderOutput(dataTable, element);\n",
              "          const docLink = document.createElement('div');\n",
              "          docLink.innerHTML = docLinkHtml;\n",
              "          element.appendChild(docLink);\n",
              "        }\n",
              "      </script>\n",
              "    </div>\n",
              "  </div>\n",
              "  "
            ]
          },
          "metadata": {},
          "execution_count": 22
        }
      ]
    },
    {
      "cell_type": "code",
      "source": [
        "df['text'][0:100]"
      ],
      "metadata": {
        "colab": {
          "base_uri": "https://localhost:8080/"
        },
        "id": "vAXxDydHPFkc",
        "outputId": "6c87a1f6-dad5-4e54-c536-c68e525abb47"
      },
      "execution_count": null,
      "outputs": [
        {
          "output_type": "execute_result",
          "data": {
            "text/plain": [
              "0     Our Deeds are the Reason of this #earthquake M...\n",
              "1                Forest fire near La Ronge Sask. Canada\n",
              "2     All residents asked to 'shelter in place' are ...\n",
              "3     13,000 people receive #wildfires evacuation or...\n",
              "4     Just got sent this photo from Ruby #Alaska as ...\n",
              "                            ...                        \n",
              "95    9 Mile backup on I-77 South...accident blockin...\n",
              "96    Has an accident changed your life? We will hel...\n",
              "97    #BREAKING: there was a deadly motorcycle car a...\n",
              "98    @flowri were you marinading it or was it an ac...\n",
              "99    only had a car for not even a week and got in ...\n",
              "Name: text, Length: 100, dtype: object"
            ]
          },
          "metadata": {},
          "execution_count": 27
        }
      ]
    },
    {
      "cell_type": "code",
      "source": [
        "# Want to find a url from my text data\n",
        "# https:www/"
      ],
      "metadata": {
        "id": "T6OPqtMlPFp_"
      },
      "execution_count": null,
      "outputs": []
    },
    {
      "cell_type": "code",
      "source": [
        "def find_url(x): # (https?://[^\\s]+)\n",
        "  text = re.findall('(https?://[\\S]+)', x)\n",
        "  return text"
      ],
      "metadata": {
        "id": "pcQtx1BIPFvQ"
      },
      "execution_count": null,
      "outputs": []
    },
    {
      "cell_type": "code",
      "source": [
        "a = 'My Name is Uttam and My website is https://www.uttamgrade.com/'\n",
        "find_url(a)"
      ],
      "metadata": {
        "colab": {
          "base_uri": "https://localhost:8080/"
        },
        "id": "wV7fuyL2PF1W",
        "outputId": "87a46136-ffc1-4256-b45a-9b9fad214f9c"
      },
      "execution_count": null,
      "outputs": [
        {
          "output_type": "execute_result",
          "data": {
            "text/plain": [
              "['https://www.uttamgrade.com/']"
            ]
          },
          "metadata": {},
          "execution_count": 63
        }
      ]
    },
    {
      "cell_type": "code",
      "source": [
        "for i in df['text']:\n",
        "  print(find_url(i))"
      ],
      "metadata": {
        "colab": {
          "base_uri": "https://localhost:8080/"
        },
        "id": "YOrcu_DIPF60",
        "outputId": "eb1bfc40-bd2e-48f8-d5b6-027333e7b361"
      },
      "execution_count": null,
      "outputs": [
        {
          "output_type": "stream",
          "name": "stdout",
          "text": [
            "\u001b[1;30;43mStreaming output truncated to the last 5000 lines.\u001b[0m\n",
            "['http://t.co/hlD5xLYwBn']\n",
            "['http://t.co/LMWKjsYCgj']\n",
            "[]\n",
            "[]\n",
            "['http://t.co/QbMcSJaVt0']\n",
            "[]\n",
            "[]\n",
            "[]\n",
            "['http://t.co/7b2Wf6ovFK']\n",
            "['http://t.co/dILi5JhMur']\n",
            "[]\n",
            "['http://t.co/K3pnNktlXh']\n",
            "[]\n",
            "['http://t.co/xzfxRgLAlp']\n",
            "['http://t.co/B5OKgpSpbH']\n",
            "[]\n",
            "[]\n",
            "['http://t.co/gwESgesZxV']\n",
            "[]\n",
            "[]\n",
            "['http://t.co/ECd7HiZja1']\n",
            "['http://t.co/N08qluornx']\n",
            "['http://t.co/tUX0YPwZuR']\n",
            "[]\n",
            "[]\n",
            "[]\n",
            "['https://t.co/ZtYZhbvzqP']\n",
            "[]\n",
            "['http://t.co/vJLnsKbG86']\n",
            "[]\n",
            "['http://t.co/r6JDj9kIGm']\n",
            "[]\n",
            "['http://t.co/GS50DdG1JY']\n",
            "[]\n",
            "['http://t.co/eb74iieIWn']\n",
            "['http://t.co/OMfGv9ma1W']\n",
            "['http://t.co/4BcQZqJRzn']\n",
            "[]\n",
            "[]\n",
            "[]\n",
            "['http://t.co/fllaBzGCRc']\n",
            "['http://t.co/7cADM3lNkO']\n",
            "[]\n",
            "['http://t.co/H1xiGcEn7F']\n",
            "['http://t.co/cEiaO1TEXr']\n",
            "[]\n",
            "[]\n",
            "['http://t.co/Y217CEEemD']\n",
            "['http://t.co/m7na4sKfWR']\n",
            "[]\n",
            "[]\n",
            "[]\n",
            "['http://t.co/Jn8S0DrWbP']\n",
            "[]\n",
            "['https://t.co/PRojeAvG8T']\n",
            "['http://t.co/h9FSIaxv3Q']\n",
            "['http://t.co/s9soAeVcVo']\n",
            "[]\n",
            "['http://t.co/GFDhFMPCEl']\n",
            "['http://t.co/Km8uCIHrRN']\n",
            "[]\n",
            "[]\n",
            "['https://t.co/NlJVP3Vfyz']\n",
            "[]\n",
            "['http://t.co/ZDTz3RbS6w']\n",
            "['http://t.co/JD7rIK7fX0', 'http://t.co/h6NgSw9A5b']\n",
            "[]\n",
            "['http://t.co/WnowfVCbMs...', 'http://t.co/JxWOjxqndC']\n",
            "['http://t.co/m1xYkEcRzr']\n",
            "['http://t.co/c8UXkIzwM6', 'http://t.co/SNxgH9R16u']\n",
            "['http://t.co/h2aHxpCH0Y', 'http://t.co/VQ3Vwxj8YU']\n",
            "['http://t.co/WadPP69LwJ', 'http://t.co/yjTh2nABv5']\n",
            "['http://t.co/bzZdeDcthL', 'http://t.co/OQJNUyIBxM']\n",
            "['http://t.co/IhphZCkm41', 'http://t.co/wuICdTTUhf']\n",
            "['http://t.co/WxCes39ZTe', 'http://t.co/PyGKSSSCFR']\n",
            "['http://t.co/emzn4sPwNk']\n",
            "['http://t.co/sQFp6Ecz0i']\n",
            "[]\n",
            "['http://t.co/gBVDNczjoU', 'http://t.co/c211HISe0R']\n",
            "['http://t.co/dY1erSDcRh', 'http://t.co/m4cPmxmuRK']\n",
            "['http://t.co/LMrKgPOrcF', 'http://t.co/6WAdNmsTOv']\n",
            "['http://t.co/bSmJ2HVgwD', 'http://t.co/bXalnEdy49']\n",
            "['http://t.co/OdMx36WDhM', 'http://t.co/gAHeUjRUJu']\n",
            "['http://t.co/9ZRQMd8nGZ']\n",
            "['http://t.co/aPVLH7hj1O', 'http://t.co/1lJnTEJgmB']\n",
            "['http://t.co/7o4lNfBe7K', 'http://t.co/fVZSGJtBew']\n",
            "['http://t.co/1JgsioUJaS', 'http://t.co/719TZEyHFn']\n",
            "['http://t.co/ryoByQJFCE', 'http://t.co/LW9O2kDk18']\n",
            "['http://t.co/HpZHe0cjvF', 'http://t.co/SaOhVJktqc']\n",
            "['https://t.co/cubdNsNuvt']\n",
            "['http://t.co/DlP8kPkt2k']\n",
            "['http://t.co/7dYOgLhMRe', 'http://t.co/HKm3rtD4ZF']\n",
            "['http://t.co/O2jD4TbrwA', 'http://t.co/JFx6qiyiVF']\n",
            "['http://t.co/VZaIQAMDCp', 'http://t.co/ycecN44c8P']\n",
            "['http://t.co/UCAwg59ulJ', 'http://t.co/eNqDfbJUMP']\n",
            "['http://t.co/rfJZexQgxt', 'http://t.co/WQGsmiOiMx']\n",
            "[]\n",
            "['http://t.co/E61x9Y65QD', 'http://t.co/OVLET0gDqm']\n",
            "['http://t.co/BKh7Z6CWWl']\n",
            "['http://t.co/cudkRyUUAN', 'http://t.co/DKOZymvY5l']\n",
            "['http://t.co/NXLEiIJFgS', 'http://t.co/xsGwm5zXPd']\n",
            "[]\n",
            "[]\n",
            "['http://t.co/y5Yhbb0hkf']\n",
            "['http://t.co/GedOxSPpL9', 'http://t.co/ACZRUOrYtD']\n",
            "[]\n",
            "[]\n",
            "['http://t.co/4k8OLZv9bV']\n",
            "['http://t.co/9NYXjndoRA']\n",
            "['http://t.co/JCszCJiHlH']\n",
            "['http://t.co/sHKiMonMlw']\n",
            "['http://t.co/1i19CuOv7L']\n",
            "['http://t.co/dIalTa6t69']\n",
            "['http://t.co/U8Ykr63B1G']\n",
            "['http://t.co/K9cD0EFVuT']\n",
            "['http://t.co/a1MoeJxqyA']\n",
            "['http://t.co/T5agPS7T2B']\n",
            "[]\n",
            "[]\n",
            "[]\n",
            "[]\n",
            "[]\n",
            "[]\n",
            "['http://t.co/mg5eAJElul']\n",
            "[]\n",
            "[]\n",
            "['http://t.co/M6LvKXl9ii']\n",
            "[]\n",
            "[]\n",
            "[]\n",
            "[]\n",
            "['http://t.co/XDt4VHFn7B']\n",
            "[]\n",
            "[]\n",
            "['https://t.co/zwVyisyP2B']\n",
            "['http://t.co/79Fw9zWxtP']\n",
            "['http://t.co/pmS4pMuR0q']\n",
            "['http://t.co/a7TJAWWtJ7']\n",
            "['http://t.co/IQoWZgvZNl']\n",
            "['http://t.co/ohNdh2rI0V']\n",
            "['http://t.co/iTBJ6DKRZI']\n",
            "[]\n",
            "['http://t.co/EfsA6pbeMC']\n",
            "[]\n",
            "['http://t.co/aG65u29SGo']\n",
            "['http://t.co/pLo2QkrWHu']\n",
            "['http://t.co/LtVVPfLSg8']\n",
            "['http://t.co/LROuWjMbIx']\n",
            "['http://t.co/5wfXbAQMBK']\n",
            "['http://t.co/1erd2FPryP']\n",
            "['http://t.co/eK6KYHxPE9', 'http://t.co/Yn6NxOucR1']\n",
            "[]\n",
            "['http://t.co/m2y9Ym3iF6']\n",
            "[]\n",
            "['http://t.co/BS6XaqHsim']\n",
            "['http://t.co/mly7sDN6eV']\n",
            "['http://t.co/Gxgm1T3W0J', 'http://t.co/puMxLVLsgM']\n",
            "['http://t.co/o6AA0nWLha']\n",
            "['http://t.co/Targ56iGBZ']\n",
            "['http://t.co/3nKcUlGVMW']\n",
            "['http://t.co/E2Dbcpwd9u']\n",
            "['http://t.co/2BaXg1WdPP']\n",
            "['http://t.co/vFCtrzaOk2']\n",
            "['http://t.co/yuo7jDnijx']\n",
            "['http://t.co/Gid6jqN8UG']\n",
            "[]\n",
            "['http://t.co/nbcvbSO9nm']\n",
            "['http://t.co/siGeeQ42cZ']\n",
            "[]\n",
            "['http://t.co/5Cm0LfZhxn']\n",
            "['https://t.co/VCV73BUaCZ']\n",
            "[]\n",
            "['http://t.co/m0utLDif77']\n",
            "[]\n",
            "[]\n",
            "['http://t.co/Ga14egplw9']\n",
            "['https://t.co/qm5Sz0fyU8']\n",
            "['https://t.co/buDmKE3nNf']\n",
            "['http://t.co/jq9nJ6Gko3']\n",
            "[]\n",
            "['http://t.co/F56v61AmPt']\n",
            "[]\n",
            "['http://t.co/WTfJF9jjzs']\n",
            "['http://t.co/tdHn9zy0ER']\n",
            "['http://t.co/tt4kVmvuJq']\n",
            "['http://t.co/zhGu8yE1bj']\n",
            "['http://t.co/sDgOUtWNtb']\n",
            "[]\n",
            "[]\n",
            "[]\n",
            "[]\n",
            "[]\n",
            "[]\n",
            "['http://t.co/Mw9amBgAfq']\n",
            "[]\n",
            "['http://t.co/4RTpJrHsqe']\n",
            "[]\n",
            "[]\n",
            "['http://t.co/5NG0FzpVdS']\n",
            "['http://t.co/94SXKI7KVX']\n",
            "[]\n",
            "['http://t.co/fXUX987vZx']\n",
            "[]\n",
            "['http://t.co/cgf61fPmR0']\n",
            "['http://t.co/NMPN2mqZgE']\n",
            "['https://t.co/8owC41FMBR']\n",
            "['http://t.co/prCI76hOwu', 'http://t.co/rTCuFaG0au']\n",
            "['http://t.co/gsa4o1mjNm', 'http://t.co/i5ma6eWuwc']\n",
            "[]\n",
            "[]\n",
            "['http://t.co/Khd99oZ7u3']\n",
            "[]\n",
            "[]\n",
            "['http://t.co/xLZWTzgQTC']\n",
            "['http://t.co/0abgFgLH7X']\n",
            "[]\n",
            "['http://t.co/X8i0mHYRmN']\n",
            "['https://t.co/rqWuoy1fm4']\n",
            "['https://t.co/rqWuoy1fm4']\n",
            "['https://t.co/rqWuoy1fm4']\n",
            "['https://t.co/rqWuoy1fm4']\n",
            "['http://t.co/Od2ratxRqS']\n",
            "['http://t.co/4roisyXJlw', 'http://t.co/3R8QoZJt7T']\n",
            "['http://t.co/TEq7SrI57P']\n",
            "['http://t.co/qegMRhSms2']\n",
            "['http://t.co/yEJt18sbm0', 'http://t.co/RcqacN91bE']\n",
            "['http://t.co/V0yRfH9DKc']\n",
            "[]\n",
            "['http://t.co/cgf61fPmR0']\n",
            "['http://t.co/uelZ59wVOm']\n",
            "['http://t.co/OHYD7Hhcpe']\n",
            "[]\n",
            "['http://t.co/8gO68KjE4b', \"http://t.co/0KrW1zYaHM'\"]\n",
            "['http://t.co/6ySbCSSzYS']\n",
            "['http://t.co/WVlaH8jRXe']\n",
            "['https://t.co/OEZ7O9AB2C']\n",
            "[]\n",
            "['http://t.co/dYDFvz7amj']\n",
            "['https://t.co/kJMgTEEklp']\n",
            "['http://t.co/Nyo1xueBFA', 'http://t.co/w0a1MJOrHY']\n",
            "['http://t.co/8JvQI9UspL']\n",
            "['http://t.co/fE9hIVfMxq']\n",
            "['http://t.co/fDzzuMyW8i']\n",
            "['http://t.co/oqeq4ueGF8']\n",
            "['http://t.co/vYmnRnSThG:', 'http://t.co/1mvSQG0XKE']\n",
            "['http://t.co/5uoOPhSqU3']\n",
            "['http://t.co/tXrBdaUBNN', 'http://t.co/Ue78c7EgOX']\n",
            "['http://t.co/jEvrCWUdpm']\n",
            "[]\n",
            "['http://t.co/kAH1KmTrj7']\n",
            "['http://t.co/r4yZHxk7lw']\n",
            "['http://t.co/nnv3zwVANt']\n",
            "[]\n",
            "[]\n",
            "['http://t.co/OLzaVTJFKH']\n",
            "['http://t.co/2SZ7oKjRXi']\n",
            "['http://t.co/YBE9JQoznR', 'http://t.co/328SzflEtZ']\n",
            "['https://t.co/uaoDOquDa1']\n",
            "[]\n",
            "[]\n",
            "[]\n",
            "[]\n",
            "['http://t.co/ySG9vsrT4g']\n",
            "[]\n",
            "[]\n",
            "['http://t.co/rKDzB0TGC3']\n",
            "['http://t.co/PHNEZ60cwe']\n",
            "['http://t.co/V4Br5gjMIY']\n",
            "[]\n",
            "['https://t.co/2ZvhX41I9v']\n",
            "['http://t.co/mkqSVp8E0G']\n",
            "['http://t.co/ML8IrhWg7O']\n",
            "['http://t.co/pvExbIiqSK']\n",
            "[]\n",
            "[]\n",
            "[]\n",
            "['https://t.co/wXeLa91juh']\n",
            "[]\n",
            "[]\n",
            "['http://t.co/iyLVzy3Cob']\n",
            "['http://t.co/aCMrm833zq']\n",
            "[]\n",
            "['http://t.co/tUBE4NBqNz']\n",
            "['https://t.co/sJoEing76t']\n",
            "[]\n",
            "[]\n",
            "[]\n",
            "[]\n",
            "[]\n",
            "[]\n",
            "['https://t.co/OAQtjawGxg']\n",
            "[]\n",
            "[]\n",
            "[]\n",
            "[]\n",
            "[]\n",
            "[]\n",
            "[]\n",
            "[]\n",
            "[]\n",
            "[]\n",
            "[]\n",
            "[]\n",
            "['https://t.co/7vSqQSvGNI']\n",
            "[]\n",
            "[]\n",
            "[]\n",
            "[]\n",
            "[]\n",
            "['http://t.co/7S1GfNEBgt']\n",
            "[]\n",
            "[]\n",
            "['http://t.co/MoA0q0AuFa', 'http://t.co/NKOu7zWwRT']\n",
            "['http://t.co/UhF7NyAbSw']\n",
            "['http://t.co/0sa6Xx1oQ7']\n",
            "[]\n",
            "['http://t.co/366NhTg3Tz']\n",
            "['http://t.co/VOX99FWKcX']\n",
            "['http://t.co/Cubc0nq6Fd']\n",
            "[]\n",
            "[]\n",
            "['http://t.co/riWuP1RbHu', 'http://t.co/86pkNKCHmr']\n",
            "['http://t.co/t4pv0nrOoV', 'http://t.co/PSeYLYzck4']\n",
            "[]\n",
            "['http://t.co/pYLFb3tI9U']\n",
            "[]\n",
            "[]\n",
            "['http://t.co/k9aSKtwXfL']\n",
            "[]\n",
            "[]\n",
            "[]\n",
            "['http://t.co/tilgurKv7Z']\n",
            "['http://t.co/zsYkzj2bzG']\n",
            "[]\n",
            "[]\n",
            "[]\n",
            "['http://t.co/QYu8grOrQ1']\n",
            "['http://t.co/pPJi1tCNML']\n",
            "[]\n",
            "['http://t.co/PY4mtW5xpM']\n",
            "[]\n",
            "['http://t.co/irHh2GVSeD']\n",
            "['http://t.co/58wvChg1M9']\n",
            "[]\n",
            "[]\n",
            "['http://t.co/mwcNVtCXVU', 'http://t.co/ClOLmorpLd']\n",
            "['http://t.co/m2YUXNqlqY', 'http://t.co/V8GKkfMFXT']\n",
            "[]\n",
            "[]\n",
            "['http://t.co/unsayJDTu7']\n",
            "['http://t.co/Z8R6r3nBTb', 'http://t.co/nAmffldh5h']\n",
            "[]\n",
            "['https://t.co/X17fUBQBGG']\n",
            "['http://t.co/tCJfCkXdZL', 'http://t.co/EmTXtGO4CE']\n",
            "['http://t.co/7BevuJE5eP']\n",
            "['http://t.co/7GiglwdMhy']\n",
            "[]\n",
            "[]\n",
            "[]\n",
            "['http://t.co/EpZwasEYKy', 'http://t.co/cfevtrsc1U']\n",
            "[]\n",
            "[]\n",
            "['http://t.co/9y0pAJ8sxd', 'http://t.co/oLdjsowKY5']\n",
            "[]\n",
            "[]\n",
            "[]\n",
            "['http://t.co/VBo1tjNdps']\n",
            "[]\n",
            "['http://t.co/McSEK4hX5S', 'http://t.co/IIfGaZ0Fil']\n",
            "[]\n",
            "[]\n",
            "[]\n",
            "[]\n",
            "[]\n",
            "['http://t.co/YzZXxkNiSm', 'http://t.co/zzsEe5Hipm']\n",
            "[]\n",
            "[]\n",
            "[]\n",
            "[]\n",
            "['http://t.co/jkpjpcH9i6']\n",
            "['http://t.co/0MNPCER9nO']\n",
            "['http://t.co/QWQnni7VMZ']\n",
            "[\"http://t.co/4awC16uUWB'\"]\n",
            "['http://t.co/pw3tZU0tay']\n",
            "['http://t.co/9NwAJLi9cr', 'http://t.co/tKMOtaeaCo']\n",
            "['http://t.co/TPOaprJudp']\n",
            "['http://t.co/0yL3yT4YLH']\n",
            "['http://t.co/4ilt6FXU45']\n",
            "[]\n",
            "[]\n",
            "[]\n",
            "[]\n",
            "[]\n",
            "[]\n",
            "['http://t.co/l5VakLR59M']\n",
            "[]\n",
            "['http://t.co/45CmaQf8Ns']\n",
            "[]\n",
            "['http://t.co/QHbzKErOTt']\n",
            "['http://t.co/LbMeKYphM5.Pls', 'http://t.co/9NwAJLi9cr']\n",
            "[]\n",
            "['http://t.co/0cR74m1Uxm']\n",
            "['http://t.co/srUj5ZljGL']\n",
            "[]\n",
            "['http://t.co/jf5Ft5cq9j']\n",
            "['http://t.co/QllkOfdyzX', 'http://t.co/rGjJuMnNah']\n",
            "[]\n",
            "['http://t.co/uGesKLCn8M']\n",
            "['http://t.co/9NwAJLi9cr', 'http://t.co/j4NI4N0yFZ']\n",
            "['http://t.co/VRpmplcZCY']\n",
            "[]\n",
            "[]\n",
            "['http://t.co/kA1HBjlqVw']\n",
            "['http://t.co/MUdgU1pUNS', 'http://t.co/AQxwOLbCfq']\n",
            "['http://t.co/wA5C77F8vQ']\n",
            "['http://t.co/2xMdiDGpnr']\n",
            "['http://t.co/E981DgSkab']\n",
            "['http://t.co/2i4EOGGO5j']\n",
            "[]\n",
            "['http://t.co/V3aZWOAmzK']\n",
            "['http://t.co/T97JmbzOBO']\n",
            "['http://t.co/RfTyyZ4GwJ', 'http://t.co/lau0Ay7ahV']\n",
            "['http://t.co/HKbPqdncBa']\n",
            "['http://t.co/0wdAzLcM90']\n",
            "['http://t.co/3bwWNLsxhB']\n",
            "['http://t.co/QFyy5aZIFx']\n",
            "['http://t.co/yru4nPHdrf']\n",
            "['http://t.co/mBo6OAnIQI']\n",
            "['http://t.co/i6lmcccLv5']\n",
            "['http://t.co/kF0QYBKZOL']\n",
            "[]\n",
            "['https://t.co/iCTtZ0Divr']\n",
            "['http://t.co/z6hxx6d2pm']\n",
            "['http://t.co/Njd28pg9Xv']\n",
            "['http://t.co/4rYZMzSgDW']\n",
            "[]\n",
            "['http://t.co/OjQ0KFg5ub']\n",
            "['http://t.co/Z0VeR1hVM9']\n",
            "['http://t.co/Au5jWGT0ar']\n",
            "['http://t.co/l6jBjAj8dm']\n",
            "['http://t.co/f9KQksoSw3']\n",
            "[]\n",
            "[]\n",
            "['http://t.co/zqrcptLrUM']\n",
            "['http://t.co/x6el3ySYcn']\n",
            "[]\n",
            "['http://t.co/cybKsXHF7d']\n",
            "[]\n",
            "['http://t.co/6AiMd1uway', 'http://t.co/9cgbJwmhII']\n",
            "[]\n",
            "['http://t.co/9f3rDN9N3D']\n",
            "['http://t.co/sDZrrfZhMy']\n",
            "[]\n",
            "[]\n",
            "[]\n",
            "[]\n",
            "[]\n",
            "[]\n",
            "[]\n",
            "[]\n",
            "[]\n",
            "[]\n",
            "[]\n",
            "[]\n",
            "[]\n",
            "['http://t.co/26oo0fcL53']\n",
            "[]\n",
            "[]\n",
            "[]\n",
            "[]\n",
            "[]\n",
            "[]\n",
            "['https://t.co/9ZMWT9XYdz']\n",
            "[]\n",
            "[]\n",
            "[]\n",
            "[]\n",
            "[]\n",
            "['http://t.co/uWiJMEGl4E']\n",
            "[]\n",
            "['http://t.co/OEr5Hh41Ew']\n",
            "[]\n",
            "[]\n",
            "[]\n",
            "[]\n",
            "[]\n",
            "['http://t.co/frpbNhVPyI']\n",
            "[]\n",
            "[]\n",
            "[]\n",
            "[]\n",
            "[]\n",
            "['http://t.co/9PYmM2RUWf']\n",
            "[]\n",
            "['https://t.co/nWQ6wJQk1z']\n",
            "['http://t.co/3EnyNdXpPm', 'https://t.co/GQpi7jMKan']\n",
            "['http://t.co/N8EzfCTfcE']\n",
            "['http://t.co/HxVfmoUhDM']\n",
            "[]\n",
            "['http://t.co/X6aSGRjsWC']\n",
            "[]\n",
            "['http://t.co/3a50DhZ7YI']\n",
            "[]\n",
            "['http://t.co/JlWhaOwFQA']\n",
            "[]\n",
            "[]\n",
            "[]\n",
            "[]\n",
            "[]\n",
            "[]\n",
            "['http://t.co/GpwrC1KZ5i']\n",
            "['http://t.co/WERK9qibVV']\n",
            "[]\n",
            "[]\n",
            "[]\n",
            "[]\n",
            "[]\n",
            "[]\n",
            "['http://t.co/ryah8Fni5Q']\n",
            "['http://t.co/IPwySnik0G']\n",
            "['http://t.co/cm7HqwWUlZ', 'http://t.co/KdwAzHQTov']\n",
            "['http://t.co/lH9mrYpDrJ', 'http://t.co/PqhuthSS3i', 'http://t.co/0iW6dRf5X9']\n",
            "['http://t.co/5fHkxtrhYU']\n",
            "['http://t.co/2OroYUNYM2', 'http://t.co/C9JnXz3DXC']\n",
            "[]\n",
            "['http://t.co/ddhWoRI5w1', 'http://t.co/ZCvfC500yY']\n",
            "[]\n",
            "['http://t.co/hBWoivJqkD']\n",
            "[]\n",
            "[]\n",
            "['http://t.co/5AIeXCBKFq']\n",
            "['http://t.co/IGwsTTTkWK']\n",
            "['http://t.co/t6Seku4yvm', 'http://t.co/TJOZ4u4txl']\n",
            "[]\n",
            "['http://t.co/DchfPXgY2m', 'http://t.co/UgHpTzjuLK']\n",
            "[]\n",
            "[]\n",
            "[]\n",
            "[]\n",
            "['https://t.co/pQHQ4JnZTT', 'https://t.co/FX0W2Sq05F']\n",
            "['http://t.co/LKz5cNYNxX']\n",
            "['http://t.co/Iz17kLelZC']\n",
            "[]\n",
            "[]\n",
            "[]\n",
            "[]\n",
            "['http://t.co/suZBkyW5TT']\n",
            "['http://t.co/GZxIPMOknB']\n",
            "['http://t.co/qew4c5M1xd']\n",
            "['http://t.co/hcYAJsAcfJ']\n",
            "[]\n",
            "[]\n",
            "[]\n",
            "[]\n",
            "['http://t.co/ZpqwKHFhNf']\n",
            "['http://t.co/pjigXPVPl0']\n",
            "['http://t.co/nAex0Q1Ax0']\n",
            "['http://t.co/DyWWNbbYvJ']\n",
            "['http://t.co/7zlsUmIess', 'http://t.co/TdccH01N7q']\n",
            "[]\n",
            "['http://t.co/hA5BoppeJy']\n",
            "['http://t.co/F7LJwxJ5jp']\n",
            "['http://t.co/Dl60JA06TW']\n",
            "['http://t.co/r5BgVLqPJt', 'http://t.co/MEHWKZwtXD']\n",
            "['http://t.co/pc7S8NxJ6Q', 'http://t.co/9xoHmMlMDY']\n",
            "['http://t.co/IYs9xWPVMK']\n",
            "[]\n",
            "[]\n",
            "['http://t.co/0x2BIEqXPV']\n",
            "['http://t.co/Ch6E7vTATR']\n",
            "['http://t.co/KFBjVJiVQB', 'http://t.co/BN7Xpzqdm0']\n",
            "['http://t.co/ARKTJ9Qn4S']\n",
            "['http://t.co/z5Y4Xr14W6']\n",
            "['http://t.co/vFbbcHwrFD']\n",
            "[]\n",
            "['http://t.co/Pis0aiVRbR']\n",
            "['http://t.co/H3dCh6Fyaw']\n",
            "[]\n",
            "[]\n",
            "[]\n",
            "['http://t.co/RdOVqaUAx5']\n",
            "['http://t.co/Gm80X3vutf']\n",
            "[]\n",
            "[]\n",
            "['http://t.co/S0ktilisKq']\n",
            "['https://t.co/s7xdXuudcy']\n",
            "['http://t.co/8iHucO4GLW']\n",
            "['http://t.co/14CIcptKNa']\n",
            "['http://t.co/93iaEec26T']\n",
            "['http://t.co/HXTUPrA5bc', 'http://t.co/DqxKJibbKy']\n",
            "[]\n",
            "[]\n",
            "[]\n",
            "[]\n",
            "['http://t.co/i3hZemlDpU']\n",
            "['http://t.co/2FiBE2HAXC']\n",
            "['http://t.co/Yu6NUe7gFB']\n",
            "['http://t.co/Pl2VzLrKVK']\n",
            "['http://t.co/DrBcRyPj4p']\n",
            "['http://t.co/NV3Uxv9IMX', 'http://t.co/ej30IhrEA9']\n",
            "['http://t.co/sNuBZA6KSC']\n",
            "[]\n",
            "['http://t.co/UXqKIeqDyf']\n",
            "['http://t.co/1Q6ccFfzV6']\n",
            "['http://t.co/80DzgCo6Vc']\n",
            "['http://t.co/FDiU44jLDJ']\n",
            "['http://t.co/ZsnSaR1Tw1']\n",
            "['http://t.co/1MeEo3WJcO']\n",
            "['http://t.co/iCSFDSiFqb']\n",
            "['http://t.co/urJwsVr311', 'http://t.co/7JfrETeIi4']\n",
            "['http://t.co/xQrLEWiA4x']\n",
            "['http://t.co/F8GvWkFqox']\n",
            "['http://t.co/8KJ1wDAiGj']\n",
            "['http://t.co/9lyx7zMtHE', 'http://t.co/5PbC96rTMJ']\n",
            "['http://t.co/4KDThCtEmV']\n",
            "['http://t.co/z99pKJzTRp']\n",
            "['http://t.co/zOEpZsOkY1']\n",
            "['http://t.co/AQcSUSqbDy']\n",
            "['http://t.co/hkyFKug5zW']\n",
            "[]\n",
            "[]\n",
            "[]\n",
            "['http://t.co/k1TMLWvjmJ']\n",
            "['http://t.co/Z5grLREy6V']\n",
            "[]\n",
            "['http://t.co/P6cyLz5lpt', 'http://t.co/Jpu9gIps9f']\n",
            "['http://t.co/CYzlshlQhG', 'http://t.co/nDiS8f1vzt']\n",
            "[]\n",
            "[]\n",
            "['http://t.co/ldGWsYoWSs', 'http://t.co/cnYVVY4WAT']\n",
            "[]\n",
            "['http://t.co/vg8HRbebdA']\n",
            "[]\n",
            "[]\n",
            "['http://t.co/xkonKZ0Zl6', 'http://t.co/dXVtgi1BvO']\n",
            "[]\n",
            "['http://t.co/ykVsttvDWo', 'http://t.co/IFQQpUr99X']\n",
            "['http://t.co/tFan6qq2Ys', 'http://t.co/rAkwWritPo']\n",
            "[]\n",
            "[]\n",
            "['http://t.co/CImUbwEyiB', 'http://t.co/9R5FstS7Bd']\n",
            "[]\n",
            "[]\n",
            "[]\n",
            "[]\n",
            "['http://t.co/YzDmouXQBO', 'http://t.co/PeXfgawrG1']\n",
            "[]\n",
            "[]\n",
            "[]\n",
            "[]\n",
            "[]\n",
            "['http://t.co/RmucfjCaZr']\n",
            "['http://t.co/I9dSPDKrUK', 'http://t.co/NEp5aZwKNA']\n",
            "[]\n",
            "['http://t.co/zevAn9kJzL', 'http://t.co/UUZFs1L5Kt']\n",
            "['http://t.co/YfAVSuOgvl', 'http://t.co/ISI1rLLCt0']\n",
            "['http://t.co/fxdH3U8Bq3', 'http://t.co/YZHVobGOcQ']\n",
            "['http://t.co/WPlrhBFHeE', 'http://t.co/eelEx4SSVF']\n",
            "[]\n",
            "[]\n",
            "[]\n",
            "['http://t.co/dsPWS6hJ8w']\n",
            "['http://t.co/sC4TWJkxr1', 'http://t.co/yN6DuOtimr']\n",
            "[]\n",
            "['http://t.co/7nU7pRxeul']\n",
            "['http://t.co/YxtZbTVMhm', 'http://t.co/7jGgqwbv6S']\n",
            "[]\n",
            "['http://t.co/8zy9N6fX9T', 'http://t.co/ITZ9masBvZ']\n",
            "[]\n",
            "['http://t.co/iCRgseAGYA', 'http://t.co/KpvYmHM2uB']\n",
            "['https://t.co/WKmfDig3nT']\n",
            "['http://t.co/48TPnmbJVG']\n",
            "[]\n",
            "[]\n",
            "['http://t.co/bGeRLjamTE', 'http://t.co/sPuHuvgAsy']\n",
            "[]\n",
            "[]\n",
            "[]\n",
            "['http://t.co/aPTAP6Yx1r']\n",
            "[]\n",
            "['http://t.co/hPplD1jHtZ']\n",
            "[]\n",
            "['http://t.co/hFyrloQY8q']\n",
            "['https://t.co/OHCx3y8l4s']\n",
            "[]\n",
            "[]\n",
            "[]\n",
            "['https://t.co/SkQ8oUcM3R']\n",
            "[]\n",
            "[]\n",
            "[]\n",
            "[]\n",
            "[]\n",
            "[]\n",
            "[]\n",
            "[]\n",
            "['http://t.co/6e7hHfeRz4']\n",
            "[]\n",
            "[]\n",
            "['https://t.co/wQy3JOKuMH']\n",
            "[]\n",
            "[]\n",
            "['http://t.co/GFsl2Kwt5h']\n",
            "[]\n",
            "[]\n",
            "[]\n",
            "[]\n",
            "[]\n",
            "[]\n",
            "[]\n",
            "[]\n",
            "[]\n",
            "[]\n",
            "['http://t.co/6eZkoof2Xt', 'http://t.co/faCM78eg7K']\n",
            "['http://t.co/KD3Qsakbi5']\n",
            "[]\n",
            "['http://t.co/SQsyUeh4yI', 'http://t.co/199t7ND0pm']\n",
            "[]\n",
            "['http://t.co/wwgAdpFFkW']\n",
            "['http://t.co/dZLENSe1Gw']\n",
            "['http://t.co/tB52o146tx', 'http://t.co/tsbTiGDSDT']\n",
            "['http://t.co/pFMn63VnAm', 'http://t.co/vKwqbOJFJc']\n",
            "['http://t.co/42gW2i2Q41']\n",
            "['http://t.co/PZeiXi4Xk7']\n",
            "['http://t.co/z0hSckvySN']\n",
            "[]\n",
            "[]\n",
            "['http://t.co/EYSVvzA7Qm']\n",
            "['http://t.co/zZweEezJuG']\n",
            "['http://t.co/LwLexXjUS8']\n",
            "['http://t.co/6GLDwx71DA']\n",
            "['http://t.co/e2HltYyFAk', 'http://t.co/pmxEzUo4AY']\n",
            "['http://t.co/x3g2OX6K8R']\n",
            "['http://t.co/RYEQMxIrj8']\n",
            "['http://t.co/KzBSOhtwB4']\n",
            "['http://t.co/6X0xHlbxji']\n",
            "[]\n",
            "['http://t.co/Kue48Nmjxh']\n",
            "['http://t.co/wxhMp5ppjq']\n",
            "[]\n",
            "['http://t.co/CmwEIojJ55']\n",
            "['http://t.co/QposKp3MWj', 'http://t.co/mTQjsvupwy']\n",
            "[]\n",
            "[]\n",
            "['http://t.co/mtfnbhRYZq']\n",
            "[]\n",
            "['http://t.co/xpPQnYHiWC']\n",
            "['http://t.co/Qsheu3yF0W']\n",
            "['http://t.co/ZUqgvJnEQA']\n",
            "[]\n",
            "['http://t.co/dEvYbnVXGQ']\n",
            "['http://t.co/FiJAPxyKRQ']\n",
            "['http://t.co/ERUzBUQZYU']\n",
            "['http://t.co/GsOMtDPmoJ']\n",
            "['http://t.co/kIF7M3FQLx', 'http://t.co/Oz6vlWwTNR']\n",
            "['http://t.co/PP05eTlK7t', 'http://t.co/3Ol8MhhPMa']\n",
            "['http://t.co/5kFOVovjso']\n",
            "[]\n",
            "['http://t.co/vN73o4SGzJ']\n",
            "['http://t.co/VGvJGr8zoO']\n",
            "[]\n",
            "['http://t.co/dYDFvz7amj']\n",
            "['http://t.co/6mF7eyZOAw']\n",
            "['http://t.co/tlS40nqiPN']\n",
            "[]\n",
            "['http://t.co/zZpojgngAJ']\n",
            "['https://t.co/gZEgjoAKKw']\n",
            "['http://t.co/RVSYxwj9Cp']\n",
            "['http://t.co/Na0ptN0dTr']\n",
            "[]\n",
            "[]\n",
            "['https://t.co/YrfZ5WJ7R2']\n",
            "['http://t.co/vKu3RtOZ1J']\n",
            "[]\n",
            "['http://t.co/5Zcje7arci', 'http://t.co/haVXoBcSVU)']\n",
            "['http://t.co/EDyfo6E2PU', 'http://t.co/M5KxLPKFA1']\n",
            "['http://t.co/wMmkIrJ0Hw']\n",
            "['http://t.co/SQsyUeh4yI', 'http://t.co/199t7ND0pm']\n",
            "['http://t.co/jBODKM6rBU']\n",
            "[]\n",
            "[]\n",
            "[]\n",
            "['http://t.co/qCpMktGLLR']\n",
            "['http://t.co/E1vkc2efsT', 'http://t.co/BeUa507Iug']\n",
            "[]\n",
            "['http://t.co/SGXP1U5OL1']\n",
            "[]\n",
            "['http://t.co/mOdM8X1Ot9', 'http://t.co/oSsC7Q12iR']\n",
            "['http://t.co/IGlnQpgbNW', 'http://t.co/aOesBVns45']\n",
            "[]\n",
            "[]\n",
            "['http://t.co/6VeI1mheA4']\n",
            "[]\n",
            "[]\n",
            "[]\n",
            "[]\n",
            "['http://t.co/LThMwtl5fP']\n",
            "[]\n",
            "['http://t.co/pfvzVPxQGr']\n",
            "[]\n",
            "['http://t.co/u6isXv2F3V']\n",
            "['http://t.co/UcLVIhwOEC']\n",
            "[]\n",
            "['http://t.co/rRq1ildkiL']\n",
            "[]\n",
            "['http://t.co/8rABhQrTh5']\n",
            "[]\n",
            "[]\n",
            "[]\n",
            "[]\n",
            "[]\n",
            "['https://t.co/cnxXmfFRae']\n",
            "['http://t.co/lAtsSUo4wS']\n",
            "['http://t.co/e84IFMCczN']\n",
            "[]\n",
            "[]\n",
            "['http://t.co/dHaMbP54Ya']\n",
            "[]\n",
            "[]\n",
            "['http://t.co/OwJe3i6yGN']\n",
            "[]\n",
            "[]\n",
            "['http://t.co/5QhoeHE9hf']\n",
            "[]\n",
            "['http://t.co/8Vzl1ns2iO']\n",
            "['http://t.co/QzvKPaHsQ7']\n",
            "[]\n",
            "['http://t.co/yEtagC2d8A']\n",
            "['http://t.co/3drSmxw3cr']\n",
            "['http://t.co/kcmbBwwp8G']\n",
            "[]\n",
            "['http://t.co/yG32yb2jDY']\n",
            "['https://t.co/pQsLUg4jK5']\n",
            "['http://t.co/lSpnyCVoLO', 'http://t.co/Nh5pkFBfqm']\n",
            "[]\n",
            "[]\n",
            "[]\n",
            "[]\n",
            "['http://t.co/iBsVy2R3PH']\n",
            "['https://t.co/Upgd2cy9il']\n",
            "[]\n",
            "[]\n",
            "[]\n",
            "[]\n",
            "[]\n",
            "[]\n",
            "[]\n",
            "[]\n",
            "[]\n",
            "[]\n",
            "[]\n",
            "['http://t.co/X39JwSyrqR']\n",
            "['http://t.co/r4WGXrA59M']\n",
            "[]\n",
            "[]\n",
            "['http://t.co/ModqNaLWsB', 'http://t.co/4C58oOaVhY']\n",
            "['http://t.co/lhTvKcoISo']\n",
            "['http://t.co/O82yVXbztv', 'http://t.co/N5KmxuVeRg']\n",
            "['http://t.co/HhlLQCkcEP']\n",
            "['http://t.co/TMmOrvxsWz']\n",
            "['http://t.co/XBznU0QkVS']\n",
            "['http://t.co/bGAJ2oAX1p']\n",
            "['http://t.co/0WdsEIHYQu']\n",
            "[]\n",
            "[]\n",
            "[]\n",
            "['http://t.co/OTrwZ1t9sp', 'http://t.co/xVlkFCvfX5']\n",
            "['http://t.co/Pxyh7zo7vT']\n",
            "['https://t.co/V0t8H4Iecc']\n",
            "[]\n",
            "[]\n",
            "['http://t.co/OmjMTU9kFG']\n",
            "[]\n",
            "['http://t.co/orOvZFsKU2']\n",
            "[]\n",
            "[]\n",
            "['http://t.co/tOYU16mxBO', 'http://t.co/P10hNDc0Mm']\n",
            "['http://t.co/EKWTiHlwuf']\n",
            "['http://t.co/2CX1yjjoZ9']\n",
            "[]\n",
            "['http://t.co/z4IlB9y9nU', 'http://t.co/j295MD1SOW']\n",
            "['http://t.co/SD7lOww9nu', 'http://t.co/7hKavTVx81']\n",
            "['http://t.co/qKaHXwLWXa']\n",
            "[]\n",
            "['http://t.co/ooGotO76uZ']\n",
            "['http://t.co/vLNmkLWWby', 'http://t.co/P769eo49Fj']\n",
            "[]\n",
            "['http://t.co/he7Q7H3nZf', 'http://t.co/rpvZBEsUQJ']\n",
            "['http://t.co/hQZFcXxRsB', 'http://t.co/0VWPdIzckO']\n",
            "['http://t.co/yh4R7Ug21a']\n",
            "[]\n",
            "['https://t.co/T07qxP5cBE']\n",
            "['http://t.co/BZ3iR4GMWj']\n",
            "[]\n",
            "['http://t.co/dhGAVw8bSW', 'http://t.co/0lMhEAEX9k']\n",
            "[]\n",
            "['http://t.co/bQV3QtTuxR', 'http://t.co/0DrqlrsGY5']\n",
            "['http://t.co/aP9JBrPmQg']\n",
            "['https://t.co/yRQGNbLKaC']\n",
            "['http://t.co/dYy7ml2NzJ']\n",
            "['http://t.co/6mBPvwiTxf']\n",
            "['http://t.co/njAffyjaRz', 'http://t.co/1xHSuEwQn4']\n",
            "['http://t.co/vEcsoSRleR', 'http://t.co/fiUOgj6hEF']\n",
            "['http://t.co/czpDn9oBiT']\n",
            "[]\n",
            "['http://t.co/YdgiUYdqgb']\n",
            "['http://t.co/NXtWXJCAVh', 'http://t.co/oL8ESFRGLE']\n",
            "['http://t.co/kK0qFKGqcY', 'http://t.co/SMc1Ro09Fs']\n",
            "['http://t.co/mUAnfWcRW9']\n",
            "['http://t.co/pq0D7MH3qr']\n",
            "['http://t.co/QUEDV2xxxX']\n",
            "['http://t.co/lgGLf5yrMe']\n",
            "['http://t.co/rorKtMpqNs', 'http://t.co/eDznX6GOud']\n",
            "['http://t.co/GZIb0mAwmn']\n",
            "['http://t.co/49izkbOHri']\n",
            "['http://t.co/qPUr3Vd7Hl']\n",
            "['http://t.co/l9EKHNkBar']\n",
            "['http://t.co/pHH1VmLfoo']\n",
            "['https://t.co/QGqlpmRfJd']\n",
            "['http://t.co/JHVigsX5Jg']\n",
            "['http://t.co/tj3LtPZfW1']\n",
            "['http://t.co/vxVfAEEY0q']\n",
            "['http://t.co/xpwkodpqtO']\n",
            "['http://t.co/NdwEp6IZDQ']\n",
            "['http://t.co/PK8dgVripw', 'http://t.co/RZ0adzursW']\n",
            "['http://t.co/vxVfAEEY0q']\n",
            "['http://t.co/Mphog0QDDN']\n",
            "[]\n",
            "['http://t.co/fABVlvN5MS']\n",
            "['http://t.co/vymOuZjZRe', 'http://t.co/eNRJh5Qkve']\n",
            "[]\n",
            "['http://t.co/QdmVTJ4lZJ']\n",
            "[]\n",
            "[]\n",
            "['http://t.co/O4xLjnaV8F']\n",
            "[]\n",
            "['http://t.co/Dj1LWZNIEH', 'http://t.co/I9MxXkzHbL']\n",
            "['https://t.co/UttaNbigRx']\n",
            "['http://t.co/REsxAvgpyJ']\n",
            "['http://t.co/9HiEiFHSmC']\n",
            "['https://t.co/lUe3waeGpI']\n",
            "['http://t.co/p9ryMfjcUX']\n",
            "['http://t.co/sTo58qa94c']\n",
            "['http://t.co/GyH00mRKjm']\n",
            "['http://t.co/ZonNqGsxYw']\n",
            "['https://t.co/2fGgzQn1v4']\n",
            "['http://t.co/SI02QRgukA', 'http://t.co/0C1y8g7E9p']\n",
            "['http://t.co/pdiit0AF3Q', 'http://t.co/ZQ5KDOx7BY']\n",
            "['http://t.co/sGECNKFThU']\n",
            "['https://t.co/0xOUv7DHWz']\n",
            "['http://t.co/h6Z7hXUqtu']\n",
            "[]\n",
            "['http://t.co/x1x6d5Enef', 'http://t.co/XhehJFFT7g']\n",
            "[]\n",
            "[]\n",
            "['http://t.co/J2erZbMjQD']\n",
            "['http://t.co/spYmIQNeCj']\n",
            "['http://t.co/FelR5a1hBP']\n",
            "['https://t.co/WE40iUX7Ib']\n",
            "['http://t.co/FjeaFgbZfJ']\n",
            "[]\n",
            "[]\n",
            "['http://t.co/9BLiDdNGtF']\n",
            "[]\n",
            "['http://t.co/6siiRlnV6z']\n",
            "[]\n",
            "['http://t.co/UCNcKrnLow']\n",
            "['http://t.co/gtcFfaCvam']\n",
            "[]\n",
            "['http://t.co/qYccvUubkr']\n",
            "['http://t.co/c9dVDsSoFn']\n",
            "[]\n",
            "['http://t.co/HteZ4z48Od', 'http://t.co/Eq4rXC9bb3']\n",
            "['http://t.co/j3Rtf2dt3X']\n",
            "['http://t.co/N2bCf4M64V']\n",
            "['http://t.co/1tvlFrhm1m']\n",
            "[]\n",
            "[]\n",
            "[]\n",
            "['http://t.co/HDBMfOVUtZ']\n",
            "['http://t.co/1vz3RmjHy4:', 'http://t.co/xevUEEfQBZ']\n",
            "['https://t.co/ztfEAd8GId']\n",
            "['http://t.co/j3x0DOY7R3']\n",
            "['http://t.co/OazgHoZGYa']\n",
            "[]\n",
            "['http://t.co/BL59Fw4SYS']\n",
            "[]\n",
            "[]\n",
            "[]\n",
            "['http://t.co/a6Ro9bmXcy']\n",
            "[]\n",
            "[]\n",
            "[]\n",
            "['http://t.co/HUrIIVFDKC']\n",
            "[]\n",
            "[]\n",
            "['http://t.co/9h0ym9OFsv']\n",
            "[]\n",
            "['http://t.co/aDSvDpNP3r']\n",
            "['http://t.co/FJ7kcRliR7']\n",
            "[]\n",
            "[]\n",
            "['http://t.co/GoeTJGIhOp']\n",
            "['http://t.co/Cn1joMMUGH']\n",
            "['http://t.co/IQJ1Z3jXx8']\n",
            "['http://t.co/ZSqM8ihE1K']\n",
            "['http://t.co/eXdbcx4gCR']\n",
            "[]\n",
            "['http://t.co/hiKF8Mkjsn']\n",
            "[]\n",
            "[]\n",
            "['http://t.co/reOz7H3Em8']\n",
            "['http://t.co/h4UshEekxm', 'http://t.co/jNHNX3oISN']\n",
            "['http://t.co/gHk9Xup6E0']\n",
            "['http://t.co/igZ7v24GE9', 'http://t.co/M75DNf2xyg']\n",
            "[]\n",
            "['http://t.co/1uo1aTrbbJ']\n",
            "['http://t.co/JwIv6WYW6F']\n",
            "[]\n",
            "['http://t.co/1xW0Z8ZeqW']\n",
            "[]\n",
            "[]\n",
            "[]\n",
            "['http://t.co/NU6wRp716d']\n",
            "['https://t.co/uMajwSNLUF']\n",
            "['http://t.co/YmP0gInwza', 'http://t.co/FYIOQvIOif']\n",
            "['https://t.co/IggFNBIxt5']\n",
            "['http://t.co/BSrERJbY0I']\n",
            "[]\n",
            "['http://t.co/w3esX6Ud8t']\n",
            "[]\n",
            "['http://t.co/43sXG9Z6xh']\n",
            "['https://t.co/cAvb7pgEpv']\n",
            "['http://t.co/LSJowGYvQh']\n",
            "['http://t.co/dgUL7FfJt2']\n",
            "['http://t.co/fLO8fgy35A']\n",
            "['http://t.co/jVIVT6zrv7']\n",
            "['http://t.co/NCjLKqASUk']\n",
            "['http://t.co/kC8O81BcHG']\n",
            "['http://t.co/0RokDuTyUN']\n",
            "['https://t.co/TxzXCNUDr8']\n",
            "['http://t.co/SuiLzS2S95']\n",
            "[]\n",
            "['http://t.co/n2cY3Z4TPB']\n",
            "[]\n",
            "['http://t.co/dnO7QXcFfh']\n",
            "[]\n",
            "['http://t.co/E7OJhpdfG2']\n",
            "['http://t.co/Y33QcKq7qD']\n",
            "[]\n",
            "[]\n",
            "[]\n",
            "['http://t.co/yi3OiVK2X4']\n",
            "[]\n",
            "[]\n",
            "['http://t.co/RgT9GhODpW']\n",
            "[]\n",
            "[]\n",
            "[]\n",
            "[]\n",
            "['http://t.co/JILfbR0UfP']\n",
            "['https://t.co/407V1y4HHg']\n",
            "[]\n",
            "['http://t.co/xyav4T5n0O']\n",
            "[]\n",
            "[]\n",
            "['http://t.co/SiHQPlUIDW']\n",
            "[]\n",
            "[]\n",
            "[]\n",
            "[]\n",
            "[]\n",
            "[]\n",
            "[]\n",
            "['http://t.co/m5djLLxoZP']\n",
            "['https://t.co/GF5qjGoyCi']\n",
            "[]\n",
            "['http://t.co/7LvGCMyIyJ']\n",
            "[]\n",
            "[]\n",
            "['http://t.co/sxHGFIThJw']\n",
            "['http://t.co/O7QOgmOegU']\n",
            "['http://t.co/MzRhfOJT2j']\n",
            "[]\n",
            "[]\n",
            "[]\n",
            "['https://t.co/isBtzUJFBm']\n",
            "['http://t.co/eeRkH8ljws']\n",
            "[]\n",
            "[]\n",
            "[]\n",
            "[]\n",
            "[]\n",
            "[]\n",
            "['http://t.co/UUzaUMdObc']\n",
            "[]\n",
            "['http://t.co/O7yYjLuKfJ']\n",
            "[]\n",
            "['http://t.co/r5bXZzhXkm']\n",
            "['http://t.co/PrmtxjJdue']\n",
            "['http://t.co/9eh2lCQkxl']\n",
            "[]\n",
            "['http://t.co/J6mpdsx9Lk']\n",
            "[]\n",
            "['https://t.co/iH8UDz8mq3']\n",
            "[]\n",
            "['http://t.co/Q5qCoAo8jP']\n",
            "['https://t.co/qRHng6kJ1C']\n",
            "[]\n",
            "[]\n",
            "[]\n",
            "[]\n",
            "[]\n",
            "[]\n",
            "['http://t.co/c1xhIzPrAd']\n",
            "[]\n",
            "['http://t.co/8j09ZUTxWT']\n",
            "[]\n",
            "[]\n",
            "[]\n",
            "[]\n",
            "[]\n",
            "['http://t.co/bLZt5zwosE']\n",
            "[]\n",
            "['http://t.co/DXfqOu4kT2']\n",
            "['http://t.co/hHpVSAtQXN', 'http://t.co/D12r8XpShy']\n",
            "['http://t.co/CJHH17duli']\n",
            "['http://t.co/Oa6B0Z2H6Y']\n",
            "[]\n",
            "[]\n",
            "[]\n",
            "['http://t.co/iNkuv5DNTX', 'http://t.co/1cvEGTIZOG']\n",
            "['https://t.co/Y3FO0gHg8t']\n",
            "['https://t.co/i2El5aCrRW']\n",
            "[]\n",
            "[]\n",
            "[]\n",
            "['https://t.co/p5JPjgiipW']\n",
            "['http://t.co/WATsmxYTVa']\n",
            "['http://t.co/aMYMwWcpYm']\n",
            "['http://t.co/tCXxHdJAs6']\n",
            "[]\n",
            "['http://t.co/drf3mmRbyx']\n",
            "[]\n",
            "[]\n",
            "[]\n",
            "[]\n",
            "['http://t.co/bMSeDZOfSV']\n",
            "['https://t.co/ItFbBz9xYC']\n",
            "[]\n",
            "[]\n",
            "['https://t.co/N0tAwGeZJx']\n",
            "[]\n",
            "[]\n",
            "[]\n",
            "[]\n",
            "['https://t.co/fz1HAEj255']\n",
            "['http://t.co/9l5kqykrbG']\n",
            "[]\n",
            "[]\n",
            "[]\n",
            "[]\n",
            "[]\n",
            "['http://t.co/euDwNFyUeM']\n",
            "[]\n",
            "['http://t.co/8GtRvEcE1N']\n",
            "['http://t.co/k5FIJaNkJb']\n",
            "[]\n",
            "['http://t.co/kmPfhGlhoo']\n",
            "[]\n",
            "[]\n",
            "['http://t.co/L90dCPV9Zu']\n",
            "['http://t.co/r6YJw4xcKY']\n",
            "[]\n",
            "[]\n",
            "[]\n",
            "[]\n",
            "[]\n",
            "[]\n",
            "[]\n",
            "['http://t.co/V5gTUnwohy']\n",
            "[]\n",
            "[]\n",
            "['http://t.co/mcEjZzxgh8']\n",
            "['http://t.co/FAQNFUpeGn', 'http://t.co/mQfOfKXtyh']\n",
            "['http://t.co/ykuAuOV9jO']\n",
            "[]\n",
            "['http://t.co/JRDwyy0aX4']\n",
            "['http://t.co/kAF3WdRmTn']\n",
            "['http://t.co/aL28RVkqPQ']\n",
            "[]\n",
            "['http://t.co/7cMf3noYNc']\n",
            "['http://t.co/tAmRCWfYgd']\n",
            "['http://t.co/iMiLsFxntf']\n",
            "['https://t.co/ybdSlJw7c1']\n",
            "['http://t.co/oABJZtbVyZ', 'http://t.co/GPBXRrDc07']\n",
            "[]\n",
            "[]\n",
            "[]\n",
            "['https://t.co/G1Nw99YJ8U']\n",
            "['http://t.co/KcRnMJKJ73']\n",
            "['http://t.co/3OionqlFQL']\n",
            "['http://t.co/WtaFaepuKZ']\n",
            "[]\n",
            "['http://t.co/BehfHspPud']\n",
            "['http://t.co/HikDC1fM2F']\n",
            "['https://t.co/lKXi6UXjaQ']\n",
            "[]\n",
            "['http://t.co/94UYT4ojYK']\n",
            "[]\n",
            "['http://t.co/1VI2RNbK2i']\n",
            "['http://t.co/mNh6FXhOdB']\n",
            "['https://t.co/sNaYMLDIUN']\n",
            "['http://t.co/amEA3LaMDj']\n",
            "['http://t.co/aVV6hPNpch']\n",
            "['http://t.co/0T9yd557rY']\n",
            "['http://t.co/E65V80FCus']\n",
            "['http://t.co/FcFpijiqt5']\n",
            "[]\n",
            "['http://t.co/dIh1TgQhej']\n",
            "[]\n",
            "['http://t.co/tL93AOd3ER']\n",
            "[]\n",
            "[]\n",
            "['https://t.co/9pmBTxmoAL']\n",
            "['http://t.co/dthNEezupe']\n",
            "['http://t.co/mO7DbBdFVR', 'http://t.co/0ScNWe8XbV']\n",
            "['http://t.co/U3WAO8asFg', 'http://t.co/hC6hZs4wSI']\n",
            "['http://t.co/Ox6OUw3Yut']\n",
            "['https://t.co/yXnagsqvBM']\n",
            "[]\n",
            "['http://t.co/Otblb9PJ2I']\n",
            "[]\n",
            "['http://t.co/xYi5fDacxO', 'http://t.co/SjtvzgGcXU']\n",
            "[]\n",
            "[]\n",
            "[]\n",
            "[]\n",
            "[]\n",
            "['http://t.co/hTqVF44UQs', 'http://t.co/PvXeLxCJeu']\n",
            "[]\n",
            "['http://t.co/ucUDwIU3aN']\n",
            "['http://t.co/T1mBw0ia3o', 'http://t.co/CLfa0PY5Lm']\n",
            "[]\n",
            "[]\n",
            "[]\n",
            "[]\n",
            "[]\n",
            "[]\n",
            "[]\n",
            "['http://t.co/P1WmkXA9d8']\n",
            "[]\n",
            "[]\n",
            "[]\n",
            "[]\n",
            "[]\n",
            "['http://t.co/UlxF6dq3ns']\n",
            "[]\n",
            "[]\n",
            "['http://t.co/lKJFabQzb3']\n",
            "[]\n",
            "['http://t.co/aTCMrjzJTp']\n",
            "['https://t.co/aomQ1RYKmJ']\n",
            "[]\n",
            "['https://t.co/4zmcqRMOIs']\n",
            "[]\n",
            "[]\n",
            "['http://t.co/QfrAWLn4BA']\n",
            "[]\n",
            "[]\n",
            "['https://t.co/9jCIBenckz']\n",
            "[]\n",
            "[]\n",
            "['https://t.co/BhufevaGPu']\n",
            "[]\n",
            "[]\n",
            "['https://t.co/r5StV25ZhQ']\n",
            "['http://t.co/67TjN9EgyK']\n",
            "[]\n",
            "['https://t.co/Kw3vq4niJQ']\n",
            "[]\n",
            "['http://t.co/PdKHBdG9hO']\n",
            "[]\n",
            "[]\n",
            "[]\n",
            "['https://t.co/5hlJUcxI0S']\n",
            "[]\n",
            "[]\n",
            "[]\n",
            "[]\n",
            "[]\n",
            "[]\n",
            "[]\n",
            "['http://t.co/rjEbpiB5rZ']\n",
            "['http://t.co/w00kjPrfdR', 'http://t.co/mIXl1pFRJe']\n",
            "[]\n",
            "[]\n",
            "['http://t.co/wRNpywyaLj', 'http://t.co/Qv7IYdoVx9']\n",
            "[]\n",
            "['http://t.co/4rY6zhcPOQ']\n",
            "['http://t.co/xxkHjySn0p', 'http://t.co/JEVHKNJGBX']\n",
            "['http://t.co/jCDd6SD6Qn', 'http://t.co/9gUCkjghms']\n",
            "['https://t.co/CVPdVHxd1R', 'http://t.co/FDMXP4FcMo']\n",
            "['http://t.co/VmKexjTyG4']\n",
            "['http://t.co/VDeFmulx43', 'http://t.co/yqpAIjSa5g']\n",
            "[]\n",
            "[]\n",
            "[]\n",
            "['http://t.co/mTmoIa0Oo0', 'http://t.co/Nn4ZtCmSRU']\n",
            "[]\n",
            "['http://t.co/XWN7rgVkzC', 'http://t.co/SWPDQ84boI']\n",
            "['http://t.co/ApWXS5Mm44', 'http://t.co/DS76loZLSu']\n",
            "[]\n",
            "['http://t.co/ED32PBviO7', 'http://t.co/IfM6v6480P']\n",
            "['http://t.co/NJVPXzMj5V', 'http://t.co/Ijd7WzV5t9']\n",
            "['http://t.co/Gg0dZSvBZ7)', 'http://t.co/kBe91aRCdw']\n",
            "['http://t.co/d3P88xdLEc', 'http://t.co/j2DDvh7fY0']\n",
            "['http://t.co/O1SMUh2unn', 'http://t.co/xqj6WgiuQH']\n",
            "['http://t.co/uzsQzYcB8X']\n",
            "['http://t.co/62OddEkVLi']\n",
            "['http://t.co/1QT51r5h98', 'http://t.co/OQH1JbUEnl']\n",
            "['http://t.co/gTqMGsgcsB']\n",
            "['http://t.co/Th2WLilBmo']\n",
            "['http://t.co/5xmCE6JufS', 'http://t.co/3Zo7PX3p1V']\n",
            "['http://t.co/O097vSOtxk', 'http://t.co/I23Xy7iEjj']\n",
            "['http://t.co/fDSaoOiskJ', 'http://t.co/2uVmq4vAfQ']\n",
            "['http://t.co/D02sbM0ojs']\n",
            "[]\n",
            "['http://t.co/6zCfHi7Srw', 'http://t.co/vWYkDaU1vm']\n",
            "['http://t.co/XSR2VUJyIz']\n",
            "['http://t.co/nOSvu0Zx4x', 'http://t.co/5mJZJNkPfn']\n",
            "['http://t.co/SeMw5cQ7Dg']\n",
            "['http://t.co/MJMwA72ER6', 'http://t.co/ADx9iYi246']\n",
            "['http://t.co/8J19FvU7qA']\n",
            "['http://t.co/xLq8G6vb2r']\n",
            "['http://t.co/5PmikAVyKL']\n",
            "[]\n",
            "['http://t.co/uAhIcWpIh4']\n",
            "['http://t.co/E3L1JqjH2u']\n",
            "['http://t.co/Kx8cU4s8T1']\n",
            "['http://t.co/WVeO9ED10e']\n",
            "[]\n",
            "['http://t.co/9mj8oUj3vt']\n",
            "['http://t.co/KkOOVBKndp']\n",
            "['http://t.co/8fvQRizOUX']\n",
            "['http://t.co/nsfzkfgZnj']\n",
            "[]\n",
            "['http://t.co/QcyXwr2rdv']\n",
            "[]\n",
            "['http://t.co/TDAKtGlU5p']\n",
            "['http://t.co/KAVAovJz2V']\n",
            "['http://t.co/XJkRXrNWNv', 'http://t.co/JlWGshYY3N']\n",
            "['http://t.co/9z9HsmiaVD']\n",
            "['http://t.co/b4k0R4GgA8']\n",
            "['https://t.co/ELTne5v1Qn']\n",
            "[]\n",
            "[]\n",
            "[]\n",
            "['http://t.co/q4kGftC2AM', 'http://t.co/6w6A2L4qAe\\x89Û\\x9d']\n",
            "['http://t.co/hVxu1Zcvau', 'http://t.co/iJmCCMHh5G']\n",
            "[]\n",
            "['http://t.co/w7SIIdujOH']\n",
            "[]\n",
            "['http://t.co/PiJG5w2L2u']\n",
            "['http://t.co/jzPrCIqa9D']\n",
            "[]\n",
            "[]\n",
            "['http://t.co/r7vPaKlhvI']\n",
            "['http://t.co/Eo2F96WXPz']\n",
            "['http://t.co/iCFQl7I9oP']\n",
            "[]\n",
            "['http://t.co/sLTtOrRLHs']\n",
            "[]\n",
            "['http://t.co/9TG7A5OqFP']\n",
            "['http://t.co/eU8jypIzsd']\n",
            "[]\n",
            "[]\n",
            "[]\n",
            "[]\n",
            "[]\n",
            "['http://t.co/jrgJ17oAMt']\n",
            "[]\n",
            "[]\n",
            "['http://t.co/CwHSLMB8x9']\n",
            "['http://t.co/BOZlwr716Z']\n",
            "['http://t.co/JoDs9a32PI']\n",
            "['http://t.co/nJMiDySXoF']\n",
            "[]\n",
            "['http://t.co/ocojPPnRh1']\n",
            "[]\n",
            "['http://t.co/WnamtxlfMt', 'http://t.co/6cOIDv11qV']\n",
            "[]\n",
            "['http://t.co/LqGOe7psXp']\n",
            "[]\n",
            "['http://t.co/XqdVghz8G6']\n",
            "['http://t.co/aw23wXtyjB', 'http://t.co/ABgct9VFUa']\n",
            "['http://t.co/hsZjaFxrvi']\n",
            "[]\n",
            "['http://t.co/0jFNvAXFph']\n",
            "[]\n",
            "[]\n",
            "['http://t.co/LxjjGyv86A', 'https://t.co/U9x3perXCO']\n",
            "['http://t.co/8rDXcfgQEm']\n",
            "[]\n",
            "['http://t.co/a2myUTpDiQ', 'http://t.co/XrSkT0s9lz']\n",
            "[]\n",
            "[]\n",
            "[]\n",
            "[]\n",
            "['http://t.co/bcjYleRRYX']\n",
            "[]\n",
            "['http://t.co/aPreNsss3x']\n",
            "['http://t.co/d7zxZ42QW1']\n",
            "['http://t.co/FYMP4I2Wp5']\n",
            "[]\n",
            "[]\n",
            "['http://t.co/jK7nPdpWRo']\n",
            "['http://t.co/Yqg5Pvw5gX']\n",
            "['http://t.co/3STfmN26r9']\n",
            "['http://t.co/dao9AZEUcr']\n",
            "[]\n",
            "[]\n",
            "['https://t.co/ZPSnX5iYAJ']\n",
            "[]\n",
            "['http://t.co/8NAdrGr4xC']\n",
            "[]\n",
            "['http://t.co/rGYUaKc0dR']\n",
            "['http://t.co/TQwrW3jQWo']\n",
            "[]\n",
            "[]\n",
            "['http://t.co/dFYrPpzkPu', 'http://t.co/iwsdbGd1zq']\n",
            "[]\n",
            "[]\n",
            "['http://t.co/SrSLCxHc2T']\n",
            "[]\n",
            "['http://t.co/D62zfZy0Mi']\n",
            "['http://t.co/Tft1bb4xaZ']\n",
            "['http://t.co/UtuMVaABz6']\n",
            "['http://t.co/4zn0MDsRVp']\n",
            "['http://t.co/awXR24zsqh', 'http://t.co/o9A26Fn27y']\n",
            "['https://t.co/WtGGqS5gEh']\n",
            "['http://t.co/RBZomWGjeE']\n",
            "['https://t.co/xuhMJ098Lq']\n",
            "['http://t.co/6o1mgMGHgt', 'http://t.co/wTPO6elRZd']\n",
            "['http://t.co/fwuP9YURzY']\n",
            "[]\n",
            "[]\n",
            "['http://t.co/KzfiGkEeva']\n",
            "[]\n",
            "['http://t.co/k0QtL8aODH', 'http://t.co/zQBXe7x9Y7']\n",
            "['http://t.co/1hLVrKwgIP']\n",
            "['http://t.co/oTfW5SEkD7']\n",
            "['http://t.co/LkwxU8QV7n']\n",
            "['http://t.co/Vxjcx8uKMd']\n",
            "['http://t.co/UyYYrKd6q3']\n",
            "[]\n",
            "[]\n",
            "['http://t.co/lSWsitnkuk']\n",
            "['http://t.co/OasKgki6Qj']\n",
            "[]\n",
            "['http://t.co/9e2f7bIvlE']\n",
            "[]\n",
            "['http://t.co/AUXSMdG1uN']\n",
            "['http://t.co/igyu2PEIU3']\n",
            "['http://t.co/TIM8x9bI0f']\n",
            "[]\n",
            "[]\n",
            "[]\n",
            "[]\n",
            "[]\n",
            "['http://t.co/blppzAIbOE']\n",
            "['http://t.co/kigy7M6bGJ']\n",
            "[]\n",
            "['http://t.co/IDQcfJycYM']\n",
            "['http://t.co/oLpBmy9xw9', 'http://t.co/ON18cqGcoA']\n",
            "[]\n",
            "[]\n",
            "['http://t.co/1EPIYeNQYL']\n",
            "[]\n",
            "['https://t.co/B7omJ7U3EI']\n",
            "[]\n",
            "[]\n",
            "[]\n",
            "[]\n",
            "['http://t.co/VbFfodtP6M']\n",
            "['http://t.co/qo3VWFelkp']\n",
            "[]\n",
            "['http://t.co/D9xVuvp9s6']\n",
            "['http://t.co/GzMoBlsJxu', 'http://t.co/5CGtqfk2uR']\n",
            "['https://t.co/2BE7BwcMpl']\n",
            "[]\n",
            "['http://t.co/lrx0sDsNHM']\n",
            "[]\n",
            "[]\n",
            "[]\n",
            "['http://t.co/RGOGUyt0LF']\n",
            "[]\n",
            "['http://t.co/MIUsvPxQTE']\n",
            "[]\n",
            "['http://t.co/qBdRYXSGlC', 'http://t.co/VZOd7qFFlv']\n",
            "['http://t.co/FqQI8GVLQ4']\n",
            "['http://t.co/SxwJyR3K3l', 'http://t.co/aEWGlVqReH']\n",
            "['http://t.co/xQbWnLBBIu']\n",
            "['http://t.co/jkYM9EdOfc']\n",
            "['http://t.co/ERWs6IELdG']\n",
            "[]\n",
            "['http://t.co/rzaGDnWTAH', 'http://t.co/uqEttaGSCU']\n",
            "['http://t.co/TmzXopVs94', 'http://t.co/W192Wkog1M']\n",
            "['http://t.co/9gIAXD6JTY']\n",
            "['http://t.co/2WBiVKzJIP']\n",
            "['http://t.co/kEstuUYc4t', 'http://t.co/PzFBb1P1mj']\n",
            "['http://t.co/zCt5cchOJ0']\n",
            "['http://t.co/8E6XuhrBKh', 'http://t.co/Qo190N8UdD']\n",
            "['http://t.co/5U5GAkX2ch']\n",
            "['http://t.co/SkY9EokgGB', 'http://t.co/5IyZsDA6xB']\n",
            "['http://t.co/Zo8RsqURa2']\n",
            "['http://t.co/XK9OwGV1O5']\n",
            "[]\n",
            "['https://t.co/MJ8rEZOXlJ']\n",
            "['http://t.co/zAGBMlSf4H', 'http://t.co/HVYXehXBmq']\n",
            "['http://t.co/hBhx0dwkPC']\n",
            "['http://t.co/HLyHDfWsQB', 'http://t.co/GwSNBMmcqF']\n",
            "['http://t.co/1FHRrhciMH']\n",
            "['http://t.co/fT7OrfA52y', 'http://t.co/Dv4MMlsO1I']\n",
            "['http://t.co/vgF41IuPkn']\n",
            "['http://t.co/TdwprVB04y']\n",
            "[]\n",
            "[]\n",
            "[]\n",
            "['http://t.co/cCdx7CGlQW']\n",
            "['http://t.co/0wrATkA2jL']\n",
            "['http://t.co/dliZfkk30Y']\n",
            "[]\n",
            "[]\n",
            "['https://t.co/dxwfX56pWh']\n",
            "[]\n",
            "['http://t.co/0wrATkA2jL']\n",
            "[]\n",
            "['http://t.co/rqlPSAYE3B']\n",
            "[]\n",
            "[]\n",
            "[]\n",
            "['http://t.co/iD667rlEts']\n",
            "['http://t.co/cIrTVml9Vp']\n",
            "[]\n",
            "[]\n",
            "[]\n",
            "[]\n",
            "['http://t.co/B9Zx2xZ6aW']\n",
            "['https://t.co/VgzGOK5k3S']\n",
            "[]\n",
            "[]\n",
            "[]\n",
            "[]\n",
            "['http://t.co/k14q8cHWKp']\n",
            "['http://t.co/0wrATkA2jL']\n",
            "[]\n",
            "[]\n",
            "[]\n",
            "[]\n",
            "[]\n",
            "[]\n",
            "[]\n",
            "[]\n",
            "['http://t.co/0w12PwPSfx']\n",
            "['http://t.co/eqDm2OpYbG']\n",
            "[]\n",
            "['http://t.co/0XrfVidxA2', 'http://t.co/oIHwgEZDCk']\n",
            "[]\n",
            "['http://t.co/nJLqRqcnL9']\n",
            "['http://t.co/IPfzWWNXXP']\n",
            "[]\n",
            "['http://t.co/Yr67ugEsrm']\n",
            "[]\n",
            "['http://t.co/DilyvRoWyJ']\n",
            "[]\n",
            "[]\n",
            "['http://t.co/IufS7UV1HK', 'http://t.co/AFrHnLLY8D']\n",
            "['https://t.co/RbbnjkoqUD']\n",
            "['https://t.co/7Ct01nEptL']\n",
            "[]\n",
            "[]\n",
            "[]\n",
            "['http://t.co/XGKyVF9t4f']\n",
            "['http://t.co/eCMJ18AzaI']\n",
            "[]\n",
            "[]\n",
            "['http://t.co/kVNahTHUWZ', 'http://t.co/Y8xkNpqMnJ']\n",
            "['http://t.co/LxvLqVbc8r']\n",
            "['https://t.co/xzvmzQuS0x']\n",
            "[]\n",
            "['http://t.co/0PAMznyYuw']\n",
            "[]\n",
            "['http://t.co/itZzKWfhG5']\n",
            "['https://t.co/JU8nfpnedl']\n",
            "[]\n",
            "['http://t.co/PFSrYJS1pc', 'http://t.co/SKdBot7TGF']\n",
            "[]\n",
            "[]\n",
            "['http://t.co/DdUxtHvVnr']\n",
            "['https://t.co/JWnXH9Q5ov']\n",
            "[]\n",
            "[]\n",
            "['http://t.co/WOzuBXRi2p']\n",
            "['http://t.co/fuCOQhcLAD']\n",
            "['http://t.co/7AzE4IoGMe']\n",
            "['http://t.co/u9fCb8dz3h']\n",
            "[]\n",
            "[]\n",
            "['http://t.co/Jw6FNnsSxT', 'http://t.co/4zAzTB19qE']\n",
            "['http://t.co/92Pk0HujD8']\n",
            "[]\n",
            "['http://t.co/mIcjNPuhG0', 'http://t.co/Vddi5ChKTP']\n",
            "['https://t.co/dlvZaay7qr']\n",
            "['http://t.co/ed1VpITsWY):', 'http://t.co/6XSbddlZiy']\n",
            "['http://t.co/4e719w6m4V']\n",
            "[]\n",
            "['http://t.co/gGn39m60tL']\n",
            "[]\n",
            "[]\n",
            "[]\n",
            "[]\n",
            "[]\n",
            "['http://t.co/3X6RBQJHn3']\n",
            "['https://t.co/BJZSSw4tid']\n",
            "[]\n",
            "[]\n",
            "['http://t.co/rOdpt33XFM', 'http://t.co/0BVK5tuB4J']\n",
            "['http://t.co/tGLK2UUs2Z']\n",
            "[]\n",
            "['http://t.co/pAQanenCeS']\n",
            "[]\n",
            "['http://t.co/9xO9mKQqsi', 'http://t.co/BP03eAFEWR']\n",
            "['http://t.co/a0Ad8z5Vsr']\n",
            "['http://t.co/LTMa9xQXpx']\n",
            "['http://t.co/k9aIrFQ3QL', 'http://t.co/JdBTlyMEhY']\n",
            "[]\n",
            "['http://t.co/u0SYkowVWV']\n",
            "['http://t.co/4Wsva9WO0F']\n",
            "['http://t.co/Y8WLOcTeVC']\n",
            "['http://t.co/irpSSresRq']\n",
            "[]\n",
            "['http://t.co/iTG84q7vIi']\n",
            "['http://t.co/bDOTQ8dSlN']\n",
            "[]\n",
            "[]\n",
            "['http://t.co/yhAqa5WXoK']\n",
            "['http://t.co/Tk65sKe0zm']\n",
            "[]\n",
            "['http://t.co/bp8bm8xSXw']\n",
            "['http://t.co/Ih0Awv3L1O']\n",
            "['http://t.co/xXOuPfy8nQ', 'http://t.co/A3BJabHQhe']\n",
            "[]\n",
            "[]\n",
            "[]\n",
            "[]\n",
            "[]\n",
            "[]\n",
            "['http://t.co/wMDihdiz1r']\n",
            "['http://t.co/jW3hN9ewFT', 'http://t.co/NYWrkRQ7Kn']\n",
            "['http://t.co/4eGh1G1Jk7']\n",
            "['http://t.co/s4Srgrmqcz']\n",
            "[]\n",
            "[]\n",
            "[]\n",
            "[]\n",
            "['http://t.co/xc96rWUSZb', 'http://t.co/XM9stfzcpV']\n",
            "['https://t.co/rQiuqXNM2X']\n",
            "['http://t.co/TgtCRU8jiO']\n",
            "['http://t.co/YtkXwPyIHg']\n",
            "[]\n",
            "[]\n",
            "[]\n",
            "[]\n",
            "[]\n",
            "[]\n",
            "['https://t.co/FKqJY3EzyG']\n",
            "[]\n",
            "[]\n",
            "[]\n",
            "[]\n",
            "[]\n",
            "[]\n",
            "[]\n",
            "[]\n",
            "[]\n",
            "[]\n",
            "[]\n",
            "[]\n",
            "[]\n",
            "[]\n",
            "[]\n",
            "[]\n",
            "[]\n",
            "['http://t.co/REuosJEK4m']\n",
            "[]\n",
            "[]\n",
            "[]\n",
            "[]\n",
            "[]\n",
            "[]\n",
            "['http://t.co/x1oNV3d5uX']\n",
            "['http://t.co/2ii3Brc7NX']\n",
            "[]\n",
            "[]\n",
            "[]\n",
            "['http://t.co/2mnQC73hFk']\n",
            "[]\n",
            "['http://t.co/ComLG0VdbV']\n",
            "[]\n",
            "['http://t.co/86RSYy2tng']\n",
            "[]\n",
            "['http://t.co/sbGiRvQvzb']\n",
            "['http://t.co/F7OgzrNPfv']\n",
            "['http://t.co/nb1E7mNcE5']\n",
            "['http://t.co/5ytIeX55lh']\n",
            "['https://t.co/XyFl8wy62g']\n",
            "['http://t.co/LRTU8Rwn2f']\n",
            "['http://t.co/epABiNcZmJ', 'http://t.co/1SgzGtgfw9']\n",
            "['http://t.co/HaShGQAFic']\n",
            "[]\n",
            "['http://t.co/rJac5sItEp', 'http://t.co/Plqf1bikS4']\n",
            "['http://t.co/FfKcj8pfj2']\n",
            "['http://t.co/Vh8QtbyPZt']\n",
            "['http://t.co/NZRWDdLntp']\n",
            "['http://t.co/2hocEP41kH']\n",
            "['http://t.co/53P4oOO1XN']\n",
            "['http://t.co/W1ufeibALa', 'http://t.co/bIULQpRxke']\n",
            "['http://t.co/PVmr38LnvA']\n",
            "[]\n",
            "['https://t.co/OxXRnaB8Un']\n",
            "['http://t.co/B2yvLMPepR']\n",
            "[]\n",
            "['http://t.co/qxXN6RKsp6', 'http://t.co/B3X1wqzAoR']\n",
            "['http://t.co/JeJC9XcTMp']\n",
            "['http://t.co/3eJL9lZlCH']\n",
            "[]\n",
            "['http://t.co/NIpZmfLiBD']\n",
            "['http://t.co/PVmr38LnvA']\n",
            "['http://t.co/RtfirzCPOC']\n",
            "[]\n",
            "['http://t.co/JwfiiLJ8Wr', 'http://t.co/IONWArVRFy']\n",
            "['http://t.co/hdAhLgrprl', 'http://t.co/Z1s3T77P3L']\n",
            "['http://t.co/GlWoAKppjq', 'http://t.co/WlLfLFnDgG']\n",
            "['http://t.co/VbqmZ5aPwj', 'http://t.co/C2EyjNyBfN', 'http://t.co/gt7gf0fSeX']\n",
            "['http://t.co/GpCeCp9kHv']\n",
            "['http://t.co/Xxj2B4JxRt', 'http://t.co/9gtYlgXrOE', 'http://t.co/yG6Rj86BKI']\n",
            "['http://t.co/cSXvwXUZ6t']\n",
            "['http://t.co/DzlPNP399x']\n",
            "['http://t.co/liKWQhSHHX']\n",
            "['http://t.co/HmRt98OydJ']\n",
            "['http://t.co/JAb541hHk0', 'http://t.co/Je6Zjwh5uB', 'http://t.co/fDxgmiwAEh']\n",
            "['http://t.co/l4wJHz4AJ6', 'http://t.co/KMgDv7VSAz', 'http://t.co/byTsfms7Md']\n",
            "['http://t.co/u4bdy1W7d4']\n",
            "['http://t.co/HRSfA8zujI', 'http://t.co/vLnjNoLNme', 'http://t.co/iF5RoGFJRi']\n",
            "['http://t.co/9CntP3nQ6o', 'http://t.co/Qdf6ASaeLM']\n",
            "['http://t.co/2nS5TfnxpA', 'http://t.co/W2kVScbTLp', 'http://t.co/tn8o00NrLP']\n",
            "['http://t.co/9Jxb3rx8mF', 'http://t.co/B5s5epJ7Um', 'http://t.co/hPA9GQRyWa']\n",
            "[]\n",
            "['http://t.co/Sww0QsMxVM', 'http://t.co/bcdP4gKokA']\n",
            "['http://t.co/kPIVXGjNqt']\n",
            "['http://t.co/tAM6aoskoJ', 'http://t.co/eL24mnFcHw']\n",
            "['http://t.co/9I5cczD5S0', 'http://t.co/WEaTrRihE1']\n",
            "['http://t.co/7NPBfRzEJL', 'http://t.co/Y0kByy8nce']\n",
            "['http://t.co/N71hMveRvv']\n",
            "['http://t.co/yFPpIFDkQO', 'http://t.co/aJYUlMFTIF']\n",
            "['http://t.co/JlzK2HdeTG']\n",
            "['http://t.co/FZ8YtWQkwV']\n",
            "['http://t.co/JlzK2HdeTG']\n",
            "['https://t.co/uSH59Uq30j']\n",
            "[]\n",
            "['http://t.co/hRdwGfbFYq', 'http://t.co/nUOhKmPZFj']\n",
            "[]\n",
            "['http://t.co/7IEiZ619h0', 'http://t.co/tFeaNwhH2h', 'http://t.co/SjicbhzFo4']\n",
            "[]\n",
            "['http://t.co/TaXUxp9QA2']\n",
            "['http://t.co/cbPs1gskvO']\n",
            "[]\n",
            "['http://t.co/gUJNPLJVvt']\n",
            "['http://t.co/J2aQs5loxu']\n",
            "['http://t.co/s4PNIhJQX7']\n",
            "['http://t.co/cx6auPneMu']\n",
            "['http://t.co/B9JAxx0vCf']\n",
            "['http://t.co/wvTPuRYx63']\n",
            "['http://t.co/J5onxFwLAo']\n",
            "['http://t.co/EYUGk6byxr']\n",
            "['http://t.co/nQiObcZKrT']\n",
            "['http://t.co/aAtt5aMnmD']\n",
            "['http://t.co/ihInj3eNQi']\n",
            "['http://t.co/6jjvCDN4TI']\n",
            "['http://t.co/qj3PVgaVN7']\n",
            "['http://t.co/6AqrNanKFD']\n",
            "['http://t.co/8JcYXhq1AZ']\n",
            "[]\n",
            "['http://t.co/gexHzU1VK8']\n",
            "['http://t.co/MIs0RjxuIr']\n",
            "['https://t.co/APkSnpLXZj']\n",
            "['http://t.co/odmP01eyZU']\n",
            "[]\n",
            "['http://t.co/G62txymzBv']\n",
            "[]\n",
            "['http://t.co/cOMuiOk3mP']\n",
            "['http://t.co/xV3D9bPjHi']\n",
            "['http://t.co/jmAwRLt7HB']\n",
            "['http://t.co/V5yUUALoqw']\n",
            "['http://t.co/LK5uqKOP1e']\n",
            "['http://t.co/jST5hAUK35']\n",
            "['http://t.co/UMgD92wLjA']\n",
            "['http://t.co/GTXndnJRrl']\n",
            "['http://t.co/aQbLjComlN']\n",
            "[]\n",
            "[]\n",
            "['http://t.co/48Zg5ynebn...']\n",
            "['http://t.co/swVuZxi6gT']\n",
            "[]\n",
            "['http://t.co/wiQJERUktF']\n",
            "[]\n",
            "['http://t.co/NzIfztCUGL']\n",
            "[]\n",
            "[]\n",
            "[]\n",
            "['http://t.co/Wk6B5z803o']\n",
            "[]\n",
            "['http://t.co/XcQ48OuRvL']\n",
            "['http://t.co/VdgfXYX3bw']\n",
            "[]\n",
            "['http://t.co/eIoQJWgEiX']\n",
            "[]\n",
            "[]\n",
            "[]\n",
            "[]\n",
            "[]\n",
            "[]\n",
            "['http://t.co/a6PPEgeLOX']\n",
            "[]\n",
            "[]\n",
            "['http://t.co/NCjLXzFWaa']\n",
            "[]\n",
            "['http://t.co/VT2akY5MgK']\n",
            "['http://t.co/EX4FnJjL6H']\n",
            "['http://t.co/wpGvAyfkBQ']\n",
            "['http://t.co/6ioaBSl6I7']\n",
            "['http://t.co/gWnLHNeKu9']\n",
            "['http://t.co/jkD7CTi2iW', 'http://t.co/LAjN2n5e2d']\n",
            "[]\n",
            "[]\n",
            "['http://t.co/Carvv6gsRb', 'http://t.co/lAn76ZqKxG']\n",
            "[]\n",
            "['http://t.co/zLco4UE5OQ']\n",
            "['http://t.co/W0EXzAD5Gc']\n",
            "['https://t.co/2Dw23pMF4B']\n",
            "['http://t.co/KS7Ln8HQ8s']\n",
            "['http://t.co/tNI92fea3u', 'http://t.co/czBaMzq3gL']\n",
            "[]\n",
            "['http://t.co/5XRC0a76vD']\n",
            "['http://t.co/eXil1bKzmP', 'http://t.co/ehomn68oJB']\n",
            "[]\n",
            "['http://t.co/q4Q8XsYZOB']\n",
            "['http://t.co/nbugSMqLRG']\n",
            "[]\n",
            "[]\n",
            "[]\n",
            "['http://t.co/fQWTSxLkrZ']\n",
            "['http://t.co/zY3hpdJNwg']\n",
            "['http://t.co/JhOaHpbpQ4']\n",
            "['http://t.co/MIubkZ77m6']\n",
            "[]\n",
            "['http://t.co/bjjOIfzUhL', 'http://t.co/IywZAlLsN4']\n",
            "['http://t.co/EXsQIJF4nY', 'http://t.co/y7sIPKB1kd']\n",
            "['http://t.co/KcTiGYMahl']\n",
            "['http://t.co/k9FBtcCU58', 'http://t.co/XYj0rPsAI2']\n",
            "['http://t.co/BAqOcMcJqc']\n",
            "['http://t.co/FLqxd3q5pY']\n",
            "['http://t.co/OnvD9D4NKg']\n",
            "[]\n",
            "[]\n",
            "[]\n",
            "[]\n",
            "[]\n",
            "['http://t.co/RjopJKbydR', 'http://t.co/NUFDgw9YEv', 'http://t.co/2oKSCwYoHC']\n",
            "[]\n",
            "['http://t.co/ut7R2ixRjQ', 'http://t.co/v3z96YDMvD', 'http://t.co/kxSLfTZ2I5']\n",
            "[]\n",
            "[]\n",
            "[]\n",
            "['http://t.co/WwFqGCQYII', 'http://t.co/GscswyUuPA']\n",
            "['http://t.co/mfckpVzfV8']\n",
            "[]\n",
            "[]\n",
            "[]\n",
            "[]\n",
            "[]\n",
            "['https://t.co/SBZwRuwuFh']\n",
            "['http://t.co/i7EskymOec']\n",
            "['http://t.co/gtYCQyFuam', 'http://t.co/qwd5PvGjbO']\n",
            "['https://t.co/bFtOU2nybW']\n",
            "[]\n",
            "[]\n",
            "['http://t.co/JRztpT8IJq']\n",
            "[]\n",
            "['http://t.co/WeUDLkc4o4', 'http://t.co/trl1dskF81']\n",
            "['http://t.co/mfckpVzfV8']\n",
            "['http://t.co/OdYdT9QPk1']\n",
            "['http://t.co/jAaWuiOvdc']\n",
            "['http://t.co/CNkvILe7bE']\n",
            "[]\n",
            "['http://t.co/AuruGJEGIQ', 'http://t.co/L3w8miPvnT', 'http://t.co/O85M1bJFRW']\n",
            "[]\n",
            "['http://t.co/jans3Fd4lf', 'http://t.co/2SdMichb2Z']\n",
            "[]\n",
            "['http://t.co/x8W7tF6FHg', 'http://t.co/9NZ9zFM93i']\n",
            "[]\n",
            "[]\n",
            "['http://t.co/ScEfPFvAEU']\n",
            "['http://t.co/1o0j9FCPBi']\n",
            "['http://t.co/L6nSLzl7mI']\n",
            "['http://t.co/Woc6AkEHYX']\n",
            "['https://t.co/XYiwR9JETl']\n",
            "['http://t.co/NpOQLkqUP9']\n",
            "['http://t.co/E8aEGOFDY2']\n",
            "['http://t.co/lXMdiseUCn']\n",
            "['http://t.co/ptq3zMgncK']\n",
            "[]\n",
            "['https://t.co/j5In8meXAJ']\n",
            "[]\n",
            "[]\n",
            "['http://t.co/P3o71DZ992']\n",
            "['http://t.co/geEKnwJJSz']\n",
            "['http://t.co/qr3YPEkfOe']\n",
            "['http://t.co/zMWeCBWVaO']\n",
            "[]\n",
            "[]\n",
            "['http://t.co/jYiEgtnC6H']\n",
            "[]\n",
            "['http://t.co/FPhFESemyJ']\n",
            "[]\n",
            "['http://t.co/Gl3C1vc88P', 'http://t.co/vihdoKScCC']\n",
            "['http://t.co/VjXa13n8Ap']\n",
            "['http://t.co/pUXBC2LoYK']\n",
            "[]\n",
            "['http://t.co/AXXDCaKzTY']\n",
            "['http://t.co/L53OABEqc9', 'http://t.co/q3Izqdk1n0']\n",
            "[]\n",
            "['http://t.co/cEKbxJmPBj']\n",
            "['http://t.co/dCyYJVmXHR']\n",
            "['http://t.co/EqCCrTlnbd']\n",
            "[]\n",
            "[]\n",
            "['http://t.co/Cwm0ULqu3E']\n",
            "[]\n",
            "['http://t.co/ejymkZPEEx', 'http://t.co/0IYuntXDUv']\n",
            "[]\n",
            "[]\n",
            "[]\n",
            "[]\n",
            "[]\n",
            "['http://t.co/NJQV45ndS2']\n",
            "[]\n",
            "[]\n",
            "['http://t.co/iyjeJop2WI']\n",
            "[]\n",
            "[]\n",
            "[]\n",
            "[]\n",
            "['http://t.co/2xwIHy2wsg']\n",
            "[]\n",
            "['http://t.co/I4FZ75Utnh']\n",
            "[]\n",
            "[]\n",
            "[]\n",
            "['http://t.co/gzTolLl5Wo\\x89Û_']\n",
            "['https://t.co/TuzacdWFqd']\n",
            "['http://t.co/kKiMMBUe04']\n",
            "[]\n",
            "['http://t.co/g0dN1ChLUo']\n",
            "['https://t.co/zRZEjPEF5j']\n",
            "[]\n",
            "['http://t.co/8DdijZyNkf', 'http://t.co/52Uus4TFN3']\n",
            "[]\n",
            "[]\n",
            "['http://t.co/E5cNS6ufPA']\n",
            "['http://t.co/f1R5ISBVks']\n",
            "[]\n",
            "['http://t.co/UDTGWfSc3P', 'http://t.co/V5wSx0LQN2']\n",
            "[]\n",
            "['http://t.co/DGkmUEoAxZ']\n",
            "[]\n",
            "[]\n",
            "['http://t.co/cT9ejXoLpu']\n",
            "[]\n",
            "['http://t.co/dMTZMgyRiK']\n",
            "['http://t.co/d5w2zynP7b']\n",
            "[]\n",
            "[]\n",
            "['http://t.co/zj3ODGQHyp', 'http://t.co/VZhTiBe4jh']\n",
            "[]\n",
            "[]\n",
            "['http://t.co/Eujgu1HVVx']\n",
            "['http://t.co/8PIFutrB5U']\n",
            "[]\n",
            "['http://t.co/YhH7X0MAio']\n",
            "[]\n",
            "['http://t.co/iM2HdsKlq5']\n",
            "['http://t.co/D7m9KGMPJI']\n",
            "[]\n",
            "[]\n",
            "['http://t.co/5dUjGypImA']\n",
            "['http://t.co/jWq4KvJH2j']\n",
            "['http://t.co/tdeQwm8ZXn']\n",
            "[]\n",
            "[]\n",
            "['http://t.co/RkB7EgKveb']\n",
            "[]\n",
            "['http://t.co/7adqV1gRVR']\n",
            "['http://t.co/HxVIhDuShP']\n",
            "['http://t.co/12giQbVLYs']\n",
            "['http://t.co/vz19VvgMnv']\n",
            "[]\n",
            "[]\n",
            "['http://t.co/Z16DtoQHhG']\n",
            "['http://t.co/IGM2fcmupm', 'http://t.co/UxcfBJ3mzx']\n",
            "[]\n",
            "[]\n",
            "[]\n",
            "[]\n",
            "[]\n",
            "['http://t.co/IGM2fc4T0M', 'http://t.co/YiLTu7SXAr']\n",
            "[]\n",
            "[]\n",
            "[]\n",
            "[]\n",
            "[]\n",
            "['https://t.co/czDW8ooWa2']\n",
            "['https://t.co/QwIIhNMChR']\n",
            "[]\n",
            "[]\n",
            "[]\n",
            "[]\n",
            "[]\n",
            "[]\n",
            "[]\n",
            "[]\n",
            "[]\n",
            "[]\n",
            "[]\n",
            "['http://t.co/gghfx8PzMh']\n",
            "[]\n",
            "['http://t.co/HexPc77otN']\n",
            "[]\n",
            "[]\n",
            "['http://t.co/s0ctCQJvjX']\n",
            "[]\n",
            "[]\n",
            "[]\n",
            "[]\n",
            "[]\n",
            "[]\n",
            "[]\n",
            "['http://t.co/JZWRWlVlSj', 'http://t.co/oT3bjjhH8s']\n",
            "['http://t.co/vULrClw7Bd']\n",
            "['https://t.co/u8hSrtrXMm']\n",
            "[]\n",
            "['https://t.co/tUai0ZwGXU']\n",
            "[]\n",
            "[]\n",
            "[]\n",
            "['https://t.co/XrRLnheLaP']\n",
            "[]\n",
            "[]\n",
            "[]\n",
            "['http://t.co/sxmLg3XdvX']\n",
            "['http://t.co/xY41z0O5ei']\n",
            "['http://t.co/l0dEoCxU6o']\n",
            "[]\n",
            "['http://t.co/yoi9tOCxiQ']\n",
            "['http://t.co/RfB3JXbiEJ']\n",
            "['http://t.co/2XOhtjQJWh']\n",
            "[]\n",
            "['http://t.co/BcCcA4VY9R']\n",
            "['http://t.co/2q3fuEReY5']\n",
            "['http://t.co/7pQS4rshHb']\n",
            "[]\n",
            "['http://t.co/y7Rv0tiL1w']\n",
            "['http://t.co/g7K9TqVQbk']\n",
            "[]\n",
            "['http://t.co/xysNXUM29T']\n",
            "[]\n",
            "['http://t.co/wgqKXmby3B']\n",
            "['http://t.co/911F3IXRH0']\n",
            "['http://t.co/42MawZb8T9']\n",
            "[]\n",
            "['https://t.co/nqNWkTRhsA']\n",
            "['https://t.co/SJkgJxff2r']\n",
            "[]\n",
            "[]\n",
            "['https://t.co/rCvDrwoWvO']\n",
            "['http://t.co/q3Xq8R658r']\n",
            "[]\n",
            "['http://t.co/cyv2zG935g']\n",
            "['https://t.co/sZ2RvwpWhj', 'https://t.co/laJx578DRu']\n",
            "[]\n",
            "['http://t.co/g4sChqFEsT']\n",
            "[]\n",
            "[]\n",
            "[]\n",
            "[]\n",
            "['http://t.co/nxTTd9NrUx', 'http://t.co/iRQj3ZKCUz']\n",
            "['http://t.co/QGum9xHEOs']\n",
            "[]\n",
            "[]\n",
            "['http://t.co/724Gq5ebqZ', 'http://t.co/H01j9PIrIe']\n",
            "[]\n",
            "['http://t.co/aeZ3aK1lRN']\n",
            "[]\n",
            "['http://t.co/MXhrextrkh']\n",
            "['https://t.co/4i0rKcbK1D']\n",
            "['http://t.co/US0qQqhQVj', 'http://t.co/l0b14SJ7JB']\n",
            "['http://t.co/CLlWUD4Wsu']\n",
            "[]\n",
            "['http://t.co/To9ViqooFv']\n",
            "[]\n",
            "[]\n",
            "[]\n",
            "['http://t.co/17EGMlNi80']\n",
            "[]\n",
            "[]\n",
            "['http://t.co/aKQ4RwjFVL']\n",
            "['http://t.co/uOoYgBb6aZ', 'http://t.co/JJxcnwBp15']\n",
            "[]\n",
            "[]\n",
            "[]\n",
            "['https://t.co/APoD4EIVBa']\n",
            "['http://t.co/CtIjdPXABk']\n",
            "['http://t.co/2Wvmij5SA4']\n",
            "['https://t.co/Z4jyHaRreW']\n",
            "[]\n",
            "['http://t.co/HcwrK81p71']\n",
            "[]\n",
            "['http://t.co/bYtbZ8s5ux', 'http://t.co/o3wVScLiCX']\n",
            "[]\n",
            "['http://t.co/jyxafD4knK']\n",
            "['http://t.co/TEZLTqeyw2']\n",
            "['http://t.co/b32Jmvsb1E', 'http://t.co/XKMiJGY59T']\n",
            "['http://t.co/D4c2iqiRnU']\n",
            "[]\n",
            "[]\n",
            "['http://t.co/JMu5uyamdu']\n",
            "['http://t.co/VdILiiCyR5']\n",
            "['http://t.co/Z5cfrWado6']\n",
            "['http://t.co/BzdfznKvoG', 'http://t.co/eRhdH37rDh']\n",
            "['http://t.co/IdASYJybrO', 'http://t.co/gdoAOLPq91']\n",
            "[]\n",
            "['http://t.co/GrzcHkDF37']\n",
            "[]\n",
            "[]\n",
            "[]\n",
            "['http://t.co/iOq051t5te', 'http://t.co/klxAUcNP5I']\n",
            "['http://t.co/R4khEH7iaf', 'http://t.co/qSZgJfUutu']\n",
            "['http://t.co/iDmhSwewQw']\n",
            "[]\n",
            "[]\n",
            "['http://t.co/iDmhSwewQw', 'http://t.co/wwxcOB52zI']\n",
            "['http://t.co/AOg5chjmVs', 'http://t.co/cLN2SXzY1Z']\n",
            "['http://t.co/l1gH8064YV']\n",
            "[]\n",
            "[]\n",
            "[]\n",
            "[]\n",
            "[]\n",
            "[]\n",
            "[]\n",
            "[]\n",
            "[]\n",
            "[]\n",
            "['http://t.co/uniJ1RVrRq']\n",
            "[]\n",
            "[]\n",
            "[]\n",
            "[]\n",
            "[]\n",
            "[]\n",
            "[]\n",
            "[]\n",
            "[]\n",
            "[]\n",
            "[]\n",
            "[]\n",
            "[]\n",
            "[]\n",
            "[]\n",
            "[]\n",
            "[]\n",
            "[]\n",
            "[]\n",
            "[]\n",
            "[]\n",
            "[]\n",
            "[]\n",
            "[]\n",
            "[]\n",
            "[]\n",
            "[]\n",
            "[]\n",
            "[]\n",
            "['https://t.co/qadRKEJZ9T']\n",
            "[]\n",
            "['http://t.co/ODWs0waW9Q']\n",
            "[]\n",
            "[]\n",
            "[]\n",
            "['http://t.co/3a3FGZFmzh']\n",
            "['http://t.co/TmogTi6FB4']\n",
            "[]\n",
            "[]\n",
            "['http://t.co/c1H7JECFrV']\n",
            "[]\n",
            "['http://t.co/14wH0pJJ2C']\n",
            "['http://t.co/jbrK8ZsrY6']\n",
            "['http://t.co/37qPsSnaCv']\n",
            "['http://t.co/FhI4qBpwFH']\n",
            "['http://t.co/gV84WNhB7S']\n",
            "['http://t.co/c1H7JECFrV']\n",
            "['http://t.co/QZlPFHpwDO']\n",
            "[]\n",
            "[]\n",
            "[]\n",
            "[]\n",
            "['http://t.co/1RPCHRu72C']\n",
            "[]\n",
            "['https://t.co/Sb3rjQqzIX']\n",
            "[]\n",
            "['http://t.co/jLu2J5QS8U']\n",
            "[]\n",
            "['http://t.co/bXGNQ57xvb']\n",
            "[]\n",
            "[\"http://t.co/GlJBNSFGLl'\"]\n",
            "[]\n",
            "['https://t.co/qEoPMCJbCz']\n",
            "[]\n",
            "[]\n",
            "[]\n",
            "[]\n",
            "[]\n",
            "['http://t.co/LeJ5OnUs9Q']\n",
            "['https://t.co/3KOB7xBeA0']\n",
            "[]\n",
            "[]\n",
            "[]\n",
            "[]\n",
            "['http://t.co/1lXnJVl8TR']\n",
            "[]\n",
            "[]\n",
            "[]\n",
            "['http://t.co/xPddWH5teM']\n",
            "[]\n",
            "[]\n",
            "['https://t.co/4COg0OTiWn']\n",
            "[]\n",
            "[]\n",
            "[]\n",
            "[]\n",
            "['http://t.co/x713OMh6Ai']\n",
            "['https://t.co/OWpd7vcFS6']\n",
            "[]\n",
            "[]\n",
            "['http://t.co/LvlH3W3aWO', 'http://t.co/vIwXY1XDYK']\n",
            "['http://t.co/1fVoOTqnEj']\n",
            "['http://t.co/qzCUT7bVKT']\n",
            "['http://t.co/LvlH3W3aWO', 'http://t.co/vIwXY1XDYK']\n",
            "['https://t.co/pmXLeZJBRc']\n",
            "['http://t.co/1WopsGbVvv']\n",
            "[]\n",
            "['http://t.co/nLbLtYnV36', 'http://t.co/bjrrqHHoHL']\n",
            "['http://t.co/WUh1g2BLP1']\n",
            "['http://t.co/75VLsw85GI', 'http://t.co/txY3US2Ejs']\n",
            "['http://t.co/EZbTG81trz']\n",
            "[]\n",
            "[]\n",
            "[]\n",
            "[]\n",
            "['http://t.co/UilPg8i1ev', 'http://t.co/m9pXTo2kwW']\n",
            "[]\n",
            "[]\n",
            "[]\n",
            "['http://t.co/TiPnDEmPuz']\n",
            "['http://t.co/qw8qk165Sb']\n",
            "[]\n",
            "['http://t.co/kuRqLxFiHL']\n",
            "[]\n",
            "[]\n",
            "['http://t.co/f0WQlobOoy', 'http://t.co/THpBDPdj35']\n",
            "[]\n",
            "['http://t.co/MyHHTHsLi3']\n",
            "[]\n",
            "['https://t.co/u4r8dRiuAc']\n",
            "['http://t.co/LvlH3W3aWO', 'http://t.co/vIwXY1XDYK']\n",
            "['http://t.co/LvlH3W3aWO', 'http://t.co/vIwXY1XDYK']\n",
            "[]\n",
            "['http://t.co/nux5XfPV2d']\n",
            "['http://t.co/T8uqm7Imir']\n",
            "['http://t.co/Jp3OY0OuXq']\n",
            "[]\n",
            "['http://t.co/lfw4iymsak']\n",
            "[]\n",
            "['http://t.co/oDV3RqS8JU']\n",
            "['http://t.co/ge0yd3mKAv']\n",
            "[]\n",
            "['http://t.co/7mzYcU2IHo']\n",
            "['http://t.co/sCu9QZp6nq']\n",
            "[]\n",
            "[]\n",
            "[]\n",
            "['http://t.co/G6moNVnpSu']\n",
            "[]\n",
            "['https://t.co/htpqvoHtUd']\n",
            "['http://t.co/FpYrU5GOLh']\n",
            "[]\n",
            "['http://t.co/RPnEAJ6fOD']\n",
            "['http://t.co/Q9LxO4QkjI']\n",
            "['http://t.co/tQ3j2qGtZQ']\n",
            "['http://t.co/cQ7jJ6Yjfz']\n",
            "['http://t.co/dADZ5ZFO1g']\n",
            "['http://t.co/64xR9LtNOH']\n",
            "['http://t.co/6N6Gcej9Iy']\n",
            "['https://t.co/pCCwsGCymA']\n",
            "['http://t.co/EbbF1N7MAJ']\n",
            "[]\n",
            "['http://t.co/h31Knuwzz5']\n",
            "['http://t.co/Mnkaji2Q1N']\n",
            "['http://t.co/XEHwmsH7Lv']\n",
            "[]\n",
            "['http://t.co/vXsQPFE9NA']\n",
            "['http://t.co/ethgAGPy5G']\n",
            "[]\n",
            "[]\n",
            "[]\n",
            "[]\n",
            "['http://t.co/pBEgOf4740']\n",
            "['http://t.co/mcc76xOwli']\n",
            "[]\n",
            "[]\n",
            "[]\n",
            "['http://t.co/EjKRf8N8A8', 'http://t.co/SPHWE6wFI5']\n",
            "['http://t.co/DGATKRdyNy']\n",
            "[]\n",
            "[]\n",
            "[]\n",
            "[]\n",
            "[]\n",
            "['http://t.co/nJD1N5TxXe']\n",
            "[]\n",
            "[]\n",
            "['http://t.co/HFqlwo1kMy', 'http://t.co/LEi9dWVllq']\n",
            "[]\n",
            "[]\n",
            "[]\n",
            "[]\n",
            "[]\n",
            "[]\n",
            "['http://t.co/jPA6sajFE3']\n",
            "['http://t.co/cZWjw4UV7i']\n",
            "['http://t.co/c0t7RvoTKj']\n",
            "[]\n",
            "['http://t.co/EEjRMKtJ0R']\n",
            "[]\n",
            "['http://t.co/74YFQxvAK0', 'http://t.co/KXrEHVt6hL']\n",
            "['http://t.co/sbILA2Yqjq']\n",
            "[]\n",
            "['http://t.co/vVPLFQv58P', 'http://t.co/Rwaph6dAUv']\n",
            "['http://t.co/GETBjip5Rh']\n",
            "['http://t.co/bla42Rdt1O', 'http://t.co/EInSQS8tFq']\n",
            "[]\n",
            "['http://t.co/N6ZfLXIGvr']\n",
            "['http://t.co/9rrYaYlgyY', 'http://t.co/Nm83jOhLUu']\n",
            "['https://t.co/578GUNP8t9']\n",
            "['http://t.co/psbxl1HvU3']\n",
            "[]\n",
            "['http://t.co/vVPLFQv58P', 'http://t.co/l5AWTUndhm']\n",
            "['http://t.co/XKMLQ99SjY', 'http://t.co/a3RGQuCUgo']\n",
            "[]\n",
            "['http://t.co/vVPLFQv58P', 'http://t.co/yOMPxJpPTV']\n",
            "[]\n",
            "['http://t.co/l0hhwB9LSZ']\n",
            "['https://t.co/VhmtyTptGR']\n",
            "['http://t.co/N1tjCt8HMC', 'http://t.co/pYTQM7rVP0']\n",
            "['http://t.co/1puLaekxcq']\n",
            "[]\n",
            "['http://t.co/IAPvTqxLht', 'http://t.co/WAMKRe6CKD']\n",
            "['http://t.co/uZ1yiZ7n6m', 'http://t.co/IjwAr15H16']\n",
            "['http://t.co/vVPLFQv58P', 'http://t.co/eG1fsKqBv6']\n",
            "['http://t.co/ObiX79NcxN']\n",
            "['http://t.co/vVPLFQv58P', 'http://t.co/ldx9uKNGsk']\n",
            "[]\n",
            "['http://t.co/v0nf1Uc1OW']\n",
            "['http://t.co/9q9Rk3fOf7']\n",
            "['http://t.co/g0q0bzBjli', 'http://t.co/ExYr6c5QPu']\n",
            "[]\n",
            "[]\n",
            "[]\n",
            "['https://t.co/mA4ra7AtqL', 'http://t.co/cg579wlDnE']\n",
            "[]\n",
            "[]\n",
            "[]\n",
            "[]\n",
            "[]\n",
            "[]\n",
            "[]\n",
            "[]\n",
            "[]\n",
            "['http://t.co/534q3Jg2OV']\n",
            "[]\n",
            "[]\n",
            "[]\n",
            "[]\n",
            "[]\n",
            "[]\n",
            "['http://t.co/ZT5OFbiwtD']\n",
            "[]\n",
            "[]\n",
            "[]\n",
            "[]\n",
            "[]\n",
            "[]\n",
            "[]\n",
            "[]\n",
            "['http://t.co/sbfGLQjZfs']\n",
            "[]\n",
            "[]\n",
            "[]\n",
            "[]\n",
            "['http://t.co/kgxNwzIUxd']\n",
            "[]\n",
            "[]\n",
            "[]\n",
            "[]\n",
            "['http://t.co/35JyAp0ul9']\n",
            "[]\n",
            "[]\n",
            "['http://t.co/bgyTmqJ3OO']\n",
            "[]\n",
            "[]\n",
            "[]\n",
            "['http://t.co/q4gl3Dvhu1']\n",
            "[]\n",
            "['http://t.co/EmrZiCb004']\n",
            "[]\n",
            "['http://t.co/AVVSOiNO8Z', 'http://t.co/VoYrUxcrIN']\n",
            "[]\n",
            "[]\n",
            "[]\n",
            "['http://t.co/TB8gZEMbXU']\n",
            "[]\n",
            "['http://t.co/v2yXurne2p']\n",
            "['http://t.co/BbDpnj8XSx']\n",
            "['http://t.co/cwZ37lNDVk']\n",
            "[]\n",
            "[]\n",
            "[]\n",
            "[]\n",
            "['http://t.co/BbDpnj8XSx']\n",
            "['http://t.co/sDgOUtWNtb']\n",
            "[]\n",
            "[]\n",
            "['http://t.co/jdx9OX2kIk']\n",
            "['http://t.co/QhtoerhDkM']\n",
            "['http://t.co/BbDpnj8XSx']\n",
            "['http://t.co/O9DzgZqEMf']\n",
            "['http://t.co/u2NJPoR39K']\n",
            "['http://t.co/FgVN2vCrrX)', 'http://t.co/kftVNU7nvf']\n",
            "['http://t.co/v6H97K688J', 'http://t.co/tJw9bSeiPW']\n",
            "['http://t.co/z7phPjtqud']\n",
            "['http://t.co/MAcob5xLsU']\n",
            "['http://t.co/7Y2GNVA2eV']\n",
            "[]\n",
            "['http://t.co/X5jGKjV6Ma']\n",
            "['http://t.co/GaM7otGISw']\n",
            "[]\n",
            "['http://t.co/E0luGBL6pb']\n",
            "['http://t.co/zsDVWEgLF5']\n",
            "[]\n",
            "['http://t.co/Gvj7slbELP']\n",
            "['http://t.co/FtuNlH6ddg']\n",
            "[]\n",
            "[]\n",
            "['http://t.co/Y3ZfqJsvpz']\n",
            "[]\n",
            "['http://t.co/UmjpRRwRUU']\n",
            "[]\n",
            "['http://t.co/yRVGyKdbM6']\n",
            "['http://t.co/7uFnxxaVqs']\n",
            "['http://t.co/ZisuwLqRHf']\n",
            "['http://t.co/psi35AU3pc']\n",
            "['http://t.co/6exS23MUy3', 'http://t.co/l9iDheROtj']\n",
            "['http://t.co/ikpnGs3dTi', 'http://t.co/lJHgSdRAEZ']\n",
            "[]\n",
            "[]\n",
            "['http://t.co/JSsmMLNaQ7']\n",
            "['http://t.co/oW4GeXyNbH']\n",
            "[]\n",
            "[]\n",
            "['http://t.co/YtnnnD631z']\n",
            "['https://t.co/GHucazjSxB']\n",
            "[]\n",
            "['http://t.co/HRc3oxQUIK', 'http://t.co/wNPTvbM5T7']\n",
            "['http://t.co/uHkXMXaB9l']\n",
            "['http://t.co/74JppeK6o7']\n",
            "['http://t.co/qadUfO8zXg']\n",
            "['http://t.co/5hkGXzJLmX']\n",
            "['http://t.co/V1mtR517Ue']\n",
            "['http://t.co/guvTIzyCHE:', 'http://t.co/SY2WhXT0K5']\n",
            "['http://t.co/leCZOlkmSV']\n",
            "['http://t.co/okamsCZbwg']\n",
            "[]\n",
            "[]\n",
            "[]\n",
            "['http://t.co/E9d9Lk5Fdw']\n",
            "['http://t.co/XKURDr3yEv']\n",
            "['http://t.co/YS3nMwWyVc', 'http://t.co/AlpotNB7q3']\n",
            "['http://t.co/DbAUjp29Ub']\n",
            "[]\n",
            "[]\n",
            "['http://t.co/eM5oPyTBpg']\n",
            "[]\n",
            "['http://t.co/fRkOdEstuK']\n",
            "['http://t.co/gpVZV0249Y']\n",
            "['http://t.co/9WQixGMHfh']\n",
            "['http://t.co/X9CUiHIb5n']\n",
            "['http://t.co/D8aWX2okKe']\n",
            "['http://t.co/0DxVZ7fDh3']\n",
            "['https://t.co/2GLjhvEAD9']\n",
            "['http://t.co/LQjjy1PTWT']\n",
            "['http://t.co/vB3VFm76ke']\n",
            "['http://t.co/98o2Kc3A1Z', 'http://t.co/tGdontTkty']\n",
            "['http://t.co/mqMCOLwBzc']\n",
            "['http://t.co/pztbQImpuW']\n",
            "[]\n",
            "['http://t.co/9QNQ45Zduw', 'http://t.co/dhyLJllRHL']\n",
            "[]\n",
            "[]\n",
            "['https://t.co/pD14GsrfSC']\n",
            "[]\n",
            "['http://t.co/M3NJvvtYgN']\n",
            "[]\n",
            "[]\n",
            "['https://t.co/ReffbkVG9R']\n",
            "['http://t.co/GDrssjbH8q']\n",
            "['http://t.co/xfccvMXuWb']\n",
            "[]\n",
            "[]\n",
            "[]\n",
            "['http://t.co/Dm0uUpqGWY']\n",
            "[]\n",
            "['http://t.co/0oms8rI3l1']\n",
            "[]\n",
            "['https://t.co/mUHj8CbdQb']\n",
            "[]\n",
            "[]\n",
            "[]\n",
            "[]\n",
            "[]\n",
            "[]\n",
            "[]\n",
            "['http://t.co/XOmI4ZQzgp', 'http://t.co/0m1TW3DaTd']\n",
            "[]\n",
            "['http://t.co/fqMYprlG9g']\n",
            "['http://t.co/ciLO9pMlEb']\n",
            "[]\n",
            "['http://t.co/sAYZt2oagm']\n",
            "[]\n",
            "[]\n",
            "[]\n",
            "[]\n",
            "[]\n",
            "[]\n",
            "[]\n",
            "[]\n",
            "[]\n",
            "[]\n",
            "['http://t.co/BabMf0W2YW']\n",
            "['http://t.co/QvS7O10bG3']\n",
            "[]\n",
            "['http://t.co/m19iVWrdkk']\n",
            "['http://t.co/ybshleIE3p']\n",
            "[]\n",
            "[]\n",
            "[]\n",
            "[]\n",
            "[]\n",
            "['http://t.co/Wj0U59mPpB']\n",
            "[]\n",
            "[]\n",
            "[]\n",
            "[]\n",
            "[]\n",
            "[]\n",
            "['http://t.co/JlPut7Va3s']\n",
            "[]\n",
            "[]\n",
            "[]\n",
            "[]\n",
            "[]\n",
            "['http://t.co/XqMJHIOZxG']\n",
            "[]\n",
            "['http://t.co/NckOgWjq61']\n",
            "['https://t.co/mRv54fiDfn']\n",
            "[]\n",
            "[]\n",
            "[]\n",
            "[]\n",
            "['http://t.co/IkugGvByeI']\n",
            "[]\n",
            "['http://t.co/NLk1DYD2tP']\n",
            "[]\n",
            "[]\n",
            "[]\n",
            "[]\n",
            "['http://t.co/Sf2vwQvJYa']\n",
            "['http://t.co/Hz4lKFfC59']\n",
            "['http://t.co/1vjAlJA1SX']\n",
            "[]\n",
            "[]\n",
            "['http://t.co/XJB0dCAaHf']\n",
            "[]\n",
            "['http://t.co/pQ3ipUgkuY']\n",
            "[]\n",
            "['http://t.co/pKKcdWjyg0']\n",
            "['https://t.co/z8Ij8KTkyk']\n",
            "[]\n",
            "['http://t.co/1PdNlsP8XW']\n",
            "['http://t.co/dKpsrkG6pc']\n",
            "['http://t.co/xwxBYHTuzC', 'http://t.co/wzeDxEFBlg']\n",
            "['http://t.co/yhmrEgAuxZ']\n",
            "['http://t.co/g37huJx6et']\n",
            "['http://t.co/6Cx46E7QB7']\n",
            "['http://t.co/41L8tqCAey']\n",
            "['http://t.co/Rqu5Ub8PLF']\n",
            "['http://t.co/OSJUrFDDkt']\n",
            "['http://t.co/lzob8qOH1B']\n",
            "['http://t.co/BIEYgUqpB1']\n",
            "[]\n",
            "['http://t.co/PegibIqk2w']\n",
            "['http://t.co/TZyHdBW9f5']\n",
            "['http://t.co/tN1aX1xMBB']\n",
            "['http://t.co/wBi7Laq18E']\n",
            "['http://t.co/pDOSrg8Cf7']\n",
            "[]\n",
            "['http://t.co/aP30psZkVx']\n",
            "['http://t.co/TCSoLvwhXq']\n",
            "['http://t.co/zqiHnHDWPV']\n",
            "['http://t.co/gtHddzAvhg']\n",
            "['http://t.co/hTxAi05y7B']\n",
            "['http://t.co/WEZjqC4Cf2']\n",
            "['http://t.co/TA6N9sZyfP']\n",
            "['http://t.co/jhpdSSVhvE']\n",
            "[]\n",
            "['http://t.co/CcvcTe3lCw']\n",
            "['http://t.co/xcoLwUGFjg']\n",
            "['http://t.co/FPaouLWU3N']\n",
            "['http://t.co/SqoA1Wv4Um']\n",
            "['http://t.co/GusrAmzp1s']\n",
            "['http://t.co/7L6bHeXIXv', 'https://t.co/eMOSrMUvQa']\n",
            "['http://t.co/jhpdSSVhvE']\n",
            "['http://t.co/EFCn9IVNfg']\n",
            "['http://t.co/zdtcw9Fsx1']\n",
            "['http://t.co/1ct0pUGZ69']\n",
            "['http://t.co/mFSBWpj0Ce']\n",
            "['http://t.co/zdpa4DBtsU']\n",
            "['http://t.co/02ELqLOpFk']\n",
            "[]\n",
            "['http://t.co/8lCbDW7m2z']\n",
            "['http://t.co/AjzY19Vepu']\n",
            "['http://t.co/JtzefipdBo']\n",
            "['http://t.co/vsoXioOy78']\n",
            "['http://t.co/jGdlX4Faw8', 'http://t.co/IvwtYnoUjK']\n",
            "['http://t.co/2Mwc9YWjZy']\n",
            "[]\n",
            "['http://t.co/FftOKd0Vts']\n",
            "['http://t.co/81HVV3N3rS']\n",
            "['http://t.co/2AO97o2a9D']\n",
            "[]\n",
            "['http://t.co/3sNyOOhseq']\n",
            "['http://t.co/VBsj8tniv1']\n",
            "['http://t.co/SO81Ab3a1x']\n",
            "['http://t.co/uCBfgIBFOR']\n",
            "['http://t.co/RsV9ATj9vH']\n",
            "[]\n",
            "['http://t.co/oJyW7jkUH5']\n",
            "['http://t.co/rv9Dv6JOeW']\n",
            "['http://t.co/CXI82rFiFS']\n",
            "['http://t.co/1H7zk6UYze']\n",
            "[]\n",
            "['http://t.co/mNsy1QR7bq']\n",
            "['http://t.co/kkdX8zMV4G']\n",
            "['http://t.co/13W8CyukKZ']\n",
            "['http://t.co/hKxYzhvmQE']\n",
            "['http://t.co/fJdM8QHYAI']\n",
            "['http://t.co/0ubG9wFyge']\n",
            "['http://t.co/ZA4AXFJSVB']\n",
            "['http://t.co/rM6CNzkSzL']\n",
            "['http://t.co/zfYqSAwvrk']\n",
            "['http://t.co/3hTJ2PypSg']\n",
            "['http://t.co/NQ77EfMF88']\n",
            "['http://t.co/lfbdhTGQWG']\n",
            "['http://t.co/7evyeLW4LC']\n",
            "['http://t.co/Paje5mxN1z']\n",
            "['http://t.co/eRJ7YANjXm', 'http://t.co/vbRPeuJANL']\n",
            "['http://t.co/TxrsWi0efg']\n",
            "[]\n",
            "['http://t.co/lYXNjlxL8s', 'http://t.co/CXYFqN3ue4']\n",
            "['http://t.co/7hAnPcr5rK']\n",
            "[]\n",
            "['http://t.co/c5u9qshhnb']\n",
            "[]\n",
            "[]\n",
            "[]\n",
            "['http://t.co/RW8b50xz9m']\n",
            "['https://t.co/8tyGO0KiZz']\n",
            "['http://t.co/wRqF6U55hh']\n",
            "['http://t.co/HbpNFOAwII']\n",
            "['http://t.co/6WhUgaeM3C']\n",
            "['http://t.co/AcFI2rHz4N']\n",
            "['http://t.co/xRP0rTkFfJ']\n",
            "['http://t.co/iwCu3DgI1a']\n",
            "['http://t.co/cPLYReWFZ3']\n",
            "['http://t.co/7hAnPcr5rK']\n",
            "['http://t.co/HzHoa6VZAS']\n",
            "[]\n",
            "['http://t.co/dI5aRr6HQ6']\n",
            "['http://t.co/RGTYZbNKeo']\n",
            "['http://t.co/c5u9qsySeJ']\n",
            "['http://t.co/Lq4lXGS2xU']\n",
            "[]\n",
            "['http://t.co/JbxBi93CLu']\n",
            "['http://t.co/Y9w0V6Te9O']\n",
            "['http://t.co/Ykdsp0nRDQ']\n",
            "[]\n",
            "['http://t.co/8j4rdwyjWu', 'http://t.co/9MkZPZfKL2']\n",
            "['http://t.co/36GccAPaak', 'http://t.co/nqjZS6wkuN']\n",
            "[]\n",
            "[]\n",
            "['http://t.co/PvKgo79JnI']\n",
            "['http://t.co/bM0SXzbNKE']\n",
            "[]\n",
            "['http://t.co/PmHMmkSPaQ', 'http://t.co/0gKNpy4lUA']\n",
            "[]\n",
            "[]\n",
            "[]\n",
            "[]\n",
            "[]\n",
            "['https://t.co/r4utnewlnA']\n",
            "[]\n",
            "['https://t.co/wBLiMlMT2x']\n",
            "['https://t.co/OrxDQfz0J0']\n",
            "[]\n",
            "[]\n",
            "['http://t.co/QsEkoeuBMd']\n",
            "[]\n",
            "[]\n",
            "[]\n",
            "[]\n",
            "[]\n",
            "['http://t.co/cY0CiU2u1C']\n",
            "['http://t.co/4914nJpIO3']\n",
            "[]\n",
            "['http://t.co/VCq2icptKI']\n",
            "[]\n",
            "[]\n",
            "[]\n",
            "[]\n",
            "[]\n",
            "[]\n",
            "[]\n",
            "['http://t.co/073izwX0lB', 'http://t.co/OkmLAGvkjv']\n",
            "['http://t.co/Yi9BBbx3FE']\n",
            "[]\n",
            "[]\n",
            "['http://t.co/vxeGCmMVBV']\n",
            "[]\n",
            "[]\n",
            "[]\n",
            "[]\n",
            "[]\n",
            "[]\n",
            "[]\n",
            "[]\n",
            "['http://t.co/pkfV8lkSlD']\n",
            "[]\n",
            "[]\n",
            "[]\n",
            "[]\n",
            "[]\n",
            "['http://t.co/df9FjonVeP']\n",
            "[]\n",
            "['http://t.co/BBjLs1fsaD']\n",
            "[]\n",
            "[]\n",
            "[]\n",
            "[]\n",
            "[]\n",
            "['http://t.co/HsDBGCIYrs']\n",
            "['http://t.co/4h8qYvvd0E']\n",
            "[]\n",
            "[]\n",
            "['http://t.co/ranEFiHbUK', 'http://t.co/MflRVBh4qA']\n",
            "[]\n",
            "[]\n",
            "[]\n",
            "[]\n",
            "['http://t.co/W6O0uiZF8p']\n",
            "[]\n",
            "['http://t.co/lCnW4EAD8v']\n",
            "['https://t.co/ZvRE6fFNyD']\n",
            "['https://t.co/GiYaaD7dcc']\n",
            "[]\n",
            "[]\n",
            "['http://t.co/kqvN1uTpMM']\n",
            "['http://t.co/oNLvf2fyoY']\n",
            "[]\n",
            "['http://t.co/msgnNDxOeK']\n",
            "[]\n",
            "['http://t.co/tyD47NfL5x']\n",
            "[]\n",
            "['http://t.co/y35qtVDSOH', 'https://t.co/qhUJAjCTR5']\n",
            "['http://t.co/yvV1RlghfT']\n",
            "['http://t.co/QpWOtugUI9']\n",
            "['http://t.co/UP30AQgnLf']\n",
            "['http://t.co/93inFxzhX0']\n",
            "['http://t.co/Lhw4vTbHZG']\n",
            "['http://t.co/hMuyzmv8qH']\n",
            "[]\n",
            "['https://t.co/XB8nfxaBUM']\n",
            "[]\n",
            "['http://t.co/RG4JIsHyBs']\n",
            "['http://t.co/yPRJWMigHL', 'http://t.co/3RrKRCjYW7']\n",
            "['http://t.co/hu5CXqnoBf']\n",
            "['http://t.co/vXIn1gOq4Q']\n",
            "['http://t.co/TgXutUoyHl']\n",
            "['http://t.co/K8BExkgwr2']\n",
            "['http://t.co/u30n3fFX8Y']\n",
            "[]\n",
            "['http://t.co/cedjdlPDAN']\n",
            "[]\n",
            "['http://t.co/7mlCD0l0b8']\n",
            "[]\n",
            "['http://t.co/ndCy8Q7R6I']\n",
            "['http://t.co/8VzsfTR1bG']\n",
            "[]\n",
            "['http://t.co/pF8dXwIbDp']\n",
            "['http://t.co/dI8ElZsWNR']\n",
            "['http://t.co/dGELJ8rYt9']\n",
            "[]\n",
            "['http://t.co/pkUAMXw6pm', 'http://t.co/PAWvNJ4sAP']\n",
            "['http://t.co/u9BkQt6XHR']\n",
            "['http://t.co/8S0mTwRumQ']\n",
            "['http://t.co/EHGtZhKAn4']\n",
            "['http://t.co/tHnExicGQe']\n",
            "['http://t.co/H0xUNJ3C7C', 'http://t.co/UuEw4MJLes\\x89Û_']\n",
            "['http://t.co/WosYPVQUFI', 'http://t.co/XW8SDS1Tjp']\n",
            "[]\n",
            "['http://t.co/Ew5wZC07Fo']\n",
            "['http://t.co/Of3Q75fGeU']\n",
            "['http://t.co/KmTwA3n1Gf']\n",
            "['https://t.co/P1JluRGWBu']\n",
            "['http://t.co/cNsHlNjUqX']\n",
            "['http://t.co/VYgh2ni4Ah']\n",
            "['http://t.co/wvn6GrIyPq', 'http://t.co/Rei3PuWP84\\x89Û_']\n",
            "['http://t.co/LJMGdpDLvs']\n",
            "['http://t.co/PMCp8cZPNd']\n",
            "['http://t.co/ZhzVprZbgq']\n",
            "['http://t.co/zlAGv1U5ZA']\n",
            "['http://t.co/FEIkC9FxED']\n",
            "['http://t.co/aByHRgsS1s']\n",
            "['http://t.co/E90J3vJOLc']\n",
            "['http://t.co/pG4y3I5ciu']\n",
            "['http://t.co/TDEUKJzzII']\n",
            "['http://t.co/wjWYJBncat', 'http://t.co/0Erisq25KT']\n",
            "['http://t.co/T7gE0j3CAy']\n",
            "['http://t.co/NAS3IPm5vh']\n",
            "['http://t.co/unNx71v8qc']\n",
            "['http://t.co/Gllawb2FSk', 'http://t.co/3kaAfuoztc']\n",
            "['http://t.co/PLmIWOfpom']\n",
            "[]\n",
            "['http://t.co/LOdOrmTfSq']\n",
            "['https://t.co/MjbIUvbMo6', 'http://t.co/I5cdTD8ftj']\n",
            "['http://t.co/LTmgdP6Jaf']\n",
            "['http://t.co/u9ao3A4oGC']\n",
            "[]\n",
            "['http://t.co/ohbV7YvtL5', 'http://t.co/YmuTi3ND9r']\n",
            "['http://t.co/o8XvTLP4mF']\n",
            "['http://t.co/uiSNqIu3iF']\n",
            "['http://t.co/UYUgFg3k1h']\n",
            "['http://t.co/algtcN8baf']\n",
            "['http://t.co/M4TcZaawpT']\n",
            "['http://t.co/G2UIMBeKgE']\n",
            "['http://t.co/ZsXqbdUzBN', 'http://t.co/6NCfjXPLOY']\n",
            "[]\n",
            "['http://t.co/nGKrZPza45']\n",
            "['http://t.co/lFW4KUukeM', 'http://t.co/k3mnk9HnZ5']\n",
            "['http://t.co/9nLY2TovUD']\n",
            "['http://t.co/Rb2s0jmleJ']\n",
            "[]\n",
            "['http://t.co/qnIJ2p8Zv6']\n",
            "[]\n",
            "['http://t.co/BjVfk1ETe9']\n",
            "['http://t.co/4oNvxncz8w', 'http://t.co/tnggXNm6k8']\n",
            "['http://t.co/zCp5cszSLl']\n",
            "['http://t.co/ztOnvgubVm']\n",
            "['http://t.co/ihVMtmZXne', 'http://t.co/jLieMrSnnj']\n",
            "[]\n",
            "[]\n",
            "['http://t.co/hzpX6vAQPZ', 'http://t.co/L4W0PCorbs']\n",
            "[]\n",
            "['http://t.co/y2JT1aMyFJ']\n",
            "['http://t.co/HqdCZzdmbN']\n",
            "['http://t.co/gix1gaYnXZ', 'http://t.co/P93S2rFhx6']\n",
            "[]\n",
            "['http://t.co/BiigD1LEq3']\n",
            "[]\n",
            "['http://t.co/0lpu0gR2j0']\n",
            "[]\n",
            "['http://t.co/Cd2NG2Awql']\n",
            "['http://t.co/VhrLsWvZql']\n",
            "['http://t.co/X5XUMtoEkE']\n",
            "['http://t.co/V57NUgmGKT']\n",
            "[]\n",
            "[]\n",
            "[]\n",
            "['http://t.co/swQ5lMyDka']\n",
            "['http://t.co/RFFPqBAz2F']\n",
            "['http://t.co/HxwFBpP1b3']\n",
            "['http://t.co/KF74o2mcsC', 'https://t.co/N2ZHrChCGV']\n",
            "['http://t.co/EaRONLwIFh']\n",
            "['https://t.co/oLS6qdi9Um']\n",
            "[]\n",
            "['http://t.co/pSt5bBQ0av']\n",
            "['http://t.co/rzxQSSun02']\n",
            "['http://t.co/fejs0Bu0sq']\n",
            "['http://t.co/4L8h2FKlNO', 'http://t.co/ZITQKDFXJY']\n",
            "['http://t.co/hAXJ6Go2ac']\n",
            "['http://t.co/uZwXJBG0Zh']\n",
            "['https://t.co/0rNY349UnT']\n",
            "[]\n",
            "[]\n",
            "['http://t.co/BoygBp0Jw9']\n",
            "['https://t.co/DlVYFvnQee']\n",
            "[]\n",
            "[]\n",
            "['http://t.co/50vdQ7A1M5', 'http://t.co/QH6oXfT9Ir']\n",
            "['http://t.co/BBQnK76qUS']\n",
            "['http://t.co/SmKZnF52Za']\n",
            "['http://t.co/jQFcY9GuqV', 'http://t.co/tN65puhfhw']\n",
            "[]\n",
            "['http://t.co/DRvm8ISOtE']\n",
            "[]\n",
            "[]\n",
            "[]\n",
            "[]\n",
            "[]\n",
            "[]\n",
            "[]\n",
            "[]\n",
            "[]\n",
            "['http://t.co/nU0D3uANNZ']\n",
            "[]\n",
            "['https://t.co/8BhvxX2Xl9', 'http://t.co/4ou8s82HxJ']\n",
            "['http://t.co/EX6JzQJ3NI']\n",
            "['http://t.co/AKnBtuyaef']\n",
            "['http://t.co/aKzZOe5CE6']\n",
            "['http://t.co/0Keh2TReNy']\n",
            "['http://t.co/nTSwUAYEJI', 'http://t.co/wgeFBuk4Jk']\n",
            "['http://t.co/ZBZc8905Gl']\n",
            "['http://t.co/lY8x7rqbwN']\n",
            "['http://t.co/iXiYBAp8Qa', 'http://t.co/zEpzQYDby4']\n",
            "['http://t.co/5kBRZZmf8c']\n",
            "['http://t.co/d1VjOYg52A']\n",
            "['http://t.co/dOFRh5YB01']\n",
            "['http://t.co/2nIP3d15dx', 'http://t.co/egYFNlAOQv']\n",
            "['http://t.co/BsGR67dyWY', 'http://t.co/nDGgr6Xyqd']\n",
            "['http://t.co/5FcJVMl520', 'http://t.co/fvYRWhux8p']\n",
            "[]\n",
            "['http://t.co/3tnuACIV3c', 'http://t.co/SAkORGdqUL']\n",
            "['http://t.co/P3g3bQBczu', 'http://t.co/RpBxdfnx5k']\n",
            "['http://t.co/x1xj0XVTj7']\n",
            "[]\n",
            "['http://t.co/Rg9yaybOSA']\n",
            "['http://t.co/2872J5d4HB']\n",
            "['http://t.co/ecXMoiNZgU', 'http://t.co/ntwWDweDNb']\n",
            "['http://t.co/u52RW9Ji2r', 'http://t.co/GX75w3q9Ye']\n",
            "['http://t.co/Ywkk26arAG']\n",
            "[]\n",
            "['http://t.co/bKsYymvIsg']\n",
            "['http://t.co/RlPTtkBG4W']\n",
            "['http://t.co/6AcSWzo7cw']\n",
            "['http://t.co/hCKxJ8eukt']\n",
            "['http://t.co/mONiJJth7V', 'http://t.co/0yXBB5dzw5']\n",
            "['http://t.co/R1CNSjUAYQ', 'http://t.co/DQ1yLcrF9K']\n",
            "['http://t.co/us8r6Qsn0p']\n",
            "['http://t.co/IrqUjaEsck', 'http://t.co/qDwEknRMi9']\n",
            "['http://t.co/aueZxZA5ak']\n",
            "['http://t.co/uUEwccdTow']\n",
            "['http://t.co/ibeD3xG7fy']\n",
            "['http://t.co/1wCOfmLUb9']\n",
            "['http://t.co/o1eNHjrkJd']\n",
            "['http://t.co/aRKmc7vclN']\n",
            "[]\n",
            "['http://t.co/wvVgmejA7l']\n",
            "['http://t.co/QU8S89pVVt']\n",
            "[]\n",
            "['http://t.co/YTW9SlWvmg']\n",
            "['http://t.co/baE0Ap4G9Y']\n",
            "[]\n",
            "['http://t.\\x89Û_', 'http://t.co/I1VPkQ9yAg', 'http://t.co/tY5GAvn7uk']\n",
            "[]\n",
            "['http://t.co/a2TIIVNjDY', 'http://t.co/fW2XIfJ6Ec']\n",
            "[]\n",
            "['http://t.co/aVwE1LBvhn']\n",
            "[]\n",
            "['http://t.co/6nQRU2q5Tz']\n",
            "['https://t.co/Kp5dpOaF58']\n",
            "['http://t.co/iGll3ph6O1']\n",
            "['http://t.co/9qpG0Z3Rh9']\n",
            "['http://t.co/HuhWPmryWz']\n",
            "['http://t.co/96p3hUJNTj']\n",
            "['http://t.co/EHLq3ZSPTd', 'http://t.co/DjX5eLbrv1']\n",
            "[]\n",
            "['http://t.co/EGcv7ybjae']\n",
            "['https://t.co/jOjnq2oOPi', 'http://t.co/DsKuI6Mmgl']\n",
            "['https://t.co/yPvJgzqqqB']\n",
            "[]\n",
            "['http://t.co/XZV0lT9ZZk']\n",
            "['http://t.co/eHKLp12yiP']\n",
            "['http://t.co/po19h8YCND']\n",
            "['http://t.co/ms8e8mNddb']\n",
            "['http://t.co/po19h8YCND']\n",
            "[]\n",
            "['http://t.co/RPmTROPsVr']\n",
            "['http://t.co/E4DvI9vUXZ', 'http://t.co/JyCpf8iYhg']\n",
            "['http://t.co/hujvgsFLUs']\n",
            "['http://t.co/P85NwcMkQu', 'https://t.co/wUDlkq7ncx']\n",
            "[]\n",
            "['http://t.co/oqb7DaSMVy']\n",
            "[]\n",
            "['http://t.co/35QWnGLkOS', 'https://t.co/Is2iDC3UBJ']\n",
            "['http://t.co/t8Q6DzVgwX']\n",
            "[]\n",
            "['http://t.co/AMroX4Y4Nx']\n",
            "['http://t.co/f1tcbg1MKi', 'https://t.co/Is2iDC3UBJ']\n",
            "['http://t.co/kIILdu8GpO', 'https://t.co/wUDlkq7ncx']\n",
            "[]\n",
            "[]\n",
            "['https://t.co/cic7h64Qv8']\n",
            "['https://t.co/rosVXQeLQj']\n",
            "[]\n",
            "[]\n",
            "['http://t.co/1EB2DaUYfn']\n",
            "[]\n",
            "['http://t.co/cEdCUgEuWs']\n",
            "['http://t.co/2JxkmkpalP', 'https://t.co/ec46LyQQc6']\n",
            "['http://t.co/1k2PhQcuW8']\n",
            "['http://t.co/WGRXLy9pDO)', 'http://t.co/BJ4hAAVAYE', 'http://t.co/59p3AoIQUS']\n",
            "['http://t.co/xYyEV89WIz']\n",
            "['http://t.co/Z8xIqNgulc']\n",
            "[]\n",
            "[]\n",
            "['https://t.co/7VoVkTXsPo']\n",
            "['http://t.co/SahQ5UOAHW']\n",
            "['http://t.co/kJUzJC6iGD']\n",
            "[]\n",
            "['http://t.co/nekm1RPohU']\n",
            "[]\n",
            "['http://t.co/E7fn5G5rUu']\n",
            "['http://t.co/RJrmW7nzy5']\n",
            "['http://t.co/45TWHJ0l6m']\n",
            "['http://t.co/kEPznhXHXd']\n",
            "['https://t.co/jYwFyGcLHM']\n",
            "['http://t.co/QhfqlUI6RY']\n",
            "[]\n",
            "[]\n",
            "['http://t.co/yhYY3o609U']\n",
            "['http://t.co/QGyN2u1UP3', 'http://t.co/wiS3H9Tqrm']\n",
            "[]\n",
            "['http://t.co/pmGgavtokP']\n",
            "['http://t.co/Kot9zVD2H7']\n",
            "['http://t.co/G03DkPooNP', 'http://t.co/Go0HPi0B4c']\n",
            "[]\n",
            "['http://t.co/rQbsPUCjDF']\n",
            "['http://t.co/pA5SSLeFEC']\n",
            "[]\n",
            "[]\n",
            "['http://t.co/FNpDJwVw1j']\n",
            "['http://t.co/VaUnPS6WJa']\n",
            "['https://t.co/AIM5CYHL0y']\n",
            "['http://t.co/p4dOA5YYJe']\n",
            "['http://t.co/bS6PjT09Tc']\n",
            "['http://t.co/s5NuEGSwYj']\n",
            "['http://t.co/ciwwUQthin']\n",
            "['http://t.co/GEU4H46CsZ']\n",
            "['http://t.co/yhQU5UV6Ok']\n",
            "['http://t.co/6DS67XAI5e']\n",
            "['http://t.co/cWCVBuBs01']\n",
            "[]\n",
            "['http://t.co/97B8AVgEWU']\n",
            "[]\n",
            "[]\n",
            "['http://t.co/UoJy4E2Sv4']\n",
            "['http://t.co/zG1YddywA5']\n",
            "['http://t.co/PUezv6bd37']\n",
            "[]\n",
            "['http://t.co/awtScUCBBV']\n",
            "['http://t.co/oEKUcq4ZL0']\n",
            "[]\n",
            "['http://t.co/6hhmBdK9Yo']\n",
            "['http://t.co/ZFWMjh6SLh']\n",
            "['http://t.co/XlFi7ovhFJ', 'http://t.co/rAq4ZpdvKe']\n",
            "['http://t.co/ficd5qbqwl']\n",
            "[]\n",
            "['http://t.co/tX51oYbrN6']\n",
            "['http://t.co/PsPm3ahGKQ']\n",
            "['http://t.co/yvO6q6W442']\n",
            "['http://t.co/VecmsiUUh1']\n",
            "['http://t.co/gx9sKUAu9J']\n",
            "[]\n",
            "['http://t.co/Iz9U8BhfAA']\n",
            "['http://t.co/v9ftYB30EI']\n",
            "['http://t.co/I8SJ1KWs1D']\n",
            "['http://t.co/gAEhr9bHEk']\n",
            "['http://t.co/IXfnE5Jlep']\n",
            "['http://t.co/UymxocFs33']\n",
            "['http://t.co/KmndkFa7me']\n",
            "[]\n",
            "[]\n",
            "['https://t.co/dehMym5lpk']\n",
            "['http://t.co/um3wTL5r7K', 'http://t.co/2LQyxZQ5DN']\n",
            "['http://t.co/cxB55H37jn', 'http://t.co/H6tyYSGR30']\n",
            "['http://t.co/uDQA53KfQu']\n",
            "[]\n",
            "[]\n",
            "['http://t.co/HXOX7o42Rq']\n",
            "[]\n",
            "[]\n",
            "['https://t.co/cCwzDTFbUS']\n",
            "['https://t.co/dehMym5lpk']\n",
            "['http://t.co/5fR41TPzte']\n",
            "['http://t.co/zGSJWXdrCM']\n",
            "[]\n",
            "['http://t.co/TiOst8oKvX']\n",
            "['http://t.co/TYtPBC4GWi']\n",
            "['http://t.co/lAmsdzKCuz']\n",
            "[]\n",
            "[]\n",
            "['http://t.co/fVP3Wnid4L', 'http://t.co/bwdhIBtiKs', 'http://t.co/qelROcI7by']\n",
            "[]\n",
            "['http://t.co/n6MCPgVWQ2', 'http://t.co/s8OiNfGXyX']\n",
            "['http://t.co/SkAAUSjpO4']\n",
            "[]\n",
            "[]\n",
            "['http://t.co/v9i4PfXO0C']\n",
            "['http://t.co/6NdBFOPK5m']\n",
            "[]\n",
            "['http://t.co/sKVNmtZGeG']\n",
            "['https://t.co/dehMym5lpk']\n",
            "['http://t.co/Cc7D0wxk0M']\n",
            "[]\n",
            "[]\n",
            "[]\n",
            "[]\n",
            "[]\n",
            "[]\n",
            "['http://t.co/9mtrq5Jf4d']\n",
            "[]\n",
            "['https://t.co/6Ce1vwOVHs']\n",
            "[]\n",
            "['http://t.co/wspuXOrEWb']\n",
            "[]\n",
            "[]\n",
            "[]\n",
            "[]\n",
            "[]\n",
            "['http://t.co/Ld5P1sIa2N']\n",
            "[]\n",
            "[]\n",
            "[]\n",
            "[]\n",
            "[]\n",
            "['http://t.co/GJfd85vuf2']\n",
            "[]\n",
            "[]\n",
            "[]\n",
            "[]\n",
            "[]\n",
            "[]\n",
            "[]\n",
            "[]\n",
            "['http://t.co/q5mp2Q6Hy8']\n",
            "['http://t.co/jMzcaqyDfa']\n",
            "[]\n",
            "[]\n",
            "[]\n",
            "['http://t.co/KABK3tcJNL']\n",
            "[]\n",
            "['http://t.co/s0Eyq1wEHE']\n",
            "['http://t.co/gO0pkrFzMF']\n",
            "[]\n",
            "['http://t.co/dh0s4bUuK7']\n",
            "['http://t.co/eaTFro3d5x']\n",
            "['http://t.co/Q4grDpAjr5']\n",
            "['http://t.co/C0SlAbBP7j']\n",
            "['http://t.co/1yggZziZ9o']\n",
            "[]\n",
            "['http://t.co/3PBFyJx0yA']\n",
            "['http://t.co/9Naw3QOQOL']\n",
            "['http://t.co/11JUzHlgmT']\n",
            "['http://t.co/j4ggmKINEy']\n",
            "['http://t.co/L9fJpNSZuO']\n",
            "['http://t.co/o6oNSjHCsD']\n",
            "['http://t.co/pE2R3lN16o']\n",
            "[]\n",
            "['http://t.co/9LO0hZwJPZ']\n",
            "['http://t.co/BqBLWiw08g']\n",
            "['http://t.co/Ox3qb15LWQ', 'https://t.co/8u07FoqjzW', 'http://t.co/tg5fQc8zEY']\n",
            "['http://t.co/aOd2ftBMGU']\n",
            "['http://t.co/6CaDRhIOxp']\n",
            "['http://t.co/2OqSGZqlbz']\n",
            "['http://t.co/Bgy4i47j70']\n",
            "['http://t.co/gQskwqZuUl']\n",
            "[]\n",
            "['https://t.co/sLc27EMUgM']\n",
            "[]\n",
            "[]\n",
            "[]\n",
            "[]\n",
            "[]\n",
            "[]\n",
            "[]\n",
            "[]\n",
            "[]\n",
            "['https://t.co/T2Kk8fya77']\n",
            "[]\n",
            "[]\n",
            "['http://t.co/ZU9YYdF5DI']\n",
            "[]\n",
            "[]\n",
            "[]\n",
            "['http://t.co/rc6eeJME17']\n",
            "[]\n",
            "[]\n",
            "[]\n",
            "[]\n",
            "[]\n",
            "[]\n",
            "[]\n",
            "[]\n",
            "['https://t.co/s107ee7CYC']\n",
            "['http://t.co/krsy54XMMC']\n",
            "['https://t.co/nMtlpO4B58']\n",
            "[]\n",
            "[]\n",
            "[]\n",
            "[]\n",
            "[]\n",
            "[]\n",
            "[]\n",
            "[]\n",
            "['http://t.co/mkWyvM3i8r']\n",
            "['http://t.co/aZL4XydvzK']\n",
            "[]\n",
            "['http://t.co/Z2Ph0ArzYI']\n",
            "['http://t.co/xR3xJJ8gJB']\n",
            "['http://t.co/brctMNybjy']\n",
            "['http://t.co/NX2d83A4Du']\n",
            "['http://t.co/GaotrG4mTr']\n",
            "['http://t.co/rkU0IDM6aQ']\n",
            "['http://t.co/7IJlZ6BcSP']\n",
            "['http://t.co/hVJmuuaLXV', 'http://t.co/T8Nz6h9Zz4']\n",
            "[]\n",
            "['http://t.co/VZPKn23RX4']\n",
            "['http://t.co/Rm50vCVjsh']\n",
            "['http://t.co/1tr2KvXCTW']\n",
            "['http://t.co/Q0X7e84R4e']\n",
            "[]\n",
            "['http://t.co/XBNLSBzzgI']\n",
            "['http://t.co/H84R1TIh8J']\n",
            "['http://t.co/sEquWmvFx4']\n",
            "['http://t.co/akNyNPv461']\n",
            "['http://t.co/C9t2F6DLtM']\n",
            "['http://t.co/xSZicdWxq0']\n",
            "[]\n",
            "['http://t.co/qr6BtDCqCj']\n",
            "['http://t.co/wD9ODwjj9L']\n",
            "['https://t.co/EfKCoegJck']\n",
            "['http://t.co/87H5MbA3N1']\n",
            "['http://t.co/8L4RFFZD0P']\n",
            "['http://t.co/TvYQczGJdy']\n",
            "[]\n",
            "['http://t.co/BB7TTdVJWE']\n",
            "[]\n",
            "[]\n",
            "['http://t.co/DUdAIrBBPo', 'http://t.co/padosfyXnM']\n",
            "['http://t.co/bgM4cSrbVd']\n",
            "[]\n",
            "[]\n",
            "[]\n",
            "[]\n",
            "['https://t.co/0Vcsafx9bY']\n",
            "[]\n",
            "['http://t.co/VzcvAdkcQp']\n",
            "[]\n",
            "[]\n",
            "[]\n",
            "[]\n",
            "[]\n",
            "[]\n",
            "[]\n",
            "[]\n",
            "[]\n",
            "[]\n",
            "['http://t.co/R7pVTSdUmA']\n",
            "[]\n",
            "[]\n",
            "[]\n",
            "[]\n",
            "[]\n",
            "['https://t.co/ldjet9tfMk']\n",
            "['http://t.co/eTkBW1RCrv']\n",
            "['https://t.co/PC3h1NE4G0']\n",
            "['http://t.co/GXYivsWki7']\n",
            "[]\n",
            "[]\n",
            "[]\n",
            "[]\n",
            "['http://t.co/JDtPirnm76']\n",
            "['https://t.co/MSUY4qTPk9']\n",
            "[]\n",
            "[]\n",
            "[]\n",
            "['https://t.co/WdVQlEWYBs']\n",
            "[]\n",
            "[]\n",
            "[]\n",
            "[]\n",
            "[]\n",
            "[]\n",
            "['http://t.co/xxZD1nmb1i']\n",
            "['https://t.co/BIexWDlDWC']\n",
            "[]\n",
            "['https://t.co/JwDfPYG3NT']\n",
            "['http://t.co/ProNtOuo91']\n",
            "['http://t.co/cP7c1cH0ZU']\n",
            "[]\n",
            "[]\n",
            "[]\n",
            "[]\n",
            "['http://t.co/axVQ80RbYJ']\n",
            "[]\n",
            "[]\n",
            "[]\n",
            "[]\n",
            "[]\n",
            "[]\n",
            "[]\n",
            "[]\n",
            "[]\n",
            "[]\n",
            "[]\n",
            "[]\n",
            "['http://t.co/rDfaAKKbNJ']\n",
            "['http://t.co/y678XsNvJ6']\n",
            "[]\n",
            "[]\n",
            "[]\n",
            "[]\n",
            "['http://t.co/Cfe9HUQN0h']\n",
            "[]\n",
            "[]\n",
            "[]\n",
            "['http://t.co/PU7C4Hhbxj']\n",
            "[]\n",
            "[]\n",
            "[]\n",
            "[]\n",
            "[]\n",
            "[]\n",
            "[]\n",
            "[]\n",
            "[]\n",
            "[]\n",
            "[]\n",
            "[]\n",
            "[]\n",
            "[]\n",
            "[]\n",
            "[]\n",
            "[]\n",
            "[]\n",
            "[]\n",
            "[]\n",
            "[]\n",
            "[]\n",
            "[]\n",
            "['http://t.co/serARcNrbY']\n",
            "[]\n",
            "[]\n",
            "[]\n",
            "['http://t.co/gBEpdi0WzT']\n",
            "['http://t.co/PckF0nl2yN']\n",
            "[]\n",
            "['http://t.co/HmRtqEykyI']\n",
            "[]\n",
            "['http://t.co/kLtIt88AS3']\n",
            "['http://t.co/qamgvQAFzc']\n",
            "['http://t.co/kqVEVuutDJ']\n",
            "['http://t.co/zM6VcZqvWk', 'http://t.co/DKNlZNom6n']\n",
            "['http://t.co/zqMtrBKaS0', 'https://t.co/YEqq3BZX3g', 'http://t.co/kmVrZaSXY4']\n",
            "[]\n",
            "['http://t.co/2jbIbeib9G', 'http://t.co/p5KtaqW5QG']\n",
            "[]\n",
            "['http://t.co/cX5OjH2Dr4']\n",
            "[]\n",
            "['http://t.co/btdjGWeKqx']\n",
            "['http://t.co/btdjGWeKqx']\n",
            "['http://t.co/bEKrPjnYHs']\n",
            "[]\n",
            "[]\n",
            "['http://t.co/9Vd6x4WDOY']\n",
            "['http://t.co/A8nMdkd3rV']\n",
            "['http://t.co/oHHolJ9vEV']\n",
            "['http://t.co/Ltf6jL5keU', 'http://t.co/Zlq8tHcTkW']\n",
            "['http://t.co/kWMRCEkVTF']\n",
            "['http://t.co/mUwmfJGzYh']\n",
            "[]\n",
            "[]\n",
            "['http://t.co/W0xR5gP8cW']\n",
            "[]\n",
            "['http://t.co/A3b5n3rcr5']\n",
            "['http://t.co/XiYdYfptru']\n",
            "[]\n",
            "['http://t.co/zdpvQmEezS']\n",
            "['http://t.co/bCLDQmMEHg']\n",
            "['http://t.co/pAug7a68i0']\n",
            "['http://t.co/6TVVlG2fNi']\n",
            "['http://t.co/gkPrvzQ6lk']\n",
            "[]\n",
            "['http://t.co/0xA6FCjyec']\n",
            "['http://t.co/M78ir0IK01\\x89Û\\x9d']\n",
            "[]\n",
            "['http://t.co/wKPzp1JCAu']\n",
            "[]\n",
            "['http://t.co/3gLYOyf6Oc']\n",
            "['http://t.co/XVcO7sLxhW', 'http://t.co/jbVmGeg522']\n",
            "['http://t.co/0YAxrJICRR']\n",
            "['http://t.co/RVMMuT3GvC']\n",
            "['http://t.co/QWo7q1AMh8)', 'http://t.co/esRkmazEq9']\n",
            "['http://t.co/n3Ow73Oasw', 'http://t.co/Gs9bmplbHH']\n",
            "['http://t.co/qwtk1b2fMC']\n",
            "['http://t.co/cBAxCuBA0h']\n",
            "['http://t.co/9tb82ZMr2X']\n",
            "['http://t.co/1yBE5mgZL4', 'http://t.co/7Zog3DpdU9']\n",
            "[]\n",
            "[]\n",
            "['http://t.co/kff8ojrZP4', 'http://t.co/JoB4GGtpAl']\n",
            "[\"http://t.co/ANrIOMbHQN'\"]\n",
            "['http://t.co/OYY9MGW7HN']\n",
            "['http://t.co/SJNyFszCu1']\n",
            "[]\n",
            "['http://t.co/S7grbZNwlr']\n",
            "['http://t.co/cPEQv52LNA']\n",
            "['http://t.co/heIekfcHdM']\n",
            "[]\n",
            "['http://t.co/dWU8QqYs0v']\n",
            "[]\n",
            "[]\n",
            "['http://t.co/HvBJ30aj9s']\n",
            "['http://t.co/JvjALYg2n1', 'http://t.co/qXMWELJbc0']\n",
            "['http://t.co/4cEEuzWHvf']\n",
            "['http://t.co/OrJb3j803F', 'http://t.co/MWdHXYfrag']\n",
            "[]\n",
            "[]\n",
            "['http://t.co/QymAlttvZp']\n",
            "[]\n",
            "['http://t.co/9StLKH59Fb']\n",
            "[]\n",
            "[]\n",
            "[]\n",
            "[]\n",
            "[]\n",
            "[]\n",
            "['https://t.co/zv60cHjclF']\n",
            "[]\n",
            "[]\n",
            "[]\n",
            "[]\n",
            "[]\n",
            "[]\n",
            "[]\n",
            "[]\n",
            "['http://t.co/bJoJVM0pjX', 'http://t.co/wHOc7LHb5F']\n",
            "['http://t.co/GtdNW1SpVi']\n",
            "[]\n",
            "['http://t.co/b1bx0ERuep']\n",
            "[]\n",
            "[]\n",
            "[]\n",
            "[]\n",
            "['http://t.co/J43NWkX0X3']\n",
            "[]\n",
            "['http://t.co/BTjPEO0Bto', 'http://t.co/ClyJ32L333']\n",
            "[]\n",
            "[]\n",
            "[]\n",
            "[]\n",
            "[]\n",
            "[]\n",
            "['http://t.co/t0c1F2lEdv', 'http://t.co/u0MeXO4Uhh']\n",
            "[]\n",
            "['http://t.co/l3GizRUCy4', 'http://t.co/HgEDwxTDJN']\n",
            "[]\n",
            "[]\n",
            "['https://t.co/OlnK1TI1NM']\n",
            "['http://t.co/W9Cd6OFfcj']\n",
            "[]\n",
            "['https://t.co/Nv7rK63Pgc']\n",
            "[]\n",
            "['https://t.co/nPS3xpBKaQ']\n",
            "['http://t.co/A5iwUS8EVQ', 'http://t.co/gI82N2JuWn']\n",
            "['http://t.co/a0v1ybySOD']\n",
            "['http://t.co/00cY9vXEFF']\n",
            "[]\n",
            "['https://t.co/TUi9uwBvVp']\n",
            "[]\n",
            "[]\n",
            "[]\n",
            "['http://t.co/lafTJ2GyLY']\n",
            "[]\n",
            "[]\n",
            "['http://t.co/612BsbVw8K']\n",
            "[]\n",
            "[]\n",
            "[]\n",
            "[]\n",
            "[]\n",
            "[]\n",
            "[]\n",
            "[]\n",
            "[]\n",
            "['http://t.co/k6UEtsnLHT']\n",
            "[]\n",
            "[]\n",
            "[]\n",
            "[]\n",
            "[]\n",
            "[]\n",
            "[]\n",
            "[]\n",
            "[]\n",
            "[]\n",
            "[]\n",
            "['http://t.co/LqJMuAxJUU']\n",
            "['http://t.co/qAQqrJv9gU']\n",
            "[]\n",
            "['http://t.co/bnwyGx6luh']\n",
            "[]\n",
            "[]\n",
            "[]\n",
            "['https://t.co/HplJUr0OBo']\n",
            "[]\n",
            "[]\n",
            "['http://t.co/GGPERGLVKi']\n",
            "[]\n",
            "['http://t.co/fZ5eW4iHmB']\n",
            "['https://t.co/DEvffPTCVj']\n",
            "['http://t.co/obp595W7tm']\n",
            "[]\n",
            "[]\n",
            "[]\n",
            "[]\n",
            "['http://t.co/bwe9kJCEPt']\n",
            "[]\n",
            "['http://t.co/6F9aFQL6WP']\n",
            "['http://t.co/f2TqMFh1Yb']\n",
            "[]\n",
            "[]\n",
            "['http://t.co/zRN30A78ir']\n",
            "[]\n",
            "[]\n",
            "[]\n",
            "[]\n",
            "[]\n",
            "[]\n",
            "[]\n",
            "[]\n",
            "[]\n",
            "[]\n",
            "[]\n",
            "[]\n",
            "[]\n",
            "[]\n",
            "[]\n",
            "[]\n",
            "[]\n",
            "[]\n",
            "['http://t.co/xEZBs3sq0y', 'http://t.co/C2x0QoKGlY']\n",
            "[]\n",
            "[]\n",
            "[]\n",
            "[]\n",
            "[]\n",
            "['http://t.co/UmZKC9AzWd']\n",
            "['http://t.co/79upYdCeMp']\n",
            "[]\n",
            "[]\n",
            "[]\n",
            "[]\n",
            "[]\n",
            "[]\n",
            "[]\n",
            "[]\n",
            "['http://t.co/RCZAlRU05o']\n",
            "[]\n",
            "[]\n",
            "[]\n",
            "[]\n",
            "['http://t.co/nkKcTttsD9']\n",
            "[]\n",
            "['http://t.co/HK9Yf72OVA']\n",
            "[]\n",
            "['http://t.co/nyty7fCQo6', 'http://t.co/hyypsPN0yQ']\n",
            "[]\n",
            "['http://t.co/ZDJ2hyF6RO']\n",
            "[]\n",
            "['http://t.co/PNaQXPrweg']\n",
            "[]\n",
            "[]\n",
            "[]\n",
            "[]\n",
            "['http://t.co/HDJS9RNtJ4']\n",
            "[]\n",
            "[]\n",
            "['http://t.co/5kjy8G0i4y']\n",
            "['http://t.co/JhSCGDA2G8']\n",
            "['http://t.co/z8Cp77lVza']\n",
            "['http://t.co/eYdAPauPvG']\n",
            "['https://t.co/TxTpx4umqH']\n",
            "[]\n",
            "[]\n",
            "[]\n",
            "[]\n",
            "['http://t.co/gx1kZ3C2Tc']\n",
            "['http://t.co/dGGm5b0w4L', 'http://t.co/eYr2Xx5l1p']\n",
            "[]\n",
            "[]\n",
            "['http://t.co/KJbXIeypma', 'http://t.co/ENPjCfMa8L']\n",
            "['http://t.co/KhYqQsi6My', 'http://t.co/G6Vs3XEinb']\n",
            "[]\n",
            "[]\n",
            "[]\n",
            "['http://t.co/OIyWrzL79Z']\n",
            "[]\n",
            "['http://t.co/hUzrHgmkSY']\n",
            "['http://t.co/8qc8Bcxoko']\n",
            "[]\n",
            "['http://t.co/jvAI5Vkmsy:', 'http://t.co/Nr8JjmpmoS']\n",
            "[]\n",
            "['http://t.co/LgPgAjgomY', 'http://t.co/FKd1mBTB68']\n",
            "['http://t.co/M4pqkKeEVC']\n",
            "[]\n",
            "[]\n",
            "['http://t.co/wz55NBYAO3', 'http://t.co/L7pMDmeJs1', 'http://t.co/mDP2nI1pQU']\n",
            "['http://t.co/DgBeH5L9DS']\n",
            "['http://t.co/fkFa9vSssZ']\n",
            "[]\n",
            "[]\n",
            "['http://t.co/XWOevMK0aA']\n",
            "[]\n",
            "['http://t.co/KsXTo8NKNl']\n",
            "[]\n",
            "[]\n",
            "['http://t.co/CM5u55MiOl']\n",
            "[]\n",
            "['http://t.co/xjTpV4OydL']\n",
            "[]\n",
            "[]\n",
            "[]\n",
            "['http://t.co/B231Ul1O1K']\n",
            "[]\n",
            "[]\n",
            "['http://t.co/GTEd6LDwho']\n",
            "[]\n",
            "['http://t.co/MHL7Pfr7kb', 'http://t.co/lou8lbLA1f']\n",
            "[]\n",
            "['http://t.co/NvZdilRfgj', 'http://t.co/u9Cd0txE7Z']\n",
            "[]\n",
            "['https://t.co/q5MDsNbCMh']\n",
            "[]\n",
            "['http://t.co/MET0mtpr3S']\n",
            "['http://t.co/YzaZF4CEOa', 'http://t.co/X5RC5Nuamh']\n",
            "[]\n",
            "['http://t.co/naTz5iPV1x', 'http://t.co/leaEBy6cR2']\n",
            "['http://t.co/fBLNiFda1C']\n",
            "[]\n",
            "[]\n",
            "[]\n",
            "[]\n",
            "[]\n",
            "[]\n",
            "['http://t.co/8cPcz2xoHb']\n",
            "['http://t.co/0YO2l38OZr']\n",
            "[]\n",
            "['http://t.co/yeRcT4J244']\n",
            "[]\n",
            "['http://t.co/rDxzsL5EAC', 'http://t.co/QwijRRiYIf']\n",
            "[]\n",
            "[]\n",
            "['http://t.co/7qPG80uD7v']\n",
            "[]\n",
            "['http://t.co/LvIzO9CSSR']\n",
            "[]\n",
            "['http://t.co/Kp1hDchfNZ']\n",
            "[]\n",
            "['http://t.co/imAWVMzs3A']\n",
            "['http://t.co/FPrt7NwrOt']\n",
            "['http://t.co/vz1irH0Nmm']\n",
            "[]\n",
            "['https://t.co/DvieABlOFz']\n",
            "[]\n",
            "['http://t.co/ocMCvfDZkv']\n",
            "['http://t.co/gNORIjnSVa']\n",
            "[]\n",
            "[]\n",
            "['http://t.co/vz1irH0Nmm']\n",
            "['http://t.co/EYSbLYX6L6']\n",
            "['http://t.co/PnhPLJHo8E']\n",
            "['http://t.co/AdZ8kbuRt7']\n",
            "['http://t.co/WC69XAJIs4']\n",
            "[]\n",
            "[]\n",
            "[]\n",
            "['http://t.co/cDxE5VMzOj']\n",
            "[]\n",
            "[\"http://t.co/H2XcaX4jbU'\"]\n",
            "[]\n",
            "['http://t.co/BgRAb7lK8D']\n",
            "[]\n",
            "[]\n",
            "['http://t.co/QU1IUg3E9r']\n",
            "['http://t.co/x3VqxdouVT']\n",
            "['http://t.co/Cy1LFeNyV8']\n",
            "['http://t.co/iKnyOk9zZr', 'http://t.co/QCKqcX4Hw9']\n",
            "[]\n",
            "[]\n",
            "[]\n",
            "['http://t.co/KSAwlYuX02']\n",
            "['http://t.co/1yB8SiZarG', 'http://t.co/69iIzvyQYC']\n",
            "['http://t.co/uWfvWMjepU', 'http://t.co/pxONlrqUsm']\n",
            "['http://t.co/KSAwlYuX02']\n",
            "[]\n",
            "['http://t.co/uJNRGFAnGj', 'http://t.co/TmIpEgQyeV']\n",
            "['http://t.co/pOL92mn8YZ']\n",
            "['http://t.co/tuVbR4lEP3']\n",
            "[]\n",
            "[]\n",
            "['http://t.co/KSAwlYuX02']\n",
            "['http://t.co/IUh718KCy0', 'http://t.co/9pQyx4xOOL']\n",
            "['http://t.co/ZdiEodWbog', 'http://t.co/V6nyLVdPeD']\n",
            "['http://t.co/Sj57BoKsiB']\n",
            "['http://t.co/KSAwlYuX02']\n",
            "['http://t.co/KSAwlYuX02']\n",
            "['http://t.co/fqSk7QCawO']\n",
            "['http://t.co/6jzCEdaYRG']\n",
            "['http://t.co/V8juC5eK1A']\n",
            "['http://t.co/mGZslZz1wF']\n",
            "['http://t.co/5orTB8p51c']\n",
            "['http://t.co/n7Yst76ku3']\n",
            "['http://t.co/gnynJHnE6j', 'http://t.co/1fuNEMes7M']\n",
            "['http://t.co/5v29w19tFX']\n",
            "['http://t.co/FVXHoPdf3W']\n",
            "['http://t.co/2AG9auABr3', 'http://t.co/Qna4TUBnWh']\n",
            "['http://t.co/uoNEbAHH3h']\n",
            "['http://t.co/mMkLapX2ok']\n",
            "['http://t.co/fqcDPhccg7']\n",
            "['http://t.co/KSAwlYuX02']\n",
            "['http://t.co/O2cdKpSDfp']\n",
            "['http://t.co/H3SXfV5mtC', 'http://t.co/IEWDreNauK']\n",
            "['http://t.co/LWDcrPEhTN']\n",
            "['http://t.co/ETyZY8GB2A']\n",
            "['http://t.co/oZ1DS3Xu0D']\n",
            "[]\n",
            "['http://t.co/Wpilp4mymf', 'http://t.co/8NHD9iDaJs']\n",
            "['http://t.co/AxhcLfErSU']\n",
            "['http://t.co/jlMICJ6jE5']\n",
            "['http://t.co/mpOaEFQl6k']\n",
            "['http://t.co/LwAnE9vupg', 'http://t.co/CpQguFZB28']\n",
            "['http://t.co/Ktd5IG9M5o']\n",
            "['http://t.co/YyTKP1Z5kG']\n",
            "['http://t.co/vIJfNHl630']\n",
            "['http://t.co/pMTQhiVsXX']\n",
            "['http://t.co/gigW51IZpK']\n",
            "['http://t.co/kE6DjxAnmm']\n",
            "['http://t.co/xycKgxZv9s']\n",
            "['http://t.co/FY0r9o7Xsl']\n",
            "['http://t.co/37DqvJHNCv']\n",
            "['http://t.co/LgpNe5HkaO']\n",
            "[]\n",
            "['http://t.co/9k1tqsAarM', 'http://t.co/Ev3nX9scx3']\n",
            "['http://t.co/SqydkslFzp']\n",
            "['http://t.co/PIoY1O54f4']\n",
            "['http://t.co/h99bHB29xt']\n",
            "['http://t.co/axK9XNo6Yz']\n",
            "['http://t.co/Dn5Buo7GSK']\n",
            "[]\n",
            "['http://t.co/xntO3jMMTS']\n",
            "['http://t.co/IBypE1kaz5']\n",
            "['http://t.co/GuAJ2t910b']\n",
            "[]\n",
            "['http://t.co/txg7K2DO9v']\n",
            "[]\n",
            "[]\n",
            "[]\n",
            "[]\n",
            "['https://t.co/Gs0km0vlgk']\n",
            "['http://t.co/eTITgPSrUN']\n",
            "[]\n",
            "['http://t.co/iIkSsJGBDn']\n",
            "[]\n",
            "['http://t.co/IbAZRHlSUr', 'http://t.co/B6wWq2nYQI']\n",
            "['http://t.co/wD7s6S0vci']\n",
            "[]\n",
            "['http://t.co/UvAOJzcYcZ']\n",
            "[]\n",
            "['http://t.co/ZoIPkPBD6o']\n",
            "['http://t.co/o6aRmcgVbS']\n",
            "[]\n",
            "['http://t.co/nVP6wrKL1E']\n",
            "['http://t.co/7cIbxls55f']\n",
            "['http://t.co/Tmz6X1N2gQ']\n",
            "[]\n",
            "['https://t.co/OpJwuNUvG8']\n",
            "['http://t.co/iIkSsJGBDn']\n",
            "['http://t.co/z6xAUIDRXu']\n",
            "['http://t.co/GHGHQm9e6d']\n",
            "[]\n",
            "[]\n",
            "['http://t.co/zfiVVxYDZY']\n",
            "['http://t.co/7old5MJWph']\n",
            "['http://t.co/UO0aQk9KR8']\n",
            "[]\n",
            "[]\n",
            "[]\n",
            "['http://t.co/hfZk09McEN']\n",
            "[]\n",
            "[]\n",
            "['http://t.co/QP3GVvfoFq']\n",
            "['http://t.co/0kCCG1BT06']\n",
            "['http://t.co/kNCm9jC8i9', 'http://t.co/swviAZSPHk']\n",
            "[]\n",
            "[]\n",
            "[]\n",
            "[]\n",
            "[]\n",
            "['http://t.co/Aq5ZliM7l4', 'http://t.co/FvR9jDQ71a']\n",
            "[]\n",
            "[]\n",
            "[]\n",
            "['https://t.co/Ii2SpVP89b']\n",
            "[]\n",
            "[]\n",
            "[]\n",
            "[]\n",
            "[]\n",
            "[]\n",
            "[]\n",
            "[]\n",
            "[]\n",
            "[]\n",
            "[]\n",
            "[]\n",
            "['http://t.co/nosA8JJjiN', 'http://t.co/WUKvdavUJu']\n",
            "['http://t.co/H09nYdbzoV']\n",
            "[]\n",
            "[]\n",
            "[]\n",
            "[]\n",
            "[]\n",
            "[]\n",
            "[]\n",
            "[]\n",
            "['http://t.co/Gn3WHNSFIb', 'http://t.co/fWpOF5TwoC']\n",
            "['https://t.co/YOu7wn9xVs']\n",
            "['http://t.co/N9c3i9v8gO']\n",
            "[]\n",
            "[]\n",
            "[]\n",
            "['http://t.co/BiuEY7bUtS', 'http://t.co/JWQYbe4ep1']\n",
            "['http://t.co/LnzI7o166Y', 'http://t.co/TmpFWjPI6I']\n",
            "[]\n",
            "['http://t.co/mCWD37IOF9']\n",
            "[]\n",
            "[]\n",
            "['http://t.co/kPMYqUJSUE']\n",
            "[]\n",
            "[]\n",
            "[]\n",
            "['https://t.co/HUkJZ1wT36']\n",
            "['http://t.co/0Q040STkCV']\n",
            "[]\n",
            "['http://t.co/AU3DBCI7nf', 'http://t.co/BOvJRF62T7']\n",
            "[]\n",
            "[]\n",
            "['https://t.co/kgSwhSr7Mn']\n",
            "[]\n",
            "[]\n",
            "[]\n",
            "[]\n",
            "[]\n",
            "[]\n",
            "['http://t.co/YdEtWgRibk']\n",
            "[]\n",
            "['http://t.co/YdEtWgRibk']\n",
            "['http://t.co/eMTwirknyq', 'http://t.co/M9K08OaZve']\n",
            "[]\n",
            "[]\n",
            "[]\n",
            "[]\n",
            "[]\n",
            "[]\n",
            "['http://t.co/PNSsIa5e46', 'http://t.co/LSVsYSpdxX']\n",
            "[]\n",
            "[]\n",
            "[]\n",
            "['http://t.co/71VdjHJnwV']\n",
            "[]\n",
            "[]\n",
            "[]\n",
            "[]\n",
            "['http://t.co/JSZZQsT3XS']\n",
            "[]\n",
            "[]\n",
            "['http://t.co/gM8p0Bd8Mt']\n",
            "[]\n",
            "[]\n",
            "['http://t.co/jID4RO34gb']\n",
            "['http://t.co/DaalPeNZp0']\n",
            "['http://t.co/xsX26oo16s']\n",
            "['http://t.co/FYJWjDkM5I']\n",
            "[]\n",
            "['https://t.co/SuDkK1wEEZ']\n",
            "[]\n",
            "['http://t.co/Wpkl2qNiQW', \"http://t.co/BD52FxDvhQ'\"]\n",
            "[]\n",
            "[]\n",
            "['https://t.co/inIqzfyioi']\n",
            "['http://t.co/cvjYML7KrM', 'http://t.co/FpH01U3eIi\\x89Û\\x9d']\n",
            "['http://t.co/qmiF0bLwOa', 'http://t.co/l6PIf3LpEn']\n",
            "[]\n",
            "['http://t.co/GLZmGBM7w0']\n",
            "['http://t.co/ljeRYHItwh']\n",
            "['http://t.co/5Yl4DC1Tqt']\n",
            "['http://t.co/TWykzN4rlC']\n",
            "['http://t.co/Wx11d69gEZ']\n",
            "['https://t.co/MexwoHd3TG', 'http://t.co/gB46FiD2wE']\n",
            "['http://t.co/pRAro2OWia']\n",
            "['http://t.co/E7SHtYLbnL']\n",
            "[]\n",
            "['http://t.co/iJoBZ3MZp0']\n",
            "[]\n",
            "['http://t.co/LQD1WEfpQd', 'http://t.co/GgnbVZoHWu']\n",
            "['http://t.co/PCjBvrs7xw']\n",
            "['http://t.co/TwI3pYm7Us', 'http://t.co/qT8JMD9pI1']\n",
            "[]\n",
            "['http://t.co/Uo8GrDAuAT']\n",
            "['http://t.co/uvM975yha2']\n",
            "[]\n",
            "[]\n",
            "[]\n",
            "['http://t.co/918EQmTkrL']\n",
            "['http://t.co/1Ki8LgVAy4']\n",
            "[]\n",
            "[]\n",
            "['http://t.co/XGnjgLE9eQ']\n",
            "['http://t.co/WJ7UjFs8Fd']\n",
            "['http://t.co/oObSCFOKtQ']\n",
            "['http://t.co/ii4EwE1QIr', 'http://t.co/H3vUsqzyQo']\n",
            "['https://t.co/h6amECX5K7', 'http://t.co/B8iWRdxcm0']\n",
            "['http://t.co/u7bBeNXWYK']\n",
            "['http://t.co/XwnJYsV9V9']\n",
            "['https://t.co/nXS3Z1kxiD', 'http://t.co/UDKMAdKuzY']\n",
            "['http://t.co/daPlllFuqK']\n",
            "['http://t.co/1W58Ehv9S1', 'http://t.co/p8Ih0hni3l']\n",
            "['http://t.co/2Y5MoRpugt']\n",
            "['http://t.co/q8n5Tn8WME']\n",
            "['https://t.co/beJfTYgJIL', 'http://t.co/jlCZiDZ7Vu']\n",
            "['https://t.co/utc7pdIdfo']\n",
            "['http://t.co/uDj50J3MV4']\n",
            "['http://t.co/Le4brduau9']\n",
            "['https://t.co/GevRMBVznB']\n",
            "['http://t.co/V6IjxCCD2I', 'http://t.co/YSXhFWMGOD']\n",
            "[]\n",
            "['http://t.co/d5h4jif1y3']\n",
            "['http://t.co/u8RGB51d22', 'http://t.co/2tnu95VGFE']\n",
            "['http://t.co/ajpbdCalew']\n",
            "['http://t.co/hFgjgFGfeL']\n",
            "['http://t.co/OT2OOOEdts']\n",
            "[]\n",
            "['http://t.co/Hr88CWxPGz']\n",
            "[]\n",
            "[]\n",
            "['https://t.co/2Y4RGob7pj', 'http://t.co/mVes6VsSyN']\n",
            "['http://t.co/HHPvPaEL4n']\n",
            "['https://t.co/p5ZIcjUdXO', 'http://t.co/kZhB8zX6YC']\n",
            "[]\n",
            "['http://t.co/EQjCpWILVn:']\n",
            "['https://t.co/k44tL3rfMy', 'http://t.co/ipT0hoNoTI']\n",
            "['http://t.co/sZeapuEuvy']\n",
            "['https://t.co/mRoSPd9878']\n",
            "['https://t.co/4ZQrsAQrRT', 'http://t.co/6ar3UKvsxw']\n",
            "['http://t.co/uiqsfgZoOx']\n",
            "['http://t.co/0FS9kSV5xK']\n",
            "[]\n",
            "[]\n",
            "[]\n",
            "['http://t.co/3MtWh0jJns']\n",
            "['http://t.co/m5RjekVDDp']\n",
            "['http://t.co/f7WqpCEkg2']\n",
            "['http://t.co/oEf123l5Rc']\n",
            "['http://t.co/VSoxKbt6Nq']\n",
            "['http://t.co/FY30fV0Qbx']\n",
            "['http://t.co/ogZJOkd7Sv']\n",
            "[]\n",
            "[]\n",
            "[]\n",
            "['http://t.co/CWGCciw3V6']\n",
            "['http://t.co/HGDrK81sN4']\n",
            "[]\n",
            "[]\n",
            "['http://t.co/xImPncZXtH']\n",
            "[]\n",
            "['http://t.co/JNrOMsE1Z2', 'http://t.co/w6Yu7Qs4CV']\n",
            "['http://t.co/ph2xLI8nVe', 'http://t.co/22fuxHn7El']\n",
            "['http://t.co/u4gSBNU8wc']\n",
            "['http://t.co/su4ZVWADj7']\n",
            "['http://t.co/J5mKcbKcov']\n",
            "[]\n",
            "[]\n",
            "[]\n",
            "['http://t.co/J5mKcbKcov']\n",
            "['http://t.co/9TyucdWh3g']\n",
            "[]\n",
            "['http://t.co/hRL4XNJ9K7']\n",
            "['http://t.co/te5tDLyIMN']\n",
            "[]\n",
            "['https://t.co/7PaOvYzTtw']\n",
            "[]\n",
            "['http://t.co/dqtMTPqmBR', 'http://t.co/dMsnYPtscY']\n",
            "[]\n",
            "[]\n",
            "['http://t.co/hWnyXXKczz']\n",
            "[]\n",
            "['http://t.co/qqSKYbARNg']\n",
            "['http://t.co/E2WgREIcmZ']\n",
            "[]\n",
            "[]\n",
            "[]\n",
            "['http://t.co/dlY6rUuSqK']\n",
            "['https://t.co/B7ZwEVsrGO']\n",
            "[]\n",
            "['https://t.co/ETuuYISLHw']\n",
            "[]\n",
            "[]\n",
            "[]\n",
            "[]\n",
            "[]\n",
            "['http://t.co/eSK4yvzvaP']\n",
            "[]\n",
            "[]\n",
            "['http://t.co/KQJevYqzLV', 'http://t.co/HmWhob7prs']\n",
            "['http://t.co/SlQnph34Nt']\n",
            "[]\n",
            "['https://t.co/F0QIRS5lJA']\n",
            "['http://t.co/oS1WjRvx5c']\n",
            "[]\n",
            "[]\n",
            "[]\n",
            "[]\n",
            "[]\n",
            "[]\n",
            "[]\n",
            "[]\n",
            "[]\n",
            "[]\n",
            "['http://t.co/x4eCGGvnSN']\n",
            "[]\n",
            "['http://t.co/T81oayjoWC']\n",
            "[]\n",
            "[]\n",
            "[]\n",
            "[]\n",
            "['http://t.co/2HV2y2M2oZ']\n",
            "[]\n",
            "[]\n",
            "['http://t.co/TQ1rUQD4LG']\n",
            "['http://t.co/h9i6moZAsK']\n",
            "['http://t.co/bTi8JAMFiu']\n",
            "['http://t.co/EpzgG4uqJI']\n",
            "[]\n",
            "[]\n",
            "['http://t.co/5CwUyLnFUm', 'http://t.co/1tyYqFz13D']\n",
            "[]\n",
            "['http://t.co/KJsvW06GBV']\n",
            "['http://t.co/LdcwKyuaFf']\n",
            "[]\n",
            "[]\n",
            "['http://t.co/1EOf1Wxnpj']\n",
            "['http://t.co/n844h1ASPj']\n",
            "['http://t.co/kEa5l3b1AE']\n",
            "['http://t.co/RsdkWZRc8g']\n",
            "[]\n",
            "['http://t.co/TsaLetFtkt']\n",
            "[]\n",
            "['http://t.co/oIM6Po8XCu']\n",
            "['http://t.co/ogxSY4GWD1']\n",
            "['http://t.co/UZWLgJQzNS']\n",
            "['http://t.co/yqYiwjN8eZ']\n",
            "['http://t.co/MjSTefgGU5']\n",
            "['https://t.co/rJJXUcX5PM']\n",
            "[]\n",
            "[]\n",
            "[]\n",
            "[]\n",
            "['http://t.co/7HuEN4rWrn']\n",
            "[]\n",
            "[]\n",
            "[]\n",
            "['http://t.co/LjOMCTUZFy', 'https://t.co/2zGVSLOX5p']\n",
            "[]\n",
            "['http://t.co/qew4c5M1xd']\n",
            "['http://t.co/qew4c5M1xd']\n",
            "['http://t.co/PgKBT3MBAp.']\n",
            "['http://t.co/AYfdjeB7Hy']\n",
            "['http://t.co/Ffnzit7kgN']\n",
            "['http://t.co/qew4c5M1xd']\n",
            "['http://t.co/O8X4M5eR6b']\n",
            "['http://t.co/itnKBxgWLH']\n",
            "[]\n",
            "[]\n",
            "[]\n",
            "['http://t.co/x8zqbwNfO1']\n",
            "[]\n",
            "['http://t.co/Y8h5v1j2y7']\n",
            "['http://t.co/4WJy7seHmw']\n",
            "['http://t.co/qew4c5M1xd']\n",
            "['http://t.co/qew4c5M1xd']\n",
            "[]\n",
            "['http://t.co/qew4c5M1xd']\n",
            "['https://t.co/Fd9DzspuGk']\n",
            "[]\n",
            "['http://t.co/qew4c5M1xd']\n",
            "['http://t.co/ST9jPZ8Y24']\n",
            "[]\n",
            "['http://t.co/P4KOfYtkdx']\n",
            "[]\n",
            "['http://t.co/iZJK6kpWiZ']\n",
            "[]\n",
            "[]\n",
            "['http://t.co/qew4c5M1xd']\n",
            "['http://t.co/TTb9oiL8R2']\n",
            "[]\n",
            "[]\n",
            "[]\n",
            "['https://t.co/GaJTUGAUi7']\n",
            "['https://t.co/PHFoEozYPS']\n",
            "['http://t.co/72ix7vM87w']\n",
            "['https://t.co/86V81dv00E']\n",
            "['http://t.co/Calk5nv5Vc']\n",
            "[]\n",
            "[]\n",
            "['http://t.co/cEdCUgEuWs']\n",
            "[]\n",
            "['http://t.co/UB1JZskmRc']\n",
            "[]\n",
            "['http://t.co/s43wE7Oe2i']\n",
            "['http://t.co/vScPGMsJXY']\n",
            "[]\n",
            "[]\n",
            "['http://t.co/WK63tm34a0']\n",
            "[]\n",
            "['http://t.co/eYOrBmF3O3']\n",
            "[]\n",
            "['http://t.co/0Xh758OnUP']\n",
            "[]\n",
            "['http://t.co/CaR5QEUVHH']\n",
            "['http://t.co/HIpklxpHnp']\n",
            "['http://t.co/gDjTzkpCHK']\n",
            "['http://t.co/jhUPOgbvs8']\n",
            "[]\n",
            "['http://t.co/ZkgQSpwYj3']\n",
            "['http://t.co/21hsrrqZOu']\n",
            "['http://t.co/xtlJz7BjgL']\n",
            "['http://t.co/And1Btizao']\n",
            "[]\n",
            "['http://t.co/SDmrzGErYX']\n",
            "['http://t.co/Ajay0sNPlg']\n",
            "[]\n",
            "[]\n",
            "['http://t.co/FKXCsztezB']\n",
            "['http://t.co/KK8cnppZMk']\n",
            "[]\n",
            "[]\n",
            "[]\n",
            "[]\n",
            "['http://t.co/YeLJPQHmEd']\n",
            "['http://t.co/r18aUtnLSd', 'http://t.co/CNqaE9foj6']\n",
            "['http://t.co/gbqTc7Sp9C']\n",
            "[]\n",
            "['http://t.co/us1DMdXZVb']\n",
            "[]\n",
            "['http://t.co/C22ecVl4Hw']\n",
            "['http://t.co/EXQKmlg4NJ']\n",
            "[]\n",
            "[]\n",
            "['http://t.co/qkrLtrd39B']\n",
            "[]\n",
            "['http://t.co/gRLxUrko8D']\n",
            "['http://t.co/x8moYeVjsJ']\n",
            "['http://t.co/Fk1vyh5QLk']\n",
            "[]\n",
            "['http://t.co/tyyfG4qQvM']\n",
            "['http://t.co/0aJIsA5531']\n",
            "['http://t.co/eSwNSetFtf']\n",
            "['http://t.co/0f8XA4Ih1U']\n",
            "['http://t.co/3Yu26V19zh']\n",
            "['http://t.co/JJL89F9O3V']\n",
            "['http://t.co/xe0EE1Fzfh']\n",
            "['http://t.co/DMb6xP966D']\n",
            "[]\n",
            "['http://t.co/KnBv2YtNWc']\n",
            "['http://t.co/9dWyJqvFY4']\n",
            "[]\n",
            "[]\n",
            "[]\n",
            "[]\n",
            "[]\n",
            "['http://t.co/spE7U8t40K']\n",
            "['http://t.co/U2eS0Uk1u3']\n",
            "['http://t.co/0dQjereTXU']\n",
            "[]\n",
            "[]\n",
            "[]\n",
            "[]\n",
            "[]\n",
            "['http://t.co/T6fuAhFp7p', 'http://t.co/RhE7dXM7Ey']\n",
            "['http://t.co/ZWeyGpHpf7']\n",
            "[]\n",
            "[]\n",
            "[]\n",
            "['http://t.co/GXq1Auzb18']\n",
            "['http://t.co/fMj8MXJY8a']\n",
            "[]\n",
            "[]\n",
            "[]\n",
            "['http://t.co/zl7FhUCxHL']\n",
            "[]\n",
            "['http://t.co/ta1yqclpSc', 'http://t.co/xToHI1HexY']\n",
            "[]\n",
            "[]\n",
            "[]\n",
            "[]\n",
            "[]\n",
            "[]\n",
            "['http://t.co/VzgslEPkkH']\n",
            "[]\n",
            "[]\n",
            "[]\n",
            "[]\n",
            "[]\n",
            "[]\n",
            "['http://t.co/DjA4relcnS']\n",
            "[]\n",
            "[]\n",
            "[]\n",
            "[]\n",
            "[]\n",
            "[]\n",
            "['http://t.co/TATZfK63Ch']\n",
            "[]\n",
            "[]\n",
            "['http://t.co/efg8RtH9Rb']\n",
            "[]\n",
            "[]\n",
            "[]\n",
            "['http://t.co/AGQo1479xM']\n",
            "[]\n",
            "[]\n",
            "[]\n",
            "[]\n",
            "[]\n",
            "['http://t.co/MeSqTVdu63']\n",
            "[]\n",
            "[]\n",
            "[]\n",
            "['http://t.co/sHaZNLMsFE']\n",
            "['http://t.co/wGl4LUbnw1']\n",
            "[]\n",
            "['http://t.co/UMl5jZTmcB']\n",
            "[]\n",
            "[]\n",
            "[]\n",
            "[]\n",
            "[]\n",
            "[]\n",
            "[]\n",
            "[]\n",
            "['http://t.co/ADIp0UnXHU']\n",
            "['http://t.co/3ugfpwMY2x']\n",
            "['http://t.co/MqydXRLae7', 'http://t.co/EpJjkB4Be9']\n",
            "[]\n",
            "['http://t.co/J4dqPFLMkR']\n",
            "[]\n",
            "['http://t.co/iAhJj0agq6']\n",
            "[]\n",
            "[]\n",
            "[]\n",
            "[]\n",
            "[]\n",
            "[]\n",
            "[]\n",
            "['http://t.co/YO3T8qho9h', 'http://t.co/8oDTzMvqaR']\n",
            "[]\n",
            "[]\n",
            "[]\n",
            "[]\n",
            "['http://t.co/XAerMBMvlv']\n",
            "[]\n",
            "[]\n",
            "['http://t.co/cybKsXHF7d']\n",
            "['http://t.co/cybKsXHF7d']\n",
            "['https://t.co/Udp10FRXrL']\n",
            "[]\n",
            "[]\n",
            "['http://t.co/KHzTeVeDja']\n",
            "['http://t.co/ukQYbhxMQI', 'http://t.co/iDWS2ZgYsa']\n",
            "[]\n",
            "['http://t.co/EyEVZIoPg1']\n",
            "['http://t.co/TJyyFT6NV0']\n",
            "['https://t.co/743JoqazrT']\n",
            "['http://t.co/ia44ncZLif', 'http://t.co/oGTuV1pLhT']\n",
            "[]\n",
            "['http://t.co/tYeWZf3hqA']\n",
            "['http://t.co/sjh0HsRp4s']\n",
            "['http://t.co/y518jYrZav']\n",
            "[]\n",
            "[]\n",
            "[]\n",
            "[]\n",
            "[]\n",
            "['http://t.co/cybKsXHF7d']\n",
            "[]\n",
            "['http://t.co/1RrEO2jG9u']\n",
            "[]\n",
            "[]\n",
            "['http://t.co/0h7OUa1pns']\n",
            "['http://t.co/NXkUM9h7wD']\n",
            "[]\n",
            "['http://t.co/cybKsXHF7d']\n",
            "[]\n",
            "[]\n",
            "[]\n",
            "['http://t.co/3VfKEdGrsO']\n",
            "['http://t.co/964dk4rwwe']\n",
            "[]\n",
            "[]\n",
            "[]\n",
            "[]\n",
            "['http://t.co/t94LNfwf34', 'http://t.co/roCyyEI2dM']\n",
            "['http://t.co/FXk3zsj2PE']\n",
            "['https://t.co/qCT6fb8wOn']\n",
            "[]\n",
            "[]\n",
            "[]\n",
            "['http://t.co/lBPX8buCnv']\n",
            "[]\n",
            "['http://t.co/3GEROQ49o1']\n",
            "['http://t.co/zQoScQD64h', 'http://t.co/yLvVF139BB']\n",
            "['http://t.co/9ODqryJncF']\n",
            "['http://t.co/rjPjBwVfck']\n",
            "[]\n",
            "['http://t.co/Hy5Pbe12TM', 'http://t.co/c1nJpLi5oR']\n",
            "[]\n",
            "[]\n",
            "['https://t.co/ttq9IlHp8W']\n",
            "[]\n",
            "['http://t.co/Cj76K0YaYj']\n",
            "['http://t.co/agyCutKBnN']\n",
            "[]\n",
            "[]\n",
            "['http://t.co/SqpshAWs0w', 'http://t.co/udlEbH88uZ']\n",
            "['http://t.co/BcsXyEc4ji', 'http://t.co/DfXI76kvX0']\n",
            "[]\n",
            "[]\n",
            "[]\n",
            "[]\n",
            "[]\n",
            "['http://t.co/O61h2tAaE4']\n",
            "[]\n",
            "[]\n",
            "[]\n",
            "['http://t.co/M8CIKs60BX']\n",
            "['http://t.co/JDVSGVhlIs']\n",
            "['http://t.co/JwxrX1LsqO']\n",
            "['http://t.co/sQN4girdvZ']\n",
            "['http://t.co/UsVyHdG9OG']\n",
            "['http://t.co/20DNcthr4D']\n",
            "['http://t.co/Q3DtOqO04c']\n",
            "['http://t.co/qjuU0wcWPx']\n",
            "[]\n",
            "['http://t.co/mg5eAJElul']\n",
            "['http://t.co/cWZHgEzAJ4']\n",
            "['http://t.co/9i6CrCRq2m']\n",
            "['https://t.co/FC3BxRtHPG', 'http://t.co/BIU4koWGlz']\n",
            "['http://t.co/3Ac5wuy1R0']\n",
            "['http://t.co/iGCEtuMkcW']\n",
            "['http://t.co/CanEyTtwEV']\n",
            "[]\n",
            "[]\n",
            "['http://t.co/PC8BvufLFJ']\n",
            "['http://t.co/BHZr9UgUs2']\n",
            "[]\n",
            "['http://t.co/VTS9CAyiBC']\n",
            "['http://t.co/GeI58Vhbw6']\n",
            "['http://t.co/YvaFI3zuJx']\n",
            "[]\n",
            "['http://t.co/3OG66NfSIG']\n",
            "['http://t.co/VBhu2t8wgB']\n",
            "['http://t.co/Na2Ey64Vsg']\n",
            "['http://t.co/7vcEzi6CbB']\n",
            "['http://t.co/MvSRjd4X3D']\n",
            "['http://t.co/0XCb7yeqmw']\n",
            "['http://t.co/piVeUPiRKY']\n",
            "[]\n",
            "[]\n",
            "[]\n",
            "['http://t.co/DOBZc3piTM']\n",
            "['http://t.co/lEYJwNnAH8']\n",
            "['http://t.co/sA5CDWVDXt']\n",
            "[]\n",
            "['http://t.co/GZEkQWzijq']\n",
            "[]\n",
            "['http://t.co/829n4HJHOL']\n",
            "['http://t.co/G5ZsRU0zVQ']\n",
            "[]\n",
            "['http://t.co/LzasR05ljo', 'http://t.co/IeMxGSE2BE']\n",
            "[]\n",
            "['http://t.co/braoUBgEC2']\n",
            "['http://t.co/aWPU0gaE0b']\n",
            "['http://t.co/aYP6zVHm2A']\n",
            "['http://t.co/xh4dZ1gpyw', 'http://t.co/g0hsyH7YaV']\n",
            "['http://t.co/0blKwCuPZq']\n",
            "['http://t.co/TBQsqtmqV4']\n",
            "[]\n",
            "[]\n",
            "['http://t.co/GW0CXoOJyV']\n",
            "[]\n",
            "['http://t.co/qp6q8RS8ON']\n",
            "[]\n",
            "[]\n",
            "['http://t.co/Im6m4XAeN2']\n",
            "['http://t.co/WqIKqx9E3w']\n",
            "['http://t.co/gfs7UsulgQ']\n",
            "['http://t.co/dpgdnaoY4p', 'http://t.co/4fCJFDKdZS']\n",
            "['http://t.co/GLPFu0Uriz']\n",
            "['https://t.co/M4tuI0P9nT']\n",
            "['http://t.co/LmUMzkLtln', 'http://t.co/yebxxAryBF', 'http://t.co/SRRUqfffr6', 'http://t.co/CadzxAgMSI']\n",
            "['http://t.co/gk4uNPZNhN']\n",
            "[]\n",
            "['http://t.co/qwSbVfLPE1']\n",
            "['http://t.co/Ef4swP9SXZ', 'http://t.co/Nb7MAAAOfs']\n",
            "['http://t.co/je86VetDxh']\n",
            "['http://t.co/STPOdA901U']\n",
            "['http://t.co/dazQaMOO0C']\n",
            "[]\n",
            "['http://t.co/vXUFtVT9AU']\n",
            "[]\n",
            "['http://t.co/NqXQYI70W4']\n",
            "[]\n",
            "['http://t.co/3ZASZ6wxjJ']\n",
            "[]\n",
            "['http://t.co/3SICroAaNz', 'http://t.co/I27Oa0HISp']\n",
            "['http://t.co/AlUMrGl40e', 'http://t.co/8h2KCTFB8I']\n",
            "['http://t.co/enrPGRgtTs']\n",
            "['http://t.co/XsSgEdSbH4']\n",
            "['http://t.co/2lBTshXI3c', \"http://t.co/0jmKdTcYmJ'\"]\n",
            "['http://t.co/6Peeip4y7W']\n",
            "['http://t.co/I5k3VjICMG', 'http://t.co/cizJAFnm4E']\n",
            "['http://t.co/NEqW47E1uj']\n",
            "['http://t.co/XsSgEdSbH4']\n",
            "[]\n",
            "[]\n",
            "[]\n",
            "['http://t.co/kxewlHH7Uw']\n",
            "['http://t.co/i0Tvl15CoZ', 'http://t.co/IgtXhapO0K']\n",
            "[]\n",
            "['http://t.co/oQ0LnF2Yug', 'http://t.co/tZDBcGpSAg']\n",
            "['http://t.co/XRgPdlSWfD']\n",
            "[]\n",
            "['http://t.co/fkv5qXDcy3']\n",
            "['http://t.co/NKAW9EZqGg']\n",
            "[]\n",
            "[]\n",
            "[]\n",
            "['http://t.co/fHVOkmpheD']\n",
            "['http://t.co/CgVUY3RcxO']\n",
            "['https://t.co/J3dI85IST5']\n",
            "['http://t.co/rJ9gkJKJJn']\n",
            "['http://t.co/seShqN5DSK']\n",
            "['http://t.co/Byj5Dfa2rv']\n",
            "['http://t.co/jTJoFLtMS4']\n",
            "['http://t.co/8T36HWgoqd']\n",
            "['http://t.co/OegFQBIqIq']\n",
            "['http://t.co/eTswuoD3oM']\n",
            "['http://t.co/4o460Fm8HN']\n",
            "['http://t.co/auf4J4Owj1']\n",
            "['http://t.co/V3aZWOAmzK']\n",
            "['http://t.co/7muG2kAhL7']\n",
            "['http://t.co/Ns1AgGFNxz', 'http://t.co/oD250zshFy']\n",
            "['http://t.co/Njd28pg9Xv']\n",
            "['http://t.co/3rrGHT4ewp']\n",
            "['http://t.co/dIsrwhQGym']\n",
            "[]\n",
            "['http://t.co/7uf7TSt9Zx']\n",
            "['http://t.co/zDtoyd8EbJ']\n",
            "['http://t.co/3nUiH6pkUi', 'http://t.co/2ufCC6gH3m']\n",
            "[]\n",
            "['http://t.co/y2Mt6v13E8']\n",
            "[]\n",
            "[]\n",
            "['http://t.co/20TWGPmM7d']\n",
            "['https://t.co/MUSBIk7EJf']\n",
            "[]\n",
            "[]\n",
            "[]\n",
            "['http://t.co/RTUeTdfBqb']\n",
            "['http://t.co/R3PDdjPiEe']\n",
            "[]\n",
            "[]\n",
            "[]\n",
            "[]\n",
            "[]\n",
            "[]\n",
            "['http://t.co/oJuS08yZrq']\n",
            "['http://t.co/6SdgZ5DXNt']\n",
            "[]\n",
            "[]\n",
            "[]\n",
            "[]\n",
            "[]\n",
            "[]\n",
            "[]\n",
            "[]\n",
            "[]\n",
            "[]\n",
            "[]\n",
            "[]\n",
            "[]\n",
            "[]\n",
            "['http://t.co/PtY9HRCUZH']\n",
            "[]\n",
            "[]\n",
            "[]\n",
            "[]\n",
            "['https://t.co/2lGTZkwMqW']\n",
            "['http://t.co/N9SNJMEVI6']\n",
            "[]\n",
            "[]\n",
            "[]\n",
            "[]\n",
            "['http://t.co/xpFmR368uF', 'http://t.co/nmAUMYdKe1']\n",
            "[]\n",
            "['http://t.co/sdOgEF3kFT', 'http://t.co/x0giy85BS8']\n",
            "[]\n",
            "[]\n",
            "[]\n",
            "['http://t.co/SnqfHpYm3O']\n",
            "['http://t.co/RJcaxjp4oS']\n",
            "[]\n",
            "[]\n",
            "['http://t.co/UwObuUW2mK']\n",
            "['http://t.co/t6OBVWaPhW']\n",
            "[]\n",
            "[]\n",
            "[]\n",
            "[]\n",
            "[]\n",
            "[]\n",
            "[]\n",
            "[]\n",
            "[]\n",
            "['http://t.co/QR1L2JYUEZ']\n",
            "[]\n",
            "[]\n",
            "[]\n",
            "[]\n",
            "[]\n",
            "[]\n",
            "[]\n",
            "['http://t.co/cgFZk8Ha1R']\n",
            "[]\n",
            "[]\n",
            "[]\n",
            "['http://t.co/hGb1mc3IRk', 'https://t.co/6ysXGhc8gz']\n",
            "[]\n",
            "[]\n",
            "[]\n",
            "['http://t.co/lKNU8902JE']\n",
            "['https://t.co/7QrEPylLUK']\n",
            "[]\n",
            "['http://t.co/AAuIzGGc9Q']\n",
            "['https://t.co/NDxrK2NCLN']\n",
            "['http://t.co/76EHHmQQ6R', 'http://t.co/umtffA9JjB']\n",
            "['http://t.co/vn0acCF6D4']\n",
            "[]\n",
            "[]\n",
            "['http://t.co/jnN0kRNXvY', 'http://t.co/5LOiWuyv5r']\n",
            "[]\n",
            "['http://t.co/N4NEUIyt2k']\n",
            "['https://t.co/cyU8zxw1oH']\n",
            "['http://t.co/vXxMvgtzvg']\n",
            "[]\n",
            "[]\n",
            "['http://t.co/xbMm7ITe9q']\n",
            "['http://t.co/L2NMywrmq2']\n",
            "['http://t.co/0migwcmtJe']\n",
            "['http://t.co/CBXnHhZ6kD']\n",
            "['http://t.co/73Umw2iGRZ']\n",
            "[]\n",
            "['http://t.co/MTgFx3efIv']\n",
            "['http://t.co/AD38KWoGlh']\n",
            "[]\n",
            "['http://t.co/i1EeUxxZ3A']\n",
            "[]\n",
            "['http://t.co/KMDQm3NlnS']\n",
            "['http://t.co/PyVRPrNhOP']\n",
            "['http://t.co/hddBMU2ycA']\n",
            "['http://t.co/4fYNQ1hWWb']\n",
            "['https://t.co/J3cIRXjFa6']\n",
            "[]\n",
            "[]\n",
            "[]\n",
            "[]\n",
            "['https://t.co/TO0BPiEymS']\n",
            "['https://t.co/rUKjYjG9oQ']\n",
            "[]\n",
            "[]\n",
            "[]\n",
            "['http://t.co/y7O55by36f']\n",
            "['http://t.co/laYZBA9y8h']\n",
            "['http://t.co/9ckggGYvOU', 'http://t.co/u0vdBrXfia']\n",
            "[]\n",
            "['http://t.co/qwHINBni8e']\n",
            "[]\n",
            "['http://t.co/eaSlGeA1B7']\n",
            "['http://t.co/mxkAlMQpdb', 'http://t.co/8KZnhtYtt9']\n",
            "['http://t.co/oAZjPwUeYR']\n",
            "[]\n",
            "['https://t.co/geht4sKI86']\n",
            "[]\n",
            "['http://t.co/wmoyibWEc1', 'http://t.co/0rsverLzTm']\n",
            "['http://t.co/KrNW0Wxhe5']\n",
            "[]\n",
            "['https://t.co/B19z8Vi3td']\n",
            "[]\n",
            "['http://t.co/L8W30WFW3R']\n",
            "[]\n",
            "[]\n",
            "[]\n",
            "[]\n",
            "['https://t.co/iIAIGZkbnJ']\n",
            "['http://t.co/Q0JHDcU6Ly']\n",
            "[]\n",
            "[]\n",
            "[]\n",
            "['http://t.co/br7gmMh5Ek']\n",
            "[]\n",
            "['http://t.co/MLigPUHVOh', 'http://t.co/TcS2Cd5y6y']\n",
            "['https://t.co/i2lwTy5YuP']\n",
            "['http://t.co/qd3DSSFWUE']\n",
            "['https://t.co/463P0yS0Eb']\n",
            "['http://t.co/2M1gNeaiFl', 'http://t.co/UQh85MiP0v']\n",
            "['http://t.co/0x8jAQToWM', 'http://t.co/m1RoSi2Wcs']\n",
            "['http://t.co/QCYQHvn2Ha']\n",
            "['http://t.co/CMsgexM4FC']\n",
            "['http://t.co/J2PYkYo0EN']\n",
            "[]\n",
            "[]\n",
            "[]\n",
            "[]\n",
            "['http://t.co/0sZwlWL9qU']\n",
            "[]\n",
            "[]\n",
            "[]\n",
            "[]\n",
            "[]\n",
            "['http://t.co/QWpUxPyWbF', 'http://t.co/8jlXZ6fkxy']\n",
            "[]\n",
            "['http://t.co/QKz2Sp06xn']\n",
            "[]\n",
            "['http://t.co/9ikhdyHVnC']\n",
            "[]\n",
            "[]\n",
            "[]\n",
            "[]\n",
            "[]\n",
            "[]\n",
            "[]\n",
            "[]\n",
            "['http://t.co/eX8A5JYZm5', 'http://t.co/DeEeKobmXa']\n",
            "[]\n",
            "['http://t.co/djUfkRrtFt']\n",
            "['http://t.co/nS5lBS5ZUp']\n",
            "['http://t.co/ezEIsaSm0C']\n",
            "['http://t.co/SWwyLRk0fv']\n",
            "['https://t.co/of3td6DGLb']\n",
            "['http://t.co/ANoDGXZR3E']\n",
            "['http://t.co/d2vEppeh8S']\n",
            "['http://t.co/LZmL1xB2nH']\n",
            "['http://t.co/7XQ8JrtL7I', 'http://t.co/J90dT2qnXb']\n",
            "['http://t.co/ZggpaCjP7D']\n",
            "['http://t.co/6AgMkx2WW4']\n",
            "['http://t.co/Lec1vmS7x2']\n",
            "['http://t.co/U2dO2mC2ri', 'http://t.co/3oM3xw6CZ8']\n",
            "[]\n",
            "['http://t.co/aNlhW2IzkZ']\n",
            "[]\n",
            "['http://t.co/h9v4HoWtiP', 'http://t.co/8IcSesHbj3']\n",
            "['http://t.co/gzGpWSqyMW', 'http://t.co/ay49MTYyL8']\n",
            "['http://t.co/UcI8stQUg1']\n",
            "['http://t.co/sPT54KfA9Q']\n",
            "['http://t.co/4eSbsA8InT']\n",
            "['http://t.co/ph7wllKRfI']\n",
            "['http://t.co/qwrRfDGXCc', 'http://t.co/sstj2bEpqn']\n",
            "['https://t.co/V6qxnFHRxF']\n",
            "[]\n",
            "['http://t.co/wwxbGuBww5']\n",
            "['http://t.co/UORXfF0NfX']\n",
            "['http://t.co/P0GoS5URXG']\n",
            "['http://t.co/ABlz20mgzv']\n",
            "['http://t.co/Hj26SFDdfI']\n",
            "['http://t.co/2PPzGpxybi', 'http://t.co/dS9khKffwc']\n",
            "['https://t.co/Cm9TvE2Vsq']\n",
            "['http://t.co/iRt4kkgsJx']\n",
            "['http://t.co/dde8GXaQrp']\n",
            "['http://t.co/JIOMnrCygT']\n",
            "['http://t.co/ei8QqhrEgZ']\n",
            "['http://t.co/h132iuL7MU']\n",
            "[]\n",
            "['http://t.co/92fwtObi3U']\n",
            "[]\n",
            "['http://t.co/8Prnhrhb2T', 'http://t.co/OAhLtHRozY']\n",
            "[]\n",
            "['http://t.co/etgQf28MgE']\n",
            "['http://t.co/byvUBg0WyE']\n",
            "[]\n",
            "['http://t.co/AI6kwOrBbT']\n",
            "['http://t.co/wAL4FrTfKa']\n",
            "[]\n",
            "[]\n",
            "[]\n",
            "['http://t.co/BP6MfJHARS']\n",
            "['http://t.co/qzRciNaF5z']\n",
            "['http://t.co/BNNIdfZWbd']\n",
            "['http://t.co/N00DVXEga2']\n",
            "['http://t.co/KoCH8SLasQ']\n",
            "[]\n",
            "['https://t.co/gCdxYdBSc4']\n",
            "[]\n",
            "['http://t.co/OSKfyj8CK7']\n",
            "['http://t.co/kKeH8qCgc3']\n",
            "['http://t.co/E1kbluDwh5']\n",
            "['http://t.co/rb02svlpPu']\n",
            "['https://t.co/dHgGxo7Mcc']\n",
            "[]\n",
            "['http://t.co/esEMjRn5cC']\n",
            "['http://t.co/BZ07c9WthX']\n",
            "[]\n",
            "['http://t.co/5KohO39oJE']\n",
            "[]\n",
            "['http://t.co/TWPl0NL8cx']\n",
            "['http://t.co/XQIadG9H2w', 'http://t.co/yPEElMjdZY']\n",
            "['http://t.co/r8k6rXw6D6']\n",
            "['http://t.co/XxFk4KHbIw']\n",
            "[]\n",
            "[]\n",
            "['http://t.co/Pz56zJSsfT']\n",
            "['http://t.co/crCN8rwvKj']\n",
            "['http://t.co/KakY4mpCO4']\n",
            "['http://t.co/m9d2ElImZI']\n",
            "['http://t.co/ZnpTdIcQxE']\n",
            "[]\n",
            "['http://t.co/3Ife1zsop7']\n",
            "[]\n",
            "['http://t.co/rZ7fbr10xw']\n",
            "['http://t.co/CNtwB6ScZj']\n",
            "[]\n",
            "['http://t.co/8ACDF4Zui6']\n",
            "['http://t.co/hFvnyfT78C']\n",
            "['http://t.co/BJycRGfH5y']\n",
            "[]\n",
            "[]\n",
            "['http://t.co/Y0qQS2L7bS']\n",
            "['http://t.co/iPHaZV47g7']\n",
            "['http://t.co/brE2lGmn7C']\n",
            "['http://t.co/oiOeCbsh1f']\n",
            "['http://t.co/KMXzhO5TFM.', 'http://t.co/AlBvDNwJtg']\n",
            "['http://t.co/5uFTRXPpV0']\n",
            "[]\n",
            "['http://t.co/zDHwRN6cZc']\n",
            "[]\n",
            "['http://t.co/HwOrB1N6vN']\n",
            "['http://t.co/sHHLV4dPlz']\n",
            "['http://t.co/ia1HnGnHVB']\n",
            "['http://t.co/AzovGv4SB6']\n",
            "[]\n",
            "[]\n",
            "['http://t.co/QI2BDvkab7']\n",
            "['http://t.co/w0r8EAOKA0']\n",
            "[]\n",
            "[]\n",
            "['http://t.co/M8UfjDtlsm']\n",
            "['http://t.co/sAF9MoSkSN']\n",
            "[]\n",
            "['http://t.co/sAF9MoSkSN']\n",
            "[]\n",
            "[]\n",
            "['https://t.co/6vyYER6PY0']\n",
            "['http://t.co/tu6ScRSXVG', 'http://t.co/iDhj4JBQ05']\n",
            "['http://t.co/yaqRSximph']\n",
            "['http://t.co/nNBEXhKlHr']\n",
            "[]\n",
            "[]\n",
            "[]\n",
            "[]\n",
            "[]\n",
            "[]\n",
            "[]\n",
            "['http://t.co/nu3XXn55vS', 'http://t.co/XNGrfNQSx3']\n",
            "[]\n",
            "[]\n",
            "[]\n",
            "[]\n",
            "[]\n",
            "[]\n",
            "['http://t.co/GopSiCP8bm']\n",
            "[]\n",
            "[]\n",
            "[]\n",
            "['http://t.co/oBSZ45ybAJ']\n",
            "['http://t.co/L056yj2IOi', 'http://t.co/uTMWMjiRty']\n",
            "[]\n",
            "[]\n",
            "[]\n",
            "[]\n",
            "[]\n",
            "[]\n",
            "[]\n",
            "['https://t.co/MKX6Ux4OZt']\n",
            "['http://t.co/JHc2RT0V9F']\n",
            "[]\n",
            "['http://t.co/scGhL0Piq6']\n",
            "[]\n",
            "[]\n",
            "['https://t.co/9LE0B19lVF']\n",
            "['http://t.co/X0QLgwoyMT', 'http://t.co/hQNx8qMeG3']\n",
            "[]\n",
            "[]\n",
            "[]\n",
            "[]\n",
            "[]\n",
            "[]\n",
            "[]\n",
            "[]\n",
            "['http://t.co/W3Rga0nkOm', 'http://t.co/0TZsQe8ESD']\n",
            "[]\n",
            "[]\n",
            "[]\n",
            "['http://t.co/uU64wfg17m']\n",
            "['http://t.co/n2qZbMZuly']\n",
            "['http://t.co/pMbuzfGIn3']\n",
            "['http://t.co/Ei9x4H8tHm']\n",
            "[]\n",
            "[]\n",
            "[]\n",
            "[]\n",
            "[]\n",
            "['http://t.co/DBDwtOcGXF']\n",
            "[]\n",
            "['http://t.co/SfAKQNveta']\n",
            "['http://t.co/yoPeYPJkb2']\n",
            "['http://t.co/gRh7zLK979']\n",
            "['http://t.co/carMqiVkwU']\n",
            "['http://t.co/cs8mYAunA4']\n",
            "['http://t.co/cdOHgnJmsT']\n",
            "['http://t.co/v5Ogr3F5N9']\n",
            "['http://t.co/4xB4ZwyhCt']\n",
            "[]\n",
            "['http://t.co/uqva3dfbCA']\n",
            "['http://t.co/kacrlpjC0l', 'http://t.co/YjJbNTcaZY']\n",
            "['http://t.co/KfzvMXj9ST']\n",
            "['http://t.co/pTeVY815mt']\n",
            "['http://t.co/wmNb5ITa5P']\n",
            "['http://t.co/4sf0rgn8Wo']\n",
            "['http://t.co/leDmVEZCoL']\n",
            "[]\n",
            "['http://t.co/qSiPL1C9Fa']\n",
            "['http://t.co/bpTZAMjl2K']\n",
            "['http://t.co/LjylxZ1fBi']\n",
            "[]\n",
            "['http://t.co/VAZpG0ftmU']\n",
            "['http://t.co/qNVXJ2pAlJ']\n",
            "['http://t.co/DtFSWNJZIL']\n",
            "['http://t.co/EdEKrmqTpQ']\n",
            "['http://t.co/iidKC0jSBx']\n",
            "['http://t.co/UB3woZ2UT1']\n",
            "['http://t.co/Z2vDGIyOwf']\n",
            "[]\n",
            "['http://t.co/2Jr3Yo55dr']\n",
            "['http://t.co/Rp2DxFKHDQ', 'https://t.co/akmIHLRIs1']\n",
            "['http://t.co/KuKmAL605a']\n",
            "[]\n",
            "['http://t.co/yi54XRHQGB']\n",
            "['http://t.co/MSsq0sVnBM']\n",
            "['http://t.co/nn6Y0fD3l0']\n",
            "['http://t.co/1YIxFG1Hdy']\n",
            "[]\n",
            "['http://t.co/5EBpYbFH4D']\n",
            "[]\n",
            "[]\n",
            "[]\n",
            "[]\n",
            "['http://t.co/DTdidinQyF']\n",
            "['http://t.co/PnlucERp0x']\n",
            "[]\n",
            "[]\n",
            "['https://t.co/g0r3ZR1nQj']\n",
            "['http://t.co/SF5JdNvdw9']\n",
            "['http://t.co/Ac6I3tE8mT', 'http://t.co/Wq0JLsHW1g']\n",
            "['http://t.co/DeQQOpSP4f:', 'http://t.co/LbKvFqRpgT', 'http://t.co/3rVa5uvt0P']\n",
            "[]\n",
            "[]\n",
            "['http://t.co/sijNBmCZIJ']\n",
            "['http://t.co/J49xEuj7Ps']\n",
            "[]\n",
            "[]\n",
            "[]\n",
            "[]\n",
            "[]\n",
            "[]\n",
            "['http://t.co/qVx0VQTPz0', 'http://t.co/vuWBSrSnrY']\n",
            "[]\n",
            "[]\n",
            "[]\n",
            "['http://t.co/3G79prAyYc']\n",
            "[]\n",
            "[]\n",
            "['http://t.co/Da9lZtOn1c']\n",
            "['http://t.co/ud7XObYUa1']\n",
            "['http://t.co/uEa0txRHYs']\n",
            "['http://t.co/y46isyZkC8']\n",
            "[]\n",
            "[]\n",
            "[]\n",
            "['http://t.co/7enNulLKzM']\n",
            "['http://t.co/oMNBAtJEAO']\n",
            "['http://t.co/N6RBnHMTD4']\n",
            "['http://t.co/aaWZXykLES', 'http://t.co/RsMvgDxRiv']\n",
            "['https://t.co/TFGrAyuDC5']\n",
            "['http://t.co/RLN09WKe9g']\n",
            "['http://t.co/gMoUl9zQ2Q']\n",
            "[]\n",
            "['http://t.co/VZ640XOSwj', 'http://t.co/m2HpnOAK8b']\n",
            "[]\n",
            "['http://t.co/tHhjJw51PE']\n",
            "[]\n",
            "[]\n",
            "[]\n",
            "[]\n",
            "['http://t.co/nZ7ACKRrJi']\n",
            "['http://t.co/FWqfCKNCQW']\n",
            "['http://t.co/5B7qT2YxdA']\n",
            "['http://t.co/fa3FcnlN86']\n",
            "['http://t.co/V3aZWOAmzK']\n",
            "['http://t.co/EDyfo6E2PU', 'http://t.co/M5KxLPKFA1']\n",
            "['http://t.co/5ueCmcv2Pk']\n",
            "[]\n",
            "['http://t.co/rqKK15uhEY']\n",
            "['http://t.co/EYSVvzA7Qm']\n",
            "[]\n",
            "['http://t.co/nF4IculOje']\n",
            "['http://t.co/3SICroAaNz', 'http://t.co/I27Oa0HISp']\n",
            "['http://t.co/STfMbbZFB5']\n",
            "[]\n",
            "['http://t.co/zDtoyd8EbJ']\n",
            "[]\n",
            "['http://t.co/YmY4rSkQ3d']\n"
          ]
        }
      ]
    },
    {
      "cell_type": "code",
      "source": [
        "# Emoji's \n",
        "# Find out the emoji's from the dataset, any dataset"
      ],
      "metadata": {
        "id": "aUZAHObuPGBR"
      },
      "execution_count": null,
      "outputs": []
    },
    {
      "cell_type": "code",
      "source": [
        "a = 'Hello My Name is uttam 😃'\n",
        "a"
      ],
      "metadata": {
        "id": "z91Yq-7fEdhP",
        "colab": {
          "base_uri": "https://localhost:8080/",
          "height": 35
        },
        "outputId": "6a20e76b-1f99-47cc-9525-0856dfc3c666"
      },
      "execution_count": null,
      "outputs": [
        {
          "output_type": "execute_result",
          "data": {
            "text/plain": [
              "'Hello My Name is uttam 😃'"
            ],
            "application/vnd.google.colaboratory.intrinsic+json": {
              "type": "string"
            }
          },
          "metadata": {},
          "execution_count": 66
        }
      ]
    },
    {
      "cell_type": "code",
      "source": [],
      "metadata": {
        "id": "jYzoZgOvEdpF"
      },
      "execution_count": null,
      "outputs": []
    }
  ],
  "metadata": {
    "colab": {
      "provenance": [],
      "include_colab_link": true
    },
    "kernelspec": {
      "display_name": "Python 3",
      "name": "python3"
    },
    "language_info": {
      "name": "python"
    }
  },
  "nbformat": 4,
  "nbformat_minor": 0
}